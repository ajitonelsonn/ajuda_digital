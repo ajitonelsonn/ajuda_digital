{
  "nbformat": 4,
  "nbformat_minor": 0,
  "metadata": {
    "colab": {
      "provenance": [],
      "authorship_tag": "ABX9TyP7lWlGSZ2iSINlzYxbw94a",
      "include_colab_link": true
    },
    "kernelspec": {
      "name": "python3",
      "display_name": "Python 3"
    },
    "language_info": {
      "name": "python"
    }
  },
  "cells": [
    {
      "cell_type": "markdown",
      "metadata": {
        "id": "view-in-github",
        "colab_type": "text"
      },
      "source": [
        "<a href=\"https://colab.research.google.com/github/ajitonelsonn/ajuda_digital/blob/main/Prosses-Data/Ajuda_Digital_Document_Processing_Jupyter_Notebook.ipynb\" target=\"_parent\"><img src=\"https://colab.research.google.com/assets/colab-badge.svg\" alt=\"Open In Colab\"/></a>"
      ]
    },
    {
      "cell_type": "markdown",
      "source": [
        "# **Ajuda Digital Document Processing - Jupyter Notebook**"
      ],
      "metadata": {
        "id": "uvOnxpWhzksL"
      }
    },
    {
      "cell_type": "markdown",
      "source": [
        "## Install Required Packages"
      ],
      "metadata": {
        "id": "cx_GN9wR_bCw"
      }
    },
    {
      "cell_type": "code",
      "execution_count": 54,
      "metadata": {
        "id": "x6K8X1wbyFbu"
      },
      "outputs": [],
      "source": [
        "# Install required packages\n",
        "!pip install boto3 openai ipywidgets pillow -q > /dev/null 2>&1"
      ]
    },
    {
      "cell_type": "markdown",
      "source": [
        "## Import Libraries"
      ],
      "metadata": {
        "id": "SblIEq0f_dNJ"
      }
    },
    {
      "cell_type": "code",
      "source": [
        "import boto3\n",
        "import json\n",
        "import uuid\n",
        "import os\n",
        "from datetime import datetime\n",
        "from openai import OpenAI\n",
        "import ipywidgets as widgets\n",
        "from IPython.display import display, HTML, clear_output\n",
        "import base64\n",
        "from io import BytesIO\n",
        "from PIL import Image\n",
        "import requests"
      ],
      "metadata": {
        "id": "O1Vq4MhNzp8M"
      },
      "execution_count": 55,
      "outputs": []
    },
    {
      "cell_type": "markdown",
      "source": [
        "## Configuration Class"
      ],
      "metadata": {
        "id": "qcJLNN5m_m5G"
      }
    },
    {
      "cell_type": "code",
      "source": [
        "# Configuration\n",
        "class Config:\n",
        "    # AWS Configuration\n",
        "    AWS_REGION = 'us-east-1'\n",
        "    S3_BUCKET = 'pre-proses-ajudagital'\n",
        "\n",
        "    # SEA-LION API Configuration\n",
        "    SEA_LION_API_KEY = 'xxxxxxxx'\n",
        "    SEA_LION_BASE_URL = \"https://api.sea-lion.ai/v1\"\n",
        "    SEA_LION_MODEL = \"aisingapore/Llama-SEA-LION-v3-70B-IT\"\n",
        "\n",
        "    # Department Models\n",
        "    DEPARTMENTS = {\n",
        "        1: \"Civil Registry & Identity Model (Registo Civil)\",\n",
        "        2: \"Immigration & Travel Model (Imigração e Viagens)\",\n",
        "        3: \"Education Model (Educação)\",\n",
        "        4: \"Business & Commerce Model (Negócios e Comércio)\",\n",
        "        5: \"Legal & Constitutional Model (Jurídico e Constitucional)\",\n",
        "        6: \"Elections & Civic Participation (Eleições e Participação Cívica)\",\n",
        "        7: \"Health & Social Services (Saúde e Serviços Sociais)\",\n",
        "        8: \"Finance & Taxation (Finanças e Tributação)\",\n",
        "        9: \"Land & Property (Terras e Propriedade)\",\n",
        "        10: \"Employment & Labor (Emprego e Trabalho)\"\n",
        "    }\n",
        "\n",
        "    SOURCE_OPTIONS = [\n",
        "        \"Facebook\",\n",
        "        \"Government Website\",\n",
        "        \"Office Information Board\",\n",
        "        \"News Website\",\n",
        "        \"Other (specify)\"\n",
        "    ]\n",
        "\n",
        "print(\"Configuration loaded successfully!\")"
      ],
      "metadata": {
        "colab": {
          "base_uri": "https://localhost:8080/"
        },
        "id": "xB1JUMkkzs0c",
        "outputId": "160461bd-15d1-4c02-fd8e-4d201794abe1"
      },
      "execution_count": 56,
      "outputs": [
        {
          "output_type": "stream",
          "name": "stdout",
          "text": [
            "Configuration loaded successfully!\n"
          ]
        }
      ]
    },
    {
      "cell_type": "markdown",
      "source": [
        "## Initialize AWS Services"
      ],
      "metadata": {
        "id": "OpIVexVc12jB"
      }
    },
    {
      "cell_type": "code",
      "source": [
        "def init_aws_services():\n",
        "    \"\"\"Initialize AWS services with credentials\"\"\"\n",
        "    try:\n",
        "        # Your credentials from the screenshot\n",
        "        aws_access_key_id = 'xxxxxxxx'\n",
        "        aws_secret_access_key = 'xxxxxxxx'\n",
        "\n",
        "        # Initialize AWS clients with explicit credentials\n",
        "        s3_client = boto3.client(\n",
        "            's3',\n",
        "            region_name=Config.AWS_REGION,\n",
        "            aws_access_key_id=aws_access_key_id,\n",
        "            aws_secret_access_key=aws_secret_access_key\n",
        "        )\n",
        "\n",
        "        textract_client = boto3.client(\n",
        "            'textract',\n",
        "            region_name=Config.AWS_REGION,\n",
        "            aws_access_key_id=aws_access_key_id,\n",
        "            aws_secret_access_key=aws_secret_access_key\n",
        "        )\n",
        "\n",
        "        # Test the connection\n",
        "        s3_client.list_buckets()\n",
        "\n",
        "        return s3_client, textract_client\n",
        "    except Exception as e:\n",
        "        print(f\"Error initializing AWS services: {e}\")\n",
        "        return None, None\n",
        "\n",
        "# Test AWS connection immediately\n",
        "s3_client, textract_client = init_aws_services()\n",
        "if s3_client and textract_client:\n",
        "    print(\"AWS services initialized successfully!\")\n",
        "\n",
        "    # Test S3 access\n",
        "    try:\n",
        "        buckets = s3_client.list_buckets()\n",
        "        print(f\"Found {len(buckets['Buckets'])} S3 buckets\")\n",
        "    except Exception as e:\n",
        "        print(f\"S3 test failed: {e}\")\n",
        "\n",
        "else:\n",
        "    print(\"Failed to initialize AWS services\")"
      ],
      "metadata": {
        "colab": {
          "base_uri": "https://localhost:8080/"
        },
        "id": "c5VW1RBk48k0",
        "outputId": "ceada4e4-a426-44fc-aaa8-743d758a7d14"
      },
      "execution_count": 57,
      "outputs": [
        {
          "output_type": "stream",
          "name": "stdout",
          "text": [
            "Error initializing AWS services: An error occurred (InvalidAccessKeyId) when calling the ListBuckets operation: The AWS Access Key Id you provided does not exist in our records.\n",
            "Failed to initialize AWS services\n"
          ]
        }
      ]
    },
    {
      "cell_type": "markdown",
      "source": [
        "## Initialize SEA-LION Client"
      ],
      "metadata": {
        "id": "YJ78pEHV_yP5"
      }
    },
    {
      "cell_type": "code",
      "source": [
        "def init_sea_lion_client():\n",
        "    \"\"\"Initialize SEA-LION API client\"\"\"\n",
        "    try:\n",
        "        client = OpenAI(\n",
        "            api_key=Config.SEA_LION_API_KEY,\n",
        "            base_url=Config.SEA_LION_BASE_URL\n",
        "        )\n",
        "        return client\n",
        "    except Exception as e:\n",
        "        print(f\"Error initializing SEA-LION client: {e}\")\n",
        "        return None\n",
        "\n",
        "# Test SEA-LION connection\n",
        "sea_lion_client = init_sea_lion_client()\n",
        "if sea_lion_client:\n",
        "    print(\"SEA-LION client initialized successfully!\")\n",
        "else:\n",
        "    print(\"Failed to initialize SEA-LION client - check your API key\")"
      ],
      "metadata": {
        "colab": {
          "base_uri": "https://localhost:8080/"
        },
        "id": "_EPaqW-W2Pd2",
        "outputId": "e07116ce-6e12-45f5-92e4-88b84f3b810a"
      },
      "execution_count": 58,
      "outputs": [
        {
          "output_type": "stream",
          "name": "stdout",
          "text": [
            "SEA-LION client initialized successfully!\n"
          ]
        }
      ]
    },
    {
      "cell_type": "markdown",
      "source": [
        "## File Upload Widget"
      ],
      "metadata": {
        "id": "MvBtUpWf_1OR"
      }
    },
    {
      "cell_type": "code",
      "source": [
        "def create_upload_widget():\n",
        "    \"\"\"Create file upload widget\"\"\"\n",
        "    upload_widget = widgets.FileUpload(\n",
        "        accept='image/*',\n",
        "        multiple=False,\n",
        "        description='Select Image'\n",
        "    )\n",
        "    return upload_widget\n",
        "\n",
        "# Create upload widget\n",
        "upload_widget = create_upload_widget()\n",
        "print(\"File upload widget created!\")"
      ],
      "metadata": {
        "colab": {
          "base_uri": "https://localhost:8080/",
          "height": 34
        },
        "id": "LFuHStCp2bir",
        "outputId": "ea5bae44-c2c8-47a0-e895-bbb41add6770"
      },
      "execution_count": 59,
      "outputs": [
        {
          "output_type": "stream",
          "name": "stdout",
          "text": [
            "File upload widget created!\n"
          ]
        }
      ]
    },
    {
      "cell_type": "markdown",
      "source": [
        "## Form Widgets"
      ],
      "metadata": {
        "id": "o6sLZMqn_6TR"
      }
    },
    {
      "cell_type": "code",
      "source": [
        "def create_form_widgets():\n",
        "    \"\"\"Create all form input widgets\"\"\"\n",
        "\n",
        "    # Tetum language selection\n",
        "    tetum_checkbox = widgets.Checkbox(\n",
        "        value=False,\n",
        "        description='Is this in Tetum language?',\n",
        "        style={'description_width': 'initial'}\n",
        "    )\n",
        "\n",
        "    # Department selection\n",
        "    department_dropdown = widgets.Dropdown(\n",
        "        options=[(v, k) for k, v in Config.DEPARTMENTS.items()],\n",
        "        description='Department:',\n",
        "        style={'description_width': 'initial'}\n",
        "    )\n",
        "\n",
        "    # Source selection\n",
        "    source_dropdown = widgets.Dropdown(\n",
        "        options=Config.SOURCE_OPTIONS,\n",
        "        description='Source:',\n",
        "        style={'description_width': 'initial'}\n",
        "    )\n",
        "\n",
        "    # Custom source input\n",
        "    custom_source_text = widgets.Text(\n",
        "        placeholder='Enter custom source...',\n",
        "        description='Custom Source:',\n",
        "        style={'description_width': 'initial'}\n",
        "    )\n",
        "\n",
        "    # Date picker\n",
        "    date_picker = widgets.DatePicker(\n",
        "        description='Date Taken:',\n",
        "        value=datetime.now().date(),\n",
        "        style={'description_width': 'initial'}\n",
        "    )\n",
        "\n",
        "    # Submit button\n",
        "    submit_button = widgets.Button(\n",
        "        description='Process Document',\n",
        "        button_style='success',\n",
        "        layout=widgets.Layout(width='200px', height='40px')\n",
        "    )\n",
        "\n",
        "    # Progress bar\n",
        "    progress_bar = widgets.IntProgress(\n",
        "        value=0,\n",
        "        min=0,\n",
        "        max=100,\n",
        "        description='Processing:',\n",
        "        bar_style='info',\n",
        "        style={'description_width': 'initial'}\n",
        "    )\n",
        "\n",
        "    return (tetum_checkbox, department_dropdown, source_dropdown,\n",
        "            custom_source_text, date_picker, submit_button, progress_bar)\n",
        "\n",
        "# Create form widgets\n",
        "(tetum_checkbox, department_dropdown, source_dropdown,\n",
        " custom_source_text, date_picker, submit_button, progress_bar) = create_form_widgets()\n",
        "\n",
        "print(\"Form widgets created!\")"
      ],
      "metadata": {
        "colab": {
          "base_uri": "https://localhost:8080/",
          "height": 34
        },
        "id": "yNlY0mD52eyv",
        "outputId": "edd969d7-eedf-4793-9b7b-40358a74680c"
      },
      "execution_count": 60,
      "outputs": [
        {
          "output_type": "stream",
          "name": "stdout",
          "text": [
            "Form widgets created!\n"
          ]
        }
      ]
    },
    {
      "cell_type": "markdown",
      "source": [
        "## Utility Functions"
      ],
      "metadata": {
        "id": "ELXVvS6c_81x"
      }
    },
    {
      "cell_type": "code",
      "source": [
        "def generate_file_path(department_id, date_taken):\n",
        "    \"\"\"Generate unique file path structure\"\"\"\n",
        "    year = date_taken.year\n",
        "    month = f\"{date_taken.month:02d}\"\n",
        "    day = f\"{date_taken.day:02d}\"\n",
        "\n",
        "    # Generate unique ID\n",
        "    unique_id = str(uuid.uuid4()).replace('-', '')[:8]\n",
        "\n",
        "    base_path = f\"doc/{year}/{month}/{day}/{department_id}\"\n",
        "    filename_base = f\"doc_{unique_id}_{department_id * 10000 + 1}\"\n",
        "\n",
        "    return base_path, filename_base\n",
        "\n",
        "def upload_to_s3(s3_client, file_data, bucket, key):\n",
        "    \"\"\"Upload file to S3 and return URL\"\"\"\n",
        "    try:\n",
        "        s3_client.put_object(\n",
        "            Bucket=bucket,\n",
        "            Key=key,\n",
        "            Body=file_data,\n",
        "            ContentType='application/octet-stream'\n",
        "        )\n",
        "\n",
        "        url = f\"https://{bucket}.s3.{Config.AWS_REGION}.amazonaws.com/{key}\"\n",
        "        return url\n",
        "    except Exception as e:\n",
        "        print(f\"Error uploading to S3: {e}\")\n",
        "        return None\n",
        "\n",
        "print(\"Utility functions defined!\")"
      ],
      "metadata": {
        "colab": {
          "base_uri": "https://localhost:8080/"
        },
        "id": "ynPz0P2r2h0c",
        "outputId": "95c48160-3d93-4a4a-abc0-523af85063ad"
      },
      "execution_count": 61,
      "outputs": [
        {
          "output_type": "stream",
          "name": "stdout",
          "text": [
            "Utility functions defined!\n"
          ]
        }
      ]
    },
    {
      "cell_type": "markdown",
      "source": [
        "## Amazon Textract Function"
      ],
      "metadata": {
        "id": "cDDwUwjSACxt"
      }
    },
    {
      "cell_type": "code",
      "source": [
        "def extract_text_from_image(textract_client, image_bytes):\n",
        "    \"\"\"Extract text from image using Amazon Textract\"\"\"\n",
        "    try:\n",
        "        response = textract_client.detect_document_text(\n",
        "            Document={'Bytes': image_bytes}\n",
        "        )\n",
        "\n",
        "        # Extract text from response\n",
        "        text_lines = []\n",
        "        for item in response['Blocks']:\n",
        "            if item['BlockType'] == 'LINE':\n",
        "                text_lines.append(item['Text'])\n",
        "\n",
        "        extracted_text = '\\n'.join(text_lines)\n",
        "        return extracted_text\n",
        "    except Exception as e:\n",
        "        print(f\"Error extracting text with Textract: {e}\")\n",
        "        return None\n",
        "\n",
        "print(\"Textract function defined!\")"
      ],
      "metadata": {
        "colab": {
          "base_uri": "https://localhost:8080/"
        },
        "id": "yGC5nFW025jd",
        "outputId": "07f16034-e21b-4bcb-c02d-425e8b804472"
      },
      "execution_count": 62,
      "outputs": [
        {
          "output_type": "stream",
          "name": "stdout",
          "text": [
            "Textract function defined!\n"
          ]
        }
      ]
    },
    {
      "cell_type": "markdown",
      "source": [
        "## SEA-LION Translation Function"
      ],
      "metadata": {
        "id": "VGVAepVPAHZ0"
      }
    },
    {
      "cell_type": "code",
      "source": [
        "def translate_tetum_to_english(sea_lion_client, tetum_text):\n",
        "    \"\"\"Translate Tetum text to English using SEA-LION\"\"\"\n",
        "    try:\n",
        "        completion = sea_lion_client.chat.completions.create(\n",
        "            model=Config.SEA_LION_MODEL,\n",
        "            messages=[\n",
        "                {\n",
        "                    \"role\": \"user\",\n",
        "                    \"content\": f\"Please translate the following Tetum text to English. Only provide the translation, no additional text:\\n\\n{tetum_text}\"\n",
        "                }\n",
        "            ],\n",
        "            extra_body={\n",
        "                \"chat_template_kwargs\": {\n",
        "                    \"thinking_mode\": \"off\"\n",
        "                }\n",
        "            },\n",
        "        )\n",
        "\n",
        "        translated_text = completion.choices[0].message.content.strip()\n",
        "        return translated_text\n",
        "    except Exception as e:\n",
        "        print(f\"Error translating with SEA-LION: {e}\")\n",
        "        return None\n",
        "\n",
        "print(\"Translation function defined!\")"
      ],
      "metadata": {
        "colab": {
          "base_uri": "https://localhost:8080/"
        },
        "id": "0EWbxv6729Rf",
        "outputId": "83b90f6e-f668-4198-f62f-e3900c98acf2"
      },
      "execution_count": 63,
      "outputs": [
        {
          "output_type": "stream",
          "name": "stdout",
          "text": [
            "Translation function defined!\n"
          ]
        }
      ]
    },
    {
      "cell_type": "markdown",
      "source": [
        "## Main Processing Function"
      ],
      "metadata": {
        "id": "1jBoZNSoALU3"
      }
    },
    {
      "cell_type": "code",
      "source": [
        "def process_document(upload_widget, tetum_checkbox, department_dropdown,\n",
        "                    source_dropdown, custom_source_text, date_picker,\n",
        "                    progress_bar):\n",
        "    \"\"\"Main document processing pipeline\"\"\"\n",
        "\n",
        "    # Initialize services\n",
        "    progress_bar.value = 10\n",
        "    s3_client, textract_client = init_aws_services()\n",
        "    sea_lion_client = init_sea_lion_client()\n",
        "\n",
        "    if not s3_client or not textract_client:\n",
        "        print(\"Failed to initialize AWS services\")\n",
        "        return\n",
        "\n",
        "    if not upload_widget.value:\n",
        "        print(\"Please select an image file\")\n",
        "        return\n",
        "\n",
        "    progress_bar.value = 20\n",
        "\n",
        "    # Get form values\n",
        "    file_info = list(upload_widget.value.values())[0]\n",
        "    image_data = file_info['content']\n",
        "    original_filename = file_info['metadata']['name']\n",
        "\n",
        "    is_tetum = tetum_checkbox.value\n",
        "    department_id = department_dropdown.value\n",
        "    source = custom_source_text.value if source_dropdown.value == \"Other (specify)\" else source_dropdown.value\n",
        "    date_taken = date_picker.value\n",
        "\n",
        "    # Generate file paths\n",
        "    base_path, filename_base = generate_file_path(department_id, date_taken)\n",
        "\n",
        "    progress_bar.value = 30\n",
        "\n",
        "    # Upload original image\n",
        "    file_extension = original_filename.split('.')[-1].lower()\n",
        "    original_key = f\"{base_path}/{filename_base}.{file_extension}\"\n",
        "    original_url = upload_to_s3(s3_client, image_data, Config.S3_BUCKET, original_key)\n",
        "\n",
        "    if not original_url:\n",
        "        print(\"Failed to upload original image\")\n",
        "        return\n",
        "\n",
        "    progress_bar.value = 50\n",
        "\n",
        "    # Extract text using Textract\n",
        "    print(\"Extracting text from image...\")\n",
        "    extracted_text = extract_text_from_image(textract_client, image_data)\n",
        "\n",
        "    if not extracted_text:\n",
        "        print(\"Failed to extract text from image\")\n",
        "        return\n",
        "\n",
        "    progress_bar.value = 70\n",
        "\n",
        "    # Create metadata header\n",
        "    metadata_header = f\"\"\"Source: {source}\n",
        "Department: {Config.DEPARTMENTS[department_id]}\n",
        "Date Taken: {date_taken}\n",
        "Original Image: {original_url}\n",
        "Processed: {datetime.now().strftime('%Y-%m-%d %H:%M:%S')}\n",
        "\n",
        "---EXTRACTED TEXT---\n",
        "\"\"\"\n",
        "\n",
        "    # Save original extracted text\n",
        "    original_text_content = metadata_header + extracted_text\n",
        "    original_text_key = f\"{base_path}/{filename_base}_original.txt\"\n",
        "    original_text_url = upload_to_s3(s3_client, original_text_content.encode('utf-8'),\n",
        "                                    Config.S3_BUCKET, original_text_key)\n",
        "\n",
        "    files_created = [\n",
        "        {\"type\": \"Original Image\", \"url\": original_url},\n",
        "        {\"type\": \"Original Text\", \"url\": original_text_url}\n",
        "    ]\n",
        "\n",
        "    # Translate if Tetum\n",
        "    if is_tetum and sea_lion_client:\n",
        "        progress_bar.value = 85\n",
        "        print(\"Translating from Tetum to English...\")\n",
        "\n",
        "        translated_text = translate_tetum_to_english(sea_lion_client, extracted_text)\n",
        "\n",
        "        if translated_text:\n",
        "            # Create translated text with metadata\n",
        "            translated_header = f\"\"\"Source: {source}\n",
        "Department: {Config.DEPARTMENTS[department_id]}\n",
        "Date Taken: {date_taken}\n",
        "Original Image: {original_url}\n",
        "Original Text: {original_text_url}\n",
        "Processed: {datetime.now().strftime('%Y-%m-%d %H:%M:%S')}\n",
        "\n",
        "---TRANSLATED TEXT (Tetum → English)---\n",
        "\"\"\"\n",
        "            translated_content = translated_header + translated_text\n",
        "            translated_key = f\"{base_path}/{filename_base}_english.txt\"\n",
        "            translated_url = upload_to_s3(s3_client, translated_content.encode('utf-8'),\n",
        "                                         Config.S3_BUCKET, translated_key)\n",
        "\n",
        "            files_created.append({\"type\": \"English Translation\", \"url\": translated_url})\n",
        "        else:\n",
        "            print(\"Translation failed, but original text was saved\")\n",
        "\n",
        "    progress_bar.value = 100\n",
        "\n",
        "    # Display results\n",
        "    print(f\"\\nDocument processed successfully!\")\n",
        "    print(f\"Files saved in: https://{Config.S3_BUCKET}.s3.{Config.AWS_REGION}.amazonaws.com/{base_path}/\")\n",
        "    print(f\"\\nFiles created:\")\n",
        "    for file_info in files_created:\n",
        "        print(f\"   {file_info['type']}: {file_info['url']}\")\n",
        "\n",
        "print(\"Main processing function defined!\")"
      ],
      "metadata": {
        "colab": {
          "base_uri": "https://localhost:8080/"
        },
        "id": "GeYeGBQl3B8C",
        "outputId": "64a284cc-1683-4349-a5cb-5325b1372592"
      },
      "execution_count": 64,
      "outputs": [
        {
          "output_type": "stream",
          "name": "stdout",
          "text": [
            "Main processing function defined!\n"
          ]
        }
      ]
    },
    {
      "cell_type": "markdown",
      "source": [
        "## Setup Widget Interactions"
      ],
      "metadata": {
        "id": "yS7_ryzSAQtA"
      }
    },
    {
      "cell_type": "code",
      "source": [
        "# Hide/show custom source input based on selection\n",
        "def on_source_change(change):\n",
        "    if change['new'] == \"Other (specify)\":\n",
        "        custom_source_text.layout.display = 'block'\n",
        "    else:\n",
        "        custom_source_text.layout.display = 'none'\n",
        "\n",
        "source_dropdown.observe(on_source_change, names='value')\n",
        "custom_source_text.layout.display = 'none'  # Initially hidden\n",
        "\n",
        "# Submit button click handler\n",
        "def on_submit_click(button):\n",
        "    clear_output(wait=True)\n",
        "    print(\"Ajuda Digital - Document Processing System\")\n",
        "    print(\"=\" * 50)\n",
        "    print(\"Processing document...\")\n",
        "    print()\n",
        "\n",
        "    process_document(upload_widget, tetum_checkbox, department_dropdown,\n",
        "                    source_dropdown, custom_source_text, date_picker, progress_bar)\n",
        "\n",
        "submit_button.on_click(on_submit_click)\n",
        "\n",
        "print(\"Widget interactions configured!\")"
      ],
      "metadata": {
        "colab": {
          "base_uri": "https://localhost:8080/",
          "height": 34
        },
        "id": "kXHWsp063Hcy",
        "outputId": "cc3b332d-6a70-4684-a40c-9cb3e6ca3b74"
      },
      "execution_count": 65,
      "outputs": [
        {
          "output_type": "stream",
          "name": "stdout",
          "text": [
            "Widget interactions configured!\n"
          ]
        }
      ]
    },
    {
      "cell_type": "markdown",
      "source": [
        "## Display Interface"
      ],
      "metadata": {
        "id": "TArB0iOOAVIM"
      }
    },
    {
      "cell_type": "code",
      "source": [
        "def create_new_widgets():\n",
        "    \"\"\"Create new widget instances to avoid read-only issues\"\"\"\n",
        "    global upload_widget, tetum_checkbox, department_dropdown, source_dropdown\n",
        "    global custom_source_text, date_picker, progress_bar, submit_button\n",
        "\n",
        "    # Recreate upload widget\n",
        "    upload_widget = widgets.FileUpload(\n",
        "        accept='image/*',\n",
        "        multiple=False,\n",
        "        description='Choose Image',\n",
        "        layout=widgets.Layout(width='300px')\n",
        "    )\n",
        "\n",
        "    # Recreate other widgets if needed\n",
        "    tetum_checkbox = widgets.Checkbox(\n",
        "        value=False,\n",
        "        description='Document is in Tetum language',\n",
        "        layout=widgets.Layout(width='300px')\n",
        "    )\n",
        "\n",
        "\n",
        "def start_new_process():\n",
        "    \"\"\"Clear output and start fresh\"\"\"\n",
        "    clear_output(wait=True)\n",
        "\n",
        "    # Instead of resetting, recreate problematic widgets\n",
        "    create_new_widgets()\n",
        "\n",
        "    # Reset other widgets normally\n",
        "    try:\n",
        "        department_dropdown.value = 1\n",
        "        source_dropdown.value = \"Facebook\"\n",
        "        custom_source_text.value = \"\"\n",
        "        date_picker.value = datetime.now().date()\n",
        "        progress_bar.value = 0\n",
        "        progress_bar.bar_style = 'info'\n",
        "    except Exception as e:\n",
        "        print(f\"Error resetting widgets: {e}\")\n",
        "\n",
        "    display_interface()\n",
        "\n",
        "# Alternative approach: Create a function to reinitialize all widgets\n",
        "def reinitialize_widgets():\n",
        "    \"\"\"Reinitialize all widgets to avoid read-only issues\"\"\"\n",
        "    global upload_widget, tetum_checkbox, department_dropdown, source_dropdown\n",
        "    global custom_source_text, date_picker, progress_bar, submit_button, reset_button, new_process_button\n",
        "\n",
        "    # File upload widget\n",
        "    upload_widget = widgets.FileUpload(\n",
        "        accept='image/*',\n",
        "        multiple=False,\n",
        "        description='Choose Image',\n",
        "        layout=widgets.Layout(width='300px')\n",
        "    )\n",
        "\n",
        "    # Checkbox for Tetum language\n",
        "    tetum_checkbox = widgets.Checkbox(\n",
        "        value=False,\n",
        "        description='Document is in Tetum language',\n",
        "        layout=widgets.Layout(width='300px')\n",
        "    )\n",
        "\n",
        "    # Department dropdown (you'll need to define departments list)\n",
        "    department_dropdown = widgets.Dropdown(\n",
        "        options=[(f\"Department {i}\", i) for i in range(1, 11)],  # Adjust as needed\n",
        "        value=1,\n",
        "        description='Department:',\n",
        "        layout=widgets.Layout(width='300px')\n",
        "    )\n",
        "\n",
        "    # Source dropdown\n",
        "    source_dropdown = widgets.Dropdown(\n",
        "        options=['Facebook', 'Website', 'Email', 'Phone', 'Other'],\n",
        "        value='Facebook',\n",
        "        description='Source:',\n",
        "        layout=widgets.Layout(width='300px')\n",
        "    )\n",
        "\n",
        "    # Custom source text\n",
        "    custom_source_text = widgets.Text(\n",
        "        value='',\n",
        "        placeholder='Enter custom source if Other selected',\n",
        "        description='Custom Source:',\n",
        "        layout=widgets.Layout(width='300px')\n",
        "    )\n",
        "\n",
        "    # Date picker\n",
        "    date_picker = widgets.DatePicker(\n",
        "        value=datetime.now().date(),\n",
        "        description='Date:',\n",
        "        layout=widgets.Layout(width='300px')\n",
        "    )\n",
        "\n",
        "    # Progress bar\n",
        "    progress_bar = widgets.IntProgress(\n",
        "        value=0,\n",
        "        min=0,\n",
        "        max=100,\n",
        "        description='Progress:',\n",
        "        bar_style='info',\n",
        "        layout=widgets.Layout(width='400px')\n",
        "    )\n",
        "\n",
        "    # Submit button (you'll need to define the submit handler)\n",
        "    submit_button = widgets.Button(\n",
        "        description='Process Document',\n",
        "        button_style='success',\n",
        "        layout=widgets.Layout(width='150px', height='40px')\n",
        "    )\n",
        "\n",
        "\n",
        "    new_process_button = widgets.Button(\n",
        "        description='New Process',\n",
        "        button_style='info',\n",
        "        layout=widgets.Layout(width='150px', height='40px')\n",
        "    )\n",
        "\n",
        "    # Attach event handlers\n",
        "    reset_button.on_click(lambda x: reset_form())\n",
        "    new_process_button.on_click(lambda x: start_new_process_v2())\n",
        "\n",
        "def start_new_process_v2():\n",
        "    \"\"\"Clear output and completely reinitialize interface\"\"\"\n",
        "    clear_output(wait=True)\n",
        "    reinitialize_widgets()\n",
        "    display_interface()\n",
        "\n",
        "# Updated button creation with error handling\n",
        "try:\n",
        "    reset_button = widgets.Button(\n",
        "        description='Reset Form',\n",
        "        button_style='warning',\n",
        "        layout=widgets.Layout(width='150px', height='40px')\n",
        "    )\n",
        "\n",
        "    new_process_button = widgets.Button(\n",
        "        description='New Process',\n",
        "        button_style='info',\n",
        "        layout=widgets.Layout(width='150px', height='40px')\n",
        "    )\n",
        "\n",
        "    # Button click handlers with error handling\n",
        "    reset_button.on_click(lambda x: reset_form())\n",
        "    new_process_button.on_click(lambda x: start_new_process())\n",
        "\n",
        "except Exception as e:\n",
        "    print(f\"Error creating buttons: {e}\")\n",
        "\n",
        "def display_interface():\n",
        "    \"\"\"Display the main interface\"\"\"\n",
        "    print(\"Ajuda Digital - Document Processing System\")\n",
        "    print(\"=\" * 50)\n",
        "    print(\"This tool processes government document images for the Ajuda Digital chatbot\")\n",
        "    print()\n",
        "\n",
        "    # Display interface\n",
        "    display(HTML(\"<h3>Upload Document Image</h3>\"))\n",
        "    display(upload_widget)\n",
        "\n",
        "    display(HTML(\"<h3>Document Information</h3>\"))\n",
        "    display(tetum_checkbox)\n",
        "    display(department_dropdown)\n",
        "    display(source_dropdown)\n",
        "    display(custom_source_text)\n",
        "    display(date_picker)\n",
        "\n",
        "    display(HTML(\"<h3>Process Document</h3>\"))\n",
        "    # Create button container\n",
        "    button_box = widgets.HBox([submit_button, new_process_button])\n",
        "    display(button_box)\n",
        "    display(progress_bar)\n",
        "\n",
        "# Display the interface\n",
        "try:\n",
        "    display_interface()\n",
        "except Exception as e:\n",
        "    print(f\"Error displaying interface: {e}\")\n",
        "    # Fall back to reinitializing everything\n",
        "    reinitialize_widgets()\n",
        "    display_interface()"
      ],
      "metadata": {
        "id": "oDgZwRrP3Ig_"
      },
      "execution_count": null,
      "outputs": []
    },
    {
      "cell_type": "markdown",
      "source": [
        "**Made with ❤️ for Timor-Leste 🇹🇱 — [Ajuda Digital](https://www.ajuda-digital.com) Team**\n"
      ],
      "metadata": {
        "id": "m9oJwf2cAeCZ"
      }
    },
    {
      "cell_type": "markdown",
      "source": [
        "![Tais](https://i.postimg.cc/Sx3sDr0L/tais.png)"
      ],
      "metadata": {
        "id": "MzvMSB4oBUdE"
      }
    }
  ]
}