{
  "nbformat": 4,
  "nbformat_minor": 0,
  "metadata": {
    "colab": {
      "provenance": [],
      "authorship_tag": "ABX9TyNG3pfPFqqhz3mGGc4y2Xf+",
      "include_colab_link": true
    },
    "kernelspec": {
      "name": "python3",
      "display_name": "Python 3"
    },
    "language_info": {
      "name": "python"
    },
    "widgets": {
      "application/vnd.jupyter.widget-state+json": {
        "43cff2468b1d42d1ad0100e036d3cd76": {
          "model_module": "@jupyter-widgets/controls",
          "model_name": "FileUploadModel",
          "model_module_version": "1.5.0",
          "state": {
            "_counter": 1,
            "_dom_classes": [],
            "_model_module": "@jupyter-widgets/controls",
            "_model_module_version": "1.5.0",
            "_model_name": "FileUploadModel",
            "_view_count": null,
            "_view_module": "@jupyter-widgets/controls",
            "_view_module_version": "1.5.0",
            "_view_name": "FileUploadView",
            "accept": "image/*",
            "button_style": "",
            "data": [
              null
            ],
            "description": "Select Image",
            "description_tooltip": null,
            "disabled": false,
            "error": "",
            "icon": "upload",
            "layout": "IPY_MODEL_6a55ead10726481ab2d2636f55b4acf4",
            "metadata": [
              {
                "name": "Registuc 2025-08-27 at 09.26.35.jpeg",
                "type": "image/jpeg",
                "size": 684012,
                "lastModified": 1756271174181
              }
            ],
            "multiple": false,
            "style": "IPY_MODEL_e85d1f690b464f56b1c788cb36246d8e"
          }
        },
        "6a55ead10726481ab2d2636f55b4acf4": {
          "model_module": "@jupyter-widgets/base",
          "model_name": "LayoutModel",
          "model_module_version": "1.2.0",
          "state": {
            "_model_module": "@jupyter-widgets/base",
            "_model_module_version": "1.2.0",
            "_model_name": "LayoutModel",
            "_view_count": null,
            "_view_module": "@jupyter-widgets/base",
            "_view_module_version": "1.2.0",
            "_view_name": "LayoutView",
            "align_content": null,
            "align_items": null,
            "align_self": null,
            "border": null,
            "bottom": null,
            "display": null,
            "flex": null,
            "flex_flow": null,
            "grid_area": null,
            "grid_auto_columns": null,
            "grid_auto_flow": null,
            "grid_auto_rows": null,
            "grid_column": null,
            "grid_gap": null,
            "grid_row": null,
            "grid_template_areas": null,
            "grid_template_columns": null,
            "grid_template_rows": null,
            "height": null,
            "justify_content": null,
            "justify_items": null,
            "left": null,
            "margin": null,
            "max_height": null,
            "max_width": null,
            "min_height": null,
            "min_width": null,
            "object_fit": null,
            "object_position": null,
            "order": null,
            "overflow": null,
            "overflow_x": null,
            "overflow_y": null,
            "padding": null,
            "right": null,
            "top": null,
            "visibility": null,
            "width": null
          }
        },
        "e85d1f690b464f56b1c788cb36246d8e": {
          "model_module": "@jupyter-widgets/controls",
          "model_name": "ButtonStyleModel",
          "model_module_version": "1.5.0",
          "state": {
            "_model_module": "@jupyter-widgets/controls",
            "_model_module_version": "1.5.0",
            "_model_name": "ButtonStyleModel",
            "_view_count": null,
            "_view_module": "@jupyter-widgets/base",
            "_view_module_version": "1.2.0",
            "_view_name": "StyleView",
            "button_color": null,
            "font_weight": ""
          }
        },
        "56ef11393f244a66828193c5bb5843e7": {
          "model_module": "@jupyter-widgets/controls",
          "model_name": "CheckboxModel",
          "model_module_version": "1.5.0",
          "state": {
            "_dom_classes": [],
            "_model_module": "@jupyter-widgets/controls",
            "_model_module_version": "1.5.0",
            "_model_name": "CheckboxModel",
            "_view_count": null,
            "_view_module": "@jupyter-widgets/controls",
            "_view_module_version": "1.5.0",
            "_view_name": "CheckboxView",
            "description": "Is this in Tetum language?",
            "description_tooltip": null,
            "disabled": false,
            "indent": true,
            "layout": "IPY_MODEL_9d3e2fa3fc354b5caf0e293fe7bf8b7e",
            "style": "IPY_MODEL_e39001d8871d483f9752b719afb3a62f",
            "value": true
          }
        },
        "9d3e2fa3fc354b5caf0e293fe7bf8b7e": {
          "model_module": "@jupyter-widgets/base",
          "model_name": "LayoutModel",
          "model_module_version": "1.2.0",
          "state": {
            "_model_module": "@jupyter-widgets/base",
            "_model_module_version": "1.2.0",
            "_model_name": "LayoutModel",
            "_view_count": null,
            "_view_module": "@jupyter-widgets/base",
            "_view_module_version": "1.2.0",
            "_view_name": "LayoutView",
            "align_content": null,
            "align_items": null,
            "align_self": null,
            "border": null,
            "bottom": null,
            "display": null,
            "flex": null,
            "flex_flow": null,
            "grid_area": null,
            "grid_auto_columns": null,
            "grid_auto_flow": null,
            "grid_auto_rows": null,
            "grid_column": null,
            "grid_gap": null,
            "grid_row": null,
            "grid_template_areas": null,
            "grid_template_columns": null,
            "grid_template_rows": null,
            "height": null,
            "justify_content": null,
            "justify_items": null,
            "left": null,
            "margin": null,
            "max_height": null,
            "max_width": null,
            "min_height": null,
            "min_width": null,
            "object_fit": null,
            "object_position": null,
            "order": null,
            "overflow": null,
            "overflow_x": null,
            "overflow_y": null,
            "padding": null,
            "right": null,
            "top": null,
            "visibility": null,
            "width": null
          }
        },
        "e39001d8871d483f9752b719afb3a62f": {
          "model_module": "@jupyter-widgets/controls",
          "model_name": "DescriptionStyleModel",
          "model_module_version": "1.5.0",
          "state": {
            "_model_module": "@jupyter-widgets/controls",
            "_model_module_version": "1.5.0",
            "_model_name": "DescriptionStyleModel",
            "_view_count": null,
            "_view_module": "@jupyter-widgets/base",
            "_view_module_version": "1.2.0",
            "_view_name": "StyleView",
            "description_width": "initial"
          }
        },
        "43d26be8473c4df3be4dd96bdd79d556": {
          "model_module": "@jupyter-widgets/controls",
          "model_name": "DropdownModel",
          "model_module_version": "1.5.0",
          "state": {
            "_dom_classes": [],
            "_model_module": "@jupyter-widgets/controls",
            "_model_module_version": "1.5.0",
            "_model_name": "DropdownModel",
            "_options_labels": [
              "Civil Registry & Identity Model (Registo Civil)",
              "Immigration & Travel Model (Imigração e Viagens)",
              "Education Model (Educação)",
              "Business & Commerce Model (Negócios e Comércio)",
              "Legal & Constitutional Model (Jurídico e Constitucional)",
              "Elections & Civic Participation (Eleições e Participação Cívica)",
              "Health & Social Services (Saúde e Serviços Sociais)",
              "Finance & Taxation (Finanças e Tributação)",
              "Land & Property (Terras e Propriedade)",
              "Employment & Labor (Emprego e Trabalho)"
            ],
            "_view_count": null,
            "_view_module": "@jupyter-widgets/controls",
            "_view_module_version": "1.5.0",
            "_view_name": "DropdownView",
            "description": "Department:",
            "description_tooltip": null,
            "disabled": false,
            "index": 0,
            "layout": "IPY_MODEL_3ed4914a33bf4596b64d77b8530b9262",
            "style": "IPY_MODEL_701d5383cea94bf0bed4df5ffee4bebe"
          }
        },
        "3ed4914a33bf4596b64d77b8530b9262": {
          "model_module": "@jupyter-widgets/base",
          "model_name": "LayoutModel",
          "model_module_version": "1.2.0",
          "state": {
            "_model_module": "@jupyter-widgets/base",
            "_model_module_version": "1.2.0",
            "_model_name": "LayoutModel",
            "_view_count": null,
            "_view_module": "@jupyter-widgets/base",
            "_view_module_version": "1.2.0",
            "_view_name": "LayoutView",
            "align_content": null,
            "align_items": null,
            "align_self": null,
            "border": null,
            "bottom": null,
            "display": null,
            "flex": null,
            "flex_flow": null,
            "grid_area": null,
            "grid_auto_columns": null,
            "grid_auto_flow": null,
            "grid_auto_rows": null,
            "grid_column": null,
            "grid_gap": null,
            "grid_row": null,
            "grid_template_areas": null,
            "grid_template_columns": null,
            "grid_template_rows": null,
            "height": null,
            "justify_content": null,
            "justify_items": null,
            "left": null,
            "margin": null,
            "max_height": null,
            "max_width": null,
            "min_height": null,
            "min_width": null,
            "object_fit": null,
            "object_position": null,
            "order": null,
            "overflow": null,
            "overflow_x": null,
            "overflow_y": null,
            "padding": null,
            "right": null,
            "top": null,
            "visibility": null,
            "width": null
          }
        },
        "701d5383cea94bf0bed4df5ffee4bebe": {
          "model_module": "@jupyter-widgets/controls",
          "model_name": "DescriptionStyleModel",
          "model_module_version": "1.5.0",
          "state": {
            "_model_module": "@jupyter-widgets/controls",
            "_model_module_version": "1.5.0",
            "_model_name": "DescriptionStyleModel",
            "_view_count": null,
            "_view_module": "@jupyter-widgets/base",
            "_view_module_version": "1.2.0",
            "_view_name": "StyleView",
            "description_width": "initial"
          }
        },
        "03ef78debe174e289fd721ad06adfb81": {
          "model_module": "@jupyter-widgets/controls",
          "model_name": "DropdownModel",
          "model_module_version": "1.5.0",
          "state": {
            "_dom_classes": [],
            "_model_module": "@jupyter-widgets/controls",
            "_model_module_version": "1.5.0",
            "_model_name": "DropdownModel",
            "_options_labels": [
              "Facebook",
              "Government Website",
              "Office Information Board",
              "News Website",
              "Other (specify)"
            ],
            "_view_count": null,
            "_view_module": "@jupyter-widgets/controls",
            "_view_module_version": "1.5.0",
            "_view_name": "DropdownView",
            "description": "Source:",
            "description_tooltip": null,
            "disabled": false,
            "index": 2,
            "layout": "IPY_MODEL_41259319b66c4b89b38f2ff33b14880e",
            "style": "IPY_MODEL_a99fd0a391e9423298278beac4e3825a"
          }
        },
        "41259319b66c4b89b38f2ff33b14880e": {
          "model_module": "@jupyter-widgets/base",
          "model_name": "LayoutModel",
          "model_module_version": "1.2.0",
          "state": {
            "_model_module": "@jupyter-widgets/base",
            "_model_module_version": "1.2.0",
            "_model_name": "LayoutModel",
            "_view_count": null,
            "_view_module": "@jupyter-widgets/base",
            "_view_module_version": "1.2.0",
            "_view_name": "LayoutView",
            "align_content": null,
            "align_items": null,
            "align_self": null,
            "border": null,
            "bottom": null,
            "display": null,
            "flex": null,
            "flex_flow": null,
            "grid_area": null,
            "grid_auto_columns": null,
            "grid_auto_flow": null,
            "grid_auto_rows": null,
            "grid_column": null,
            "grid_gap": null,
            "grid_row": null,
            "grid_template_areas": null,
            "grid_template_columns": null,
            "grid_template_rows": null,
            "height": null,
            "justify_content": null,
            "justify_items": null,
            "left": null,
            "margin": null,
            "max_height": null,
            "max_width": null,
            "min_height": null,
            "min_width": null,
            "object_fit": null,
            "object_position": null,
            "order": null,
            "overflow": null,
            "overflow_x": null,
            "overflow_y": null,
            "padding": null,
            "right": null,
            "top": null,
            "visibility": null,
            "width": null
          }
        },
        "a99fd0a391e9423298278beac4e3825a": {
          "model_module": "@jupyter-widgets/controls",
          "model_name": "DescriptionStyleModel",
          "model_module_version": "1.5.0",
          "state": {
            "_model_module": "@jupyter-widgets/controls",
            "_model_module_version": "1.5.0",
            "_model_name": "DescriptionStyleModel",
            "_view_count": null,
            "_view_module": "@jupyter-widgets/base",
            "_view_module_version": "1.2.0",
            "_view_name": "StyleView",
            "description_width": "initial"
          }
        },
        "68c93f934f5040b9afdeeb1fbb23747f": {
          "model_module": "@jupyter-widgets/controls",
          "model_name": "TextModel",
          "model_module_version": "1.5.0",
          "state": {
            "_dom_classes": [],
            "_model_module": "@jupyter-widgets/controls",
            "_model_module_version": "1.5.0",
            "_model_name": "TextModel",
            "_view_count": null,
            "_view_module": "@jupyter-widgets/controls",
            "_view_module_version": "1.5.0",
            "_view_name": "TextView",
            "continuous_update": true,
            "description": "Custom Source:",
            "description_tooltip": null,
            "disabled": false,
            "layout": "IPY_MODEL_c6b27c5232264277961107bc2a3fd8ff",
            "placeholder": "Enter custom source...",
            "style": "IPY_MODEL_9164909295404aa9803eeb99624d0cf2",
            "value": ""
          }
        },
        "c6b27c5232264277961107bc2a3fd8ff": {
          "model_module": "@jupyter-widgets/base",
          "model_name": "LayoutModel",
          "model_module_version": "1.2.0",
          "state": {
            "_model_module": "@jupyter-widgets/base",
            "_model_module_version": "1.2.0",
            "_model_name": "LayoutModel",
            "_view_count": null,
            "_view_module": "@jupyter-widgets/base",
            "_view_module_version": "1.2.0",
            "_view_name": "LayoutView",
            "align_content": null,
            "align_items": null,
            "align_self": null,
            "border": null,
            "bottom": null,
            "display": "none",
            "flex": null,
            "flex_flow": null,
            "grid_area": null,
            "grid_auto_columns": null,
            "grid_auto_flow": null,
            "grid_auto_rows": null,
            "grid_column": null,
            "grid_gap": null,
            "grid_row": null,
            "grid_template_areas": null,
            "grid_template_columns": null,
            "grid_template_rows": null,
            "height": null,
            "justify_content": null,
            "justify_items": null,
            "left": null,
            "margin": null,
            "max_height": null,
            "max_width": null,
            "min_height": null,
            "min_width": null,
            "object_fit": null,
            "object_position": null,
            "order": null,
            "overflow": null,
            "overflow_x": null,
            "overflow_y": null,
            "padding": null,
            "right": null,
            "top": null,
            "visibility": null,
            "width": null
          }
        },
        "9164909295404aa9803eeb99624d0cf2": {
          "model_module": "@jupyter-widgets/controls",
          "model_name": "DescriptionStyleModel",
          "model_module_version": "1.5.0",
          "state": {
            "_model_module": "@jupyter-widgets/controls",
            "_model_module_version": "1.5.0",
            "_model_name": "DescriptionStyleModel",
            "_view_count": null,
            "_view_module": "@jupyter-widgets/base",
            "_view_module_version": "1.2.0",
            "_view_name": "StyleView",
            "description_width": "initial"
          }
        },
        "939efc37f8bd46129ba9eee37e5bbe86": {
          "model_module": "@jupyter-widgets/controls",
          "model_name": "DatePickerModel",
          "model_module_version": "1.5.0",
          "state": {
            "_dom_classes": [],
            "_model_module": "@jupyter-widgets/controls",
            "_model_module_version": "1.5.0",
            "_model_name": "DatePickerModel",
            "_view_count": null,
            "_view_module": "@jupyter-widgets/controls",
            "_view_module_version": "1.5.0",
            "_view_name": "DatePickerView",
            "description": "Date Taken:",
            "description_tooltip": null,
            "disabled": false,
            "layout": "IPY_MODEL_9b053f1f8d5e489fb9fb9ceb8086c487",
            "style": "IPY_MODEL_f4c1c3d1b21741988062091e15dc6822",
            "value": {
              "year": 2025,
              "month": 7,
              "date": 26
            }
          }
        },
        "9b053f1f8d5e489fb9fb9ceb8086c487": {
          "model_module": "@jupyter-widgets/base",
          "model_name": "LayoutModel",
          "model_module_version": "1.2.0",
          "state": {
            "_model_module": "@jupyter-widgets/base",
            "_model_module_version": "1.2.0",
            "_model_name": "LayoutModel",
            "_view_count": null,
            "_view_module": "@jupyter-widgets/base",
            "_view_module_version": "1.2.0",
            "_view_name": "LayoutView",
            "align_content": null,
            "align_items": null,
            "align_self": null,
            "border": null,
            "bottom": null,
            "display": null,
            "flex": null,
            "flex_flow": null,
            "grid_area": null,
            "grid_auto_columns": null,
            "grid_auto_flow": null,
            "grid_auto_rows": null,
            "grid_column": null,
            "grid_gap": null,
            "grid_row": null,
            "grid_template_areas": null,
            "grid_template_columns": null,
            "grid_template_rows": null,
            "height": null,
            "justify_content": null,
            "justify_items": null,
            "left": null,
            "margin": null,
            "max_height": null,
            "max_width": null,
            "min_height": null,
            "min_width": null,
            "object_fit": null,
            "object_position": null,
            "order": null,
            "overflow": null,
            "overflow_x": null,
            "overflow_y": null,
            "padding": null,
            "right": null,
            "top": null,
            "visibility": null,
            "width": null
          }
        },
        "f4c1c3d1b21741988062091e15dc6822": {
          "model_module": "@jupyter-widgets/controls",
          "model_name": "DescriptionStyleModel",
          "model_module_version": "1.5.0",
          "state": {
            "_model_module": "@jupyter-widgets/controls",
            "_model_module_version": "1.5.0",
            "_model_name": "DescriptionStyleModel",
            "_view_count": null,
            "_view_module": "@jupyter-widgets/base",
            "_view_module_version": "1.2.0",
            "_view_name": "StyleView",
            "description_width": "initial"
          }
        },
        "dd75f6705f104338b1e731c7bafb28b3": {
          "model_module": "@jupyter-widgets/controls",
          "model_name": "ButtonModel",
          "model_module_version": "1.5.0",
          "state": {
            "_dom_classes": [],
            "_model_module": "@jupyter-widgets/controls",
            "_model_module_version": "1.5.0",
            "_model_name": "ButtonModel",
            "_view_count": null,
            "_view_module": "@jupyter-widgets/controls",
            "_view_module_version": "1.5.0",
            "_view_name": "ButtonView",
            "button_style": "success",
            "description": "Process Document",
            "disabled": false,
            "icon": "",
            "layout": "IPY_MODEL_8e726e0c1e0b4ad5b595f796d269b027",
            "style": "IPY_MODEL_09289dce2f364c8385b4cb2bf6980518",
            "tooltip": ""
          }
        },
        "8e726e0c1e0b4ad5b595f796d269b027": {
          "model_module": "@jupyter-widgets/base",
          "model_name": "LayoutModel",
          "model_module_version": "1.2.0",
          "state": {
            "_model_module": "@jupyter-widgets/base",
            "_model_module_version": "1.2.0",
            "_model_name": "LayoutModel",
            "_view_count": null,
            "_view_module": "@jupyter-widgets/base",
            "_view_module_version": "1.2.0",
            "_view_name": "LayoutView",
            "align_content": null,
            "align_items": null,
            "align_self": null,
            "border": null,
            "bottom": null,
            "display": null,
            "flex": null,
            "flex_flow": null,
            "grid_area": null,
            "grid_auto_columns": null,
            "grid_auto_flow": null,
            "grid_auto_rows": null,
            "grid_column": null,
            "grid_gap": null,
            "grid_row": null,
            "grid_template_areas": null,
            "grid_template_columns": null,
            "grid_template_rows": null,
            "height": "40px",
            "justify_content": null,
            "justify_items": null,
            "left": null,
            "margin": null,
            "max_height": null,
            "max_width": null,
            "min_height": null,
            "min_width": null,
            "object_fit": null,
            "object_position": null,
            "order": null,
            "overflow": null,
            "overflow_x": null,
            "overflow_y": null,
            "padding": null,
            "right": null,
            "top": null,
            "visibility": null,
            "width": "200px"
          }
        },
        "09289dce2f364c8385b4cb2bf6980518": {
          "model_module": "@jupyter-widgets/controls",
          "model_name": "ButtonStyleModel",
          "model_module_version": "1.5.0",
          "state": {
            "_model_module": "@jupyter-widgets/controls",
            "_model_module_version": "1.5.0",
            "_model_name": "ButtonStyleModel",
            "_view_count": null,
            "_view_module": "@jupyter-widgets/base",
            "_view_module_version": "1.2.0",
            "_view_name": "StyleView",
            "button_color": null,
            "font_weight": ""
          }
        },
        "7a59d4b98ba546d887a7787816799690": {
          "model_module": "@jupyter-widgets/controls",
          "model_name": "IntProgressModel",
          "model_module_version": "1.5.0",
          "state": {
            "_dom_classes": [],
            "_model_module": "@jupyter-widgets/controls",
            "_model_module_version": "1.5.0",
            "_model_name": "IntProgressModel",
            "_view_count": null,
            "_view_module": "@jupyter-widgets/controls",
            "_view_module_version": "1.5.0",
            "_view_name": "ProgressView",
            "bar_style": "info",
            "description": "Processing:",
            "description_tooltip": null,
            "layout": "IPY_MODEL_636c83db08624c8493d344a0c699e5db",
            "max": 100,
            "min": 0,
            "orientation": "horizontal",
            "style": "IPY_MODEL_be71e184ec43418b99e4853383356a99",
            "value": 100
          }
        },
        "636c83db08624c8493d344a0c699e5db": {
          "model_module": "@jupyter-widgets/base",
          "model_name": "LayoutModel",
          "model_module_version": "1.2.0",
          "state": {
            "_model_module": "@jupyter-widgets/base",
            "_model_module_version": "1.2.0",
            "_model_name": "LayoutModel",
            "_view_count": null,
            "_view_module": "@jupyter-widgets/base",
            "_view_module_version": "1.2.0",
            "_view_name": "LayoutView",
            "align_content": null,
            "align_items": null,
            "align_self": null,
            "border": null,
            "bottom": null,
            "display": null,
            "flex": null,
            "flex_flow": null,
            "grid_area": null,
            "grid_auto_columns": null,
            "grid_auto_flow": null,
            "grid_auto_rows": null,
            "grid_column": null,
            "grid_gap": null,
            "grid_row": null,
            "grid_template_areas": null,
            "grid_template_columns": null,
            "grid_template_rows": null,
            "height": null,
            "justify_content": null,
            "justify_items": null,
            "left": null,
            "margin": null,
            "max_height": null,
            "max_width": null,
            "min_height": null,
            "min_width": null,
            "object_fit": null,
            "object_position": null,
            "order": null,
            "overflow": null,
            "overflow_x": null,
            "overflow_y": null,
            "padding": null,
            "right": null,
            "top": null,
            "visibility": null,
            "width": null
          }
        },
        "be71e184ec43418b99e4853383356a99": {
          "model_module": "@jupyter-widgets/controls",
          "model_name": "ProgressStyleModel",
          "model_module_version": "1.5.0",
          "state": {
            "_model_module": "@jupyter-widgets/controls",
            "_model_module_version": "1.5.0",
            "_model_name": "ProgressStyleModel",
            "_view_count": null,
            "_view_module": "@jupyter-widgets/base",
            "_view_module_version": "1.2.0",
            "_view_name": "StyleView",
            "bar_color": null,
            "description_width": "initial"
          }
        }
      }
    }
  },
  "cells": [
    {
      "cell_type": "markdown",
      "metadata": {
        "id": "view-in-github",
        "colab_type": "text"
      },
      "source": [
        "<a href=\"https://colab.research.google.com/github/ajitonelsonn/ajuda_digital/blob/main/Prosses-Data/Ajuda_Digital_Document_Processing_Jupyter_Notebook.ipynb\" target=\"_parent\"><img src=\"https://colab.research.google.com/assets/colab-badge.svg\" alt=\"Open In Colab\"/></a>"
      ]
    },
    {
      "cell_type": "markdown",
      "source": [
        "# **Ajuda Digital Document Processing - Jupyter Notebook**"
      ],
      "metadata": {
        "id": "uvOnxpWhzksL"
      }
    },
    {
      "cell_type": "code",
      "execution_count": 39,
      "metadata": {
        "id": "x6K8X1wbyFbu"
      },
      "outputs": [],
      "source": [
        "# Install required packages\n",
        "!pip install boto3 openai ipywidgets pillow -q > /dev/null 2>&1"
      ]
    },
    {
      "cell_type": "code",
      "source": [
        "import boto3\n",
        "import json\n",
        "import uuid\n",
        "import os\n",
        "from datetime import datetime\n",
        "from openai import OpenAI\n",
        "import ipywidgets as widgets\n",
        "from IPython.display import display, HTML, clear_output\n",
        "import base64\n",
        "from io import BytesIO\n",
        "from PIL import Image\n",
        "import requests"
      ],
      "metadata": {
        "id": "O1Vq4MhNzp8M"
      },
      "execution_count": 40,
      "outputs": []
    },
    {
      "cell_type": "code",
      "source": [
        "# Configuration\n",
        "class Config:\n",
        "    # AWS Configuration\n",
        "    AWS_REGION = 'us-east-1'\n",
        "    S3_BUCKET = 'pre-proses-ajudagital'\n",
        "\n",
        "    # SEA-LION API Configuration\n",
        "    SEA_LION_API_KEY = 'xxxxxxxx'\n",
        "    SEA_LION_BASE_URL = \"https://api.sea-lion.ai/v1\"\n",
        "    SEA_LION_MODEL = \"aisingapore/Llama-SEA-LION-v3-70B-IT\"\n",
        "\n",
        "    # Department Models\n",
        "    DEPARTMENTS = {\n",
        "        1: \"Civil Registry & Identity Model (Registo Civil)\",\n",
        "        2: \"Immigration & Travel Model (Imigração e Viagens)\",\n",
        "        3: \"Education Model (Educação)\",\n",
        "        4: \"Business & Commerce Model (Negócios e Comércio)\",\n",
        "        5: \"Legal & Constitutional Model (Jurídico e Constitucional)\",\n",
        "        6: \"Elections & Civic Participation (Eleições e Participação Cívica)\",\n",
        "        7: \"Health & Social Services (Saúde e Serviços Sociais)\",\n",
        "        8: \"Finance & Taxation (Finanças e Tributação)\",\n",
        "        9: \"Land & Property (Terras e Propriedade)\",\n",
        "        10: \"Employment & Labor (Emprego e Trabalho)\"\n",
        "    }\n",
        "\n",
        "    SOURCE_OPTIONS = [\n",
        "        \"Facebook\",\n",
        "        \"Government Website\",\n",
        "        \"Office Information Board\",\n",
        "        \"News Website\",\n",
        "        \"Other (specify)\"\n",
        "    ]\n",
        "\n",
        "print(\"Configuration loaded successfully!\")"
      ],
      "metadata": {
        "colab": {
          "base_uri": "https://localhost:8080/"
        },
        "id": "xB1JUMkkzs0c",
        "outputId": "ea04373d-fdf0-4473-a588-7511a9deb773"
      },
      "execution_count": 41,
      "outputs": [
        {
          "output_type": "stream",
          "name": "stdout",
          "text": [
            "Configuration loaded successfully!\n"
          ]
        }
      ]
    },
    {
      "cell_type": "markdown",
      "source": [],
      "metadata": {
        "id": "OpIVexVc12jB"
      }
    },
    {
      "cell_type": "code",
      "source": [
        "def init_aws_services():\n",
        "    \"\"\"Initialize AWS services with credentials\"\"\"\n",
        "    try:\n",
        "        # Your credentials from the screenshot\n",
        "        aws_access_key_id = 'xxxxxxxx'\n",
        "        aws_secret_access_key = 'xxxxxxxx'\n",
        "\n",
        "        # Initialize AWS clients with explicit credentials\n",
        "        s3_client = boto3.client(\n",
        "            's3',\n",
        "            region_name=Config.AWS_REGION,\n",
        "            aws_access_key_id=aws_access_key_id,\n",
        "            aws_secret_access_key=aws_secret_access_key\n",
        "        )\n",
        "\n",
        "        textract_client = boto3.client(\n",
        "            'textract',\n",
        "            region_name=Config.AWS_REGION,\n",
        "            aws_access_key_id=aws_access_key_id,\n",
        "            aws_secret_access_key=aws_secret_access_key\n",
        "        )\n",
        "\n",
        "        # Test the connection\n",
        "        s3_client.list_buckets()\n",
        "\n",
        "        return s3_client, textract_client\n",
        "    except Exception as e:\n",
        "        print(f\"Error initializing AWS services: {e}\")\n",
        "        return None, None\n",
        "\n",
        "# Test AWS connection immediately\n",
        "s3_client, textract_client = init_aws_services()\n",
        "if s3_client and textract_client:\n",
        "    print(\"AWS services initialized successfully!\")\n",
        "\n",
        "    # Test S3 access\n",
        "    try:\n",
        "        buckets = s3_client.list_buckets()\n",
        "        print(f\"Found {len(buckets['Buckets'])} S3 buckets\")\n",
        "    except Exception as e:\n",
        "        print(f\"S3 test failed: {e}\")\n",
        "\n",
        "else:\n",
        "    print(\"Failed to initialize AWS services\")"
      ],
      "metadata": {
        "colab": {
          "base_uri": "https://localhost:8080/"
        },
        "id": "c5VW1RBk48k0",
        "outputId": "05298dd6-6201-40a2-91a5-7c46b990bd8a"
      },
      "execution_count": 42,
      "outputs": [
        {
          "output_type": "stream",
          "name": "stdout",
          "text": [
            "AWS services initialized successfully!\n",
            "Found 7 S3 buckets\n"
          ]
        }
      ]
    },
    {
      "cell_type": "code",
      "source": [
        "def init_sea_lion_client():\n",
        "    \"\"\"Initialize SEA-LION API client\"\"\"\n",
        "    try:\n",
        "        client = OpenAI(\n",
        "            api_key=Config.SEA_LION_API_KEY,\n",
        "            base_url=Config.SEA_LION_BASE_URL\n",
        "        )\n",
        "        return client\n",
        "    except Exception as e:\n",
        "        print(f\"Error initializing SEA-LION client: {e}\")\n",
        "        return None\n",
        "\n",
        "# Test SEA-LION connection\n",
        "sea_lion_client = init_sea_lion_client()\n",
        "if sea_lion_client:\n",
        "    print(\"SEA-LION client initialized successfully!\")\n",
        "else:\n",
        "    print(\"Failed to initialize SEA-LION client - check your API key\")"
      ],
      "metadata": {
        "colab": {
          "base_uri": "https://localhost:8080/"
        },
        "id": "_EPaqW-W2Pd2",
        "outputId": "65f2567c-0dee-4edd-e1cd-9df3af716375"
      },
      "execution_count": 43,
      "outputs": [
        {
          "output_type": "stream",
          "name": "stdout",
          "text": [
            "SEA-LION client initialized successfully!\n"
          ]
        }
      ]
    },
    {
      "cell_type": "code",
      "source": [
        "def create_upload_widget():\n",
        "    \"\"\"Create file upload widget\"\"\"\n",
        "    upload_widget = widgets.FileUpload(\n",
        "        accept='image/*',\n",
        "        multiple=False,\n",
        "        description='Select Image'\n",
        "    )\n",
        "    return upload_widget\n",
        "\n",
        "# Create upload widget\n",
        "upload_widget = create_upload_widget()\n",
        "print(\"File upload widget created!\")"
      ],
      "metadata": {
        "colab": {
          "base_uri": "https://localhost:8080/",
          "height": 34
        },
        "id": "LFuHStCp2bir",
        "outputId": "5a6afa93-8db0-483a-cf3d-a91500f202b6"
      },
      "execution_count": 44,
      "outputs": [
        {
          "output_type": "stream",
          "name": "stdout",
          "text": [
            "File upload widget created!\n"
          ]
        }
      ]
    },
    {
      "cell_type": "code",
      "source": [
        "def create_form_widgets():\n",
        "    \"\"\"Create all form input widgets\"\"\"\n",
        "\n",
        "    # Tetum language selection\n",
        "    tetum_checkbox = widgets.Checkbox(\n",
        "        value=False,\n",
        "        description='Is this in Tetum language?',\n",
        "        style={'description_width': 'initial'}\n",
        "    )\n",
        "\n",
        "    # Department selection\n",
        "    department_dropdown = widgets.Dropdown(\n",
        "        options=[(v, k) for k, v in Config.DEPARTMENTS.items()],\n",
        "        description='Department:',\n",
        "        style={'description_width': 'initial'}\n",
        "    )\n",
        "\n",
        "    # Source selection\n",
        "    source_dropdown = widgets.Dropdown(\n",
        "        options=Config.SOURCE_OPTIONS,\n",
        "        description='Source:',\n",
        "        style={'description_width': 'initial'}\n",
        "    )\n",
        "\n",
        "    # Custom source input\n",
        "    custom_source_text = widgets.Text(\n",
        "        placeholder='Enter custom source...',\n",
        "        description='Custom Source:',\n",
        "        style={'description_width': 'initial'}\n",
        "    )\n",
        "\n",
        "    # Date picker\n",
        "    date_picker = widgets.DatePicker(\n",
        "        description='Date Taken:',\n",
        "        value=datetime.now().date(),\n",
        "        style={'description_width': 'initial'}\n",
        "    )\n",
        "\n",
        "    # Submit button\n",
        "    submit_button = widgets.Button(\n",
        "        description='Process Document',\n",
        "        button_style='success',\n",
        "        layout=widgets.Layout(width='200px', height='40px')\n",
        "    )\n",
        "\n",
        "    # Progress bar\n",
        "    progress_bar = widgets.IntProgress(\n",
        "        value=0,\n",
        "        min=0,\n",
        "        max=100,\n",
        "        description='Processing:',\n",
        "        bar_style='info',\n",
        "        style={'description_width': 'initial'}\n",
        "    )\n",
        "\n",
        "    return (tetum_checkbox, department_dropdown, source_dropdown,\n",
        "            custom_source_text, date_picker, submit_button, progress_bar)\n",
        "\n",
        "# Create form widgets\n",
        "(tetum_checkbox, department_dropdown, source_dropdown,\n",
        " custom_source_text, date_picker, submit_button, progress_bar) = create_form_widgets()\n",
        "\n",
        "print(\"Form widgets created!\")"
      ],
      "metadata": {
        "colab": {
          "base_uri": "https://localhost:8080/",
          "height": 34
        },
        "id": "yNlY0mD52eyv",
        "outputId": "0d2e4ea8-2aa4-4aa8-8987-ad5b2b9d8fdc"
      },
      "execution_count": 45,
      "outputs": [
        {
          "output_type": "stream",
          "name": "stdout",
          "text": [
            "Form widgets created!\n"
          ]
        }
      ]
    },
    {
      "cell_type": "code",
      "source": [
        "def generate_file_path(department_id, date_taken):\n",
        "    \"\"\"Generate unique file path structure\"\"\"\n",
        "    year = date_taken.year\n",
        "    month = f\"{date_taken.month:02d}\"\n",
        "    day = f\"{date_taken.day:02d}\"\n",
        "\n",
        "    # Generate unique ID\n",
        "    unique_id = str(uuid.uuid4()).replace('-', '')[:8]\n",
        "\n",
        "    base_path = f\"doc/{year}/{month}/{day}/{department_id}\"\n",
        "    filename_base = f\"doc_{unique_id}_{department_id * 10000 + 1}\"\n",
        "\n",
        "    return base_path, filename_base\n",
        "\n",
        "def upload_to_s3(s3_client, file_data, bucket, key):\n",
        "    \"\"\"Upload file to S3 and return URL\"\"\"\n",
        "    try:\n",
        "        s3_client.put_object(\n",
        "            Bucket=bucket,\n",
        "            Key=key,\n",
        "            Body=file_data,\n",
        "            ContentType='application/octet-stream'\n",
        "        )\n",
        "\n",
        "        url = f\"https://{bucket}.s3.{Config.AWS_REGION}.amazonaws.com/{key}\"\n",
        "        return url\n",
        "    except Exception as e:\n",
        "        print(f\"Error uploading to S3: {e}\")\n",
        "        return None\n",
        "\n",
        "print(\"Utility functions defined!\")"
      ],
      "metadata": {
        "colab": {
          "base_uri": "https://localhost:8080/"
        },
        "id": "ynPz0P2r2h0c",
        "outputId": "4811835d-111a-4a0b-fefd-dfceb597aa1a"
      },
      "execution_count": 46,
      "outputs": [
        {
          "output_type": "stream",
          "name": "stdout",
          "text": [
            "Utility functions defined!\n"
          ]
        }
      ]
    },
    {
      "cell_type": "code",
      "source": [
        "def extract_text_from_image(textract_client, image_bytes):\n",
        "    \"\"\"Extract text from image using Amazon Textract\"\"\"\n",
        "    try:\n",
        "        response = textract_client.detect_document_text(\n",
        "            Document={'Bytes': image_bytes}\n",
        "        )\n",
        "\n",
        "        # Extract text from response\n",
        "        text_lines = []\n",
        "        for item in response['Blocks']:\n",
        "            if item['BlockType'] == 'LINE':\n",
        "                text_lines.append(item['Text'])\n",
        "\n",
        "        extracted_text = '\\n'.join(text_lines)\n",
        "        return extracted_text\n",
        "    except Exception as e:\n",
        "        print(f\"Error extracting text with Textract: {e}\")\n",
        "        return None\n",
        "\n",
        "print(\"Textract function defined!\")"
      ],
      "metadata": {
        "colab": {
          "base_uri": "https://localhost:8080/"
        },
        "id": "yGC5nFW025jd",
        "outputId": "ccc365bc-cfa9-43e1-879f-e5674b04e3aa"
      },
      "execution_count": 47,
      "outputs": [
        {
          "output_type": "stream",
          "name": "stdout",
          "text": [
            "Textract function defined!\n"
          ]
        }
      ]
    },
    {
      "cell_type": "code",
      "source": [
        "def translate_tetum_to_english(sea_lion_client, tetum_text):\n",
        "    \"\"\"Translate Tetum text to English using SEA-LION\"\"\"\n",
        "    try:\n",
        "        completion = sea_lion_client.chat.completions.create(\n",
        "            model=Config.SEA_LION_MODEL,\n",
        "            messages=[\n",
        "                {\n",
        "                    \"role\": \"user\",\n",
        "                    \"content\": f\"Please translate the following Tetum text to English. Only provide the translation, no additional text:\\n\\n{tetum_text}\"\n",
        "                }\n",
        "            ],\n",
        "            extra_body={\n",
        "                \"chat_template_kwargs\": {\n",
        "                    \"thinking_mode\": \"off\"\n",
        "                }\n",
        "            },\n",
        "        )\n",
        "\n",
        "        translated_text = completion.choices[0].message.content.strip()\n",
        "        return translated_text\n",
        "    except Exception as e:\n",
        "        print(f\"Error translating with SEA-LION: {e}\")\n",
        "        return None\n",
        "\n",
        "print(\"Translation function defined!\")"
      ],
      "metadata": {
        "colab": {
          "base_uri": "https://localhost:8080/"
        },
        "id": "0EWbxv6729Rf",
        "outputId": "d7e20626-380c-446a-aebc-44a1238c2023"
      },
      "execution_count": 48,
      "outputs": [
        {
          "output_type": "stream",
          "name": "stdout",
          "text": [
            "Translation function defined!\n"
          ]
        }
      ]
    },
    {
      "cell_type": "code",
      "source": [
        "def process_document(upload_widget, tetum_checkbox, department_dropdown,\n",
        "                    source_dropdown, custom_source_text, date_picker,\n",
        "                    progress_bar):\n",
        "    \"\"\"Main document processing pipeline\"\"\"\n",
        "\n",
        "    # Initialize services\n",
        "    progress_bar.value = 10\n",
        "    s3_client, textract_client = init_aws_services()\n",
        "    sea_lion_client = init_sea_lion_client()\n",
        "\n",
        "    if not s3_client or not textract_client:\n",
        "        print(\"Failed to initialize AWS services\")\n",
        "        return\n",
        "\n",
        "    if not upload_widget.value:\n",
        "        print(\"Please select an image file\")\n",
        "        return\n",
        "\n",
        "    progress_bar.value = 20\n",
        "\n",
        "    # Get form values\n",
        "    file_info = list(upload_widget.value.values())[0]\n",
        "    image_data = file_info['content']\n",
        "    original_filename = file_info['metadata']['name']\n",
        "\n",
        "    is_tetum = tetum_checkbox.value\n",
        "    department_id = department_dropdown.value\n",
        "    source = custom_source_text.value if source_dropdown.value == \"Other (specify)\" else source_dropdown.value\n",
        "    date_taken = date_picker.value\n",
        "\n",
        "    # Generate file paths\n",
        "    base_path, filename_base = generate_file_path(department_id, date_taken)\n",
        "\n",
        "    progress_bar.value = 30\n",
        "\n",
        "    # Upload original image\n",
        "    file_extension = original_filename.split('.')[-1].lower()\n",
        "    original_key = f\"{base_path}/{filename_base}.{file_extension}\"\n",
        "    original_url = upload_to_s3(s3_client, image_data, Config.S3_BUCKET, original_key)\n",
        "\n",
        "    if not original_url:\n",
        "        print(\"Failed to upload original image\")\n",
        "        return\n",
        "\n",
        "    progress_bar.value = 50\n",
        "\n",
        "    # Extract text using Textract\n",
        "    print(\"Extracting text from image...\")\n",
        "    extracted_text = extract_text_from_image(textract_client, image_data)\n",
        "\n",
        "    if not extracted_text:\n",
        "        print(\"Failed to extract text from image\")\n",
        "        return\n",
        "\n",
        "    progress_bar.value = 70\n",
        "\n",
        "    # Create metadata header\n",
        "    metadata_header = f\"\"\"Source: {source}\n",
        "Department: {Config.DEPARTMENTS[department_id]}\n",
        "Date Taken: {date_taken}\n",
        "Original Image: {original_url}\n",
        "Processed: {datetime.now().strftime('%Y-%m-%d %H:%M:%S')}\n",
        "\n",
        "---EXTRACTED TEXT---\n",
        "\"\"\"\n",
        "\n",
        "    # Save original extracted text\n",
        "    original_text_content = metadata_header + extracted_text\n",
        "    original_text_key = f\"{base_path}/{filename_base}_original.txt\"\n",
        "    original_text_url = upload_to_s3(s3_client, original_text_content.encode('utf-8'),\n",
        "                                    Config.S3_BUCKET, original_text_key)\n",
        "\n",
        "    files_created = [\n",
        "        {\"type\": \"Original Image\", \"url\": original_url},\n",
        "        {\"type\": \"Original Text\", \"url\": original_text_url}\n",
        "    ]\n",
        "\n",
        "    # Translate if Tetum\n",
        "    if is_tetum and sea_lion_client:\n",
        "        progress_bar.value = 85\n",
        "        print(\"Translating from Tetum to English...\")\n",
        "\n",
        "        translated_text = translate_tetum_to_english(sea_lion_client, extracted_text)\n",
        "\n",
        "        if translated_text:\n",
        "            # Create translated text with metadata\n",
        "            translated_header = f\"\"\"Source: {source}\n",
        "Department: {Config.DEPARTMENTS[department_id]}\n",
        "Date Taken: {date_taken}\n",
        "Original Image: {original_url}\n",
        "Original Text: {original_text_url}\n",
        "Processed: {datetime.now().strftime('%Y-%m-%d %H:%M:%S')}\n",
        "\n",
        "---TRANSLATED TEXT (Tetum → English)---\n",
        "\"\"\"\n",
        "            translated_content = translated_header + translated_text\n",
        "            translated_key = f\"{base_path}/{filename_base}_english.txt\"\n",
        "            translated_url = upload_to_s3(s3_client, translated_content.encode('utf-8'),\n",
        "                                         Config.S3_BUCKET, translated_key)\n",
        "\n",
        "            files_created.append({\"type\": \"English Translation\", \"url\": translated_url})\n",
        "        else:\n",
        "            print(\"Translation failed, but original text was saved\")\n",
        "\n",
        "    progress_bar.value = 100\n",
        "\n",
        "    # Display results\n",
        "    print(f\"\\nDocument processed successfully!\")\n",
        "    print(f\"Files saved in: https://{Config.S3_BUCKET}.s3.{Config.AWS_REGION}.amazonaws.com/{base_path}/\")\n",
        "    print(f\"\\nFiles created:\")\n",
        "    for file_info in files_created:\n",
        "        print(f\"   {file_info['type']}: {file_info['url']}\")\n",
        "\n",
        "print(\"Main processing function defined!\")"
      ],
      "metadata": {
        "colab": {
          "base_uri": "https://localhost:8080/"
        },
        "id": "GeYeGBQl3B8C",
        "outputId": "dd3449a6-d991-4f82-ed08-d4c4e7e2f6e1"
      },
      "execution_count": 49,
      "outputs": [
        {
          "output_type": "stream",
          "name": "stdout",
          "text": [
            "Main processing function defined!\n"
          ]
        }
      ]
    },
    {
      "cell_type": "code",
      "source": [
        "# Hide/show custom source input based on selection\n",
        "def on_source_change(change):\n",
        "    if change['new'] == \"Other (specify)\":\n",
        "        custom_source_text.layout.display = 'block'\n",
        "    else:\n",
        "        custom_source_text.layout.display = 'none'\n",
        "\n",
        "source_dropdown.observe(on_source_change, names='value')\n",
        "custom_source_text.layout.display = 'none'  # Initially hidden\n",
        "\n",
        "# Submit button click handler\n",
        "def on_submit_click(button):\n",
        "    clear_output(wait=True)\n",
        "    print(\"Ajuda Digital - Document Processing System\")\n",
        "    print(\"=\" * 50)\n",
        "    print(\"Processing document...\")\n",
        "    print()\n",
        "\n",
        "    process_document(upload_widget, tetum_checkbox, department_dropdown,\n",
        "                    source_dropdown, custom_source_text, date_picker, progress_bar)\n",
        "\n",
        "submit_button.on_click(on_submit_click)\n",
        "\n",
        "print(\"Widget interactions configured!\")"
      ],
      "metadata": {
        "colab": {
          "base_uri": "https://localhost:8080/",
          "height": 34
        },
        "id": "kXHWsp063Hcy",
        "outputId": "8ae93196-e979-42f2-f134-f15ee95b2d93"
      },
      "execution_count": 50,
      "outputs": [
        {
          "output_type": "stream",
          "name": "stdout",
          "text": [
            "Widget interactions configured!\n"
          ]
        }
      ]
    },
    {
      "cell_type": "code",
      "source": [
        "print(\"Ajuda Digital - Document Processing System\")\n",
        "print(\"=\" * 50)\n",
        "print(\"This tool processes government document images for the Ajuda Digital chatbot\")\n",
        "print()\n",
        "\n",
        "# Display interface\n",
        "display(HTML(\"<h3>Upload Document Image</h3>\"))\n",
        "display(upload_widget)\n",
        "\n",
        "display(HTML(\"<h3>Document Information</h3>\"))\n",
        "display(tetum_checkbox)\n",
        "display(department_dropdown)\n",
        "display(source_dropdown)\n",
        "display(custom_source_text)\n",
        "display(date_picker)\n",
        "\n",
        "display(HTML(\"<h3>Process Document</h3>\"))\n",
        "display(submit_button)\n",
        "display(progress_bar)"
      ],
      "metadata": {
        "colab": {
          "base_uri": "https://localhost:8080/",
          "height": 260,
          "referenced_widgets": [
            "43cff2468b1d42d1ad0100e036d3cd76",
            "6a55ead10726481ab2d2636f55b4acf4",
            "e85d1f690b464f56b1c788cb36246d8e",
            "56ef11393f244a66828193c5bb5843e7",
            "9d3e2fa3fc354b5caf0e293fe7bf8b7e",
            "e39001d8871d483f9752b719afb3a62f",
            "43d26be8473c4df3be4dd96bdd79d556",
            "3ed4914a33bf4596b64d77b8530b9262",
            "701d5383cea94bf0bed4df5ffee4bebe",
            "03ef78debe174e289fd721ad06adfb81",
            "41259319b66c4b89b38f2ff33b14880e",
            "a99fd0a391e9423298278beac4e3825a",
            "68c93f934f5040b9afdeeb1fbb23747f",
            "c6b27c5232264277961107bc2a3fd8ff",
            "9164909295404aa9803eeb99624d0cf2",
            "939efc37f8bd46129ba9eee37e5bbe86",
            "9b053f1f8d5e489fb9fb9ceb8086c487",
            "f4c1c3d1b21741988062091e15dc6822",
            "dd75f6705f104338b1e731c7bafb28b3",
            "8e726e0c1e0b4ad5b595f796d269b027",
            "09289dce2f364c8385b4cb2bf6980518",
            "7a59d4b98ba546d887a7787816799690",
            "636c83db08624c8493d344a0c699e5db",
            "be71e184ec43418b99e4853383356a99"
          ]
        },
        "id": "oDgZwRrP3Ig_",
        "outputId": "c5b0440d-be43-485c-c3c9-c79562e4950e"
      },
      "execution_count": 51,
      "outputs": [
        {
          "output_type": "stream",
          "name": "stdout",
          "text": [
            "Ajuda Digital - Document Processing System\n",
            "==================================================\n",
            "Processing document...\n",
            "\n",
            "Extracting text from image...\n",
            "Translating from Tetum to English...\n",
            "\n",
            "Document processed successfully!\n",
            "Files saved in: https://pre-proses-ajudagital.s3.us-east-1.amazonaws.com/doc/2025/08/26/1/\n",
            "\n",
            "Files created:\n",
            "   Original Image: https://pre-proses-ajudagital.s3.us-east-1.amazonaws.com/doc/2025/08/26/1/doc_701f3a7e_10001.jpeg\n",
            "   Original Text: https://pre-proses-ajudagital.s3.us-east-1.amazonaws.com/doc/2025/08/26/1/doc_701f3a7e_10001_original.txt\n",
            "   English Translation: https://pre-proses-ajudagital.s3.us-east-1.amazonaws.com/doc/2025/08/26/1/doc_701f3a7e_10001_english.txt\n"
          ]
        }
      ]
    }
  ]
}