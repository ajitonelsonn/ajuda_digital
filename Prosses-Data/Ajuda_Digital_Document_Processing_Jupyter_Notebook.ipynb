{
  "nbformat": 4,
  "nbformat_minor": 0,
  "metadata": {
    "colab": {
      "provenance": [],
      "authorship_tag": "ABX9TyOyfsV56QM6W6/d+fYMxEsH",
      "include_colab_link": true
    },
    "kernelspec": {
      "name": "python3",
      "display_name": "Python 3"
    },
    "language_info": {
      "name": "python"
    },
    "widgets": {
      "application/vnd.jupyter.widget-state+json": {
        "43cff2468b1d42d1ad0100e036d3cd76": {
          "model_module": "@jupyter-widgets/controls",
          "model_name": "FileUploadModel",
          "model_module_version": "1.5.0",
          "state": {
            "_counter": 1,
            "_dom_classes": [],
            "_model_module": "@jupyter-widgets/controls",
            "_model_module_version": "1.5.0",
            "_model_name": "FileUploadModel",
            "_view_count": null,
            "_view_module": "@jupyter-widgets/controls",
            "_view_module_version": "1.5.0",
            "_view_name": "FileUploadView",
            "accept": "image/*",
            "button_style": "",
            "data": [
              null
            ],
            "description": "Select Image",
            "description_tooltip": null,
            "disabled": false,
            "error": "",
            "icon": "upload",
            "layout": "IPY_MODEL_6a55ead10726481ab2d2636f55b4acf4",
            "metadata": [
              {
                "name": "Registuc 2025-08-27 at 09.26.35.jpeg",
                "type": "image/jpeg",
                "size": 684012,
                "lastModified": 1756271174181
              }
            ],
            "multiple": false,
            "style": "IPY_MODEL_e85d1f690b464f56b1c788cb36246d8e"
          }
        },
        "6a55ead10726481ab2d2636f55b4acf4": {
          "model_module": "@jupyter-widgets/base",
          "model_name": "LayoutModel",
          "model_module_version": "1.2.0",
          "state": {
            "_model_module": "@jupyter-widgets/base",
            "_model_module_version": "1.2.0",
            "_model_name": "LayoutModel",
            "_view_count": null,
            "_view_module": "@jupyter-widgets/base",
            "_view_module_version": "1.2.0",
            "_view_name": "LayoutView",
            "align_content": null,
            "align_items": null,
            "align_self": null,
            "border": null,
            "bottom": null,
            "display": null,
            "flex": null,
            "flex_flow": null,
            "grid_area": null,
            "grid_auto_columns": null,
            "grid_auto_flow": null,
            "grid_auto_rows": null,
            "grid_column": null,
            "grid_gap": null,
            "grid_row": null,
            "grid_template_areas": null,
            "grid_template_columns": null,
            "grid_template_rows": null,
            "height": null,
            "justify_content": null,
            "justify_items": null,
            "left": null,
            "margin": null,
            "max_height": null,
            "max_width": null,
            "min_height": null,
            "min_width": null,
            "object_fit": null,
            "object_position": null,
            "order": null,
            "overflow": null,
            "overflow_x": null,
            "overflow_y": null,
            "padding": null,
            "right": null,
            "top": null,
            "visibility": null,
            "width": null
          }
        },
        "e85d1f690b464f56b1c788cb36246d8e": {
          "model_module": "@jupyter-widgets/controls",
          "model_name": "ButtonStyleModel",
          "model_module_version": "1.5.0",
          "state": {
            "_model_module": "@jupyter-widgets/controls",
            "_model_module_version": "1.5.0",
            "_model_name": "ButtonStyleModel",
            "_view_count": null,
            "_view_module": "@jupyter-widgets/base",
            "_view_module_version": "1.2.0",
            "_view_name": "StyleView",
            "button_color": null,
            "font_weight": ""
          }
        },
        "56ef11393f244a66828193c5bb5843e7": {
          "model_module": "@jupyter-widgets/controls",
          "model_name": "CheckboxModel",
          "model_module_version": "1.5.0",
          "state": {
            "_dom_classes": [],
            "_model_module": "@jupyter-widgets/controls",
            "_model_module_version": "1.5.0",
            "_model_name": "CheckboxModel",
            "_view_count": null,
            "_view_module": "@jupyter-widgets/controls",
            "_view_module_version": "1.5.0",
            "_view_name": "CheckboxView",
            "description": "Is this in Tetum language?",
            "description_tooltip": null,
            "disabled": false,
            "indent": true,
            "layout": "IPY_MODEL_9d3e2fa3fc354b5caf0e293fe7bf8b7e",
            "style": "IPY_MODEL_e39001d8871d483f9752b719afb3a62f",
            "value": true
          }
        },
        "9d3e2fa3fc354b5caf0e293fe7bf8b7e": {
          "model_module": "@jupyter-widgets/base",
          "model_name": "LayoutModel",
          "model_module_version": "1.2.0",
          "state": {
            "_model_module": "@jupyter-widgets/base",
            "_model_module_version": "1.2.0",
            "_model_name": "LayoutModel",
            "_view_count": null,
            "_view_module": "@jupyter-widgets/base",
            "_view_module_version": "1.2.0",
            "_view_name": "LayoutView",
            "align_content": null,
            "align_items": null,
            "align_self": null,
            "border": null,
            "bottom": null,
            "display": null,
            "flex": null,
            "flex_flow": null,
            "grid_area": null,
            "grid_auto_columns": null,
            "grid_auto_flow": null,
            "grid_auto_rows": null,
            "grid_column": null,
            "grid_gap": null,
            "grid_row": null,
            "grid_template_areas": null,
            "grid_template_columns": null,
            "grid_template_rows": null,
            "height": null,
            "justify_content": null,
            "justify_items": null,
            "left": null,
            "margin": null,
            "max_height": null,
            "max_width": null,
            "min_height": null,
            "min_width": null,
            "object_fit": null,
            "object_position": null,
            "order": null,
            "overflow": null,
            "overflow_x": null,
            "overflow_y": null,
            "padding": null,
            "right": null,
            "top": null,
            "visibility": null,
            "width": null
          }
        },
        "e39001d8871d483f9752b719afb3a62f": {
          "model_module": "@jupyter-widgets/controls",
          "model_name": "DescriptionStyleModel",
          "model_module_version": "1.5.0",
          "state": {
            "_model_module": "@jupyter-widgets/controls",
            "_model_module_version": "1.5.0",
            "_model_name": "DescriptionStyleModel",
            "_view_count": null,
            "_view_module": "@jupyter-widgets/base",
            "_view_module_version": "1.2.0",
            "_view_name": "StyleView",
            "description_width": "initial"
          }
        },
        "43d26be8473c4df3be4dd96bdd79d556": {
          "model_module": "@jupyter-widgets/controls",
          "model_name": "DropdownModel",
          "model_module_version": "1.5.0",
          "state": {
            "_dom_classes": [],
            "_model_module": "@jupyter-widgets/controls",
            "_model_module_version": "1.5.0",
            "_model_name": "DropdownModel",
            "_options_labels": [
              "Civil Registry & Identity Model (Registo Civil)",
              "Immigration & Travel Model (Imigração e Viagens)",
              "Education Model (Educação)",
              "Business & Commerce Model (Negócios e Comércio)",
              "Legal & Constitutional Model (Jurídico e Constitucional)",
              "Elections & Civic Participation (Eleições e Participação Cívica)",
              "Health & Social Services (Saúde e Serviços Sociais)",
              "Finance & Taxation (Finanças e Tributação)",
              "Land & Property (Terras e Propriedade)",
              "Employment & Labor (Emprego e Trabalho)"
            ],
            "_view_count": null,
            "_view_module": "@jupyter-widgets/controls",
            "_view_module_version": "1.5.0",
            "_view_name": "DropdownView",
            "description": "Department:",
            "description_tooltip": null,
            "disabled": false,
            "index": 0,
            "layout": "IPY_MODEL_3ed4914a33bf4596b64d77b8530b9262",
            "style": "IPY_MODEL_701d5383cea94bf0bed4df5ffee4bebe"
          }
        },
        "3ed4914a33bf4596b64d77b8530b9262": {
          "model_module": "@jupyter-widgets/base",
          "model_name": "LayoutModel",
          "model_module_version": "1.2.0",
          "state": {
            "_model_module": "@jupyter-widgets/base",
            "_model_module_version": "1.2.0",
            "_model_name": "LayoutModel",
            "_view_count": null,
            "_view_module": "@jupyter-widgets/base",
            "_view_module_version": "1.2.0",
            "_view_name": "LayoutView",
            "align_content": null,
            "align_items": null,
            "align_self": null,
            "border": null,
            "bottom": null,
            "display": null,
            "flex": null,
            "flex_flow": null,
            "grid_area": null,
            "grid_auto_columns": null,
            "grid_auto_flow": null,
            "grid_auto_rows": null,
            "grid_column": null,
            "grid_gap": null,
            "grid_row": null,
            "grid_template_areas": null,
            "grid_template_columns": null,
            "grid_template_rows": null,
            "height": null,
            "justify_content": null,
            "justify_items": null,
            "left": null,
            "margin": null,
            "max_height": null,
            "max_width": null,
            "min_height": null,
            "min_width": null,
            "object_fit": null,
            "object_position": null,
            "order": null,
            "overflow": null,
            "overflow_x": null,
            "overflow_y": null,
            "padding": null,
            "right": null,
            "top": null,
            "visibility": null,
            "width": null
          }
        },
        "701d5383cea94bf0bed4df5ffee4bebe": {
          "model_module": "@jupyter-widgets/controls",
          "model_name": "DescriptionStyleModel",
          "model_module_version": "1.5.0",
          "state": {
            "_model_module": "@jupyter-widgets/controls",
            "_model_module_version": "1.5.0",
            "_model_name": "DescriptionStyleModel",
            "_view_count": null,
            "_view_module": "@jupyter-widgets/base",
            "_view_module_version": "1.2.0",
            "_view_name": "StyleView",
            "description_width": "initial"
          }
        },
        "03ef78debe174e289fd721ad06adfb81": {
          "model_module": "@jupyter-widgets/controls",
          "model_name": "DropdownModel",
          "model_module_version": "1.5.0",
          "state": {
            "_dom_classes": [],
            "_model_module": "@jupyter-widgets/controls",
            "_model_module_version": "1.5.0",
            "_model_name": "DropdownModel",
            "_options_labels": [
              "Facebook",
              "Government Website",
              "Office Information Board",
              "News Website",
              "Other (specify)"
            ],
            "_view_count": null,
            "_view_module": "@jupyter-widgets/controls",
            "_view_module_version": "1.5.0",
            "_view_name": "DropdownView",
            "description": "Source:",
            "description_tooltip": null,
            "disabled": false,
            "index": 2,
            "layout": "IPY_MODEL_41259319b66c4b89b38f2ff33b14880e",
            "style": "IPY_MODEL_a99fd0a391e9423298278beac4e3825a"
          }
        },
        "41259319b66c4b89b38f2ff33b14880e": {
          "model_module": "@jupyter-widgets/base",
          "model_name": "LayoutModel",
          "model_module_version": "1.2.0",
          "state": {
            "_model_module": "@jupyter-widgets/base",
            "_model_module_version": "1.2.0",
            "_model_name": "LayoutModel",
            "_view_count": null,
            "_view_module": "@jupyter-widgets/base",
            "_view_module_version": "1.2.0",
            "_view_name": "LayoutView",
            "align_content": null,
            "align_items": null,
            "align_self": null,
            "border": null,
            "bottom": null,
            "display": null,
            "flex": null,
            "flex_flow": null,
            "grid_area": null,
            "grid_auto_columns": null,
            "grid_auto_flow": null,
            "grid_auto_rows": null,
            "grid_column": null,
            "grid_gap": null,
            "grid_row": null,
            "grid_template_areas": null,
            "grid_template_columns": null,
            "grid_template_rows": null,
            "height": null,
            "justify_content": null,
            "justify_items": null,
            "left": null,
            "margin": null,
            "max_height": null,
            "max_width": null,
            "min_height": null,
            "min_width": null,
            "object_fit": null,
            "object_position": null,
            "order": null,
            "overflow": null,
            "overflow_x": null,
            "overflow_y": null,
            "padding": null,
            "right": null,
            "top": null,
            "visibility": null,
            "width": null
          }
        },
        "a99fd0a391e9423298278beac4e3825a": {
          "model_module": "@jupyter-widgets/controls",
          "model_name": "DescriptionStyleModel",
          "model_module_version": "1.5.0",
          "state": {
            "_model_module": "@jupyter-widgets/controls",
            "_model_module_version": "1.5.0",
            "_model_name": "DescriptionStyleModel",
            "_view_count": null,
            "_view_module": "@jupyter-widgets/base",
            "_view_module_version": "1.2.0",
            "_view_name": "StyleView",
            "description_width": "initial"
          }
        },
        "68c93f934f5040b9afdeeb1fbb23747f": {
          "model_module": "@jupyter-widgets/controls",
          "model_name": "TextModel",
          "model_module_version": "1.5.0",
          "state": {
            "_dom_classes": [],
            "_model_module": "@jupyter-widgets/controls",
            "_model_module_version": "1.5.0",
            "_model_name": "TextModel",
            "_view_count": null,
            "_view_module": "@jupyter-widgets/controls",
            "_view_module_version": "1.5.0",
            "_view_name": "TextView",
            "continuous_update": true,
            "description": "Custom Source:",
            "description_tooltip": null,
            "disabled": false,
            "layout": "IPY_MODEL_c6b27c5232264277961107bc2a3fd8ff",
            "placeholder": "Enter custom source...",
            "style": "IPY_MODEL_9164909295404aa9803eeb99624d0cf2",
            "value": ""
          }
        },
        "c6b27c5232264277961107bc2a3fd8ff": {
          "model_module": "@jupyter-widgets/base",
          "model_name": "LayoutModel",
          "model_module_version": "1.2.0",
          "state": {
            "_model_module": "@jupyter-widgets/base",
            "_model_module_version": "1.2.0",
            "_model_name": "LayoutModel",
            "_view_count": null,
            "_view_module": "@jupyter-widgets/base",
            "_view_module_version": "1.2.0",
            "_view_name": "LayoutView",
            "align_content": null,
            "align_items": null,
            "align_self": null,
            "border": null,
            "bottom": null,
            "display": "none",
            "flex": null,
            "flex_flow": null,
            "grid_area": null,
            "grid_auto_columns": null,
            "grid_auto_flow": null,
            "grid_auto_rows": null,
            "grid_column": null,
            "grid_gap": null,
            "grid_row": null,
            "grid_template_areas": null,
            "grid_template_columns": null,
            "grid_template_rows": null,
            "height": null,
            "justify_content": null,
            "justify_items": null,
            "left": null,
            "margin": null,
            "max_height": null,
            "max_width": null,
            "min_height": null,
            "min_width": null,
            "object_fit": null,
            "object_position": null,
            "order": null,
            "overflow": null,
            "overflow_x": null,
            "overflow_y": null,
            "padding": null,
            "right": null,
            "top": null,
            "visibility": null,
            "width": null
          }
        },
        "9164909295404aa9803eeb99624d0cf2": {
          "model_module": "@jupyter-widgets/controls",
          "model_name": "DescriptionStyleModel",
          "model_module_version": "1.5.0",
          "state": {
            "_model_module": "@jupyter-widgets/controls",
            "_model_module_version": "1.5.0",
            "_model_name": "DescriptionStyleModel",
            "_view_count": null,
            "_view_module": "@jupyter-widgets/base",
            "_view_module_version": "1.2.0",
            "_view_name": "StyleView",
            "description_width": "initial"
          }
        },
        "939efc37f8bd46129ba9eee37e5bbe86": {
          "model_module": "@jupyter-widgets/controls",
          "model_name": "DatePickerModel",
          "model_module_version": "1.5.0",
          "state": {
            "_dom_classes": [],
            "_model_module": "@jupyter-widgets/controls",
            "_model_module_version": "1.5.0",
            "_model_name": "DatePickerModel",
            "_view_count": null,
            "_view_module": "@jupyter-widgets/controls",
            "_view_module_version": "1.5.0",
            "_view_name": "DatePickerView",
            "description": "Date Taken:",
            "description_tooltip": null,
            "disabled": false,
            "layout": "IPY_MODEL_9b053f1f8d5e489fb9fb9ceb8086c487",
            "style": "IPY_MODEL_f4c1c3d1b21741988062091e15dc6822",
            "value": {
              "year": 2025,
              "month": 7,
              "date": 26
            }
          }
        },
        "9b053f1f8d5e489fb9fb9ceb8086c487": {
          "model_module": "@jupyter-widgets/base",
          "model_name": "LayoutModel",
          "model_module_version": "1.2.0",
          "state": {
            "_model_module": "@jupyter-widgets/base",
            "_model_module_version": "1.2.0",
            "_model_name": "LayoutModel",
            "_view_count": null,
            "_view_module": "@jupyter-widgets/base",
            "_view_module_version": "1.2.0",
            "_view_name": "LayoutView",
            "align_content": null,
            "align_items": null,
            "align_self": null,
            "border": null,
            "bottom": null,
            "display": null,
            "flex": null,
            "flex_flow": null,
            "grid_area": null,
            "grid_auto_columns": null,
            "grid_auto_flow": null,
            "grid_auto_rows": null,
            "grid_column": null,
            "grid_gap": null,
            "grid_row": null,
            "grid_template_areas": null,
            "grid_template_columns": null,
            "grid_template_rows": null,
            "height": null,
            "justify_content": null,
            "justify_items": null,
            "left": null,
            "margin": null,
            "max_height": null,
            "max_width": null,
            "min_height": null,
            "min_width": null,
            "object_fit": null,
            "object_position": null,
            "order": null,
            "overflow": null,
            "overflow_x": null,
            "overflow_y": null,
            "padding": null,
            "right": null,
            "top": null,
            "visibility": null,
            "width": null
          }
        },
        "f4c1c3d1b21741988062091e15dc6822": {
          "model_module": "@jupyter-widgets/controls",
          "model_name": "DescriptionStyleModel",
          "model_module_version": "1.5.0",
          "state": {
            "_model_module": "@jupyter-widgets/controls",
            "_model_module_version": "1.5.0",
            "_model_name": "DescriptionStyleModel",
            "_view_count": null,
            "_view_module": "@jupyter-widgets/base",
            "_view_module_version": "1.2.0",
            "_view_name": "StyleView",
            "description_width": "initial"
          }
        },
        "dd75f6705f104338b1e731c7bafb28b3": {
          "model_module": "@jupyter-widgets/controls",
          "model_name": "ButtonModel",
          "model_module_version": "1.5.0",
          "state": {
            "_dom_classes": [],
            "_model_module": "@jupyter-widgets/controls",
            "_model_module_version": "1.5.0",
            "_model_name": "ButtonModel",
            "_view_count": null,
            "_view_module": "@jupyter-widgets/controls",
            "_view_module_version": "1.5.0",
            "_view_name": "ButtonView",
            "button_style": "success",
            "description": "Process Document",
            "disabled": false,
            "icon": "",
            "layout": "IPY_MODEL_8e726e0c1e0b4ad5b595f796d269b027",
            "style": "IPY_MODEL_09289dce2f364c8385b4cb2bf6980518",
            "tooltip": ""
          }
        },
        "8e726e0c1e0b4ad5b595f796d269b027": {
          "model_module": "@jupyter-widgets/base",
          "model_name": "LayoutModel",
          "model_module_version": "1.2.0",
          "state": {
            "_model_module": "@jupyter-widgets/base",
            "_model_module_version": "1.2.0",
            "_model_name": "LayoutModel",
            "_view_count": null,
            "_view_module": "@jupyter-widgets/base",
            "_view_module_version": "1.2.0",
            "_view_name": "LayoutView",
            "align_content": null,
            "align_items": null,
            "align_self": null,
            "border": null,
            "bottom": null,
            "display": null,
            "flex": null,
            "flex_flow": null,
            "grid_area": null,
            "grid_auto_columns": null,
            "grid_auto_flow": null,
            "grid_auto_rows": null,
            "grid_column": null,
            "grid_gap": null,
            "grid_row": null,
            "grid_template_areas": null,
            "grid_template_columns": null,
            "grid_template_rows": null,
            "height": "40px",
            "justify_content": null,
            "justify_items": null,
            "left": null,
            "margin": null,
            "max_height": null,
            "max_width": null,
            "min_height": null,
            "min_width": null,
            "object_fit": null,
            "object_position": null,
            "order": null,
            "overflow": null,
            "overflow_x": null,
            "overflow_y": null,
            "padding": null,
            "right": null,
            "top": null,
            "visibility": null,
            "width": "200px"
          }
        },
        "09289dce2f364c8385b4cb2bf6980518": {
          "model_module": "@jupyter-widgets/controls",
          "model_name": "ButtonStyleModel",
          "model_module_version": "1.5.0",
          "state": {
            "_model_module": "@jupyter-widgets/controls",
            "_model_module_version": "1.5.0",
            "_model_name": "ButtonStyleModel",
            "_view_count": null,
            "_view_module": "@jupyter-widgets/base",
            "_view_module_version": "1.2.0",
            "_view_name": "StyleView",
            "button_color": null,
            "font_weight": ""
          }
        },
        "7a59d4b98ba546d887a7787816799690": {
          "model_module": "@jupyter-widgets/controls",
          "model_name": "IntProgressModel",
          "model_module_version": "1.5.0",
          "state": {
            "_dom_classes": [],
            "_model_module": "@jupyter-widgets/controls",
            "_model_module_version": "1.5.0",
            "_model_name": "IntProgressModel",
            "_view_count": null,
            "_view_module": "@jupyter-widgets/controls",
            "_view_module_version": "1.5.0",
            "_view_name": "ProgressView",
            "bar_style": "info",
            "description": "Processing:",
            "description_tooltip": null,
            "layout": "IPY_MODEL_636c83db08624c8493d344a0c699e5db",
            "max": 100,
            "min": 0,
            "orientation": "horizontal",
            "style": "IPY_MODEL_be71e184ec43418b99e4853383356a99",
            "value": 100
          }
        },
        "636c83db08624c8493d344a0c699e5db": {
          "model_module": "@jupyter-widgets/base",
          "model_name": "LayoutModel",
          "model_module_version": "1.2.0",
          "state": {
            "_model_module": "@jupyter-widgets/base",
            "_model_module_version": "1.2.0",
            "_model_name": "LayoutModel",
            "_view_count": null,
            "_view_module": "@jupyter-widgets/base",
            "_view_module_version": "1.2.0",
            "_view_name": "LayoutView",
            "align_content": null,
            "align_items": null,
            "align_self": null,
            "border": null,
            "bottom": null,
            "display": null,
            "flex": null,
            "flex_flow": null,
            "grid_area": null,
            "grid_auto_columns": null,
            "grid_auto_flow": null,
            "grid_auto_rows": null,
            "grid_column": null,
            "grid_gap": null,
            "grid_row": null,
            "grid_template_areas": null,
            "grid_template_columns": null,
            "grid_template_rows": null,
            "height": null,
            "justify_content": null,
            "justify_items": null,
            "left": null,
            "margin": null,
            "max_height": null,
            "max_width": null,
            "min_height": null,
            "min_width": null,
            "object_fit": null,
            "object_position": null,
            "order": null,
            "overflow": null,
            "overflow_x": null,
            "overflow_y": null,
            "padding": null,
            "right": null,
            "top": null,
            "visibility": null,
            "width": null
          }
        },
        "be71e184ec43418b99e4853383356a99": {
          "model_module": "@jupyter-widgets/controls",
          "model_name": "ProgressStyleModel",
          "model_module_version": "1.5.0",
          "state": {
            "_model_module": "@jupyter-widgets/controls",
            "_model_module_version": "1.5.0",
            "_model_name": "ProgressStyleModel",
            "_view_count": null,
            "_view_module": "@jupyter-widgets/base",
            "_view_module_version": "1.2.0",
            "_view_name": "StyleView",
            "bar_color": null,
            "description_width": "initial"
          }
        }
      }
    }
  },
  "cells": [
    {
      "cell_type": "markdown",
      "metadata": {
        "id": "view-in-github",
        "colab_type": "text"
      },
      "source": [
        "<a href=\"https://colab.research.google.com/github/ajitonelsonn/ajuda_digital/blob/main/Prosses-Data/Ajuda_Digital_Document_Processing_Jupyter_Notebook.ipynb\" target=\"_parent\"><img src=\"https://colab.research.google.com/assets/colab-badge.svg\" alt=\"Open In Colab\"/></a>"
      ]
    },
    {
      "cell_type": "markdown",
      "source": [
        "# **Ajuda Digital Document Processing - Jupyter Notebook**"
      ],
      "metadata": {
        "id": "uvOnxpWhzksL"
      }
    },
    {
      "cell_type": "markdown",
      "source": [
        "## Install Required Packages"
      ],
      "metadata": {
        "id": "cx_GN9wR_bCw"
      }
    },
    {
      "cell_type": "code",
      "execution_count": 39,
      "metadata": {
        "id": "x6K8X1wbyFbu"
      },
      "outputs": [],
      "source": [
        "# Install required packages\n",
        "!pip install boto3 openai ipywidgets pillow -q > /dev/null 2>&1"
      ]
    },
    {
      "cell_type": "markdown",
      "source": [
        "## Import Libraries"
      ],
      "metadata": {
        "id": "SblIEq0f_dNJ"
      }
    },
    {
      "cell_type": "code",
      "source": [
        "import boto3\n",
        "import json\n",
        "import uuid\n",
        "import os\n",
        "from datetime import datetime\n",
        "from openai import OpenAI\n",
        "import ipywidgets as widgets\n",
        "from IPython.display import display, HTML, clear_output\n",
        "import base64\n",
        "from io import BytesIO\n",
        "from PIL import Image\n",
        "import requests"
      ],
      "metadata": {
        "id": "O1Vq4MhNzp8M"
      },
      "execution_count": 40,
      "outputs": []
    },
    {
      "cell_type": "markdown",
      "source": [
        "## Configuration Class"
      ],
      "metadata": {
        "id": "qcJLNN5m_m5G"
      }
    },
    {
      "cell_type": "code",
      "source": [
        "# Configuration\n",
        "class Config:\n",
        "    # AWS Configuration\n",
        "    AWS_REGION = 'us-east-1'\n",
        "    S3_BUCKET = 'pre-proses-ajudagital'\n",
        "\n",
        "    # SEA-LION API Configuration\n",
        "    SEA_LION_API_KEY = 'xxxxxxxx'\n",
        "    SEA_LION_BASE_URL = \"https://api.sea-lion.ai/v1\"\n",
        "    SEA_LION_MODEL = \"aisingapore/Llama-SEA-LION-v3-70B-IT\"\n",
        "\n",
        "    # Department Models\n",
        "    DEPARTMENTS = {\n",
        "        1: \"Civil Registry & Identity Model (Registo Civil)\",\n",
        "        2: \"Immigration & Travel Model (Imigração e Viagens)\",\n",
        "        3: \"Education Model (Educação)\",\n",
        "        4: \"Business & Commerce Model (Negócios e Comércio)\",\n",
        "        5: \"Legal & Constitutional Model (Jurídico e Constitucional)\",\n",
        "        6: \"Elections & Civic Participation (Eleições e Participação Cívica)\",\n",
        "        7: \"Health & Social Services (Saúde e Serviços Sociais)\",\n",
        "        8: \"Finance & Taxation (Finanças e Tributação)\",\n",
        "        9: \"Land & Property (Terras e Propriedade)\",\n",
        "        10: \"Employment & Labor (Emprego e Trabalho)\"\n",
        "    }\n",
        "\n",
        "    SOURCE_OPTIONS = [\n",
        "        \"Facebook\",\n",
        "        \"Government Website\",\n",
        "        \"Office Information Board\",\n",
        "        \"News Website\",\n",
        "        \"Other (specify)\"\n",
        "    ]\n",
        "\n",
        "print(\"Configuration loaded successfully!\")"
      ],
      "metadata": {
        "colab": {
          "base_uri": "https://localhost:8080/"
        },
        "id": "xB1JUMkkzs0c",
        "outputId": "ea04373d-fdf0-4473-a588-7511a9deb773"
      },
      "execution_count": 41,
      "outputs": [
        {
          "output_type": "stream",
          "name": "stdout",
          "text": [
            "Configuration loaded successfully!\n"
          ]
        }
      ]
    },
    {
      "cell_type": "markdown",
      "source": [
        "## Initialize AWS Services"
      ],
      "metadata": {
        "id": "OpIVexVc12jB"
      }
    },
    {
      "cell_type": "code",
      "source": [
        "def init_aws_services():\n",
        "    \"\"\"Initialize AWS services with credentials\"\"\"\n",
        "    try:\n",
        "        # Your credentials from the screenshot\n",
        "        aws_access_key_id = 'xxxxxxxx'\n",
        "        aws_secret_access_key = 'xxxxxxxx'\n",
        "\n",
        "        # Initialize AWS clients with explicit credentials\n",
        "        s3_client = boto3.client(\n",
        "            's3',\n",
        "            region_name=Config.AWS_REGION,\n",
        "            aws_access_key_id=aws_access_key_id,\n",
        "            aws_secret_access_key=aws_secret_access_key\n",
        "        )\n",
        "\n",
        "        textract_client = boto3.client(\n",
        "            'textract',\n",
        "            region_name=Config.AWS_REGION,\n",
        "            aws_access_key_id=aws_access_key_id,\n",
        "            aws_secret_access_key=aws_secret_access_key\n",
        "        )\n",
        "\n",
        "        # Test the connection\n",
        "        s3_client.list_buckets()\n",
        "\n",
        "        return s3_client, textract_client\n",
        "    except Exception as e:\n",
        "        print(f\"Error initializing AWS services: {e}\")\n",
        "        return None, None\n",
        "\n",
        "# Test AWS connection immediately\n",
        "s3_client, textract_client = init_aws_services()\n",
        "if s3_client and textract_client:\n",
        "    print(\"AWS services initialized successfully!\")\n",
        "\n",
        "    # Test S3 access\n",
        "    try:\n",
        "        buckets = s3_client.list_buckets()\n",
        "        print(f\"Found {len(buckets['Buckets'])} S3 buckets\")\n",
        "    except Exception as e:\n",
        "        print(f\"S3 test failed: {e}\")\n",
        "\n",
        "else:\n",
        "    print(\"Failed to initialize AWS services\")"
      ],
      "metadata": {
        "colab": {
          "base_uri": "https://localhost:8080/"
        },
        "id": "c5VW1RBk48k0",
        "outputId": "05298dd6-6201-40a2-91a5-7c46b990bd8a"
      },
      "execution_count": 42,
      "outputs": [
        {
          "output_type": "stream",
          "name": "stdout",
          "text": [
            "AWS services initialized successfully!\n",
            "Found 7 S3 buckets\n"
          ]
        }
      ]
    },
    {
      "cell_type": "markdown",
      "source": [
        "## Initialize SEA-LION Client"
      ],
      "metadata": {
        "id": "YJ78pEHV_yP5"
      }
    },
    {
      "cell_type": "code",
      "source": [
        "def init_sea_lion_client():\n",
        "    \"\"\"Initialize SEA-LION API client\"\"\"\n",
        "    try:\n",
        "        client = OpenAI(\n",
        "            api_key=Config.SEA_LION_API_KEY,\n",
        "            base_url=Config.SEA_LION_BASE_URL\n",
        "        )\n",
        "        return client\n",
        "    except Exception as e:\n",
        "        print(f\"Error initializing SEA-LION client: {e}\")\n",
        "        return None\n",
        "\n",
        "# Test SEA-LION connection\n",
        "sea_lion_client = init_sea_lion_client()\n",
        "if sea_lion_client:\n",
        "    print(\"SEA-LION client initialized successfully!\")\n",
        "else:\n",
        "    print(\"Failed to initialize SEA-LION client - check your API key\")"
      ],
      "metadata": {
        "colab": {
          "base_uri": "https://localhost:8080/"
        },
        "id": "_EPaqW-W2Pd2",
        "outputId": "65f2567c-0dee-4edd-e1cd-9df3af716375"
      },
      "execution_count": 43,
      "outputs": [
        {
          "output_type": "stream",
          "name": "stdout",
          "text": [
            "SEA-LION client initialized successfully!\n"
          ]
        }
      ]
    },
    {
      "cell_type": "markdown",
      "source": [
        "## File Upload Widget"
      ],
      "metadata": {
        "id": "MvBtUpWf_1OR"
      }
    },
    {
      "cell_type": "code",
      "source": [
        "def create_upload_widget():\n",
        "    \"\"\"Create file upload widget\"\"\"\n",
        "    upload_widget = widgets.FileUpload(\n",
        "        accept='image/*',\n",
        "        multiple=False,\n",
        "        description='Select Image'\n",
        "    )\n",
        "    return upload_widget\n",
        "\n",
        "# Create upload widget\n",
        "upload_widget = create_upload_widget()\n",
        "print(\"File upload widget created!\")"
      ],
      "metadata": {
        "colab": {
          "base_uri": "https://localhost:8080/",
          "height": 34
        },
        "id": "LFuHStCp2bir",
        "outputId": "5a6afa93-8db0-483a-cf3d-a91500f202b6"
      },
      "execution_count": 44,
      "outputs": [
        {
          "output_type": "stream",
          "name": "stdout",
          "text": [
            "File upload widget created!\n"
          ]
        }
      ]
    },
    {
      "cell_type": "markdown",
      "source": [
        "## Form Widgets"
      ],
      "metadata": {
        "id": "o6sLZMqn_6TR"
      }
    },
    {
      "cell_type": "code",
      "source": [
        "def create_form_widgets():\n",
        "    \"\"\"Create all form input widgets\"\"\"\n",
        "\n",
        "    # Tetum language selection\n",
        "    tetum_checkbox = widgets.Checkbox(\n",
        "        value=False,\n",
        "        description='Is this in Tetum language?',\n",
        "        style={'description_width': 'initial'}\n",
        "    )\n",
        "\n",
        "    # Department selection\n",
        "    department_dropdown = widgets.Dropdown(\n",
        "        options=[(v, k) for k, v in Config.DEPARTMENTS.items()],\n",
        "        description='Department:',\n",
        "        style={'description_width': 'initial'}\n",
        "    )\n",
        "\n",
        "    # Source selection\n",
        "    source_dropdown = widgets.Dropdown(\n",
        "        options=Config.SOURCE_OPTIONS,\n",
        "        description='Source:',\n",
        "        style={'description_width': 'initial'}\n",
        "    )\n",
        "\n",
        "    # Custom source input\n",
        "    custom_source_text = widgets.Text(\n",
        "        placeholder='Enter custom source...',\n",
        "        description='Custom Source:',\n",
        "        style={'description_width': 'initial'}\n",
        "    )\n",
        "\n",
        "    # Date picker\n",
        "    date_picker = widgets.DatePicker(\n",
        "        description='Date Taken:',\n",
        "        value=datetime.now().date(),\n",
        "        style={'description_width': 'initial'}\n",
        "    )\n",
        "\n",
        "    # Submit button\n",
        "    submit_button = widgets.Button(\n",
        "        description='Process Document',\n",
        "        button_style='success',\n",
        "        layout=widgets.Layout(width='200px', height='40px')\n",
        "    )\n",
        "\n",
        "    # Progress bar\n",
        "    progress_bar = widgets.IntProgress(\n",
        "        value=0,\n",
        "        min=0,\n",
        "        max=100,\n",
        "        description='Processing:',\n",
        "        bar_style='info',\n",
        "        style={'description_width': 'initial'}\n",
        "    )\n",
        "\n",
        "    return (tetum_checkbox, department_dropdown, source_dropdown,\n",
        "            custom_source_text, date_picker, submit_button, progress_bar)\n",
        "\n",
        "# Create form widgets\n",
        "(tetum_checkbox, department_dropdown, source_dropdown,\n",
        " custom_source_text, date_picker, submit_button, progress_bar) = create_form_widgets()\n",
        "\n",
        "print(\"Form widgets created!\")"
      ],
      "metadata": {
        "colab": {
          "base_uri": "https://localhost:8080/",
          "height": 34
        },
        "id": "yNlY0mD52eyv",
        "outputId": "0d2e4ea8-2aa4-4aa8-8987-ad5b2b9d8fdc"
      },
      "execution_count": 45,
      "outputs": [
        {
          "output_type": "stream",
          "name": "stdout",
          "text": [
            "Form widgets created!\n"
          ]
        }
      ]
    },
    {
      "cell_type": "markdown",
      "source": [
        "## Utility Functions"
      ],
      "metadata": {
        "id": "ELXVvS6c_81x"
      }
    },
    {
      "cell_type": "code",
      "source": [
        "def generate_file_path(department_id, date_taken):\n",
        "    \"\"\"Generate unique file path structure\"\"\"\n",
        "    year = date_taken.year\n",
        "    month = f\"{date_taken.month:02d}\"\n",
        "    day = f\"{date_taken.day:02d}\"\n",
        "\n",
        "    # Generate unique ID\n",
        "    unique_id = str(uuid.uuid4()).replace('-', '')[:8]\n",
        "\n",
        "    base_path = f\"doc/{year}/{month}/{day}/{department_id}\"\n",
        "    filename_base = f\"doc_{unique_id}_{department_id * 10000 + 1}\"\n",
        "\n",
        "    return base_path, filename_base\n",
        "\n",
        "def upload_to_s3(s3_client, file_data, bucket, key):\n",
        "    \"\"\"Upload file to S3 and return URL\"\"\"\n",
        "    try:\n",
        "        s3_client.put_object(\n",
        "            Bucket=bucket,\n",
        "            Key=key,\n",
        "            Body=file_data,\n",
        "            ContentType='application/octet-stream'\n",
        "        )\n",
        "\n",
        "        url = f\"https://{bucket}.s3.{Config.AWS_REGION}.amazonaws.com/{key}\"\n",
        "        return url\n",
        "    except Exception as e:\n",
        "        print(f\"Error uploading to S3: {e}\")\n",
        "        return None\n",
        "\n",
        "print(\"Utility functions defined!\")"
      ],
      "metadata": {
        "colab": {
          "base_uri": "https://localhost:8080/"
        },
        "id": "ynPz0P2r2h0c",
        "outputId": "4811835d-111a-4a0b-fefd-dfceb597aa1a"
      },
      "execution_count": 46,
      "outputs": [
        {
          "output_type": "stream",
          "name": "stdout",
          "text": [
            "Utility functions defined!\n"
          ]
        }
      ]
    },
    {
      "cell_type": "markdown",
      "source": [
        "## Amazon Textract Function"
      ],
      "metadata": {
        "id": "cDDwUwjSACxt"
      }
    },
    {
      "cell_type": "code",
      "source": [
        "def extract_text_from_image(textract_client, image_bytes):\n",
        "    \"\"\"Extract text from image using Amazon Textract\"\"\"\n",
        "    try:\n",
        "        response = textract_client.detect_document_text(\n",
        "            Document={'Bytes': image_bytes}\n",
        "        )\n",
        "\n",
        "        # Extract text from response\n",
        "        text_lines = []\n",
        "        for item in response['Blocks']:\n",
        "            if item['BlockType'] == 'LINE':\n",
        "                text_lines.append(item['Text'])\n",
        "\n",
        "        extracted_text = '\\n'.join(text_lines)\n",
        "        return extracted_text\n",
        "    except Exception as e:\n",
        "        print(f\"Error extracting text with Textract: {e}\")\n",
        "        return None\n",
        "\n",
        "print(\"Textract function defined!\")"
      ],
      "metadata": {
        "colab": {
          "base_uri": "https://localhost:8080/"
        },
        "id": "yGC5nFW025jd",
        "outputId": "ccc365bc-cfa9-43e1-879f-e5674b04e3aa"
      },
      "execution_count": 47,
      "outputs": [
        {
          "output_type": "stream",
          "name": "stdout",
          "text": [
            "Textract function defined!\n"
          ]
        }
      ]
    },
    {
      "cell_type": "markdown",
      "source": [
        "## SEA-LION Translation Function"
      ],
      "metadata": {
        "id": "VGVAepVPAHZ0"
      }
    },
    {
      "cell_type": "code",
      "source": [
        "def translate_tetum_to_english(sea_lion_client, tetum_text):\n",
        "    \"\"\"Translate Tetum text to English using SEA-LION\"\"\"\n",
        "    try:\n",
        "        completion = sea_lion_client.chat.completions.create(\n",
        "            model=Config.SEA_LION_MODEL,\n",
        "            messages=[\n",
        "                {\n",
        "                    \"role\": \"user\",\n",
        "                    \"content\": f\"Please translate the following Tetum text to English. Only provide the translation, no additional text:\\n\\n{tetum_text}\"\n",
        "                }\n",
        "            ],\n",
        "            extra_body={\n",
        "                \"chat_template_kwargs\": {\n",
        "                    \"thinking_mode\": \"off\"\n",
        "                }\n",
        "            },\n",
        "        )\n",
        "\n",
        "        translated_text = completion.choices[0].message.content.strip()\n",
        "        return translated_text\n",
        "    except Exception as e:\n",
        "        print(f\"Error translating with SEA-LION: {e}\")\n",
        "        return None\n",
        "\n",
        "print(\"Translation function defined!\")"
      ],
      "metadata": {
        "colab": {
          "base_uri": "https://localhost:8080/"
        },
        "id": "0EWbxv6729Rf",
        "outputId": "d7e20626-380c-446a-aebc-44a1238c2023"
      },
      "execution_count": 48,
      "outputs": [
        {
          "output_type": "stream",
          "name": "stdout",
          "text": [
            "Translation function defined!\n"
          ]
        }
      ]
    },
    {
      "cell_type": "markdown",
      "source": [
        "## Main Processing Function"
      ],
      "metadata": {
        "id": "1jBoZNSoALU3"
      }
    },
    {
      "cell_type": "code",
      "source": [
        "def process_document(upload_widget, tetum_checkbox, department_dropdown,\n",
        "                    source_dropdown, custom_source_text, date_picker,\n",
        "                    progress_bar):\n",
        "    \"\"\"Main document processing pipeline\"\"\"\n",
        "\n",
        "    # Initialize services\n",
        "    progress_bar.value = 10\n",
        "    s3_client, textract_client = init_aws_services()\n",
        "    sea_lion_client = init_sea_lion_client()\n",
        "\n",
        "    if not s3_client or not textract_client:\n",
        "        print(\"Failed to initialize AWS services\")\n",
        "        return\n",
        "\n",
        "    if not upload_widget.value:\n",
        "        print(\"Please select an image file\")\n",
        "        return\n",
        "\n",
        "    progress_bar.value = 20\n",
        "\n",
        "    # Get form values\n",
        "    file_info = list(upload_widget.value.values())[0]\n",
        "    image_data = file_info['content']\n",
        "    original_filename = file_info['metadata']['name']\n",
        "\n",
        "    is_tetum = tetum_checkbox.value\n",
        "    department_id = department_dropdown.value\n",
        "    source = custom_source_text.value if source_dropdown.value == \"Other (specify)\" else source_dropdown.value\n",
        "    date_taken = date_picker.value\n",
        "\n",
        "    # Generate file paths\n",
        "    base_path, filename_base = generate_file_path(department_id, date_taken)\n",
        "\n",
        "    progress_bar.value = 30\n",
        "\n",
        "    # Upload original image\n",
        "    file_extension = original_filename.split('.')[-1].lower()\n",
        "    original_key = f\"{base_path}/{filename_base}.{file_extension}\"\n",
        "    original_url = upload_to_s3(s3_client, image_data, Config.S3_BUCKET, original_key)\n",
        "\n",
        "    if not original_url:\n",
        "        print(\"Failed to upload original image\")\n",
        "        return\n",
        "\n",
        "    progress_bar.value = 50\n",
        "\n",
        "    # Extract text using Textract\n",
        "    print(\"Extracting text from image...\")\n",
        "    extracted_text = extract_text_from_image(textract_client, image_data)\n",
        "\n",
        "    if not extracted_text:\n",
        "        print(\"Failed to extract text from image\")\n",
        "        return\n",
        "\n",
        "    progress_bar.value = 70\n",
        "\n",
        "    # Create metadata header\n",
        "    metadata_header = f\"\"\"Source: {source}\n",
        "Department: {Config.DEPARTMENTS[department_id]}\n",
        "Date Taken: {date_taken}\n",
        "Original Image: {original_url}\n",
        "Processed: {datetime.now().strftime('%Y-%m-%d %H:%M:%S')}\n",
        "\n",
        "---EXTRACTED TEXT---\n",
        "\"\"\"\n",
        "\n",
        "    # Save original extracted text\n",
        "    original_text_content = metadata_header + extracted_text\n",
        "    original_text_key = f\"{base_path}/{filename_base}_original.txt\"\n",
        "    original_text_url = upload_to_s3(s3_client, original_text_content.encode('utf-8'),\n",
        "                                    Config.S3_BUCKET, original_text_key)\n",
        "\n",
        "    files_created = [\n",
        "        {\"type\": \"Original Image\", \"url\": original_url},\n",
        "        {\"type\": \"Original Text\", \"url\": original_text_url}\n",
        "    ]\n",
        "\n",
        "    # Translate if Tetum\n",
        "    if is_tetum and sea_lion_client:\n",
        "        progress_bar.value = 85\n",
        "        print(\"Translating from Tetum to English...\")\n",
        "\n",
        "        translated_text = translate_tetum_to_english(sea_lion_client, extracted_text)\n",
        "\n",
        "        if translated_text:\n",
        "            # Create translated text with metadata\n",
        "            translated_header = f\"\"\"Source: {source}\n",
        "Department: {Config.DEPARTMENTS[department_id]}\n",
        "Date Taken: {date_taken}\n",
        "Original Image: {original_url}\n",
        "Original Text: {original_text_url}\n",
        "Processed: {datetime.now().strftime('%Y-%m-%d %H:%M:%S')}\n",
        "\n",
        "---TRANSLATED TEXT (Tetum → English)---\n",
        "\"\"\"\n",
        "            translated_content = translated_header + translated_text\n",
        "            translated_key = f\"{base_path}/{filename_base}_english.txt\"\n",
        "            translated_url = upload_to_s3(s3_client, translated_content.encode('utf-8'),\n",
        "                                         Config.S3_BUCKET, translated_key)\n",
        "\n",
        "            files_created.append({\"type\": \"English Translation\", \"url\": translated_url})\n",
        "        else:\n",
        "            print(\"Translation failed, but original text was saved\")\n",
        "\n",
        "    progress_bar.value = 100\n",
        "\n",
        "    # Display results\n",
        "    print(f\"\\nDocument processed successfully!\")\n",
        "    print(f\"Files saved in: https://{Config.S3_BUCKET}.s3.{Config.AWS_REGION}.amazonaws.com/{base_path}/\")\n",
        "    print(f\"\\nFiles created:\")\n",
        "    for file_info in files_created:\n",
        "        print(f\"   {file_info['type']}: {file_info['url']}\")\n",
        "\n",
        "print(\"Main processing function defined!\")"
      ],
      "metadata": {
        "colab": {
          "base_uri": "https://localhost:8080/"
        },
        "id": "GeYeGBQl3B8C",
        "outputId": "dd3449a6-d991-4f82-ed08-d4c4e7e2f6e1"
      },
      "execution_count": 49,
      "outputs": [
        {
          "output_type": "stream",
          "name": "stdout",
          "text": [
            "Main processing function defined!\n"
          ]
        }
      ]
    },
    {
      "cell_type": "markdown",
      "source": [
        "## Setup Widget Interactions"
      ],
      "metadata": {
        "id": "yS7_ryzSAQtA"
      }
    },
    {
      "cell_type": "code",
      "source": [
        "# Hide/show custom source input based on selection\n",
        "def on_source_change(change):\n",
        "    if change['new'] == \"Other (specify)\":\n",
        "        custom_source_text.layout.display = 'block'\n",
        "    else:\n",
        "        custom_source_text.layout.display = 'none'\n",
        "\n",
        "source_dropdown.observe(on_source_change, names='value')\n",
        "custom_source_text.layout.display = 'none'  # Initially hidden\n",
        "\n",
        "# Submit button click handler\n",
        "def on_submit_click(button):\n",
        "    clear_output(wait=True)\n",
        "    print(\"Ajuda Digital - Document Processing System\")\n",
        "    print(\"=\" * 50)\n",
        "    print(\"Processing document...\")\n",
        "    print()\n",
        "\n",
        "    process_document(upload_widget, tetum_checkbox, department_dropdown,\n",
        "                    source_dropdown, custom_source_text, date_picker, progress_bar)\n",
        "\n",
        "submit_button.on_click(on_submit_click)\n",
        "\n",
        "print(\"Widget interactions configured!\")"
      ],
      "metadata": {
        "colab": {
          "base_uri": "https://localhost:8080/",
          "height": 34
        },
        "id": "kXHWsp063Hcy",
        "outputId": "8ae93196-e979-42f2-f134-f15ee95b2d93"
      },
      "execution_count": 50,
      "outputs": [
        {
          "output_type": "stream",
          "name": "stdout",
          "text": [
            "Widget interactions configured!\n"
          ]
        }
      ]
    },
    {
      "cell_type": "markdown",
      "source": [
        "## Display Interface"
      ],
      "metadata": {
        "id": "TArB0iOOAVIM"
      }
    },
    {
      "cell_type": "code",
      "source": [
        "print(\"Ajuda Digital - Document Processing System\")\n",
        "print(\"=\" * 50)\n",
        "print(\"This tool processes government document images for the Ajuda Digital chatbot\")\n",
        "print()\n",
        "\n",
        "# Display interface\n",
        "display(HTML(\"<h3>Upload Document Image</h3>\"))\n",
        "display(upload_widget)\n",
        "\n",
        "display(HTML(\"<h3>Document Information</h3>\"))\n",
        "display(tetum_checkbox)\n",
        "display(department_dropdown)\n",
        "display(source_dropdown)\n",
        "display(custom_source_text)\n",
        "display(date_picker)\n",
        "\n",
        "display(HTML(\"<h3>Process Document</h3>\"))\n",
        "display(submit_button)\n",
        "display(progress_bar)"
      ],
      "metadata": {
        "colab": {
          "base_uri": "https://localhost:8080/",
          "height": 434,
          "referenced_widgets": [
            "43cff2468b1d42d1ad0100e036d3cd76",
            "6a55ead10726481ab2d2636f55b4acf4",
            "e85d1f690b464f56b1c788cb36246d8e",
            "56ef11393f244a66828193c5bb5843e7",
            "9d3e2fa3fc354b5caf0e293fe7bf8b7e",
            "e39001d8871d483f9752b719afb3a62f",
            "43d26be8473c4df3be4dd96bdd79d556",
            "3ed4914a33bf4596b64d77b8530b9262",
            "701d5383cea94bf0bed4df5ffee4bebe",
            "03ef78debe174e289fd721ad06adfb81",
            "41259319b66c4b89b38f2ff33b14880e",
            "a99fd0a391e9423298278beac4e3825a",
            "68c93f934f5040b9afdeeb1fbb23747f",
            "c6b27c5232264277961107bc2a3fd8ff",
            "9164909295404aa9803eeb99624d0cf2",
            "939efc37f8bd46129ba9eee37e5bbe86",
            "9b053f1f8d5e489fb9fb9ceb8086c487",
            "f4c1c3d1b21741988062091e15dc6822",
            "dd75f6705f104338b1e731c7bafb28b3",
            "8e726e0c1e0b4ad5b595f796d269b027",
            "09289dce2f364c8385b4cb2bf6980518",
            "7a59d4b98ba546d887a7787816799690",
            "636c83db08624c8493d344a0c699e5db",
            "be71e184ec43418b99e4853383356a99"
          ]
        },
        "id": "oDgZwRrP3Ig_",
        "outputId": "6f4460ba-92fa-4729-e043-6b66a038c16c"
      },
      "execution_count": 52,
      "outputs": [
        {
          "output_type": "stream",
          "name": "stdout",
          "text": [
            "Ajuda Digital - Document Processing System\n",
            "==================================================\n",
            "This tool processes government document images for the Ajuda Digital chatbot\n",
            "\n"
          ]
        },
        {
          "output_type": "display_data",
          "data": {
            "text/plain": [
              "<IPython.core.display.HTML object>"
            ],
            "text/html": [
              "<h3>Upload Document Image</h3>"
            ]
          },
          "metadata": {}
        },
        {
          "output_type": "display_data",
          "data": {
            "text/plain": [
              "FileUpload(value={'Registuc 2025-08-27 at 09.26.35.jpeg': {'metadata': {'name': 'Registuc 2025-08-27 at 09.26.…"
            ],
            "application/vnd.jupyter.widget-view+json": {
              "version_major": 2,
              "version_minor": 0,
              "model_id": "43cff2468b1d42d1ad0100e036d3cd76"
            }
          },
          "metadata": {}
        },
        {
          "output_type": "display_data",
          "data": {
            "text/plain": [
              "<IPython.core.display.HTML object>"
            ],
            "text/html": [
              "<h3>Document Information</h3>"
            ]
          },
          "metadata": {}
        },
        {
          "output_type": "display_data",
          "data": {
            "text/plain": [
              "Checkbox(value=True, description='Is this in Tetum language?', style=DescriptionStyle(description_width='initi…"
            ],
            "application/vnd.jupyter.widget-view+json": {
              "version_major": 2,
              "version_minor": 0,
              "model_id": "56ef11393f244a66828193c5bb5843e7"
            }
          },
          "metadata": {}
        },
        {
          "output_type": "display_data",
          "data": {
            "text/plain": [
              "Dropdown(description='Department:', options=(('Civil Registry & Identity Model (Registo Civil)', 1), ('Immigra…"
            ],
            "application/vnd.jupyter.widget-view+json": {
              "version_major": 2,
              "version_minor": 0,
              "model_id": "43d26be8473c4df3be4dd96bdd79d556"
            }
          },
          "metadata": {}
        },
        {
          "output_type": "display_data",
          "data": {
            "text/plain": [
              "Dropdown(description='Source:', index=2, options=('Facebook', 'Government Website', 'Office Information Board'…"
            ],
            "application/vnd.jupyter.widget-view+json": {
              "version_major": 2,
              "version_minor": 0,
              "model_id": "03ef78debe174e289fd721ad06adfb81"
            }
          },
          "metadata": {}
        },
        {
          "output_type": "display_data",
          "data": {
            "text/plain": [
              "Text(value='', description='Custom Source:', layout=Layout(display='none'), placeholder='Enter custom source..…"
            ],
            "application/vnd.jupyter.widget-view+json": {
              "version_major": 2,
              "version_minor": 0,
              "model_id": "68c93f934f5040b9afdeeb1fbb23747f"
            }
          },
          "metadata": {}
        },
        {
          "output_type": "display_data",
          "data": {
            "text/plain": [
              "DatePicker(value=datetime.date(2025, 8, 26), description='Date Taken:', style=DescriptionStyle(description_wid…"
            ],
            "application/vnd.jupyter.widget-view+json": {
              "version_major": 2,
              "version_minor": 0,
              "model_id": "939efc37f8bd46129ba9eee37e5bbe86"
            }
          },
          "metadata": {}
        },
        {
          "output_type": "display_data",
          "data": {
            "text/plain": [
              "<IPython.core.display.HTML object>"
            ],
            "text/html": [
              "<h3>Process Document</h3>"
            ]
          },
          "metadata": {}
        },
        {
          "output_type": "display_data",
          "data": {
            "text/plain": [
              "Button(button_style='success', description='Process Document', layout=Layout(height='40px', width='200px'), st…"
            ],
            "application/vnd.jupyter.widget-view+json": {
              "version_major": 2,
              "version_minor": 0,
              "model_id": "dd75f6705f104338b1e731c7bafb28b3"
            }
          },
          "metadata": {}
        },
        {
          "output_type": "display_data",
          "data": {
            "text/plain": [
              "IntProgress(value=100, bar_style='info', description='Processing:', style=ProgressStyle(description_width='ini…"
            ],
            "application/vnd.jupyter.widget-view+json": {
              "version_major": 2,
              "version_minor": 0,
              "model_id": "7a59d4b98ba546d887a7787816799690"
            }
          },
          "metadata": {}
        }
      ]
    },
    {
      "cell_type": "markdown",
      "source": [
        "**Made with ❤️ for Timor-Leste 🇹🇱 — [Ajuda Digital](https://www.ajuda-digital.com) Team**\n"
      ],
      "metadata": {
        "id": "m9oJwf2cAeCZ"
      }
    },
    {
      "cell_type": "markdown",
      "source": [
        "![tais.png](data:image/png;base64,iVBORw0KGgoAAAANSUhEUgAAA2cAAABICAYAAAByWY0bAAAABGdBTUEAALGPC/xhBQAAACBjSFJNAAB6JgAAgIQAAPoAAACA6AAAdTAAAOpgAAA6mAAAF3CculE8AAAAhGVYSWZNTQAqAAAACAAFARIAAwAAAAEAAQAAARoABQAAAAEAAABKARsABQAAAAEAAABSASgAAwAAAAEAAgAAh2kABAAAAAEAAABaAAAAAAAAAGAAAAABAAAAYAAAAAEAA6ABAAMAAAABAAEAAKACAAQAAAABAAADZ6ADAAQAAAABAAAASAAAAACO8RtmAAAACXBIWXMAAA7EAAAOxAGVKw4bAAACymlUWHRYTUw6Y29tLmFkb2JlLnhtcAAAAAAAPHg6eG1wbWV0YSB4bWxuczp4PSJhZG9iZTpuczptZXRhLyIgeDp4bXB0az0iWE1QIENvcmUgNi4wLjAiPgogICA8cmRmOlJERiB4bWxuczpyZGY9Imh0dHA6Ly93d3cudzMub3JnLzE5OTkvMDIvMjItcmRmLXN5bnRheC1ucyMiPgogICAgICA8cmRmOkRlc2NyaXB0aW9uIHJkZjphYm91dD0iIgogICAgICAgICAgICB4bWxuczp0aWZmPSJodHRwOi8vbnMuYWRvYmUuY29tL3RpZmYvMS4wLyIKICAgICAgICAgICAgeG1sbnM6ZXhpZj0iaHR0cDovL25zLmFkb2JlLmNvbS9leGlmLzEuMC8iPgogICAgICAgICA8dGlmZjpZUmVzb2x1dGlvbj45NjwvdGlmZjpZUmVzb2x1dGlvbj4KICAgICAgICAgPHRpZmY6UmVzb2x1dGlvblVuaXQ+MjwvdGlmZjpSZXNvbHV0aW9uVW5pdD4KICAgICAgICAgPHRpZmY6WFJlc29sdXRpb24+OTY8L3RpZmY6WFJlc29sdXRpb24+CiAgICAgICAgIDx0aWZmOk9yaWVudGF0aW9uPjE8L3RpZmY6T3JpZW50YXRpb24+CiAgICAgICAgIDxleGlmOlBpeGVsWERpbWVuc2lvbj45MDA8L2V4aWY6UGl4ZWxYRGltZW5zaW9uPgogICAgICAgICA8ZXhpZjpDb2xvclNwYWNlPjE8L2V4aWY6Q29sb3JTcGFjZT4KICAgICAgICAgPGV4aWY6UGl4ZWxZRGltZW5zaW9uPjUzMTwvZXhpZjpQaXhlbFlEaW1lbnNpb24+CiAgICAgIDwvcmRmOkRlc2NyaXB0aW9uPgogICA8L3JkZjpSREY+CjwveDp4bXBtZXRhPgpcTOOrAABAAElEQVR4AUy9CZik11nf+6997aree7qnZ181I81oGclaLO+2jI33GDDXiTEmOOQClyQ4l+eGJ7kQkhvgCZeQBAwXHDAYCItsYxt5FfIijRZrGUmjkWZfuqf3rfa97u9/aiZQo1ZVfd/5znnPe979fc+pyJseeGN/fmFevX5PEf7F43F1Om31R08ont+moUxGP//QUS185mENdRb1L46P6vGfTGk08kM6/W++qL/qzergm7fp3Xvzmv+vf6jYyLAmPvVP9Yufe0n3ny/pSO1FHf+9f6F1fU7v/f1N/eALG/qhB+7Xry0ndP56VT31pfUX1K3OKRKJSv2+rygKLP4U7nMhwjV/jsditJG6va6i0SjN3ZqX20RpxXuPa24fifB//kIbPrpP3/uHLzfp9nqKRWOhnZ8LLz64acRjcD/ud24YptCvP/s+HXS7wMK72/Zo68Hdz82hoszrJn49I3c06LevaGzwTMzz6rl39x8+0qfU6fZC3+Fi6HMwvscJY3pc/jxHjwlS/H+uMZ/Ru9SPZRRPJJRKpvTLP/5mPfnf/la3LD+v/7BvSOfySX394x1Nj7xVWyeTeu63H5YKt+k/veUWfSq2pofuPaQr/+nT0tS4NqCL39h1XG8639buq5eVar2m+r0JDaVjqj97UPmN8yrf1VJye1KN7+zXf/+B+/SvvvD/KVkrKQqsq8x52lMHvNG2VIl0gZn1APYkc491Oqp7wnxveQrGBWMOdbpqcjnK96YRF48q63u0jTV7SiZi6nAZilWbZxsRcOolKBT1xfv+kd77+GO68kBJ1xXT/d8pqZm5Uzq+ojGtqnQyr3N7Tmjhg0f1s7NRXf43/1mZmW2KVOv6gx1HNN6a0l3nLmjnrppmPvU+NVt/po9/qafnL7X0y+c21ImO6dgn3q9+92tKakPFQle//uXtOvvSU4EWu6zdu+KjujV1TLf+WENnP5vW16pP6oVIO9Dc22JFHc3foT/Np/WRSlu90ov6Qzilyly68OPRXkIfnLpFez+a1GufieqR6kt6qdsI650Fd5+aKqiYBSXHd+iVb21T9NB2jcPLV+98Sd89uayxbEL1Sx2de+/H1fnaZ3VXK6E0tHhazKcX00/fm9b5U9tVuP8e/fuhKzq1tAwiO/rcg+9W+dPf074Dl1VZHNEr/d06tbugX/zYCa0/86LWT5/V9tcd09c+/7ie7O/Su0uLOnr/vC5/HZqcfp3qHzmk/+PkN1gLKc3a/MF971T9955SsX1Gk4c7+vxzHT2VauvWfpr1l17uV3XmwffoF54+pc81Luk9xxM6U5E+ft8tuvjMXo3vmNBo55z6m2c01q/o2tmefrPR0FrglYg+3InpztRhzfx0UZe+KG1cek6/E2uq2QEeuOJHulEdyhzVp8d2655mQ3dsndaXugt6qteCXWI62IvqH/dT6h+6S9Nv6WrpM2v6cue8Hu+2lYA239iL6/1TECX95N+xTa9+97CuJFK6bceCvlh6Wa8fk/76ZFMfVEH/z4n7Nfvdr+l4NKsuuH6+V9GPDcV0x9GoLnx/lzL33Kdfzr6qV7a2dHBsVP+6MavUd5/Vtv9tQytf6WuucZu+mWzrX799WqMHdqn82mUtf/cZra6W9KWxe/TBUlP79z6n3J4hnfnGhEpvvUO/XHlRK7WGjk5N6L+M3a2VP/6Cdhy/pmtn+vqtZkf7IzklWIdr/bpO7dqrn1RKZ669ouMnonqJJX/XD0yq9NUjig1NIAsuqXf5Re2dlb7xeEd/EGkGQbZXcf14ZFzbPrlP178Y1/ris/rdWEM1ZN/BSEo/pFGdH7lDrybi+vDaRfB7Vk+powxy6ed6Q8reclzFYz1VH17QX0Su6QXkdww+/mQ8oXtfF1N7Mq/NhTu1OXlIneUn9JdLL+vjt0b02W+19VB+l/5tPqtbL72mg9BMOdKDP5r6qSNpVa72tJy+Q390LKYXF67oNw++Vekvn9T2D66q/L2ILjaO6wvFuD51AHnR72h1IqdZ8D736FP6fmpGr8xH9NFyVfmxF1R4Q0aX/jyv/O0P6M/3rOuLr50RikE/e+we7furi5qonNLOOzt65gXpj5jb7ZG8IszvdL+mjaOv089feFX/I7qlT74xpd95pqOfe91Rder3qrde0sHXP63S31xVPRnVr11sahH+HoY2fyayTbljh9Vot1U5c0a/G9lQBbzsRH7/WPyQvlrYqf3Q3/7SC/rvWtAGz+V47lP9KQ3ff1iVpYhWzz+nT8fKaoDTSej53+5IK59ABj60X9eW3qj6ySsqPXBKj377qrWPts9J33rPRzT2yJ/raCyvCng5DZ3+y0xat9/T0vNP3KbCh96iT66d1Mr6hh7YtUu/0AHGL3xWOx+K6+o3s/qbsePac2JE7zsyrJU/fFi1PTM6V+5pYWVCb+y8oN0fha9/O6Hme9+h/339aTXbXf3f9zyo3X92Edn7XWlPV//umbaOx4YAVPrmcFZvnz6sy2e+raMHEtrKJfXezj2K3XpCkUvPKtd6TsV4XZ97squvxbtB557owpeZY0o9mNHmd+p6sv2yHrNs7UrbmOhPJffpkZFD2t9P6ODWs/qP7WtIPpaUv4910to3cq+mPtTSlb+Kqdx6Xp9GtrZ42Lj/hZGEYjMRpe4Z06UXDqs6tl/5a6/p1cNnVLuwpicu9XRvY0RffxB6e+YR3YGwi8NjpyPIl2ZMH7o7oeunk2qOndDmj92if/no14Kuu29mu35+blqNk49o70ciuvSlXfrG8LSO7OvrQ594p177V/9RsQfv0vXUmF58dF7v235em0tF9T/wVn3suUe0hW12z/iUfnFzj5KVb+rSckW/s1LSnbGc4gjTa2jJFw7froc2t7RQfVVHZtK6ih766f0P6JWzk2psVbV/54YStdc0lq/pvz3X1dP9FvrWlCH9s9isZrYfUf7Aqk5/e15/3F1W64b98pZeSvcM3aXPZDP6wXZMcWy7z3VXobuOsuDsI8iHid37tO/tNV36n6M6VXkaOVqFhazQY/rwOw/p5967oS89kdIka72yBF7/6C/1jW1dfQG+/JE7ovqVt0yqde3NOvMrf6Jy8qB+9e136Nf3tDTRaqh5+rwql69oc62k37v/R/SJb7ykVuyUvrTzsI4vJbRv67rO3rauLxfz+onHy4plb9VXXndA733sTxWr11XFdhhv95UGmj6fy/B2HF5L2YZA7zUSUUXb6Axw0bV9gWyKoGdbHewankmAB8wLcQnuZ0Z8TtOui+0SQ9P06K8Dh8Wgvybvv//OD2MvdbRn7jk9/MaORubaesvVnXplJK2T2bY+dPG8kiMn9FvvuFW/MlbR7tGcehslXfvLL+tCLKXnpt+stz33tHb/4F6Nvi+q333hFf3BE9KvvbKitdxuHf3ED+jAyF/APmX9wh/PamHhmiqb1/kOnLalkE3BKkRm+GWb0d/DLT71mbuv2D61/RjsadMBDWxTBrvVbfpMiFe4xlraHmbq3Dcn+ZOHwn+gH3/v8oztdMPQxX4zf9+00+k5fKZ7Xth/7std+DsfYsEeHvRp+zbc4v2mvWtSonsPE9bhxtQYy/CwfvTT8ZiDSQaYB50MnvHzXcbxcJ3okD7+rh06jCwqNyd0sHWr/vbhh/Ub+8b02x/o6aFbPqwLv/mMrp/q6zO5tI6ONvXTv/QRzX/2YUWmxjTM33JxSr/6W4/rh8otHZzd0IFf/5BOX/0feu+foFcul3XXSkRjP/Ex/cWzz2umsKjTc1ktXD2vVgV/xzACif91wXEMfLbhb6+D8RPd2toMyPLE/GqjJAJyjVio0AuSyiQURYB7SfpdEA/RCsMnBlEnuVaHGPpxnAEEWzKXVbTbUZLOh1EqiRRCLiMtl2taafIdAKKQcqtZVQIGMSCCuc0ENxfDJGXj1BAafP/PEwlt/Z2X4eUKi0l/noz78YtnoqGtHwpPDy7T2l9NJCaGm8/5s0ex8zRoyPMQyIAQ+cxDRlpw6kIHgz7+4f2bTpL78ivmZ1CSgSj4PiBlPjB+gJv7ht7d+TVwDAfE5u9mGhO7idBNBnMzQQ0eCITusehgMKbv8A8cxMCL/+yc7R1vaPdIQ7fNlDVbLGlzq6x6u6E2fQ95DNpfr8RxjspKYvxkMXoyQJbNjqiUTqtFm+VWS7FcTtt2zGB+RZWGeLwW5WhKX5nfrReu7NNIpKhatKOvt1J64bzXLqIm9BADpTlgbKEc9jb7wQkz2GvcMKwtEJSNG/Ke6tCChR6+BsJtICAsAO2oRJmk59nlfgZDugdcLRyzDt9b3NhEODaAKU5PeTy1HDR6bSinOvc6CNYodNkBJx3osQftfv7KsJ44P4y0zepquqvM2io0j1HvfrIpFe+9Q01o2E4fXanLXCLMO4n2jcD4fegjYSHmyfC/2eEteKKtb7w8pdWylwXADDN3o+qilHE8O7XAO2OGEvgDHUD3TE6lbksLGBUtHmMKgxfPW0Gku0lVturwGP24R/6zoDIu+kmEWYFxUh0VWO9D9+0EgVHN7II/GWP/hHkhqtnrl1E+LfA9oMQC/Fd0V+sRZYDLSj0XszVngDEYlteVTdIK566P4m7A+yWUWyKdVGSsqCh4+v7DX9XU2jo8Lg0lR8LC5bPA3K0G3k/Bl0aqxzy7tEo/fMfgamZQinjPpkEIPbQBBUrgCHWQFWme21YgQNSMqlZvYdy2wV0Dg7Wh+HhU9RyxHJ6vGT8Yo6aFJZDCCuBIelIZFGQ8yLDAo6xVifVogh96he6hu3g60JWVidusAeM6eNqoR1Q6h0PL/RLIiJuHeV8GwH4hkIt6Q+BqNKttM8PqVKLC5oRGYsowjg2A6UZd7SCKBgK3hdC9WkdmYrAVunUVdo8pW8Ag5RXnmWJhWPF2U/m1rnK0hR3UAQcrTzyvxpPPa+TOI5p+95sUPXJQm+ArgkPZqYFXnLQEdD27ZxIQPWBfq6xxtzoIZmSGmSe0UMWaaPHHsioXRY6nMzo3NqUtaMjzXcOgXlnECQUP6Ym0YkUMrTz4g9bx38PL5Gx6bsayajQ6rCmca/oG3eZjy84kwZYtaKXTH8iHJNeCwmYcVgoscg/eCTTIc4GOvf6duPpl+KvaVrPW1PLVNcWS9JeKagu8rbQ6uo4siuSGlLI+4kFrorLhiSbVgSYTuCsjyYwaMdYZMq7FkSEFZDZwJ5lzPJFUfXJE+UM7deV739fK3z2t3K0HNbZrCj5pqkF/rQb6jEBTuwcdYnVlkR9dyyR0XD6CjIQfurGkoiMxZJaQLawF41lmmdNXRnCUcdg7XEBcKJ2K0EdEc9dW1Vlvqr4AL+LnFvAOiszCBmuS/oFa3UxD6aGOivQ1wnUv1oh5AmfaBuQGpl6OdjYqgx7kPYXs6BXpLNfUFDi2E2x9AGjq1ZA3Wz01iIhdO7OoEnMagncmh+GtkbjGabN3bRkaQNczjwR07mBPtwFuSxisrGE8GUN28xkBuF6tQpcYsGC6Qfsu/JdFJrTLFeRdRdt/4A1qvPSqWnMLQfd1I0logslAE+bnAjRnXm8zl0gUWYwhXKsr9NUBd5YFCXh5vFHTFHOYhNfyRfCDbLt+flXtLTQEdNqtRcDRQP4b8dnwbFWpqSZT76kIrH2e99BF4IUatM5abECX2U6TgPKAoJO0IV7C2m6pP4WG6eFAIEfQuEEeQG0EdkASNNErQQ/w1MbKphW1CsUkQS8CjFnLZuBGLwSbKfADfMazcJF6beCAANv0a16x3kBYoYMw/iGQJrTUWmU8eMPX2wRPLdML73qTelfntfTKa8i8gX4gbIdz24H+3Dui1nI4Z55nbHBnfc+SBOfPHFJo1jXOHKeG4to+3NXYGHRJMGzs8KjiLEUn01F+PK42PL4IDbhP2zB2PlJ0FIHQ0tvAB9+tXx2AsI2yDZhtV0yyvh3W306bx7eOcRAZ6w45R3AWodhBpnkt4sw1QXDYOj7aWRfLrD/63pT+9OQQzg/P00cG0jXdbpQdcMdITWFVsj4tdGI9nVLrtQuqra4pceetSg9jaxAAsuNUj9WVzXX1xtkVDcMzUdZ73+6obsvhLBEF7gHXpuUDui0F7mxbbCHLa+YdaKfLGDF4uI6u3zIvY9Myw4AL876D7g3uZa3/mYvpqscEmjwfQ1DHWDfThHFjWWA5y1dsIXiX/ksJgo8O8NH+/l0EsYrQE33cOr2qD01fUx4oOsiXFg8lHzup5tXrymN7xMeGwSs4AQm2H+JD2aArKo52AlMcXHeQieVWV/UWdhWwNDGy68jmICGBwzZCkEy8B1nNNyYBVFz3mvorOIuDf79CcoCrfufxcN/6lUfC+tpe8Z/79RjBxnEnfhY82xkLdM5nP+P7wTHj/s32vuY/9wMgf/8K+slj+1nGCe9+kLbA6KZeL+MfaAK9x33PF3iWj4M+uduB3zwvPxRg5Jrlc3hx2faC5x9gZax7D1V0994SSQY0E/q3kkwEm28K57mDzu5uVISaDPYBKinMNTozpe7pc6o8cwoa6ELDQMfCdqEfv1vKJBnD64R2U7fZ0usOpfVP37qqtx3e1PBIEfoxxfOM8ckEAv5urJXhN01hZ3UC8u1N3nwZHYgOHRgm8zWxBoGi4FFwMRRln8jCRg2DFwXag9ALGARLq1Vl9syqcOcx6cJcMN6iEOVZ+qhV6RdjYhsabVehoyrEGNss6eNviOj/etdF/cSDcyFbZwQaYcHRMdgAHIjKk2TBBwtqohu0c3svjKG+STiG/+YzJj9weuM16NeraEIK3jlCxRGAGIgIzhwL5Wd9vwdSjTh/98tC28+GvsMdRI2JgH8mVrcKTzCgM4925jowUT8Qjse8AQtj+v6gvZ8wsVhgg1fefcOL5fthaPozHjwPO2ye700HNdB3aPT3+AhCEmXh/iIo2PffvapPvnVZv/Shi3rLIQtGxLzHQHj2EfZ+TaOwIzB2D6dcEYQY5FTj2QJr1F7d0MT7H1KZKP/Kt76rrXZdSwiKDMI5zdq/ffK63n7bJZWiZZRhTg9iZNxzuK88+MvWEXgY2x3GmoknmTf4hWqH8XjSFmbgJAMwVeMJoi4woVwM89k4BAMJhPgEKEncWI8uDGCnKwmcad6zjB8BHxaCkwiGoYA0DBKuEdTTlUxWdYylOFH9DAonnwNPGF12Pm/LEdHYhbIFVwcxYq7SJoJy3PGP369aMh7mOlHZ1JVoTZsIfFUa4D/DeFlN4hxYJixkwEGrqtJaA0NySKVGTJ9/lghuIwlzmy69XiAYpeysYAZHB8yryNwtWHy/wl+KeWYxIJOsQQHj18ohvGhTh/G7rFOikyHjhcZkYK+x6Tdu3GDgaBMG34yrypp/78svY8iAvxqR5waObSumKjRXLo4qwfzS4NcRQ8N/DViSO+ArHKb6QjUo/yj8bcLbtWdcERR3e7GlxFBGQ9G4sgRXmt9+WoWhIU3u2akZ1rWSSmsFenaksbOJoiWD1cLY7q7XeacvBF2SwXaPF5gVJn0NGruO0QCdsfzMIx7oIgijyoZirG2GebWxUizYI2SQYlhJtatlRZbTimOgZZbb2gk8I0nkETRj5b/d732M16meUtlN7QIXpifza8iiQxOo+IDWErQQI5o7YiEPLu0g7cf43slajKZx7veijMnKjNOvX16nKfrKVMEV3nOSNG4LJ8zc00d4JxNkLjbb2kCJV1MpzY9OYgQwNv8MX5b13p/GbBiCNuN5lebXVMcy9SrXTfvQcRNjZBPCb6JkLWssWVbWNrV26qwipYry+3Zq6p5jyns+0EqMtWkUY1pGmSxep7+mc8p9jaGsI8Pghesrq8CHhnfAIg6ynWm2YxRfW9JotYTDQdANkkzzlx9KwP9dpVjPFNZbBMM8nuMGBoflcZ95RMBTAmOjvYqhxRo3mKMNMztga4y3DCdmUEsp1q+JYbTq9YU2nM2u8X2L+dUrbh8lU+M5Mhfu1cmC9DFa2gzXL6An9o8oVkP7ICdgMc1g2O3GORAGZ4fnwgvWgg2Vw2mPYUA30UVlnFYHFavgIo6ci65gRG1Ch/DoKpnw5mPPqokyTeyYVmpmQvWLl7WGrirZYQUWHlF3tash8JUuZJUjyGiZD4EpWSQrAbIiCLCEAyJE2INOMm6R9SnoEUJShrY9ZBOmOfIC1odIsoW00nmkziR6IIOxjhyyg2O63IDGm17TMjiGtqx2bFwY5+Zz82nWegHcdvv0zXXTtA2Ypscqk+3tJlRCvrZob00BOtSE3oKBzfuunZPKx1Oqb8ZwdqNaw9Jo0nZpeByZw5zo07TYR4YGY5m5RFmjBHLQI3ueMeC0vhvGQc1OJsFNnhwx8u/secUf/rriD5BxPrhfuckpLYGHbAM6LDtDAR8ih8eyrBb8mqLPHBmeHAZMGhq20c5HlCBzYp52BBPWD9gITDTgEEQoxTySeXgD48j8EYxE7tuAxZZXGxkI1tAd4JjZ2NzctNND9mEc2FkyDHlo1nMFd5YE8zzRrKUxiDPwBnUUjNNjLS0TVmyk4Vz3CvB8lmtEsg7etYusBnJ2o6O5En0BZx/ebhaQJPTtaaDUuMbzpE7iVFH04J80AcEkvOPKD0dyutBiDFtoGCgS23FnkAkpZEd+YUHXXp1T9i2vV6TSVPniQtDLLQJUMZyRHsGLsE7MwbYFHgL4ge4gEtsZfgU65n6VNWhCE5A/+ghbpEXwYQ2dcG1LsIl6XGusgxfgHYM2TG9x5tALciKF3oAnN1kbHLAk87F9ZI5dIKjaj3W0BIKrQGP97UB0UHRca9iZwj6MN9CnZGTbwGZ8ej1xu9BndiBwnAnimbdDBoPnGA0nBZqlvy4ek/nYwfoUNJZB1s49/ZK2cF5S6Kf8fXdp/4OvI3ACbqNk2ys5/c0lsm1k9dLQ1tlL0qvoor4NCLL++UoFSKFHaD2NPkoBbQ98GptJdEsEeFPQu+2HLNedZOjynoYWijiAKapavKYZJySYqnGEtxfWMwI9WzYaRyFYCk+moAlnxA3/JAEBshPgL6tTV+N6tYT8wBm+uDSuhxd3YllgxzTbmkA2li5dV/P509hCXe390Q9o9+vvVnkI/iYIHiVolUyS8cfR5pEgl5PQUgK62trsAndFP3L3graNw2deD3gjvHizbh3oQK/TwFb290H2yLTjRwY0FUUGOHjgtXYXgc/4HjJsyCx3bVoJ/ZnLbozjAE/oz0MHeUUbhIf7DbLs5jt4CTY19Op71gGGz7KOr+FekEcB7kH/dpC5hRy6IRN4xjDS++B59wMc/jOteTx6Df26f3d8s2++DcZjzYJD3alreSOply/n9RtfnUQPUfVnecHc1poptVsErrF/HDwo0NcadqJd095jTwYZnpjdHqq62sgx00EdW61dqwUnDa8qyOse9laPOdy6uyXi2rq0AV+QmEphK3hehtlOsOcD8AHeAY7ho/HJSc3P4yAx+S7GKrMM7e4+0NA7j13W9qmkLhOlZQSiko5GRlSp0BmGk6OmWb5vXV9Si+h48X1v06Xvv6j0mYtKNarKwvAW+h2Iq5cycmEoG9iUyU0XFjCoqrrnoPQ3X11FWBouL+oA8QOEAi9wBaT6QrgYGkL8JgT/j8UKwslT9cutwxQCEQXiAA63s9ju28sNKGbxeSREAkCsCc5GrxEVSjsRmI4iWFB4ITtcT8B8JhYbXSbh4KCBgz5a2Ej20HZ2Q1aOvjym2wymBJHwr4Uz63duhfueX4hQIGxC3+6Pm4Y7rIkVuec5aM5niPV/4eHmPO1kOnqFNeDnLGhB41e+X9Sh2Rhee0Ozo4jAXIqo/5ASCOpZpMlzrMVZoqs7RzBmiFDFEZCOiCVRPIs4JM1vPaGZn/hhbVxdoEShqqlsVrPW/sDQ4fm/W92hK0QW70NINns1fa+a1tgF6XCcDEWip30Ixh400wCYKGuUg4g3MZw7GAA5CDmOsIwBcwdc1VBkoBT6GjAYxKUaoYo+Bn0TAs/SBr2gGv0Q/AuZD8ceaghTwOVFJJX3DIbMGqL3lvX1QFN1ousvLSSQkQNFViKKeqVGtgKavC1O5mw8q6G5axjBlNvcsgdjp6cr5y6pNjap6f4ohvkStEuEkpKXeAKHkwyg1y8LE8fiBcWJYK3T3/bhRb153yZjFbQE3QxoEzyh6Etkp5qsi42HTXBng8wgB5IB31a2TfBpYYjOuiH84DMQUkfJxMZRIMyT6jngwGGhXRsclrA6duyNqUTZZf6pmHa9aY8qpy6qOI3RTYZqG8buBfDW21rVOmtQAxZHyHM4I+gelZcopWpsaXg6pSPFop5dWwEPVT17aU4nKPOLDxXVWi4FAb6IcXj5Lx/Rrne/SZ3RYY197INafOQp7VwHJqBOYssmcy0c94ZSk0UlLxJBrQ7mfXZuTQcoR0uwnpEdZAkvUz4EPF0i6y0UviNgERzIVnI9OJWbRKrXSwSBNqEZAB17/R7F559QtJhQhSDRIiWg6xgrztg4q3oFPO3Bca6dT6rdKGid4MEW68UyBVziE0ATGBOsbZp1q0dzWu0tg00bAz29zPsKJWop0nKt11o491ldJ2BgWen/XWWMTg5DA2swAh/FwHsHOkqlMCYpU5vJ9TTK+kyWGtpz6VVKpwhm8eeIs5X5eSKe+zbM1zX4LKk8hoKjys58OQvXgL/t5NkhTTFfwFVxOIc/0tKl//ePNPHuN6h+6Fatxi6DtxLOGI7AvEvYmNM0mbh1oqjQVRtjodliTeGp7eAmHZwIG/02XTF2GDcKvfZY1wzPNnCmrVR7BC3ayZY2rxNBZJ6FEjIsT/bElrNxCJzkS3F8NnHk4DAct8k16AgCdrZ5BzDvwqE9jRG0Ce03CWoUmZ/1iZ3AAnTXT1PWM5PQOk70BNcu8OfIc5ExWhusA8Z8byuua4urOniQTA/OSpMy0lUMnEvDw5QbtQZBHQDCfQiZU4YKxtUYTmMqBcaRIX34vIdh2B+paHxbHmM6p53jI5Tj3YbxhyGEETx0AKX6xW+rMDmsyaUy8icD/aKbDhCoAPuJ1ZoWrkPYzLuHnJqjNDvfoboAvIJ+xaEN5wIcgHDWiVbKwmOWv64kaYQqMWc3odEqGUMgzuJclHiuB9CW1T1wY4VegXsogMX4QrfQp9fexkcTugSDIVjRQma2nfFFVni9XOZtZ9TBjAiOfRs4uRMykzZ0UhidDbImDpCWifxWyWLkEI4pBGgKvMfpY6xcwglBF/LZpoEzPB10Y4w65DR4cta6TP8O1luGR3M4JgTnRh3TqlW0OEypF1nqarWixqV5ZX70PZp9/EUtPMt8qUhojFboN6Ha8haw4lyDx2VKtnYzlrMYE8W2RpmsVTP/RzfltTA6rvIlaQm8tZzaAo/D28gZXiP7M4vMWsScBc4u+PBrk/WOOZvTYK7IEWeYrFhTNrLJIriCx3xonYEvSIk182Nse802oHORmqgqRQa1KYME+8YH/Y54jZDzbbKd8Smy8jj6r377vHYTTc+Q1YM1KVFKqLDWVrFaJotLhgUeyIB7VzDsYL17G/QHHvsEDoYw7LvgEGEUMr7lRXATH1bz4oaq9UVt5g5qGXorfeazmvjFn1Vx3w7ti1KWS4CFshWCQA3l8WYSPO8MH6UoZPPQA0YRUTrTSxxcmGK8trYbXO1wMyofQ0ZFgAM0h0wJt0N7ljY4xdY7wW5ADpua83kajKAvcKhJLId7pvMp5CqmKnNkuwFzFYENByOMM+vtjjOl6P3IJGEgcLsT3m6bdsG35U8DnRtD1vzs21eQG85SH4RuyXszB2tV1LzqyNB+hXWBMMLWB5zkHUSa2tuGtfbaOQ0f3KPqfSeU/u4m693QzFBdH9k/r9ipfepsVXRgN1VaICaKKdvGsepgs43s36sCAZIW9N2pohdGCBYuLCt+eK+yu7ZTLXFFhW3jGt49i1N8TXUqQpicCgRyuvz1KadsbJWUJJsemxzV1hLaBB3ZXaXCJOMACfIV+8hB5xRwN5BB+ZU1snbGFtqACMID+8naodNcVbSbEsb3TW4qewn8GPdUM0WxjzsE5BY+97BG3/p6NW4/ruSXr6HfYAJK6ly100Dum86Nyz7VTF3k+Ve+n9WVhYym4LeRlLdvsFzAYSfJNq3tWzvX5guvt2nCtqW/D1aOj+YP2vThgXCP+1hhQb8Gm5vnnFW1bLLNHwWPN/sd2Dm2Zdx+MIb79naTBjxvWedx3N6fbUtbnwQHHDBsy9r+9fO+P7CBbWFBz8A1CMQMYA4wQf8hmwbR2U53exoF2Dw3jzN4ebaeZ5gqILkv2hlGX/MNKmTymRJrmNNoBn5lKSDPgA9MZSXY0tVHn66zZiXsn/HyhupnzmltY0sz9x7X0IN369r3zwUecqIgQ+VFLEVAGiMuCj9mkPcRy20UwsQwwfh6TC9fJ0DbG4Vx52nDOiFzzNIDp9aQB+DCWsUzEJARZKfCBoM/92GoV+YzOr6HLMOBNgY4hgRC0EjvgZAynn6PMi68FViLSNEKmZX/8oea/Hc/Q+nIPl340y9i+A7r6aHbdaSd1caZORUemNT20bLWmUB1a0N//OQ2ar5L+ulbNjRSzGhh1VIAxJlIGMeIDYtgNIbvvAfCAoNuZ0R7IXh3WxtqNlrdNBCDRZW/c5cHw8JYebrPQNzcGRCOKYQ+6SssIAQSIlP06TKcQDDccwRx4OFaed647t5hTBOcXwbFC28g7KA5AxclMu5/ph6nvh1iCSWUxjPtbMAZTtct+93E42isFdAgi2ac8DjjeKYm4oAH3i3SvLA3cREIj0ZeS2fBzq1Sb76V1Y88sK6R4bSiQxhmCMg+ymQTZzACjFOU9fVRshFwQ84PxZpAWUU0cfac5sor2ouDNfL+t+m+q7foL7fSupTZ0CwKLgl8txVXNU750NZqhfmmdGKIvUx7EVYXo1rAgniN6MBko61J4xK4SuCRgA9GKQKHe+dRIDNEI6oQcR5YIhiocSJJDgDEnBlD0FUTlN6wYo5OtRDUadraiHEJmKP5dvyc2XHGzCUYgTb4vgXO6uk4Ea9h3RJf0gZRJ2fuYgi0YyNbmk1XVacMbt96TZ+njubcX39J2z/wNo3eA9N97B/pyUdP65mZnTpB/5nFNdac6Hm/qAP5ip5gQU6Bz7exZ7JKiqo+NoLB0tFDx9a1VB/SAosSSrqABlUQDO7qFvxCrW8eAetFQ8wO6BJaysXSKHbWDPBDepu1MM048tgnEtOcK6pJRq4Rwsx06Ib8NV2WdgE6wTEqE7U8d/I8zjNG2xI8hhNdpbSmDg22i2TCkgh4gIny3cbkKmuQpHRohE1rjaWGLuW3iNjWMSbimpooYMBvqoJhF2GeqQ32qWAMNjDMr5x6JZSXjX7sfZQAsGcN5/HBJj1if60Ska3iuMQX14OT4PJUR1d3z1Kmkbmm6nqHuZA5Yw9I3MYDc4gwJ5eQxpAJSWgtz9QyKOvRIUr+cOTmnyXr8dScJjFw8hidKbTPJJFyki2UG1hcS7PgqdwvEZkyD29ihDWJzIMTaAVG0A5ocxSaaEVwvIhk5tifNQXPnmd889Is/JZDCbYyGJqTZEJbpZCNu2bHH/gd1a9SWpUjgl+j/DAGzFn6WV5qUf4LjNQxrqEkllIZXZzepX1nT4dyLtOxswE7EZ0jyONFjJkWBm/bWSngcmAmTj9p+DUObWfhgTZlnC2U+/jkBLUUW2Sb2PPB/ropEqfjwDIcHQklc9GZuOqn0+pS8spWwkBoLu21gVCM50SCW1sWSPBEkHfgtWcZj5OzZqPL9IPyrEMnS1eb2kW0e+Id28HvHMED4B6jXB0ehM2RP1FdQxYOJXDWz+QpNY3h7GJ404urAi7RqESeZII9kg1obqSfo5QMRmd96uCukshouFxU9RolfGTYVxjbL5ftVphXZoIART6vIg7MHUcPqvbyAooMmUv0fwJ9U7QR2KJ4nvnbwLQc9P+70IMzEw1Ke7qsCUOpRylninVuYVBvLFPCHa3r+goBgT97Rgd+/J0Y/1e0OLek/MG9apFx3qLDPg5ju0Yfl3GUoJMOjsG2cRbsMlwKDcz2mFt8BJGFQTRMYAF8N8hG2NAHVdAy6z++TeXLF4MD1ug4swau82QV2eOTQBY3riOfqCJxqYtLvV26w0dKm1DiOIapMQx8cObIvmnajm+3V9cGsriAjEhjJYcAFXIuwZoO2yAkCNYkm5BjnfxMDFhtXts5TMPrSBDWCvfEhgOBhDoOB9txuIo+x+B3JtKloHaS7VRS7YbD12UfIZll1maWbPtmZ5NyM0p7YPAGAZDoNGWA0NYUjnOU0tnpN76VfRmf0cwnPqzNkSnN9a5SYVNWeoVxgH9ke1GFlYzmKVmcnXYGf01x0qprm0nkZI29pIMMTnKdctbhivZh+I9Rshen/LKHvFi+uq4hsjyT1HnG1gk4sD4RZAeSMQSGm8CV9/4wNlU6E9QGV1ABTgJZD/DMtMO7ZUXQk0HPEiSjTbcHH2y5rCzFrh3L7IGOXWIdWjijPSqGReVrhvLDE8cOafMbT1FaibNWAZfIlk36LyGXYuZh1sPP13BQrmKMJ8gwpq9Qkk7Q4eIyu2NN8his+6DzlLNxXYzzw1mlX5ymNLynHWTzexkyOs++rKH3vFn9K2XVfu+kautlMutsM1jcDDrUfJvBIY8XUqpdgU7QJ87OO8jkDI+z8dlKWcPwxFVsDWJ0sArwQuOpYXTzci0E0XrwfQdHClcoBBXs0NmKaUPLTQJsdsr64JnbQVbYPli1q0s/TfBWZ+4kgoO+sp0EObBbGllcIov7EnzSSelFKnCsxwKTINteXJhkD2mT4FdMldaQ7j0AHyCnnZmNE2ENWxWig2oNBzWxl5WvoeffdL+OPHC7Xv2l36QCJkNJ5iSlmRjBcMtWO6OnV0Z1G229leYKAb01dJLLPJvWWYyVe8t9OGgEZDYrlKs2Nbxrpy5+5VEVDu/T5InblD9+hOAQdSzwfIx9u5HLpAowsmPsretQNTT2Pvbkzy/hcIB3xqfAQr1NgjrIcgedEwStYzhjDqylhofIaFOJ8hwhP/Rik7VFY+gqe4/6lOXOgNP1RlavbuV1Z8TSh/kZ1iMH1Joa0eJfP6KRY7eQhZ5VjUAeJSzqwsOd6Cglydim2G1t1jmG0+CA7TfnDuqRV8fBIxm+zdPgms3avGwnBseFdbKsNPl5LXw9LCrXAmnA521gBAT4Y/BnWsKY9mP8538DGgjryGe/u0fzk2lrYH9a3nMVGe1/TQJCf+8E0h7+Mw/4nscaJEIcThiM4T6dgTOcloC2ZQef3e2NfhnLrUM/AahBX/7o/sKMDNONftzc/gQo9mNhbLe17A28TuZsdWtId7EP/lPvRm71jsEvVMPQxxXKu28fxyGfGdfIq4vooKSWyVK+9O//q/ayxaCwa1adFc4H+IvPE1S+BVnAlg1svG6DLKszryDXgX5qDEPGtlGuU3GAOGGfZwkdG4Jh6E070iGZYifT8Hp+wGg8xsvl8mARDbQn5kmg6FYrMfaKDHGgAeEbaiZbTJj8fJhUlY8dhJFfrr2PY9jUINbqI99V8R0PEH0+r5MQy6SFPYN3Gk3qN61IicrBhEms5CwMNAAQIRGQN0C6MW84jLzwzyvBy8augQsOiCfg72Dfd70sYQEHs+P7APm+6yn5uZsHawxIctCnewzdIwj8HuYf+oIYQWxYWL6bAUOkAEb/X44VzzqlD6oC/kz0Iapg4ud6YAz379HD//zFyOXdY/DPX0yOAURfMRB+Fng8H/4LbR1pCNGt8G0Ap6NlHhP0mnPo+gaz8TXgBsH47qPLGkVYlDGmypQHiAxQGqOvu5DmsAuPTF00xlSnRWYTR6iNILBbYAUzXClZbKjxZ19W9I13hw2QhRTlPjGbZIwBsS42c9S39zSNweXM0KVKQuXzjjxSnkRJwWGM/UqWMj8iP6HEC5wWiT617ACODOkogYEcOG0jCEGYoru3qzfH/iRo0sJ36OgBbVCnYEc3Ae7i1OoSqgUBMa1evEqGjwg2QqTGGEnLBjJxacYcGi5oeG5Rp1B4FDsRAWadMHgdfXIUer06xLNl7aGE60XqumzUODpV+/7psN9t6B2v1/rZMuVUkDxr0sMpSfN8DIlvs8DrMkw5BKIzGKfPXBnR0y8fQjGmtcU2ENuQpiWvjx1P7yXrU7rUMLxEYGyU+34NXqhiwIyy3lXaJMFpHp7x2pumMWXBM4KTvSVlImtJjDuPbR4IETBqyHIcZFLH8TSN7tk9qdTcOtE6yiswbIfRIsSQKYuo4RS3MLAwXFEH3l9URCv2q5SdVlpq7upqin1QfdeawOveH7q9wZpkaEuU1pSyAG0c+MQP6+yffEGJZTaUo4jGiQynic57Ti0MRS9Pgfq02GghRMcbCEFnPxc3q9recX8Jjc4Q8b1sA8BUxMsyAcFdGRpVd2hLDTY0EzxVqULElTKiYTJ4o3fOSCsXAo7ibB7fRMlVlmyQDhy7JeTJwQiR0UVKvBo4LNyBvAMerRSWoK0pYCS2zXpifGKMpR1ggh4t1Fd5d+Q3hpdLQQAlYgkH+jFUBkGdHLQ3hGEbxfF0EGEFulhb3tRujKRtZF4niRIXUQLbUKKTNQ5mcEDGSoHnsY84DIf+MeKSGIYxxvUtR+nL1PhUiLj60J6hEXiFlHAKuTvG+laJ1kbgi5kf/wAKf1hLZO1WgbVEzjjF3oxJ+K6IwZRF4oeyOjq1sT2IZOKEIp/bCNYQCeR6nPXzy/sFx+Ehl+jl8GDzBGd2Hmbn03wL5/6yboEfkosdjCecAgw4G092UF1K2muy7jvy7K3DqSfrWoC+V+GnIvgZwSFaxShdB8ZGe4N9TY5qYhCyFikb0wX4cjeZYOQSR+7oAjSFmEF+QCPLLBZ0tDbX1ULpMvtkybgBW5SAQws+c10/mg7gKbeD7kBv4AObk3ZHksgbG4d81Lm5BW0nk58p4h3szFLVkSCDTKbw7hkMxp523kZ2+RvPqUeEfJ2DRlCNQXZmsexa7CfDTFSKMvw15Ig7tIycb+NENDjwh/dUnYAPPFFg7b2WBgRSUaFKBpr2I3YKcLRr4K/NWk5M5OFDCj5n4CUcxyY1MpvLDs5Af6zZlmljjawIax2hFrHWZx8U87tKny1oGp8NHnPwiRh8ZD3cs86pIK8LZTxbeGEV2nVo0zonbEux4UqdVpuOhqDP6HpFm4s4yc76k57IgMvLs7sVfz6GTuY5/sL+XIJjlDfAJSk1CZJ533CEvzQ0NrQdBwFZ1Mb4ZccRWEEU40BXwOPszpmgCynYIWgH77kKYw+BAoivRPBqg5JU88KVlQ3tJjDTIYuT549dvxi0GC/8RYFrdXSCQA0lhWvsc6Na5zjgzBweV/uVBbXGyciCtxJ99pCbtg98OEoMx7e+5mAmB1PR3nra9gQkSl+G1bIA55Z1ta1iyGPQa41Ju80YV3KUxDnIHPQ/6+kDVxLcLPC5TmAq18pq/txKOGSFYDrtQBgICI4fg9VccQQclmUOxhRwzmtLrAW8lhpNasfEaLANXL5/nUALrifO4JCar+L0tlfUyhdU3zmrQ++6S5c//SfaNTulkUwRuZKBv7NqUuY4yoEpCcopsfjBJ31AOwmcelQceps15Lv1goMzxv9Gs4I8AKc4kuvI6eQOZOMSDjbyZoZ1a9rRxXMjUU6JITwA7A4AO4IZo7SwV+Yewivhfk0jxhvrxQyhjxv2F+PZNrFNlGLdi9BVJN1U5khV3aeo3AB/wRZDN0W4t4Sj+plnd4Hrpu6/bVrlNVxi8Gd3wqXx0+PmZewQC1/gWI/ZKeFgp6sXtUyJX3L7FKVmBLfYB29nznu/hrE9CfsAEY6V4SYofBUG4XgDaBG4CA6XNxrKYIRHCTaYn/vIzSJZshbr1sRxLi+uqIDy6tRxKCxTTdzGBbhpsL0jgu7PkVmrEaStr3MgF7yfKZDRpMokXciTgCGkgtxzJiQ7AZ9QotinRDxPhYez497/tooc877kBP1GCeZZLzlr5vHYkq6N+RUVMdqntk3geMNJ7LHzVg7vmzPPtuDHBnIJTIETbBAWI4qzn8AB7YAzMIycrAae97Ya84fht44Mn92C9fC/UPHlteT+4PNAztn+NF3BPtw0psKH8BzkEe65UsXy58atIP/cr18eywHzYMfy/SYM7sn37HyFsyUYI+gp2txMsAzs3YHdHirJwI1xFOC4AZe/m8YHfGp2c7+8GD/0Z1uJNfe2kZuOnmEZzMN6dzB/9xNsZHyUv3gWR30DfUOq7N6drDftu9BYBpxubNR0emERh5isJcOMVdlj7wqHB+5QbwKHmH22PQLrPXRrkeSVpYvLwdtsgXA1jAPNDpZlyOAuIQc7bAf78Il5/eYlqqluQGX4HbC1LzGw6W+sBd85yA+hAkD0EpDvD1zXZHpL+0ZBBgScG8W4RkgkCI2YPBYxEpMo9TiRngKIju2YDSeLrfzVVzX7f35SIxhx2x87rZNEnLpRjCUOGEhwaMQs+5uuYmSaGT76Q2xLbi9ps0RUscfWXiLeft1cdztGJpwA2g3YLCRCWpQP/sdaByTbEAr/IGQvkonOC+JpBvEAsXYdxfHEuGai8Z+N5wHhuh8Whb+QTePd498kAgsYO0xe0AEhQqC08cvf7Tz4q/vwCCYQX/NYXZjRLd1XF0b0t0B0XAuNecY4NaxG/ADCAZ6tNW86fZ4X4IZxAM6y4AaxMcaNvgbwBRYJ7a5vsBGYqPXnHkuz9yGld74ZZ4H9Li4paxAFch1BhyxChEi6I0KODFnZFbF0Ym+4hzLGuC4+/DVN7N+pnRwIEqnXMDx9CAzGOHPJx8lQ2MnGBfKch1G4Y2M4IBzCsQzOT0PwJ95xvybfdDfROiLmFy4rxZ6lmEu72PQaShgRbB2YwcXoceBoAl+Dg0s6r15Q/s33UVpHGSblhjWEV6KIU8XBJXlKC0bm2NC+tqH4MIYY+xq6hIsjGJZblNhEec9cwHlbZSO4S2wwlPD5dMjRbrIyhrfDvoBupwLDcdhGakw7f+bHdJa5lk8+r8PveoP2oNwe5WAUatiwhBxGBCcw4nDWAgAmZgG8t6WN09tiT8XFVULSNma6bmtV5rUya7KiGKlpAvE9IpXeYwTHcR3eAP/2S2sI2GVKG/bzPkhvm74caIXuLCj6IxrjZCFUJX/0B52Y/moo2TxrlaCmPYHxXC83VcAJiDpFzzxHiNSkgckGWx/HOkLWxI6hM0GbGMxd1ijCGseRPIuUbUSdtUTxJFGETQ4ZsUONn0ImiigpSrj8yHe0g3Wsbgt5PyLxCJzIGDNBRrCmdXCzTlbL7a3bnFm3czBB+ZhS1xRlnFEcaB/ZYSVs/nZJo7ki0axhVJG54DsVLJplw3pxh3Q5jntN+c80dNxhH2OS+SZxTLwnoAydeZgRPqdR1Okp4LzIsMzR3OeAhvnT+wlS8L/LtjBZggwxGgMDMp6d7DQax9vE8Wl52Ugf8LJ5apk+6hhl46MY3E7ZjVGmiDHVeKakDpr8IlbhJhOm0k+NNKUv4NdlDh7C/G4ZEMfR6bL2k5w8GWsteBA2Iac0PEQZLKK/fhn6ZU+dNfUqTrrXOJ/noAuidO3nzihz+aVwymmbewXKjjoFMoPAlmTNwuEr9OeDd8KeJ2RuDEfAG8WNIf85e2LJ0CfKu4gxOIZ826D0qkZ0d+4CG+mrGW1//S4OibmmzBiTha6rOD2WNZ7LRf7qBDO6c8CG406eI5RS0g0RcxvN6ZABLrKmGejRxdu46YFXkuYdDgtqLhMNp49ljFSvi0s/7PAOT5FxZS4ZshU7Do6rcf4SzgFUhSHfxOnzOlrumx79nPHassxHEcZy4AKDbIy2lsGZPIYSAY/6AnKJjFmPFMAywYnSc5eVfZ7Px/Zo5mM/QDb2FRyfYUqC5kOmEKIMNBPWi7mm4U2/IsBaRPm6jNv7z7pZHGrgtgw17Q0EMsp7iOwwGRSgMJYplYlpdDSjxfM4Y2QykliLNRypOBkeHzgR9AbvefpNQUPp8WZYp2HGWEXnUpGMc0BZHnrETkUURnJUt8+9NNn/FPyYtOcGLGN8TmCYdFEQdnR6OI0tgkG9BfjxCqVzRLF3TiOLmNMI+CpC50euX9LLNgx53gEKB204c0f9OiVzBNbsUKbJfvgEugZ80yZDl4WOY1QI9Al0WPZlfGLq/LpmPvJ+dDky/Myr8BClXMjfOPixYenTTlPIFE4s4GAx9lngkafBZwonNUZ2MexzMiLJjGYIIBWQV87uxdlTmUD2XeZAkBkO3klzykIU/Lk02SsDKGS8ofEu+1GpvEGTB2fKNG7c5rjibKO7XuN7lSh5AdyuWAZy1dHxLDI3NcYTnOzqwz2wHJGrrCv0GkfOsBUTec7+T8oenVlKIs+SOK/DPmgHR9fl/86EmiJNDbYvbGRZ3maxzLzPugqOKt5j6owduMjRRwp7yiW/OQ5syljfsrYRModbL71G1G+IbBlVDJw6UsOpqhMsiyfYNrDikk5gBKfew5ZEnzcu43wgv0xP1im2P8znSXh3Bnm2glG5i5L4FU7IiVE2MbG7QKl4RXFn7thP531b2JEhaOjtEnnkaIwAS5pDgVqUwLaYS80BHsazHsvjAPtgrQzXvTfaLGH7xLLWsryHDuqy37lN1VWSLKstupvGt/lq8AxBA3DbwYEdYo5XeSbFvtAOsK9QlZDkkA9HbeLInmGCElHsguaVBS2wbWbPj35IJbIVnVfOqc1JjB6X0JEOcPBZLBwG1dYBtnG8gzlkcRbrBL0qBByjZAwzlHNvfPsZlclw9al0qVOl0S6hczrfgT9aqmLfxmwLM6eqT2+l5xQ2yhjlumtPnlKZ/WAxO4Qc+GQ9X5iahPYXlaFkOjNENQGnmnaxT0YeuBMnqqYtyt/aU0eYNXwJHR61jFul5Byaz6WqZFDRtw7iQWs9eDe+uQG+KUf/qY/yDp4vXAAUwliORMHmtU2CHGRtrVGCXcs6xMCZ90lyyWKatXeAx+8DmuSjSZrxbfe4He2hb/95v7ffb8pT85Tp2DRk29XXvXZeN4/ovsLzfLBt7FLOm3ccFLJ9CymGl6+7rV9+c1+Gwe+Da/Ro+Q3NhHuhLU/RNtj8PG8eDZVzN/qhKWMM+uIh2ppPQ3fwBeMDs2H3y86jnUB/Z7ZuHtqG275H377mYPvF0qgunUqqiLy+fYzqBBp5u00LR3+EjPwU9s5aa0uTwL+QH9HEQ3cpf9stWnr0pDpPPqeZ19+p2PfZZ2abj1LqDSK3aU69TXKSMRIxyAOP9cWXd2vuOjYY9FptPs/YniGwMh63w3sA0gvmazwUz0NYhtQNQjSeVTbDTVGysH+6rSU2zFlu+dhMG3VRmHUKodNnUzjzDgZ2l8jkyBuPavXPvqLyS2eVe9t9ar94XWmiq0aATTlvmu0i+Icom0jhCHz1+11dWdtO9CBCjfliAMaLOvCGB4g1kfhYf0Pnf4AFLI5T+oVAguDCwRtGNlduOk+BOEIbT407/s/EwLsFnD8bMxZIvuk2geAsYMIKDh42aXryLhcwoQJBIBhf9issvnHC84EwTRD8c2nagAmM5KAuwnfj1TgevAYL4HmFOdPOz/jl59soTiuEsFC+yNw9TmgR2hkfCDnwOciasZjg2DgIL9o+exlhwx4oZCttYrr7znCuZjAgAgKYR9Obtx3NJFsSxSAq4XBtMGzxAgaSMy7H92ts/y6TOGl5TuyDCP0Cg7hoTjhhvGDBVzAaU5yS1MNQjbPJ2I6FswkZasQLB/YQ4asrPz1FgNE12lZU4BLB5DK7NvfijubDCF3qzdvsVcKLDLXn6/MLGnVJ0zY2/VqxMOdmjRIQaDBfKIRSxi6RtHDyJ6WSFYRkDoHZJ7IxD9H0HgAAQABJREFUV2dTZ++aDgDtXXeB6ScwtBGU+8g5jxbtRA2UjGFY+MZ3Mf7Zu4XBbEWawgkk9oZQw9khNOksXSQyROkcyITuymSRExgxa0RExqaJyhHF8tr3cebi4ZQmlCrrUSfKnnJ0hWPDUhzf7IM9mm3UFrhZBqsF/u1BvY6gPHKUA+VQXDZGvf+oyxpGjUucnhQKPOu1Zc24HLIk4TQv9hWZJ+28V8AjVVcoZ4xaxl3F2F9BsuehOdOwDZIQCUWwOtqKVwz+4VHwkEEg9TB2IUItsc7H0zi17C21UDfJ1lmrhVfPa/tb72d+GJrsA0jj0LWj02F/TB/aSVrJQB8ZoobexE5o0wFQZomDghHozf4eFgwG5z4GLsxXga7NG0Q2a8xxk0zvRplSuctJTldkT+D+MSW2zgZ+j6EIfBqiT9gzz5m7bET4pKwEkVmKFjHqB86VBwv8jAHgeWGrgDsEMett5WtkmpUdXbNj5lKaaJFgBcb9GH36WSuQYXgng2Jsl2j8CkYLZaBX2suaStY5xZQyrI2IXuKgkxyb20bp0aW2Tu94XnGAHEbw9xg8gcBvEgyp4Kz7xM+r0FsJwz0eHabElIwYFnmUo9F9mt/QXRxn7Ugxn9fZ37B18hSe7QmohfFZVxv1PqEuhkIIgSBogMPtcKxyROWghyr0SbWC9+xZv5t/m54f+wrH0tdDiWSKyHsPI2ZkG/cuc9jPyYvaizHTIeIbwYnwyXgsW6CdvRhmeeRlHIOyjRWfYR+QQwVWQJNI+Dx9e48ky8jacDoh62j56Cimy/DAHkahSYKgDvA4H2s/OEZEucdvZzir5dLO1aUK0eCBTHOpojvMsoGahbhhDMIT4LQAPNjUyFNkdo4sBQEFC7pNeKDBQBGM+4hL45YTyhKYSNx+WBNvvFUn//pvFX2qqlF4wLKmAb+2UL51dFNhC3qHPvoANoRzYuIAAugZmQX/ec9KBP70vh8bJ66UsNFqGuw62IXccBkxU8Yh4Q7w4IeQVWAvIIvQY+8P+/uhicFcLDFszLsUr818fBKejRO/qI7BQCYKC74iyNcEHbkc0oayi8Wsw10N0uXQH0vkcCgF/RoaG+8RZFx2Ms3pkBiOtCiTjSKJwJM8z/0WvGa6AdPBULAM8J49LHbagxucdt7MMOx1IUDiAeHXPln8GOWnOdIddX42Z/vdh8LzW99+SrVL7J8aeZ2qCxzeQoatjVMYSt+MRGBtI1cIDweZjR/uzgMOQWv47MCGTwhuQdsVMlfehzs2zclmPYxgDjjtE2XJIfexvXk0pgXoqk1pdWwdwmKMCrC6K8uXTeRaiXUbJUvuTGEuwemqvbVwz2Q1R8vbLYvn2JrRH6YsCZ0L/ryeLpF35L1EOUbcQQ62YhTAZfM82Z95AlJkdnwq7zh9NG3Q27aB19roa4MWZNpNY5g2WWgpnNCLrDa/WC9Y77ehCVYXnuAb5YtXTz6rIz/5o5RU5rVxZRXHC5lP0KtKiWKWjW5xqhL6dvbQdy0cV+/rCc4g9ONxw8FjLFMpV9R1uHCFNV8k27bIlpE+gfE19lduEcScpVSw7wwoVQ0+dRO0BVvCsNmFqpBVG2NacfRDgJQGth+cgWzj0C5S7nccGTvOmjqL5u0EKXiB2BUHcbC/cXeTXBYl6p6lBYKfN60G7Fur9rR3e0GLl1b5qRyXOdq+6urANuxKHKo45eHmMwcv1zikIbFnjw7culepI/tV+euvK/HMcxp68zjzRc8R9Pjm1WmdoNbYB2u9eKGtbxaoaCArmGCdhjggaGrfAa09+rg2/uZRgjrs+0PXOetJMQKl38h9iKaGPra9hc9IJgN5ArwTb3odB8KwR+hLj6lBNZgPlBnYetAI8tZ6xyWA/Aefm27Q8ZPoKqpQmlSSTU6yvxme94xfPsNJ2WQjt4OThc0xPco2iTewB3mSQ41E6XPzyCHNHturNCWX8//59xWjAqDz+h+Fz10uVyJTP6YZH7GMbvG4fZzEMs4lgjPIDRDNf3Z/B/9sN0LC8DgOLp8d2PK2Htu6thsHduWN+QCh9aMVRXiD/nkktL3ZzhqESzzntfQnFpvG4ZPh4bvlvR0qmob7wa7lzqCNh0Q/AI9t8GCncsP3PIZJIxzEx+OewU3b2vcGNrzH8Cg04N1yMtjtAzDC1YCDwAkD2N1y8PIoHuzvn+Vhpss2J+bqmZlO+wSRXKpseyDlIAWBzHHWf41qsQ3kLzsQlb73dtXOnFecn/2pMY/EXcdVeOE5aB2dOczBei6RR/ZgpgT+dcWhbfQFDtiZrxJ1xrbwyd9ex+BvgS/7CEabZTEICnM3FuJT1Ni+9irMEYDnGTozAi4sxfSrX91FJVJPH3gQcU20LmMvH+DnOeI4yl6gGOneCQgy78gYR5yO//OPaB1CHrrtgMbZ9LCawKNksDobNXv8HlKcWvIFjNqG95YcO6HHOTykx/0Iv5/mxTCGg0FkRQA8NjhjGFY3f2fBTfwKCxQEqIkJpY6SMfherMHzJkA6C4vBGw/6mUAsNwgzMBnXwrA8Fxw7nhkYi/ZqeYbnBynQG0RHO4/je+7xH8Ls62EfAZxq4W9QDY/79Rj2lF2b7WfMHP6jWVCw/jRoMzDwA5w2jCDkNlGdhA1nVtvXb3Qc3ry4HssC+ubLcHlu/rOqMQq8HRc5zD4UokjAF6LovsHn4gRRR/ZlxJOjGG84P+B8B8y1xL6hVLuqO372n6AEMMNKFfYelUNJicfyUckLNRyZ5axG2Nzb4NCLSxiN+7B6hyHGJk5FnxOGvDRdBGTz3GV+k2ghCIoeRlGXgwxSOPWirGBjY4MMF9EKYK5eI4+A82VcZojGdl65oPWrixo6tCeU2iSmKXOZ3aYSm8t9OlqUvuI7puAElBhwZ85dATiUMXXpB+fnMYT4ran1lp78VkL/DEWVxQl6HCGZKQ/z+1U4fUjmBpm38suvaZSoV3rblGqvXdH2xevqspEYcUI0GfpnTlFosYmiNN68lsFh99ogFFs2Fr0MGN4RxveamjZ9+EaWCGiMk0qTZAlSVSxK48+MTX919l1c7fNbQzyzk70eq+ZErzN9mQ1aDUqSrgyhoBnTlh5zdNo/7IVEQYYIFryYRZENjQ8zL06oIiqa5XTIcTIshmksOGEoHAsEOvAJiiTWmBP/I0qZobQsHKVvicKCVXCUfWKV2i4GYg+baRHBPXL8FvUP7KZsh1MCv8npWZzmmZ0gSpnKkwHB8CA7ZdgcvXdmDOiD8lqBdnYTzEngtEVTm5SbMA2UmTPVwXg3P0DnzoY4I2YwxjCu09vY08XO7i4HVaTIBmQwGpzIzPgzY9gYM6JMyjAbypXyL4zoNGseB3k29Cz1Qlkh7adxDs1oHJwdSh0thG0UbNDHFvcTKPrONaxAThBcbZPp41oP5X2ddaxjrWR2Qcz76HshpiMndqj59ZK21ik1XMXYJWZURpZt4AikgYWRgpHrExK3cKDa7MWI8ltSPdYkT+ml4fAes8K2EQIGNa1fh8Zo58xLiXl0t09TCjeprb99LARF2lOjRJgpbeG5JDzWp2rBxoQPbDOvWDFtYIxsEFCp42AkyPB1yJJscaAOSVuTE6eBUmQIn1zdtV8JMnHrOLNlssqLZyPaT5Z995t3kKFYVn/BJxSyn+YMxjRrY35yVrCT4qCXCtkUSvvi0Lw3t7tjGyVtSsPATpi3AwqOoVkuuySSg84xjpHzKHUHVZrQLasfouUOznUQYj5kJG7nhftxB0PsDMFrJWhtmQ3bvSb7mECqHRIfXWw8xFyDStlgjHLqIlkV4zRDtt7lQO1wBDoOMWvXg7balyhJ2pbR3oO71f7KE+zJ4oAR9v/keoUQEBlCN0WGyBpjbrYpG11ZI3sR5CsZCBRukQxejmc6JTvZ/DFTn4rroKV5KrtBOTGZZP/uERdwaDDecOiHRlJkdllvTuuMYBE6mwn5AipMwPrVWLdMlfXmGHsfduNDQ6yrmAovOw7wE/hxO/98hEnaMr8GsrNkO7sEw6roZjsWNm66GBVRnBpvpu/bAgWeCE5BC53dgN/XCbgY3tIIlSvAblljY4lEUDhmPEK1TIo9yM1Fex8BiBBUyU8MwW8dNVYIDtC+RaTiyuQexU4cVenzX6V/jGwCEOPIqw5GcpfTPmKUJDu7vomMtt6pIPsaMHeWtUWcMDezmjWWyZdMB7DamHF2v8aBF10O4GigO7wVosEhNUgPbBBEFKhzMGWYcSxjIgVCNdCRM0j+eQLrJp8cmsE5tKPlsk/je5r3eWjSejPPGJYEvSkCePwcQYF1tdxwOZLzcAmUSYZ9J2UcoTpO+/nla9rBpryxMSoEVggMAojDd9kSjj3bAqxjXSKaZh52PLvoRKY5yGpnCUJhKzlL6P3qLfi0g8xsUmbYR19sMWaVg9n2vvmwMkcPq/y5L6p66gI/o3CAk92gBViwgk50dYh1vbORcXR5ByHun+owrbj0zXsyTT1JjE6f2Oq2k5wOav0czXY0upvfS2MtsvzuX3uC/dxUjyxCw7YrfCCE8ZejeqPAYSfJXThyT5k+nA0Ep2BrBHxHkSEj6JMUNL0CDusQo0/MtbOyarmLc99a8W4wfooHXIRMPgscAkj0wVSwCzJ6lYzuD9+9Ry9Cu0Wfiocuv0xmKYq8b1o2ENzwXqhNdEZ676yKDz2oChm0JhmmTeDdwLYokTWdzjb1nn1znEZK1INn77kDeCn/I4agWhHHBmfJP1Ow9OxLoXKBVkHXRtHnHtM/QYGUC4GflNcGOnU20g7j2ENvUPm5VziI5DUSv5QsQqtePxOsSwsrtCExSSAFmkU3O6Da4rCQ/K4dyvAbWFhTKlDq3oVv7jtIBv0Mm0EJhm0fX9dH9yyyZ5CTZakIsWNH4atG3nSvNr/6XVXJ7vXAkSVqhGezoxzHFK1qjpOYvdhxxqnjwLuMfYRMY5VrFa8TP70RRW9b5loWBCsVhEdZIwcbrCe4RR9MAdqwjWjn0omJkAgB30EesN7Wp7Y5B3YGAXz+2SGyqvEr2MX+wNgDR8kdD/oLNi4NQxDLl3mFfnjevOfPIQsMb7rfkOXiXnAaLQx4hUqxAAcIpk3o27h3e2Dz3NyPPxuWAQ0PZKNh8jVuhX54KMzLWcgQLAAmw+j7bhfDPotQDTBMn4TksEPhY4SM9ydGOTwmGVnVCBVRVRILWQL/q//zEQKCae04epuqlJD7YLMGtB9l//fo5A6SCNg/lB8vw6M7CIQ0yHqOUsZ0eWkLe5M+Gcfy2rO6uf3J5ys4OOd5BfuducU3+LHCUJ8JcsJEecRGZY1N0DVOL+MQLyK//B4WERvWH4XIb2dgOPXYQ9JBWKwjBNbIulTZULl19jKKCwLFq3dk28YXRRvUL7NPif6rREMqOGc+XcrpXJ/aFxAc4kkB7eG7DVs/G6xTY9bT4Ds0RK8DpBsYI5cV5S7/sEJt8NKQplZuTH7QACJztg0CpINAfLQJDhAEZCUxeA5EsfgmkBv05J4C0fq+4fcdOzZu4FIfRzG5HNp5LEdAnV4dwACh+ybXQybERMm94PAFaAy8byNsYSgziedn4jUB2Wj0HIJjxjVj0m0Nk//vOQcC5t1zM4O5bNKfw+lNCJ6Q9qbtAAw/wzxgbB9JXwZfnsN01pkzDpzAgU5wMlQHArEhlt27ndInysfIrK59/Xva/Nbjqh+5U/Ok6qPnUKz0ezi/pjv3ES1eHqE0I69jTQqcJohmoTQmgCXvqBCvtYe/iQL/eohGhdIyIrEzrFEbQzFig5P5WsAEJxzjpApsCWq8ORhPDYykBjTaQLi6xKL8EtKBZTabVo1/rwcwW7n4o+kpvrzKD6H/pF6+GtUbzlV1jA3Md95J2csr/k20vt7ApszC9iU153GcrHwRoiN3367M7h1MLKnzn/lzYMc43XVHUDAtaLVCn3mE5DRRejsUm+yJiUM8m9Sh7zlG7sDKMJRFoJmpZY5gcNuQvAxtV1jf2gL8AuBNR+aB3etVB+A0pQicP8BhCj4QYkjbya5cwcnxOroox+WIcaLgcfaXZXnGpyY50gdVOVAf1rPFwQcuNT13mdIPfugpwrzX2bj12gK4p5Ezq3UiQLEyJR0Qg3HnMpI4xpRpGxc40CgEagIMPJCm3rLGXlEXU8aI9CSY78zHPkBIuqISm9bnXruIIZLkZETDw8EEyxgEpLT8I4rLVzjEwtEh6NdKwnsYE2SPWqtElSi3slLBrQ6ZLHOsX/69oChlrd5YD+W7qk7L9JljH8zQ9DBOLe3BY2MF7JkvgDvwKh3Y54piVOQ4NKDCQUVVH9VF/yYUZ1Z8uEISxbUCPfuY9yIlTpPctYxxH6PQ4gx9NtgvkdxP4OCxLbKtUZ0FEqo0B/tiYAokG+WJmG5rUb347ctkmeqUOYFH7Ng8CtYb+ycJKJTBidfYL28Sn8Ra65NtoF4Ux39VHQ4d8WsNI20T2VinDLBAZLvCD7jb0cg7mwmPdCi1Oft3J3Xgba9X5hZ+cPirV+FP4MT4SFShJnDbJkPawYANL6Y8Pj0SjsXnvAFOFMWRZY4+KIFpY3ginzhdbnZlXruZc5oN5isYoVns9AZlQf0rlbAPpccpdM502hi2zLDMnKGPBBmz5CyuVp39pmAjKDpkeZp+Y+DdhjAoALGY/zzD6gf56jIbHy5QxWFxkMP6xXctpzd4lgMNKTXCMN7AMJwcUv0K6ww/FXG0QItmKPnqkb3wEfzbzOQMMsLcS5yA2d6khKi4oXlyinRIVoE8EdluZyxb0FykBGw8l5mdJtXDXquXzunoB9+mOietjXaHVPjKWQJXuNA4NJ0NgkjAn0HxTiDH+pdwVJj3nuFRzYztgL7PK72DCPhz8BPBkpt7Rx0o2KI8tcx+2vLactALo2R5UjgX169iUeGUTy3hfLAdwMeKD9PeesByxBnHWIryOtIOYzgT3ufkAM2UDbMuP+WBjBsOuOQetOy1sEsyxpzSOzjggENYCuzNs6y3kQyqcYigO37DMHENZ2x+SyX2fN15EKP66YRumWGel5Btyyuah2/b8FcS2WOjhK2ril7BEYpVVBglB40stIO6joxc2NpEtmIPJDcxQOKaLCcpbYW3kIlzT77AQUq3K3fwALIBOwFebl5mHzPyMT/GsfutNNnwumbZpzOSwdlaoxQWZ2gZGppgrq6s6TL3LCdIOqvq374cIfgwxGFEc1c5kIrgUYcS7gyM7pNXAQS4MNCBv49R7P21dejLGUUuIMtYe+idEB8ymIoNsjEtnADYlCvcgBV90qbbVxfRIfwcAceUhEyKnzVNliC84TFwSvwwQ8bilomdqn+Pw1GW4Uto7zrwD6PnKpx82nU5K3gCjYFu/SPiiWH0GyX/Pfj0/HWCzxzE5Rr2ts+SJxDQI1vbHAMeTob1oSg9DqWK7tyu6ty8Fs9d0DzecjvhMneeo0zZlQ/ee2nZaKenTga+5QwY6R/TkfltIHP4v6s9qOqwo9FCntoG8f7TLfYe9kFMncNY0hB6HOMuHE5jhICX8NMtPFsnaDNcxrFgTmY3n7YIoPAfzjn4XORwnHWU0AFo179nWGEcS4oRLw1wNJETPSoeysgB6zmviW0rl92NoscyOBRFnK5N0o/DEOwlApz+va0C/Boqm3ik62oZVmi3M4ojkzqCPbP22c+zp5n9tm99MJRd5tGXtUpef3p6Rse6GTKhWT32TFnPUM6/F57oAscMcGVxJiMEgK3zTDtwCYFdAlfYsg5GW+dY760zWQdXLJeGoLUoGbDG82coceZESdq5GsCvLrDGeGYSOh+QI/NjHrbL6vxQdJofXs/t363EdYJCyFE7ZN9bgEbXevpBdMiltQk9gy38ush1zUL341Qq1Amm2rlbf/QJ7XzgBCcSU2oJvFGcXdtmhf6YDhrBHt98TlvT6tuPleAVwo3A+L1TCT17eiCvTQ1eVdutfgW7d/AxXPd325P8xz1Las/bNq5nwXJz7WbSw/YrrcJ4Zh7367bWwwjBwIsDBwk6CG19y7rXMtLPGr3GlJ8dyDDrAD8TOguw2n73nG7YzzeeMQxBX5gWB0/feDcMAzhu2u9hdXyRfj1e4AhPxgAzUeMrHHbi8aBn/7RUn8O/opQN+6cxyihJn7Zq53eZ6qMsdNl31QB9umQ3AY3YdkpAg1VO1nRlA/XZBLbtR9SVmvKB+/g+7E1uQOvDbIdpcx5DAkdvYWEVGwU+gmd6vA8cWuOftQS+gFXkpe2VkGwB7vgyR4qGSZsLvVDc9CT6zVWqGKaIzMCs2DotwkAJDG7/Ho49+Bh18t4j5Mm0HBm+Rl3wd57ULR/5ECfeTGn7915C2LEZGSD7HKvvH+0rogj6KJM2Bz60ECoRkENKLgDqBWBmwYFh/lwzOF5AC56BIvdnw+Z/vmZCCN9gqAC+4QaRYdHpzG29RFaiwcHywvmJQEB8hgmDUKOdxx70TYuAB8sjhIUdSZ4KmTie9c3g7N3o25fcrUnQjp4JNjiW/kwbbgeC+P+Zes8gy7PqwPM+/zLzpfdVleWrvRNWtDCNEEgIOSTEyAGKmJFGOzEz677sl439sCb2y26sYjdmIya0I7MzK40kNBKihZBAIGhoAQ10N910VXW5LJOZld4+b/b3O/9KRq86O1/+zTXnnnvu8cdih47NcShASKwciwjkdf8uccjoPhKIz10/WmiOxxUd8axwsO1APtsQdpwMwsOxSBBDOAXmfTRdWhGML/J7BU2ANV9GQTSJkLzDEtkL+9VZ/haZEKoY2uGFC+nSxYV0+J3X097y7bSOW0UFDfY8DHYbLQLJZNPfbp0lyLeXnqMuUYMEGy9ySD2BdnYBK9IA5uUITVt1fCyt//XX0r6BtcKED+ddWgYXkLbQ5qOlxyXE+BGAEGMaZVw5hUsYGTdEl3tqfXVpNB19kESesRbSHHM3cYaarAO0h10OjRN310iNXU0friGowJgssxk+/41K+s1D4IH16qtkscwdnEwfgg1yExv4XsNdb4JDaOPzX8NvHkEBYpdjQzIoCCyMEC6Xud4d8Ak4QphNkxrWJ6ah5t8CMqweSEAaag4WLgROTKttQTNTQSM9QyHYFvDW00FNq1rgNgzYISn7b3DtUdrQIiBehPDPXFts9M7WPMKZLBnHFX2LH9ADBL2s7+IM8x8+SBdPnEq5+k4aXSBD5kQxPU5Gvy++RnFqXOeuo8EWbhnRis2FJh9CxMHRZy+W2cs0TBcInlhf8ljNymj1esSC6n5zBBE6Yp4trN26h5zn8Klj2YhsWuEKxjrgV5cnzmceC151g/g/D3UUOPsIIEUsZ8MI41VSH3dpT6HaNbOOHTITE4ExxuKi22UNjf8I6zRCbBcX0j5a1pEujCJGrS57WURC98xeYm/wfgOaVSLrZxtmHZSAuGWwUg8lLMlByTW0WGjHtL4cDc+mzfpKaE6ld6sIj7eYe42MmIXXhcV8ukEqtH1wixFgMcA9CEbJeIbBwwiJ9P30xTNp+4t7aDkhoqjaZJhcjx6KKa1luhCq+ZTh2cRS29/FisTiV4kVMSUzufs5cIkqOD0LXDmUKQQ9BENmbGwbJrgPE1dQO0em1I3bq6n3+nWW5hRuSOAfZBMPQOgrlho8FPJWXQaPpc2rKAv2gNESavw6SS6M+3Es0lk14K7xhvsYmGzBhNVZ+0OEhtPsgQGWNrYQFgt+496siBtCFjCyeKteEE2sQU1KHeimpNAlHTJO0HIix7TP2MYK6ygdlCFye4izlSmSzyAY002MQ00/IhV0AJqG1b0I43jjyhoKEDSN7P0jynlss+9Xx6dhRvDlpx8Z4xbrgXISphlrZRvtd28szVrcEJrRVJHhosH8mF5cKkvXqXPrXmpe3ksPTeOavETK9q+/nC5vkXGzhEJqfwOBBJ6ZjdkGTlpqYPtjbh3msYcr19jB/TTOeNrregaw/4GF/di2OFdrHBJT2YwU47rKbGwhjJIy9sy52WD0audx3ycDaX8CeC+zTzhbzOS2ThuTDRMA9NI9xoJxGMGyQNZD6d1oOsE8aoG3xNWylq6zGfY22SsTd/BcIIPuFnSWY4JzRvoDU01ikzZ95R5CsC0vpOlVsiSvLqcD6Nrrd4iFAz/rMzPQFKy8vKJF5xC6coPFf4wEQ0NXRojx3U+tC0wMvNAdOLIVg5sdMif2UFz1iA8DDSI5ggW9GzfuwkguA5dHYHYotzCH0Ae+beNmuoNg5il6hzTmj7GeuWFqSs62cPHCDYwdJjoUmUOTWMgV9w61J1ewRtXZF4+/7UxKr+2nkUXERywsFlY3s6YnqxkWm+DEEMK9+hhdniPsAeKo9Uw3bl32dXYoQOdM7CPj4xlhjTAFCctjtGHeFVJEG0mRPE0ft+DRPcZ8G833aC/dWb+X5ojDnZinhMm2xZ1h4PHEqLVx4gUWCkFlzPp6JUyipOrBiFc533pj7fT0mZMonmC+WT/reh6tmIERp8jNe9CH7XRQQttOqAfYlDZ+/9PEMxEDjQA3WMeqAt1vI+DVpnHf3PKMJKqPxa7gfp/HQ6KLtKp7FUdu4HrQd9YzmGVmFIIbc8xR5katXijjUOjkWYcyL5moQ8VJG17M0kcNaKHKrD4ERnuJ+1u+QjpgMefhPElqgGeZPnBwzZ5h3Lo/gp3whIwRL5H9wQExbMATumCGZM+VHvvo40/upOce20sv3HkUVL2IYhZ8BWYV5mQ9UDoEVghNnDd5aP6ducm0cOsyf1fZ22T4ZBq1xcVUPhiFhzwkBfph+vjDd1P7tRoKpXZ66gnuI88OIdT0ofmjzMeVrYLv599+msQblNJ46+O4qbNmKLUKxPXmwc/ywxdS9+qtdHh3hbN+OFz8K9Q7LECrFz/+EfS/8CLwMBaZN0lOj+96DnQpJSGMPcv6lOAYwKAf3bydRmgvv3kLfJLHbaSzxGn37wF/cGtx9Cg9PUfZkhvwPfAZA+ZVRBHiHhtFibS/cj/hNZ4mKWfShx/LY3XtImje2QY6KCiJckhNXEu38OjZhTm/OFNPzz3TTi+/gfDNmRX8orygCM3frp1fM2EIWs2+8hM8dzzj/+Slpek+l+GP76rYDcME8+MFnuOH78Fr+ga45yX5VxJYQBcyRa90MfhzX3lAt+xPBZLvRB+8GEloaCdT9MHbQDttL/7n7xhf9qffXUvPEt+P2zFen2MsXKcLNrs8kvO26wfPczn4cn7TGc07twrhW9AdFKrWgQ1vDW53Ge8kCc5U2LXJf5CDwMvzq9zs4gU08XPvTzmSH6698M0098NvIxYb4wo7QC1jXusyeKfi/kAFvrwtZ8UoYTJrWNCAAHtOmQS+xzk8mJ/zVoHivPUm9OwqHpCVLz68cAx7J52v4B8JsfGhPNxTBWd5LMV0xEYSgGj4BYTuEJ3d3bT/55fTDJqfHPUkDtFOFq/dTL3qk8SRYCkQYGjZHXAmfMBcwPC6IAEnhIYANm2pDc4WQQDzHoPynpNxUZ2M17PnvQdB4KILFt3YoAvGq/Hhus1kiwlQvOM1L3LH944fVtrPQ0gC4bh7LMmH8MNj4qcHoOPOns0QTSAHAWMEIrLSfjYex8ciBPcZvf1g3A7cZ0Qex+Y8JJB+Yq7MSWQ7/sR8Hrzj9RAWnTBr4VO0Fv+3l/gqqYQQVNAgCfcCjFSPGJcWrmgFtHHrwFzYygS3sYKi0MKFElcNAvZNMLAGcavgc3v1//73aXhxLr3vv/8v05//xT+kNxF63v0GKa7p9xeW7qSZISwlxFPNkb778dH9NIuG2wQtugyUcCGsEDfThtjoRrIvwjIRrTGzHA7WhAD/cQcj3oPfCkQVDhCTbRQI2g0iLTyBNxPAysSzrhFMfokACgy6HGwwJlwLCwkwA9rpALfZ3RvLqXN6Mu1i+VuiftIvXCIA+05Kd0in+DRJMGpnqFGyj0sAwk8JF8m90mwqvEmc3Usvp4WfeX9afe06inYELRiWIYpA7968k0aJO1giWHqIPjcQbFoQThOZyARompjnEH/s5G76q1ViXhBWRdb7aNcOYBh375RhhLG9QBDC7YD1UJPbQvM7BLc9wiFVJlX3DD7mWuFkfsOSyLzhYFKvogVAHMwOTVddomHh5z5udWWC92+ubuFygmvcNu5gWERuYnnSFeo2e7ALQ15gvn045QJ9omuHKHHIMD9jaRZxsxEfhHMQ+DEO6uU+pRJgatZ6aQqYdjmQ8mSS6pKNcfihs2n9+grWAARKDvk6NVwGBO2by6u+LttEU1hFAQG1sUj4g3VgB+3xonIrc9ByYJIHzfvMKrRvXRhOEJu6cVgPyNZ4uAsTIqNPxrMWlh2L+ML3UShUOiLq0w7/9LS31qGxNabZVjvlj8sCisDcuk9bBKgj0rFmP9wkPTfv6jHg3hunsQXhTRDvyFvq6d6L1OjhzX/gXeFccZ8w7g5wba3CEGKVWL+xncaoeze9wLpxaN7CGmD22QGJIVwnmRUggiYWwgw+l2aABbXeuhsIyRVKFGgxRlO8u7WPZbFI5lATLzgmOc1Rkihtpa0Xvp3OI5ytfuZv08aVW+AI2mDmMoRUX0YQrnEIHJFiu6W0xlwVKKrj9MG8WqT+h1fB9UqaJzg4WGBUZOIKMKNqwhuMQSFfja0JHPDl4EGsgwjHmZuTL3IdHGpyOPXAcfQH4B3r7J7kuvTNNY7aOoygAn71WCS89MCwLL5A91IT9jU26ZYMdCYyCXoJ3iGDkRgARQ4+bj0khVNnp9MegN/GtTSHZW+GfqowwANqbB0yzyIxRrqTiVviqynD93BLOySuU9w5wsoTsVvMKae0LE0Grk1q81UePU/sxlBa+V9+N41fOpPmTk+lbawJFfxEZ2SGoU/Gy/axvm2SlEGYmlXT2kWVYbK5QdOK0DtyWAEzz0thk9HxNnRLQUc8rBAKEGcAFw52oC9KcWsoHRDiNYRM885V8FMNvvXjkMEBQjvNAI9J7qkUmIIGs7PCctaCPvZZTN3tlASF/RjCwPRpakHx7PR1XDRZSOHKZWgC1mG8BSBqaZOEHX1owTmsXWMINqdwZytABwdYwt6ETpv5UFu+lgtdvK1BUkDoLxMnNYqyUDrkRrJ22BFnvsqjEhoOY+EOiYXZX76XZj71C2nvM19InRdfTsPQQOPjjIPVTXkUpmeMdnYR9udwIyXNBVYR3j2g5iVM6xRj1j3X8i5DJAWaB9bG9baYw+hsPr3xndvpFDTm4HIDN06Y7gNckICxa6oXwQhn6/AUAi97Q0EPxArcUqBkliF4eqoaC2sc97Hycw74DnE+jpEh0Cyp9xCmnCdYgIUEvEY46eOKah/DuNwujuFO/zqSOR/D8SylYC26NmM3E2sBgUeaZBmaHXA5B91sSUMR1NbvbIArMSAY7hEEvNnU+eZOmjqHGytCxRghAVXO4OrsNDGkMOTTZK69cCZ1P78MotMZfNghWngzWULImBaUBUaxQSZG96LnjxZe2EmeRYggXtvyHCoBxxAoR3Rvpyj2BAkrjnD3LaJ9bWF9r9A2+sr46NWjB8+QzfuP9nBu5F42brf7cSzoEXCzL3kQ+TXnZtyZKd67BEv27gylWUp+vAixCMW4c2eMxkRtUBn7DLFYywiud27B+NJ/i3ZcI1PsG4eugGntRQF9FlfYWwD2beD3xV/4yXT/9/4srf7BH6f9j/5zSBj4SRz3d+5Pp3l4l0neXcPfdwflgXsZmwdKZNpk709Sl2rsQ+9N6fpyOk0s2cq3v59a8CVjj15MNTIsVuATDp9+JLWWV9IQrpBVErMUYKhHH7vEukxy9uiqDf4AnzYGDQWykdOLqU7NK7pKI/MzeBBt425KWQYS3pVxO9wf34N3wPgB3bJGq7glf6KVzYyKxgz7rueEmaZ3eW/qn3483fkf/0/cWNn9z+AOC0zkOcf12lmAN+VZExK5Hg2I7GdfX0wzk6xD/z60i9aBZ8ThAvPgUWNv0T7jlZ+Nj2vhytJ3uMQLb/ZHrBHrHjd4Rj7UZFZxyvI3xJC3Mk4Tsg2tyeYD1QnckW8OoY3r8RSDMZZV/FDIswmVa47R/jPe2IF4DrNHmavP6gXnfVHP35EEkGcC3/jtw9Il6YDxx47D+QVQggfgJeYhvI8tVOK0bflc8Pw2zzn4qXfdTAu4+d7bgt4Nz8HXGoeJwhbFZY/suPK+OLZj4Ufxx+F597d/L50k4WHtsQsUlK+nlf/305RhIHCA8VThiwaEBu1B+444e06Av13qp05Qrmhj8wYWY+NEOT9Yk+NzQ1kieDr3Nv0WwXMVWe6BYgttXwYFhi4w+CWAisTjxEO8tENa2w7SOywnft68qLk23pMZIo0+SSX2tzHR/tavpNKtlbRFUpBDtIxduWcGXQLJ3aT2n4dqDhDgehBwMA2iD5GBoXI5MgFMpkowZosiIJXGRRIJiH8D8jjYRJUAOt3onxwIQDt+MjSS2GYLLcMSjERMknk+eOp4sRyf/sQiqc9l0r0aowyZftCmY6NxNZ/ZvQxZFVrhfeLgjHcBulr5TJB7gDzHyM0cQihj/nwNAmefMWjHHvf52+/xf0fLTJmjIw+tAG37URsebqn86UgCdsKIcX8ADdXDZ9AKEDm/TDbBDWLG9KWGwwntmAuygbtYDyKqSyZ8fhxiFdxLxgnsNRVw/+IZ/MhZX5jz4dn5NIR2Rg/7Bu6pX19FG0VbTxDcutHbT69huTgPI/Akh7yZ/1pq9ck9vMsmaBOwP4Wwdwr4tTkE2mgg8qTlqqKZmnVdcdPoo0EynsNZkrs+DuDau54irm0DYgirx70SVqkSSoDt63dwr2rhogbugF+6yuYQmvTNb0PYOrgCLGJBKcLEddBmvLKCaxYHJSxaukntvdUDUuDC8B0hvDYRtIxhmyW9f5sxNyGSfbRqE7jqNrEStuGoPHihn8AEQQBYVxAuOzASA+DgodnHlfEX3rZKlsG99LkvsqauPe9EmmisY/06sS2jujLyLrgh8xpuY7owcshYEDZS+7KGoQDgvu4+7h+LXxtEHgIsoBHPxZsjmLYKwYQD3G4qJ9vp5AizgzDMIjDMECN1kQDrUU7oh7FUfwP8riNsziCUu6/xuoqshxI4EJkMaVhzHDD4tIPAWUEIH6NGXB6XCewdpMqfJC35dlp65mEOr6n00u//WSrg4jg88Uzs2yKChgWM91abFBueQuuDHZF5qnHcwAWgC6Ea0XI2RUweeBaMBJOQyEv09ZWH7Qr8LXEwm9o8x2HrDh6GIW+jydZ9AH9c3gW/pfAgioeV+lYFziKa1iJpr6MkBNNSaGdwwBrY8twY7SkwdImXCMdC7mvVIZ9HWmEgE7xPTcrQsJPQ/AENeOBeyhjLaITzcC/I0LghIuzeNFE3+ACz6e5T4JncICkC/aGoh+iCI9CTWzDlz94j2xupjrvggNplE4K4X3vQPms3aWnOsZZDzEPlxd5lgo7fuJzal86l6SceSUfnzqf1P7tGEotDYIGwoQWLPTeF61eNel2uoWmmV2AWqggYVi4QTzz8Q2gUXo4SeGiBmmGPbiPkNRH25MEaxG+1lnErA48rZJY8gk5LOWXadaVUADZRSqfGHgWOk8zR+Bopt58W8zhgn2mNLeOSQ8RpHKC6Yk3AQOdgEpFvYKJxXYwDlXhMxqZiTe1/gTOkTZKJe4e7aWIOd1qYToUsHBrTLZLTlGB4hTavxJrpLjQA53DEiFTo7GYmDB6B7wUS8hTRWuYRYHO4o+oWOITHQO/WBhY3/v7AD7OnwKMN3I3BhAaxnibyGAIZcuzH/GQ5zcCcSR+14E+g3AjLNe1IB5AbwVXwzvHzW01oh7hVLTTBsPOF4SHImUABZhurcVsNKjDvAWtpdCghgZ9JFsKlHde6AUijUC/99wyW5lPgIhhXrT2H7Heh7TlgDcEBwkoTtyjXVxfCWAm+0zgCZnauK1T1ZHSlncyZW+wP/oROsCrxbgFFqR9jTHIQKC3/efBsFHwWBq6xGR8brC8nN7Fl2dpUoJlr/4c1zn4pTb7rLdQMIi7mDgIydLVF0pwCrmZ+GvIKAKuJVdnajQqr/AoXMs9dhU2ZVYvqHnCjSmbHI2Lk6pvUKLyIR8ctnGhnsd4z70P6NomNZMtU5AP2cn9dSsra0I5lgNyLnvcWfemrrBFenA1HdipceW5dngJmq411bNDD6i7MaUNGSVnaZgYAagT6fsTBbgIOwsNgxvESYi77ClEIwOKAzGG8y1wsGkwKLrwv2HvAWuvyLEJp5s1iaAcKMxSEeZSgHRSlPQSzHn3ggJLMDjjxUz+adv7dn6TtkWu0coHYUTxfUHyNYMWJOF6E0BZKvv0GMZjs3xzKVS3JKk/cS8KhPYy3SnsHxxTgBSy3yIJIocd0cHc33KhnoFcDTLQDvFdGHTs/4lwdRVhdpSoKmL44TFt+wuLAVwu01w1VQMmUFUbH8f7B+9j1wH0yYpYaqXqBGm1foYYqQLwsXkq3eV9h5K8uz6ZP7FOL0pIdWo3AY8sAWFqlhvJNupgBFVwFnhtalVCMrjz/xTT9vnelPvXmqrgOypSrNCnDP45b1C9WgPMVvNkCHsKkyN7rbJOahPNn8pkn0hBCWpe25BXcz1VS4cuHtOBHRyi/4xpZ19DU+E0zNsq/cC42eGYIvCthrbIocRFBTp62TbmNYXItaF0RUiUEKN3gzEytJ8EUhg9jQwn4I2EU1lmI8kX6ODyqpSvQpadJUDMBwy4t2HrzNolbVtLF3/jVNLq0QG1V6owqMDEvLSot3HpjxzJvQBU0YAzPoAWE7rV1zkbMabpSi/ugN3AF7h60XDKcx+uulbQn6A/7I7tGD9AMr2VGAanCA4GKJ2wgDAFc85MJc+CL7Ty45rs0HW1kXmHiFNZZ79O3ezUUvuzXeN/z8UGfMUDe90Or0YZtORZf9458dvDXvC+t9T4Pco9xxjv2xJO2G/eytpyvoUc8kr3DlxD+eDcT+HKcl0MojZrpHQ/tofDfjPqceFGTqdz2hiilcT+sm/gRoMSFDyScY/fqzTT9zqfTBIq+N3/nj1Nj5h1xTqjU88DVI824c3lZp2YynQ8/vg2/t5sWpo7S//4fsMJBOISbY4s4RgHAHJxbXGYiZIJ1pR8sHLcllDI1ZoiCY0IrQ8YlCIC1FASB5vvJk0j9QcE40NiUfq89/FAaObeUbv/R80HcpkngUIAodLUUYH4tEeA4o6sFiJYHqZ9Zqqf/6oME2ZIG9XeeH6TvX84WNPwtWQQXN9NMZqOVaApsFzmEJ77HZqL/47TGTJW5uhLMA6bQTI5e480QYuLAox0X2KtqGLwnkPwdCOE3+oiW7IOxCLFALojF8eI6FsekICZCuNi8CrJkY9BnN8bsaUjbdhlj4y8/jkuil13LxuN13zn+eDUEPS/YPh+g9GC8WV+hZaKdCoePmzwyzsUcBul9T9TTkxc5bLAIfPNNiAlMRh9C00cYO0CDzWmdZvE7L8KQqb1Sax5FGnH5WCc9fJ6MQ4/94kfS/pdfTK/+zVdTC/esZvkMrg1Z8P+Pn7pLfQgI4sbDxIKMpA8MHaQ8cTOVa22IPppDmM4uLnLzz74ljSNQlcjupebeTEi5GyupRIG/CtqG6tJi2qKuUw2GyGc6pMs9uHyDA47YoF/+qVRf2cDa5+xhSu+vpYm3P5nmN3C3A5f2yZxTJmC4xKEi57GIBnMPzZYWu+1NmHwOoCk1x2jnB3CDXUy9A7ia87gCDGONMt5lhkFtE4D+zGPnUuW3fjX96f/1u+kcgbzDT8HQsAFHmRsaCvz8JyK7lQVOD2H+FJYUKg3QzgHTYdIVn5+mJAD+Vl0tZ6ylLkjYwtLhPVxCJvVfBp/EO/aZ2sIGB1qRA08triZx3WLcZ5G0hd/6KR+t0pRxESCEgpVLJTgMOqdoPRbITtohM+pGicQZCFY9Dm2LUL9yGy08MNoQp3CvVMMqTunmtku7bHbCGfiBEa4ABxsu4IZoH0XSPRuMn8MKAHdJfAGM9Z9+LjV/7K1p9IPvTecotbD2ze9zoHPAwiy0dqAFiwhI4NUWmuIB8VTOk+mkBYprjswzvhX6Rfk8jbACWQgCrQuY2uxe4yhqXskM1mBWUEBCa9D6gttNMjeWiJHgPA14jMLsQ5IYpf+D9rA32uBueRqWmXiGCkRUQc46T+7pYZiEsBZL8OGw0EGjnBDOrJv7G7wpAacyK9Kn3lg3dwSsgKtKA/axqfkVHAFXKKI0Og+TJr2BtpYs0ImzObJy3uP+wQwWWPpxHyvYWNMRGSK1EUz2YEaqSOWhZKFdxzewJhXP1Ul4kENw41QlgQGuFjCd08Qt7v3bP07Vtzya5j/yHAf5Negwrskw+JVx8Il/HSwJWpNj7WC+J2foiA9yFEV6wTP6se6aOKWiYICGYW1ymgxUCEIIoiUAOYH6vIDV8+T759IIipABbsrOGPYV5t3jT096KQ+C2wa2Dxi+beDeCtpG3Brfe+z1Kfb1Aesg87wtftGnLp4YjcgaSP+YzXvM60C84J8sVYf+dVXrEeNjmvWlS5Np5cvUhqPv0gmK2CNczO1tIxSDZ8BX+iYxbTEv3ZqDOXWNxGWvo6W2rmKHOI4jLK8lEy4QW7b72jUy0LVTDQZ0+J//fGp+5kvEq0yQ6AMGldkWaH8YwRLRNeXYOyt4g7CQQX83cF0aIVZvHBzp4dJWBkcVvjw1pOEd4DzJ/RFdw4BxFSF7Z7+NCxW0BaY6D41sUZDaPauVzLHHOcK7wVZiwc41EaK4Xnd+wMZY7h70YBpxDTsrggxKIzcvMLDPNsJzi4QVA4qHG/ugYNKDGVV4LNA/8in1BtmTYzCUMIoNDIH7uMdNsv77jCRHuuf2BJaa+zuBjzJ+h7QxmEWJAkN8sNVESEMZAe5bF3FiGq0wsDULo3TURAX7xCh3sOisv/iddPpjP55Gnnw4zdy5g/UArmAWF1BwNUeQ/L4eIQBsG9dqBu8UoJW46kHzMsHMtQNngbd7DDCTuAl32RpFwvleJbFIGZdXVin2ivXvPMNN9lIGl/J4M/RRQIIhjAsaD166B3H8Yw+ioOM76kFXNmPMmRN+GQiPMNencCktGtOjlUemlHXlR9exEgoTYZZDyXxIbCNkFaUMdGUFWQdBwtjt4YNdBCss8oxHgdl+kReAOUo1rqFWCLfwAbTEDyMMemNGX8dGE1g9ES7v30urf/bXaeKD76Gm22Q6xBMix3rmCQnJF0mBf4fQA/42BlCheYJkWker8GQsuEJZ/KMtz43KwTbxUP10nfmgtE9jWAaG5oiHrc6k4dvQ6NpmGuKclv9pEsoQ7/KsVrMK7nM54gIL4Ksuh1qIASoj130ZmCBA6wJqfUvEb4RY6Cg4j84SYQo3TBja5h0oUxd8ZS3lrYQJoGDNe+ncIu6oxPOMjyIEkjBBhYZxZHkEorrzheqo2DJbzDD7YpL5DTiTNv6E4sxveTJNce6Uzp6C0IIz/AOICHXol8BH3VPnq+30OOU0jCVr4Cp4B8XE9c9/NZ0lFrd1B/fH2/dT/eXLJJjBRZHyPJ0XvhWuxZskGVPwahmDjsePvOceLoalzX32wjbKF1xW4U+quFeqsAm3ZAQ4652Jt/sIayFo4l1SpmZaH4Ewd1ilPiJ7HYH63ec8y4HR9QqWmkb6kVNk43yTWG0A0+Ngm1hDCFjBbReXyPGP/niqk8Bo5BWzZeKNwF4VhmYxhekJPLS21tzUSPrgY9vpRy4Sv4jV+YiYWvFXWu/ZJW8o/FXEKHR6LXhgwBtHRpwLrBFty2e6zuGNwm/Xi2bimn1nbQFv4KLQp+HBR+Ix7vvNd3zu+NVjGnfc5zFfnfVtH7xDO963CbuL//F38L2Mw0+877P8k4qKb37sy88xLx7jf/COg+G/aE6Y2JK/HZzPh1DH///9NwlxgL7/1+fX0gEK4GFoXoWD5ibxxz0OUUs35aEnp1Xqs09H3v9syv3tCyQIm0gjD51Nc/CZeqgcwf+x5VC8sv+BqxmK3S99aLiJE+/tldPTC7307scb6XfYaF09nmKMzsrjW94sZheyimsF/cgO37jpoPnxU2hvp0+88xZpl9XyLMJw4kcO41vDYrAF895HG2bMgBrVJgOYpR7EPuklD2CoT7yPDTS3kPp/dgPBCW0ZBEZ/Dn07ZYTybBotb0uTzfTcU+30pZeO0muXo1uIC2AU6BCc+LAQMhjZAkpGRJBsQjErDnG185rDw+rFEz57vHAyZz79YFpZm/xfwuSKed2egmhmUw+GzsNKBAltYzxr+yIRyA4Rtl39ZX0lQ95jQZD2HPODtsPMC8H0XaYRYzkWAh2M79qP1/yuplVp/7gPXQ2Oszx6ajh/LYn2cZzgRMEkmy9ryVjV+ulm9L2bBJNC5J86j5sKRCqnXzOHgqZmDxYHVMGFyVGpsa3BAGhV2IUzXXzxJQLBCdj9xM8iPBHrQlB+g1iY2pFEnSxKIORnbp1PZ4D7T+bHCaZtpuePOFCuDNKv4ueP9zXuDXfT/vdvpMrFs2mMqvfWVHM7FZij8QoDGJdhCk+bCELXkBZzGgLPmhDHFhqrPm4Czs3U9h0ItAIG3hgpf3uNLHcU02YOHVLt9gkaNiNZEcGuvDQH4a9BSMfS7eWt9AhESUvL/T30kDDTEm3buLlDcDsac5XKsgtrr15Om9e/n0588mPpQx/9cNr62rdDSDEeo4GbT4kxclZFFkQusYHAM/aCeDSP5u6fvA3t3BCp+NG4wOMBRzcbgiiwkukqwFBUp9Bucr3C+raZq4yZgskcB/gdLWgw8m5o23Z5ZG93OQyXxtDWwUjMc933PRAd9T5+0RMLZESDH+8juZ2WgYJhmj53K01yCF8g7fkC7pQLe0hwJKXwIBAPzYhI+Hnq48JkYLyBWGPUi7MQaF/mnWyNLDXugzANWBsLjE1m+Q4+05PE5A0/9Vg69YF3kaUQhvQy82P/IwWzl1hUYLp4YpoYHVJdS0OB9S6JRdocHDKYI5OHaQMYwd8iIsEIMhaFhhzxL7ukQN8HHmskcahzqNXhRufZE+OXptIu/voV3Do6bwIXGIcuroTuLfFpQ4acfdK4D1NO3Ng+eH6AcOxucQ3WGdceDKxC2zzsUjE3hutY7Pi4z+aLej8KbhMolKzj5AEnZXDrMzssOYwXoVLE1UXl3rUNQNpJs0usJ9n29rh3foOCxffvRHbISO1PK4h7jAUBEQGoCAEfm6IuH4HmaETYfsyDmAEJeGkKIc0x4tZ6joN24cxsqvzIY+n6Hzyf5rE46Bp2AA4yOyREDnXcIxvgyyRS7AiHSoyV9g6gqxZ91sp8AJ6oxXMuUqomAlMfa3ORzII1DmwF4AkEh6VHgCW1d15/cRn3yiOq63DQwPSMuvbgPNsGoUNhmTiSBWw5JESZWcHVEzzeoh/kBPYoLtOswyFWuzaZDWegP8swS2U2jXGFpu3OgWcNYGACDd2y8M6PdPjwYZHauwADfvsKWQ/JkDMRzEUX5pxyE02YlrFZGCIYS3/AR90nC7iXlmGcCyhW9lGwiAtdaQLrkxsjZtK4EkrBmB2w/K5nUFpwZgGP17/+GrEpj6VJim0fXVlmwymWo3xACYCunVpp0EmYRWEqFozg4lfmYG5zyA6ohYOXNNYLBs0hLM2usL77xEs1cOHTnViXt/EatGyyn669sU2ZDGIpyfCHKpxseSgnHChro+BbgZaXyMQ2oPB2BYsVnpxpjTbHeGaYmJpV1qzuODg/TQgks6x1IUrMDJPECeUI+noEAmM+9G5BrIbAdVi7wW2SbtzeIjann95CvOsE7m2X5gaJEB7qKunuiGcA7Y+xRjL4FhMvQBNKxPeVsR6eJj6SS5G46P7mLi7QCBQoAMiwgXIDZhQcPvMrP5Pu/n+fSU0KJyv+kVQAAEAASURBVFenyFBXWIHJhaISQ1fFglaCqV3AxWsZK8IQOFWvNFKB+pPb0CvnNoSwbGFx3Y0r0ClyjQFrigRDRAfUOFy7sxVFkwu4bpXpr4aWLi9xZM4qUKKUDoJfiT0L6eAq+A5sXTeFSnEPygbcpMOMS5rBg9KZJu01b3FmHZLWnedlBnzvkN8dEmV1Zon7OYdrKMrlc6NzZFTdJJEJVm2sGBsoG6ZZ/waFs/VE0R3f9+usp9lfTYDE4YWAhVJNvgfG378t3D7EHmmxDzD5ojTClZ9RtxDyVr+Oi+hPPJeWfv1jae7llVT/mqOCRkMPKmQeLJOdSI8BxDQmrjso687fKgd1QyyyJ2SuW5yFb84ukkzrKntWvSJzQbm1dWsHD5EDSDUKBvBwnOBPy4SofPPTAq/yritnfEK5McKZo7vsgD2nK77CQYnvO1wXB2cVjHCt3mftRugfD1FivTlfprEU5yg6D13LIZHIk3gGzpBM6zfeu8I1aCb7rA0/YOwi5ASlKcIzex0M5D701/Vk7kWY5S50bxTvibU//Ms0/MxjBFLiTngLS528H14EL21MJvw50hKhOF97Yy19Ds+R/walYp4SHOf2sTB+4+9DsSm/oxJO7FAA3GQOFc4/ygmn9vJqWNy0hHcYxxBw3E4vk5SFOGXDERgz5fZwrUZFhefDEJ4g8g5wx2GlUzk0BF5ao6xPvKThAsPPfhhLJBkzEVj/4vvE2h4W0y+jBLizuZA+0xlNH0mX0xJwn4TurU3MpkfqG2n13/5Rmv+Xn0wLeBRJwyqciWV4HzMd1xhvH2Fhs7KPdRkBmvn//ZXxdGWdgjyFsfQaVkEVz8pwKi8YMmSG2YLnCpvhPebsuXZ8L+Npoc3cP3Z7VMmvcAAo4HHBNdoJ6xVfFGyMU4TwMXJv/CPe3L74Ec6upH1I5+TAbSf7kzWl6cyTDs6MZqTJfnzXfk1AE5mIacedHt4bQd3ljVTieS7Tnjd5NeuBd9lbxpwyJL6r7OYeg3BuMWf68Rx0iL4H9cabB5gScxjhEJxILdZLZdsMiiE0f8hB+Inx3hbeT27pKYwFrSu3UhVDlGSo9vGfSmOffpP4VDCBcJkBHgb7FDp0DPYJpFDU9NKLN2u4TS6gYCYLsOefcwOWTjAbjuMSZo4xgzvCmRcZIK0FwBSeeNrNdHezkH76x47SLTLAHWKGdrZz7PYWWyuHRaKMykJ/2kkmMXl2Id3+H347zZwiAPrSWYo+0gPsZY74iYKHEqmWZ8dwETDOaKuR1g9n0p+/eCZ94B03OHQ5UvIwkDFM/u8A5IoCioyPv83u6MBDAGMcmYVNIYzHeNTFclaO20nGxLlgoKJ/Z58MAD5fQ7tXZ1Ee4AW3WSqRn3v8x0gAVCAg034AzKyNDIFcZIt6ijPHfXofNAxipLuh/TouEaqPVtj2spT4IK8rC+xdRFO0uzG8F3N2UAzSOXSC06DPAEl27QcZbWjCdxWWFBrDWsgEMoE0l5a3YSrAqMdO4y4CwlTwnc9zosnct90hjFF3GbOJ9YfnOVgRF9CcjSmAw2Ac4t43eg0B/Sd/NP0QjMnQFy4TCAuyMm2TjLxv5m46Bzex+ZKZmqrppxYRdubQ+i8fETQPMZiaC/cAs8kNOBT0ha+v4oON0NUk0UgZN4Dmw2c5JcZS56+/kvIcYHu4H1lnJHAQC6s1m4xZCR9jGFn9qtXwdh45G0J+Ede6Adr+PDFqphXuocmwcDXqgJRbhflx97OWZj4S2G4KCX/bjaoUy8ZR4z0gXmt/+SpMcCWNv/dtqYvLiXEkuhCgVo9sjeU2FjqKSOpCp6ucfu0eutbLQDEXGt9ba7RNu667THH44nO/7MFGkoYcTGQYo5iXhB5noYRnTRxQdRgwk0PoYkrrQZRMyWqQS5kaGRtqWsUpkYa2xzuMAxt8G23+MHFx92+QxncEtzOyVm1jNXgdvNvlcNuh7kuejHPluxBvYMlZQKweGkzcriq47rRxW75nXAQHkanexnE/HULlmhf3EN5HyWZkUc8TC1ME3x+kld/+/bT0X/xyFElu96l1BrNcwE2miIa2QuzhvSv3M225mwlhr8bhWhjGIkfMYxtXsiVwcYj+ax7CzMeDv7K/heWlkxZJgLCEC04RBmPxLPO90U1Xv3YjTRPX2L4NMaeQMd6BYJvLCRx4fw54m6xojEyLzXVc7oimnuQA3WA/6T4xB5MQJWJwJdoAR6b6BxyKKjnYbzAPJgo4I00jQ+0QVgHLBhi4HfVI6KcNjhzClM4R4d6HOeyNNomNmknt6+uUBamma+yTLRji1xnP6oWHU+nNVyLLrbTKWEJrk+0gmJh1rXOAy+0I0bvgTRwcbOwGcY/tVZg3OPIjhNtlYLgCrp9/4x6C7nzUO9O9qsqzdazWPQTt0jyCM/MyS65WeqXdcFmEvjZhFge6lIPerQ3+xzhy4I6ZI01MdAguWM+lA07uw2iuL1O78vZQevS9F9LoOnu4B3QbuNXAo/Wlu8DjHu1bhL13byjt6EvPdV0BXTv41bDunMLCoVtfFQXBHvQjXEeAiRatPrXrLOw7YnwO/bruWpDwzgTX+ZtntPiMoZzJ7QAnrjdxBWQIwYRbb0j6aDIZ+9zhXRK1pSlQtnQ0Qi00YCAN5JyapOhsd5O6ifRpQfBdhNj9v3spnUbR2HvbY6n6xvW0//Xvpmsl3KOx7vQxf1ZZP88UlSq6Zsb5QT+SjQ2yxc4SXzXFvizB1I6Bb8bkCd+YG/SoyiEuExLWSda8hdDRxqdpDvdXBfL2JIkldIdlzJFGmXftb5+fSZLvtFbIfIrws02f7m6XrQe8F4DVTqxfFRhndF56ryDY2MZ9CiFsFzO0FghppB4QRXBliNSLgzODdKo5n3ZWcGdDcXB/t5tuYxUzFfkUsByMEUtDHKh4A38d7+aRHCMZ0h6CMdbXcDODHnfAOYX+DnMn/Aa2hj3InNdfeoWYLKxzoNswZsER1qWPgiGPW7WZFBs0cqQCCHPvfRKCVHE7LpGJcQQX4QX2nQKUTJVlMA45L0DHtAUXvL1DbA306Jl3XyI7JvXJoAnsPhTB0Hj6FvYsBUw2ir0tlDbMB7VFdsNzjW+6nct8up9HGGDd9eQ9LeHWXCxzb+g0cCjXoQfsd+iYz4OBCJe8v4y1G/o7oMTC9ct3UWZgcScjbFGGm3WcgZbVEKoOEapzrIEMqPg6zgF5iNtaHuTuQPMn8LTQ5Z7GSZxFHCKC8QAr0wFWnDxra43QHjzQ2OFOWv53/zGdIYavcxclC3FEkE74CyyYtN3UdYB9VWQP5bD0lhDu+rjx6WIoVAbMS77FxD26LnvyVdDky1uU+F0mdne8QRKYMTLGcj4XidVU3+S+Ed9VXA7y9TR6kji+kyhYKZ3RpyZnhXpxKlCWWqwdWZkX8es9TUz6IetswiObcC8bj2jcYgvFWr5IbDI8QjDl4hd7Yw3B/3/96zMknyEOnD3xyffMp+XqJFa+tcC5HtbISJzGesk7gfrEZSMkohyd/vWPhnBWwN2+de48tSUZF31O4Y3y0Ysrac9kUNCsDz09SG8/zXnyAuPHzX9llvg+9tUI4Q4ChBkyLpYC/muScRnT1eL7PjB076qS0crZYB6ek0Pgvnjn/lAJNQ2sYOWgYZz3tGMtOtsNhQE4BUkO4ddst7mRUWoCs+exnP3We0is9yqqn5sj6eGl1fTfPbSadqH52CPTOhqJn95gDvOjaWv5HunXqas1MpvmduBr6LukJQ7PkmXcW83iOw8ObHN+djiT70Irb+G1kgpg8B5wZA7OkVHFx3U95kWkWWGUcMWArx+FOM9RhSKn4n15ybhOK5Y2iRvczPhw7kU70ndG5/RpS74iuy/1Avfsgm8hV3jfH9pQIamCIWrdOgb+jja45t7zbz/HNdkc53EfnuXRnvjEdX+0kttXfLgf46Dn4/lnmMdznl+858cxZK623fRzT99Jv/YjG+mAGNg2fKHlNHRHXGuCFwRKD+CnCiz2LEqL18D7CgS89NjFtIYnWeP7b6bpT/0iQjT1zYw538DrpEeyLeJNCzy7pYyEB5aDWRprkJ8BFxvGobfQ8QrFN+btGeg/5xheYMyJ9XL53QxOHO0bG1uBps9gXl2fQ+O5RzFhAnhxX4jMW2pOINolOMwcBFefakqfpEMyNlafuJDu/cN3U3FxJpXe/57QNhpJAnViTPW0xmHJSUjbuvs00nvOCxReRsCLGTA4P1pERBAXM1sE8YPv/Ivx8l0tWHz4PdBe/OBdE1G4gLbkopodxsXweyaxxpfscR76x4JXIEc0miGXq55JuDwn8tgIP+KUCBnABHp+9+Jxvwq5PBljDgubz/B0CFFsAj/Oy/ZELE3kWsMUrmznGMFsxIPTj4vo+O1KzYKIZh+O2bZijvQRQqvPQ2ymR9ppYWYkfQeCsIvbzCxForWODHEQKlCKKBxtaIAmo2CjQcktGKR9mJOR0aE0cQkhBatUDwTLcTj0YfrUHviuK/btvRNoigvph9HdHvSvp6/UKSB5uUP9sELaJLlAxSwAL7+eSvfW080//Cz9gGNo9hsQGFCWzQCBgUk6xA2hgnbIQNfh27hKQvjqEGgPX3naAmvK8Y+WVzjAuHBvlGK6E7wvw6aglLuLRg5COv7qlWDsxNX15z4MjlInBeZMOVuB1GN7jBiQAgdtlU3HYxR/5oB76vFUJOHHtb/8QlqAClfOnUpjV9FoY7kqcvAWOFTHRzkYUESUERyMfbBG0wA3yYPmaPrM60tpC2ZpEpN1p0DEUv8GDD6CEwushnYUxl9zd4fvuqK4Hf0Y0UUeNuBaCTefUd7JcB8CxT40BmCIujNHZJ04fdXUxbqiiI8p3Wf8FbQ1KBWD8SAKCivTRJo7R522vaH0+FQnXcV/7cwegcmkJbcw6yKnh5pa3SfLOzDMuEQOuLd0cjaVrsD8ykTZuDhsQVCSAGj9vkfMWf3iRSxTG6n1yhX2HEQMl1RYONaH4rFYNWumscc0cPoE7p9rnFIIZiA5hA73oT7ZHonLGZ7fJxFGGddWNLowHVMIDRMwce2RsfRGeTGtr71GvRuEFMjCCgzKowTWXnh2MR19bQW36RKJONCs4R6zx0HlZvDgucve+SFsvx367O3p5mWc425GM3jG+DHY1TTPnI2r2CM/9krnDrQLIgpGwLKTsdEEG7hvsbew9cNkoIED1my36EeHm9VNlFC44bmnb35zGasQKdLPoHm9glWC4P9RMi7O3boVSWBaCELDwDCstrSLR3e6gja5yik/LMfFBzKXVqmTxPGbGrj1WfAWtpF6bFiCdtZxpdpMS//6E9QJRGnxncu4kMGwqd3jADEeVJfZSfZyGS4hYsJoswTz3QM/e2iUTZuNzgAXSWk8NI1xs/PTNMkgEEUpkQItYK/PnWF/4HJ4FW39ebT8J9D+Of5R9lOJlKTupXn6HMPNso3b7mxvOB3efOBiBnM5yvpNQsteBZfr7BczW+lqqoaVqcdhU0SREIIVe5GlZeSCVbqloI77GH/nqSNVghFuv8l4AVEZIUMN94SuusDE+Cy0SWEtmGH8RfZti3OnPthDuQFbxRjqKBfqKCumSJbRBXfq0NQKe/XU42fTyHmSjeDW/dS//jhuQ3fT+VeBwwtw4WUq3AzDKAP/ErSrh0vffsSxMCjerWE5M1DSWK0OigWtMCrmjs8TcVBPENdTZs19C+iQxXGbxm+6hNKrj5dkifXIMeYKMHJFxK/wZAWPRlBqFYHbIl1ilCSmjzVFEbDD2bYJnCwVwckWOC2Nr2JxyMFcQ8lw/cICBe3USi9jAV8QlrMCVrw2ONPE8qOHhHRLpYh0S0+FIsoSU9L3WCc/uqBy4LA3ZfQRNINoQulZS4VNnAuxgGPhI0Zwn3CHPRSvxZv30tCH35fKzzyetl6GLrin+Mmh2InC1mj/8etD2Gef6J5VRhhk8+8R27YO3GBrQrDqQgtGEHQc/wWTlmChLpLZ9dtfuprOMZ427rvew4kgzkwF9AloK+qpVJnHIkos4xDzlx9xz5poZYgzy7T2TJcdDYMP/t/lu/X2VFQY01pHaO0hoRyyJwdkjPVAMAtf0XJBMwhWnAkHKMAeevxCOvhSPa3XS8SpsCeAu/jQGMJLg/UssAc9k92T+8B6/hLJevZG0hClN77HGarrGzs+zSKkTaHI3vvWV1JtCTp1GRqLhXGavThGTNXdv3shS99NW2yNcFXFvoV1L9sz0tNg/PmtYFbiobBAM26mE4rNYSyQj23XyejJWcJzsc+EC8xnUy8DcQRlRBtlOTby4EOCcQfvWHXKLAC7N7D8oIiTSa8jLIirBBdQbuEo3ctraeykU+Ck55EKSIVsqVrZRHFs8DwWH2N/5V/k3VgYzt/xtNrAawCL+mNvn0obWEVzrcO0ReyU1swFNkMP4Q8ChxODnlkpLcJs7iG83v2LL6SJKVTAJOtQMXwHl74OdH5vazj9x9dOpQuUa3jn0GT61uvd9Jfb5fQvKiT6YazTKK/aDAjVI8pMBFLWQQUn7FCM3disBrg+BY5jQ+D8gldDyDIDrSn2Uf1ynqBAAY9003QuKpFNZ1/m/gF7R0WePJGu8rolm1CmjAJrC9PaNnCfBhZ/9C0sL9v59BH27erabPrbdi29My2nE8BwnLW9P4r169rt9NTPfzAVTi6mRUIGvlCdAn8tw7NJEqHz6RwaRse+Kn+CG3XYS2QZQ4kM7jJW97J0iaux7nwJnt5xh1DC+/wXe9R78pVumEgx777le6yXX7ihS2QJnFW4kb7atnysfHYoN5UbaEKexevuAZ+lpWjbViK8wPb8I/BB3sezO2uPV/mLf8HHc4vP8dnrmD23bO/YM85rQQTslx8/zkMVBU3GdybLI/BojpuP7wfPzfUMJ2mDZ79EQp5XV08TBpJPv/bO8UyJwngmFbJRUrcl/cBXpd0oyhvdipvwmOVry8TQNvEoIX5bng48Ll7Sh2EbZS0cBFmEJ1EuEugTyr5PveN6euJsPW2QkOeAfaus4EeQ+HGGeh6F0EibGr7IlwDRV6vjRGNR+Q0w1NN94q03IBT7aX0PVw8G6gRn0H7t4Ove6e2l8kkcsl69Fy4mu3//UprDxaFDbE4Tgl06dxeklVhiwNa2jtZ4AUfuIw6ILoT7zAzuJhz8X/7eOC4CEOwcW58NEoNmMzggiXzAHohnggtXXRdn4w0fY6zZhwuBOEjI/HZxNfeHQMUDClm+eYx4bXyL/S4KRVs2w1fn7u9wgQDrbEetgqbREIgAquOMmmYAkUf5oR2/xCcDvLAUGXwgNBciGD8i1vEYQqjzPoe5zysU+3wc+nzxfibwZYjuBvC+sDgWBC2s58eC1d5UKqeHQMAvvDqc/uZNKslAtSfRsv3mT6PZq8JIc7+sVQRCtQ2RPmzsoM2cxZUJSyet2O8RrihTMH7rN26m3b8iGPdnPwjzBFtPfRZdYHQROze0m+bgOrtbFOrjgHpqHCSehuhdbqaL9/fTxvR8WvnqN0NTqTBn+m94W9wuOHyBrbEn6CXRasFo8L0Cw1DikNWSZCpkjBgILh6sbDz3GGtgbN0JNtwO62LRUo9irTrWWMpj3TBTTh4NrtrahSjZALMAp2RhyTbaQ4kuOuB0dZ8aR8R66SqQ471ZBMYRtCIHCBSuRQWrXmsO1wKsI/avSy8cDff4xf864EAGcZhFNKlmITKt9z5MaH6wEWsYRJIxd4FVm5gIqm1ipVPQjGV0oWGsgQyHxx5rpABgEDBTizXWNXWSuXbROLID2PYw3rwTSTz4bUrrBtrZHFYDjG5pDyY+f58Ex8QMtbl2De2tGH6Ilr2OBBf7i7HTAwIJcWm47sxgYdkio9xL37sCcQOGCMlzuIrCmbEHwBT3IkL5KGPc/+5VcKaRZn/2A2mAYGZxcYvkysAS1xxaWGOC9ncQaplDfMD3Udbb+mN7wKGOFXAIrmYkDreMkB9BlMs7m+lRBMcq8BlVIkc7WMVd85CadKvfuJVOk7Z6/w50AsZwWo8gGtc1UY37IvtBd44Gc2whnMj+KxwolEX8LFNogFebaDAt9ggSpxr4Bgh5wt+sA10SJZNpUnFza6m2hWSorFKY2IRWnT2B2x5uch1iMuYuzaTDv9tMu7fYI8SLlbEsWwj8oDYKfmgdZb/TrtrYcCcE7ifBhTLCwzTWoUAk+nzkqQsIht9Jkyu4vZ7CQopr5Q6ZQ/uTuECcB8bEnxxBW7c++2Vg/kNhEe5z8LcPIeTgr641uns5RtvcI07UQrB9BIMKjLjB9vAQ0ETmw0e60SCeVBe2qwgKBVTiDUxfRRRnZx+fTxWKwHdgsFQg7LNf6Cpo4C60S/f18hEWEZjVOviqS64EQ8oqw2+9Kfezipcqa6PixDODA4ADHsF0iphDFH1lNcy0l+O+VuSeefFhaBFB0iaxGqPEIy2cANfZw/uM9z7a8gHCuwkAaD4sT9vAsoYL1YBxVhpD6bHSWPoCzw6BayWUGa7rEMJZDQbRLH1mz2rcWKYswUp69frN9BAWnVp5Kq2SxbR8tJUOKYBbIVsHogwuvuX08Pxc+vtbN+IwLpjMg7kjBiPEHULrSATBLI250y1X2HZI+tCpjRPHdi9cHjGYcbij+gLXB9SjMiOq52EOPFLzbmyQK7LB7/EWbnG44u5A/3RVlR447xbrSvOsJ+9A90IAAJ/irMAK2Wf/V6FXaqWFs/hm/DW8Lww/LypA4J7W8NCHoVMQx+MYQzyWZMZeUinKOpjpb4j2FmglvwN9ArYY89iHCLzcd4UZMjQM+GvBXSCW5ntYI8D3iZ/8EDUp51Lntaup/sd/hefDW9mLPE/afpCLfWHkFx+uadnTymTsa5E9r3srVCnmYxxLi7Np3wVGMDuEQW9vVdPph3CXJN6qPEOM5wFCM/RqgOHZM36PueZR+vTrWJH5u87aGx8ioyd9zmHJHaZdPSqGYfA32PPyA57pOBeFEi8HnOJMBkfFSRlLY4lzmG4LHES7WBBJnZnWdrbgc6Ar3BzHx7cL3dWDRQWE2XXDwsw0nc8U8STbdxF6qDXZxwV7aYZkE9Io+t5mzEfLu9CqidS8t8HZS2ZhLEY1Sg7sku1y+sL5cGHT8C0OG0lHPEiqnaaNN5kZbbQ444wILeoejqlRodoQB4Uus0t2phaow3aImy57G/wzU7Oxrx1oaoOzsImCQcmyDC2NLcyf7mF7ZCZY2NivM9BM8NwMzm5ycctixiMoEReBse64R9CAFuNRMPFsqfK7RDa6Eu9bImaOe/I6opC8U79LtGMJBpZsrnvEuI4voOSBZo/jJqlX0R54a1r/BqExooHFPFZnx9PCt49w1cUt9l99kmQ90MNbeOzskXYF/B3jfPi5iytp/+VT7LWj9MwZXj3Bmnyd8eIFs0Na/B325gxp/FlhVoc9wlycd1i9mJ0OlPvAxdhfrarSLs9HmLyoQQq5Y18xD57NSiIBL2Dg3FVSBn8nPgLnKvRIIUErpG6EzqeJm/ezjMv4b93cR0e20/sWt9LQLXshAyo0cZLnErHZhfe8PTWv3Ex375HhmhIbXQ92rIsNFAf3G+xPaKJlkA7YV3t6YRAyoKW0wPs5PDAcdvB/D34ztdiPwt/v/OEjDwQpz81sjbI1zq67l8IowQvh7cVcvSYOCDj54TDgML9AHC6Le6EEYN4+FuvOmpolOJTNXPfjEPxEv46Eh+NZ2ofYcCV7zv58OLrM3oj23ds+4V4Kfjj+tk/f58P4vMcT8S/7mo0phMkHd3zUZ+5SvPw2RoUKyplqeZiQLQRvNIPySJaW6iJYu4biTQ+eucP5uvnlb2Btx7PnuWdxRz6KLLldzof63VVo8WiaHMUKxzhCaaFVG97y37xwKV24jABHaaKjJhk+nXf0ka2XiYvcg+7vHOMwIV0+TOQsXGi7AEZkIYSAgF7p2vZk+tKVWVJ0Q5TRfqtF0WIwah0cXC4GCGoyi2YjufF7f54a37uchn78PWGCP/rT50OTUEAzUMA0KKAhJ7ERrBOxhuP+//z8+fQ/PX82vbQMMwizwLBigEDDYQYRFfH9S4TIkMYpOU4QB4Lk4h0/z6rwFkAEmVxwJXkXyjZEzujB8YJIkRFPhOUjUvnPhjPi7emZ9RMP+J0fNaKhzRIpYxQP/s973vfjr6y9uBibuMB8ve89CZkByv4to+SoZGKcRmwAx8Qfziu0B35hoZ1DbAj6tX2tSdEf87PdeJbfNML/gA3PtHQzQhOsiXgfM+0EWswuWmhT9kcmPbTkC7gAjcBQatUagbAI5wIM7y5M5K2v/APuKRNp6OJZmBPQE8LQx/rhAWAQvRnmzKIGiWBdzZSovzbX6b8DoSpiii8DKp/nrA+4ux7Gw5hYRpyLZA482wWvOiDoEf2UgUEEcbO5dxHmdVF0s5glDB4r0vFXmB9JDPGT529+JHOwA+F+YYrwCgRsE9e2Q4QM3RpOsnblE1iy0PhKOM+NHaXxCb3WW+kEmqmXD3C/wUXn4m98PI29/ekgerP3yTwKf6J7zgFuTewxeRMYG/SNLJMMcQmiX0a4G9PFlwMJUg1cZDEynInlZH900BTLXJnQIXBF9OBfH8vREjF6RYiCh8m8fs6BHxJKknmwzB20zR0mOyRM6VNcdX3tn1aZN9AhxXcJPMvjfqRW2R0M+0xb4Dpw5GZoVgNFHsCphya/ywJ5+y0XzzEG+gRmZhRr8dNlfVRSiHsV8ChHBrg261F7luLcV5bJyPWtOMAPlZzBDevjSMTUToKyDi4+1nMqE79SA2fLWJjarIkaXZUEHupqsXvg3Y1xBGJe3ESFqcvGEfW3FBKWHpvHSoCrzRksY7RxBDPjWntwCMN1JBQtAU3coeg9cE7W1L9CkcIcZByEm4xMEfwXf7I9C7Zyvw2c8hyEeTKjFDE9THvYAEc2KUWWB+ksiFdAY16EoSEoM628to4ygLiLs7i+IJjNELsFG5XmqCmncCa+ur/90aWKUAH2If0gVB3AZLK4XkjXb92hb5CM2ME8CTD6MERD9Fc6sZhO/OrPpi5wTstYhRn3GBr2GpnSzNCZn5GlABYIwk3Xm/koSM6SKbOCFj5HwLxnNcrWYDikCyxzWLF0VVPBoJVD0tzE9RVOJx3do/4k7rAdLC4sE3sJZoVnZUjINxeKknILl0EkcYViZgANBv9YZynZBPhdg47nSAqjzkgNpUx9g3aO2jAhuH4wu9BEyxCrjbwPTueoGVWmNlcZhvDEw6QRhwnZwh3DWNtT4O0cNKtwQNA7+0Ea78xNsd9DA2lWvBwWySMYHAYTuN/GMqOyytiRHvtK1/AmLmSVcQqCPkdyomsoD+l7CTeiGkJCF8uvy1FC0JGudTewOpjlxfUDTlsoFRpdMhCi0IMjZT1RVgJz96JeIJ6Ztb0tYlNauL9go0ULtQcO16GHNfC+iCt5jVT2ZZjpPD9mcHOPx3kG7AiZS6+taUGVJmZMh/WMejAHZqgEzdgfdAYD4byEe6wfONmmH1QWYZnRS8R6Wn2EsByKsgExb6NYGKZhcJsHuJACr10szpvAcId91K0Ro8u7Cnfuu6tMqE0h9h4xvwMsrzu4jHsQuZZm18vj8t4jJrNP2vk67oXt2bk0BK2s372XesS7NNlXc9CBAfuxjmKgizJrHzjWcWdnmWFWZIQRRME5y8s4X4XUWFP6AWGU0RkReEvCiFGE7DaZP/tYtlRIyKdiXA2FhNRToViX2xJEuYzyx4LrJfCSJlC6waPQRwPcLWjFgUlii/K8O4k1pK84R4khxBQS51OWxIvrrI2Mep6kT1rZPDOa0PaWbo8ym4zQ89B2VDTLS+je6rhlysyqWaOenXBVMX1IFkskIoZsXT/Gg3VYd/UyA6oNU3qDtagiUavYWPr1X0w73/1+2rp2h7HTILjXYV0bKND69KXrmFauAXF/ewpt7LnMas54wcm2+2P7fprjbNfyWUPKm8Sd0VpolQWSsg2PpgkyvI7gepUD2JZfCN4PoKnoqXIGuz6EO3JeYwdkzP7zvx32mNbFcGVE2FXxxFDifJC1tO5Zp42CFX9ok4atcy0Yc951eXvQhRyWowGEaXKcUIFdXI+hEHXWSP7FPMI9lQ7gimIMIne6hJL3jcmptPiR91PfbC71oIX1/+cP0xpeI23WuHEwlP7+9nS6hddPiaLU91YH6U0iZHTD7DHWcYSXqvwAdMn1z0lDwFHPT10ajQlzj6l83wWXFLD0xOmw13v8DQoBDNpjrk6WbREwll6AGpyV3ETZpFWnijBnwjtxJrKpanGhvw6/N7fxPmMD5KFHB81q+v4OBa7Z1C0EN8MkWu94Szr5qY+l4ZmptP+f/iaNffu7aQs8iVhKGI8iyqd5whAEpB45A7yZ9MIocvbQavbD2ZHxniwXeJgZJNxPDJqPygTPQ2mP/NUx/ywN9z3XOFzqeDbi2rn0A4FGWiiO81xY2Xg2e88hsQ8fnMXCwXbs0bOPr8GD8yvbe8CWZuLzA4GKv+SLQyCM38ITWDqkB/jnO87DNo+vOx5/vOf/MsMHL9m5l/gRP0MQ4r5jdG/Hh0YYNfjAvuRJ3bW3cNfRoMPVtIF7UttsXyioHIt8Qw28WfkPf8E36MuFM6n6nnek/c9/lTq0e8EPtqH1ao52scKpyNA7iQ45W3ApPxpKL9yeS1+5Ns34GQv9O7eAEb9jNAxWNEsdgnnEUTUAAkUkEkC610ksPdj+0yuz6d98ZSldvo9GCqIvrVCpva3mBS20EeUGuVudvI2W7PD5rwTCF/DJ7JHKPNxQ6LaPEGfGqBoaUc5oDjkIEwyt7gJt/JatmC0UGSpPxyrwf34z6PjF/zxgdecToWIhuKdWXOSJReK7qxYT5l68H7AR1I48W0i+xOIJsHjWDvjEIj/4DmZHW74TbpHcl9Ae//PZ409opLnnJ5CUxfe543GIDDIZauSEs0/6erzCXNSuxB98LwFHFys+D56xHdv7wQZiTLalL/fxHB1n1ihIzjrGAvsWWsooos2G0VK4AxcwwF2xywE2DkFxTvfMaEaWQRNB9NComnAC+kiWIYQY3M/GFmGMsZp2cVctExSuT/nx7Ddzk8SmkcQadwmz0wBScIE1oT9yX5CFDRcG2mozXgmWxf2cfw1tXAWCfATx24FYmQjEOQ7TAPwE4wcuCGIe1NbZMztUzJU5ewDJKFqcWm8Z7bkTbATdARXIFA4wUMVYTlISQKuZTPZ3SR7wChZf3ZH2wfHv3J9MaxS4seCrQb8oaiO2aOjMUiqsbabmn38xda3TxvUhNqxrHm6pbCw1yAYqa/0bsGbGRzURZku49sXmL1F0wgXmHbN25UmWwNEOE4pGEhw3lX7cAxZF1OgGre9COA85GAxGdT0lNEwF/ECwgIhPok2Z4HCTIRQ940MfFUw+MoNVDmGF5/HTaCbZmxcvjITVQ83pmDhGO+KNQrgflSqhMWcfqiH0gNEX3KaNH7Boa4kDdgCjZ8C4AfTtt70z1d79drLgUdT2ay8RJ7UGM3aUhmm3SEKEJhnWdF8uUzZhAhemDCGoO0NsZwltsnFKFfCjChdg3E0wNHRItwQ949rDvA2qrnKyGtMhPRhGQ7V9E9fJBswqh24RrbrWz9jRwN+9U+CdCgs4hM/tEIKbe0VGJ9tkrGvAEp02+DHPCjShVablZsaxThwnQUAL1CTJcWhS4AjLUFAiBoeQ4w+HOF45ETdUIJ7nwjOnsVgSy4QLZgcc2yQX9ibj9ZiUYRfMGdPjHme+ZLmrsC96xXq6dGJWxOaHYrYkUugieNfvU9eGwsWm33eNy6TKLhOLufr8l1NzZydNfOzDaX8Uy4wM4i7rA5OcI3FCgaD+U9QvcuEUHl59/SZJmaCtrBtbkKx/aM8ZVwSDA6u+Agb011S/XQRfwQS4Yt1L1PrqYcrSHVPYWd9NgVPcB2PBCWg9588QFtcx1jmKTwNHs+CpODjgoNtkfJY7Z/mgAzRuBzBSNd6pLsB4kf7fAtXRL+sxAZ51VqAZuHs01klW8fpalJw4TZxsBWuPcVZbHJA9Y84e0EqwNdwgRZxhrWdcGEZz6STcP1XiWXIojnK4pukKPcWhvPDsMwR/TFCKgGxuv/jhNEydGumgrtWegc5BZUEDpjlHcptpYFqEbssID+H1USZRkkrF6jwWOAVa4KOQq6XGPdVA0DHh0n3GdogiZgi87Q8THI5LWBMNd59sXVpbzHhrSRpxT/FEuklWA4qhojzSki/IgLvuYuKLTIFJJvIwmmrNVbQJvgrMfH+YvaaVg3Vx78e5wO+OSRSwBHaxNO8j9G2STpxkyUEr8CCHnjAvNLMmBNmjHd+TmR3FQpgnq2MfZlC3UuNOHQtLS/w5DAhY0IXeNIkZs5bZOHtZRq/zte8QS0pGzSceTeu4kWObSf0N4M+LIzOjUTDZDXGGelFFEiNFIXEES+zrzA5UAJYG8vdI4DBKH/DtJKsAF6mNZh1AvKplVHAVY+w8L73UUuT3IvDvI4wDAfoDS4GNuNpFOPEsdQ+E5ZF3ZEjpii3NPJhvSTq9ywmCxXTLvemztKsHASoWm0r5RdeZmnK4asvEH4I/tSpMGhmxmjzbxsugIO7ZF3P0jNDNsKFFjq0m/6CLPlI1jXFu0XemZIZWceZ2VHgxhw7Wx0skF8hh6dn/w79MnVffYH6cMyjvnHt1mrh82pAfaDG3NsmZhqEfxpIF/OybjaAQcUTs3m2szYdMcgtlUgvBdoAf3/a1TeInyS7J2Lsb1PAkQQW24NhXop1KFlKPQD+AGjyeVp7gaQCacPN0MHGLVkm4P2hwNmefCesxkCvCIFYXwD/ixMSEYD55VlJNV4wVrxnOzzb8nB+gEvvIQ20at0YcDHF9hVazcRX2bxKzd1pB8+1PUYJgPx1dvxVuvqN4B/TA3QLKtEdmD0gcxVjYI2PQ/3GQueyZxvjKCMWHjLfueQPd18UbQGF9FA+JZ4N3MClWgzmMcr3MeX0gwjNf/YjgoHgHFa70jfYiCyfPiiPyBiabQccJOwyNZH3rs9AB//GMXj8t+A0TSnAEYp3zzAssA89cL+cPHgOL/skTqbxI5sA//TylRYj7ZcyjrBtNEmoA14DCV72gbnUVPWQIRYiSMfI3jKYPYe6jvKOr+Mj8y0e577J/omiG01yKtVAAiK9xwTUSZlkDzkGuTFzVYBFt+RrP0nS8Z0fZKSoN5jqNHd8XFu5DP7Zhsw+64Uo2gOiJi3E/Gwi3hJ3vZC/4jsNyX0Vb7B8b8rZj9BOv+rf34i+vc14rjMVz2fOBiwEDeQSFU8fFb94x6dkwStkMJngzkMVaq3+fXAl56L/nUIU1q7/wnTTyyLk0/PhDnMN76e63X8ErA3rJWVLCdRvNWDpBSQNdNFUax5nJBLJMwA6LFaff4CX5LR0LWDsWJuK6O+gYXywmF7O4J44LBq9GtYcW0CJtdTjgUYhxn4NKDbyFOPGUgJHzOdoBuWtuHvzOO9SF6F9bTlPU6qj9zAfw+a/DCDNwBtRE+6lZ3QxVMksy53FAsUG6IgnXIkmG0AzQMiYGHEjG3xkZF8FcChGJ3/yXTc1nPWSzRYjFduF8xOfAGu7wW3SjX64dL76/MxgASAATi+mi+jw/WQBlRnTdcBkCxBD+8/9oz0PKDgOJslez+3Qf44x5OQ4QLUaTjTyQm/dtW+LqJzQA/o4fiSff+PGXb+nWGDNyPPyLNoGfY42/+S28+hAjP14tVBCiWLt+/RAGgDSxMJsAjcxRMHEIcX20S3mI0B5M1wTavjefeiKN//LPkFp5OrU+90L69J9+Nl29s5z28A9XKyNKP1zeTGfGSEgAE+WcurTRV8pB4N4HxwxU1ice0T7cOmJ9oEi7EE81dqMcqmFVYIyAHJ0642TsFZixUQ6uWghozIhxm2GQbujFf3wYe4E2VCIcgEs7zNdYrEP6rYMLZe7dnJhI2yR+YWbpudFOevoR5gyRe7g4mn76xEY6N3+EuyIumNukT3/6yXTiJ55L/dffTHdfu5yOrt5IJ+/dSd+dhyGGnrbxXa8M4UrBOKfZxHU0VrsINlrOzE5m1h8VBeJWv4CAxDxEJq0DWoynevgzYy0mMhPlO3NgKKLJprjJ4TzFtRJC2AxWNK2NgZPCw0VvcaAxhiJB41Hfi/eEpXu1T9xYkyQZA9SsPTIirn97ExfB4XT7RiOt7qEhR5hZA5bJ4siMJfbBg/73WW+BWccqYJY34ey457GO1maJhIMGeN+aZ+ewlMPzkq1vPvX+4C/SIXXmhnHPWy+NMgdgTwrhAvGjQ6VJ0o2TjQ3mLxCWviYxG5Wsx8U6HN1F4cFCEdKO1YIDljkopMnIN7AMuIuaoQAQCDJLHFJk9ezBFBanuaswyZrrkhJ7O1ABpoe5jE9SNHQRQQgiOioRDAgbT+DaQIv4fRtsKKEdnuO+PJNroKV2GjytwjgWZo4QWnHdtG/ohTB2TLZWQMCsuEUR6A/uHyDoE691AlEKfCthKTAo/Mg9R3sSXWOshvj7YQT4CjFQDQTWPoWBb9zZ5MSlXQ7ZlykhUeggfKD1tB5VMazHKE0onRDZ99zj67upBgN8or6DkEB/tDNyFivKAHzYxfWHtNCOQRo0tzCBEgx6BK0tInyNuebsBcemYkPXQIW8VZ4/Am911znA+pLHyuEBXOJ3A1iCNqFICy0tsFhhh5tgYX8VWKKl3sTaZAFkbgVjex+EHZdhB5+HEGS24g59Q6u6KG8OrE93A+027LfZ8IQ9Sn8yEzJOEqEMYMbJGJ7OPXOSeBOUFVhnCsBjBhpQIluj1s0gzm5A3uswVmsxDVBMjJGdFXCGENFEqVQgNtR6VAPoiym2d2Fwr3z126n/yuU0eOWN1D/BniZ19d03bqdNhEP9AHO47lvfrYB1oIXFQA1q1/g9cKCJ2z2ICI7BlOJGZgIBphlrqIeAtK+6vR7nnXRn2Bg6BLG16zDyWKIruAEO2MAlrEGEkSDEcpaCV35IXB7w6bMGR+zvDWHDOqoMoZQwcbXQQfcNMAwlF8/LTO6L32TVq5MIYQ96q3eBNEFXGuryUvsRloOseWWSAdUQslrsOZnNfThw4W9sYBe6qTZZJYLn5yE/BRNGoWyqMH8tstxkfggHJKDQwl1W6N8H7rTVBHZ9GUXcpiPxA/MaY14F9sfYOdwNWac9i6x7vtPP3oHWJ+kYMTyMcY7977oen6u71Vq6xf68j8Lw6q0WBcJ76dIzSwiJwJAEFX0yqB2yvaJuH+3Uwe0WP23cYvtMWliGchJYOMcm4x1iPTHUs3wy5sCa8dmfDJmW8uoCigO21Bw7PDT3tGF6/gFu4Q1xCGtvl8yS115dYT/zLCblaZSWM8B3BHo/vLmBoKFlTUdXmHvWTsuu7h0KN3324mgEBzEoeCgz4R6S5Rb0QLEDbwR0pS17lMBok4F49+9eZPFQWlLCxUMA3SUEmLVB+ed+kaaOAW8TNSCTy9JAM2TmOGdRrnb9DbxnEQQmoE+T0OzpSfCg1klT58fTqYlJMlBiZVxE0cA162v6ce4Y3KETxD9i9euPUwCdcR0rJRkutESaSVwz9FfBbIffKn3sW+8I07vTNYoChUroCy/Ji0mHpaJDnPsXx1A0VSn9QlKUYei1Ar+xgbo47+JV0GlvpiphCe5rSyVcJNPkzfFprIwUj//jz6YGZ/PSW55g7VVSsDfZmhsNMqmCXyaygdBH31rCLAqvFXiM6ybWMUYM1ENAFm6MCRw/dMCsmQWsjQ/3u+fKANhV+eE/lFAw6ihepsVX9nMDZa6KK2stsgRQNMYKP7XLLLuUi1CYRhZLdzlHR1iHAnzQOx4upsemhDX4UDtKJ0YOiRdGqHJNERSNSdQKu/H8l9LYT7w3Df3YuylbxF6jrTzKFsTMdALGwPOfPH1YHXFfZ7996NGj9NalRvrABZOBEZnPuGwyUuLzO/5wj/mdjzs32yPQZi86V34857wrD+NlV817CmzigD9el275kxl1fJfHpBN8kW7JH4sr8mX+9ppnu3su2nJvcd0f2/R3fGjcZ7zi7+ieGybpCytg3MnG480QFh2QLTBGvwY/EN+zdmNO3uafuBKyhGvM394LOPCn+Rm8hsM6iqGRyLx6GyVVjiLUZcI3CmR+ngA8a9Dn6tIJLLizuNbeSxu/+ydpdh5LWIxRKzgJmrCErhMqBKlI06x9W16B9TtEjgoI0p/W92OYhgLTa4xH5Yu/HWf8OOhAxgAuCIz238matjgDAAjICyPE4PAGA+cosgEOVQk7u4v7nbT0nqdT7sRcav/Dyyn/+tWUf/c7CQDFhYFtXOLwq0B4BYYm7CYH2hGpJ8M6AFjM+BgCCe0qqAVQuZ5pSgVbNvhYM/6XrV3GjDj2QAh+/+NPMKJxjYUAUTTFuvSxIMwjQwIIHM9ki8pmY24u/A8Q3I74eOgdwykbW/a3rYiCAjLGCrYLYD//uRaE4+NJx8m/LNNiNh/bsgcJY6THfzAHBeXjhQrCxv1sdiKnc4Ch4Rnv+Yobyfk4t1hL22TMfRhSljeY8g7a8nsEJo+dJg0tWesWzW7GZx1mrICbUgkGR5hNU9PLUT359ENkGSNL0DdeTuvXrqdHEdJOnVyCgeG0oJ8+QvVrB7Pp+hbWHFzeCLUizovDjwlxRJAWmqBaCJraZjWWZeA/hSbPGBi1VdMQvC5UUgIX54+bmcnIlFSfeijN/ObH0/inPprmfv3n0yhpsMUCtbvwxxDiTGgWFvDEsfllYGSYQEsexe2Kic+jEDgBQ6Cr1edWC+n3LysmVtIKlqzfXz6Vrq2SeQeL1G4NzTgCYYt6aQdf+Hqq4DqRX1okRf04BxFtwlhVSAogDnRhbhTWJPSjbDK1pi2IahsmKo8A4zEkgrqGoo8Ms9oTpLg0dol1w4VmEoEjhHnuk4ogTfIeLvgBOzFQP3YuxxpaIDmPNrI4C+vBuI3REU4SPTV5Bxx0OTQ1aeYAHrOZpt4+jWa7nh5+aIhabmQhRKBZQMNT3VjlsAQ/aFrBWpcRuEHcQlgPDq8qB4GWSzpNb5JAZPX6Bppr08Wwz+t7aY24gGWOoQZxh/fvrKRZioGOfewnyMq5h9YSYZr6XiUytPU6OwRt19J5YhYDADR5d3s3NdHeN9DulWdYZw5ejAvEjMi+ZOtqQeNDmOGuhxRAkGlrIWBEkV7oBVwHNcVwEQKvdGkWV481yVuM2cQp2zeICVuVOTG2I7My0BJB2VxDmBij4YdZ/waZxNbUYHLd/oUntdixgCF8rBMXwyF8k0PYtZB4tsFNYa2EnEcI32EdjB3qMa4O3GYwuKy3uL2EogPpBRyBSQDv9ln774GPrWWERDwIcjO99OhDp8LroI8Z4/wjZ2Do2H/gEAp5dg4JA2D2HtpZTS00qNO/8lOp/eTFdOXeKm5FZpsEt/fgSN4gJTlrUpsaxc0cRo65SeO2wfkW/aJPA5/wVmCOIzDR0iiZbGOMT92+ni5xcJxjvYz/8XpnvJ7uL5OhFOQm9BSTm1ktGWbgREoksg83pyJ1KSswbiexME2Ip7xPqXLqHBJriMS1w54/QrjVXdn4V/utQf+nqUVFKk5gS6kFzgQt2DKxS8y3scse2mEdcMM8uE0qaISyuXnde0ksxGsd2uRUCmbCdbdPXbDRs6A8ZE5HuBHrLgVd3MJSZUHzLrF6VV1FsTaPM67TP/rWVPu596X0I8+kl774rdSen03n3v/WmEcfejiA6e7PV1AQIfACg+vr63Iibodolz8CJwvsf+OG9C7QCsJOd6siOFgvi34Zm45vMmuz58EJhtsgiUYbzbp12Y6I74ukGeCYwrKwa+CSPMQ+rSGg18A33ZKHmPswB70Fza03ZXyYbmSMJjwsquBaVbc7XVjDTTA7F9kaaNbtw3OIPxhcBeEgB33y7zbjr9B2E3rnE64PgI45SFcTAqRa/QFcbwfBiwMHWkOs2sI0v3GgRnFnchZpSAfYd4nrVRFboPRJ9+rN6MPkDr4jgz6G18UIwoQC4BwCh4lLeuzhbTacJS4A74MzGBdWstOdoN2FcYQ32I1hMly++sKNdLCGoLaBu+UaeIpVx7NWa98C50gOy31unpCLIpb3wFXWjGlMIHwOY7raZwE23I/46RnDrFLA2Sp8MhAETQULnuFPLd6e1VrVS3gikJ085R4ClsD3kR9agg6W073rxsN10jaWci1I9SksPdBP4Yi9kDOQpEgKDpPsUa3CJFJb3t7hSGKmtD2FomuYJCPDHWLYTum9QGZc1mUGWlfm3g0Sgsz+s19K45w/O+wp51lkLlr/dM0TA3Qr7Gkd5Z0SeKWw4flv+8PMwZCFyOYJL3UXwXUHKyqaxLT7xn66Q5bD/dusAZbNPJrMk7TtfgJkCDzwKGTmze1ypm9XI844zhpxBNgeoTgSjsZJbqjgol9x0j2itRAqFDRSS2OOuRs+4Pnh2GSAnz19P/1v/+Rq+m+fu5Y+eO5GauJGlufMwoMSQ0AvnUdxUapOIHhQ2Y+9oDJhE1/EBeLy8gieLZS/O8yxSY23qu2zV4SIycoOWUMjg7aIs7uCl4IZZHtYlU7v6bXVTvfR7C6zLu4tqA9T5nlgqCurwniDxFrUc4ZX9UwvpNM/98F0+l/8Ulr6zV9J5/7VJ9L4O54Mbwyt3u7bauxJBFb61w3SjL6z0l2sXQXOsSHGeYoSUk0sXAPcLT/9lWb69Ar8EM+ubk2mL945le6iUCgztlmUQmvE1BbZQ8OzU6lzYzn1v38tPGmIO2JeQhEh3IXmQ0WCjPZwPj+9tJ/+5XOX0y++5VparJHAxbXi4x5xVaWXx/yxdxT2ABvn2gPaxjVf8Z7zjnOCZ8Qo+Ss/IXTxENOONjP+X+rB38wzcI/70Tbvgh7grGPlHm3Ypu37W7fJ7G/HxX0b9R5P+D6NxTV57hgna2t73o8Lfo/2MlgE7gZdjGaC7tgvTfNxbDzvnnC+fHc88Q73Io8F7qJlxorqC2UlrqycS2Ktib863XEUQVj0y8gu7g1Wovjjz6YR6uwWcdc+QGE/9smP4SmE8hn6zEEeCtURFVzOH97XsJJpvNXMryGfr+WswLoJM9fKsYXMwHjd60IqYAZ9QgEDkBnw8UJYZ0vBrMcm9JhRA1yHCORhVjTdmrVuDZN3F8agaEYRRMQxGNQ8zOvEc+9MXepLNQhmzKPdNY7E+AvrY+j+UebQdEAW4p3A9Un4KaD0sWSERYr5ZH6o3uGHZx9A9AfXRW6vZwiRAd6FoIcY64M3s9f4w0URCezXdYmK4bQesXb89hDxHds0tsIOBZjwiD74v64ODkUmLBaUN2xPFBZRYiP4QLweKJA9q5b/waeM9cJ2pWQy5s7XVxxTkBjGYWYZ2/UjXHzO9jNBzCH63oP7vshHROJ/zD5DVu8e+wnnyGY0wDdchHCeswQqWldpgGB1BBLSQQhNFjM2KUYfhqJJ0O44mr2LqBNN7nJEgL5uXY/82s9jHYKwzNZIhUscB5vnqZGV9NQssTcIHAO0ZX0OTi2pHg5NpCTSYvAPDSaHsIWP10FU+BPwAi0E16Hh6Co4UBB0Bhz6+mYPgXtF0uJPE2yZR0M2/MPEiDxyMe0RXE+pKNwVEPp4R7zU/U7GWYur1ibjMNzIBmebKnllZCQdjOHlzwb8+dF2+vV3MxpqNZ0sj6ZPXrifnjhzxLvNdAZ//mZ1OP3/TL13kKTneeD3dp6enOPmxS4WAEGAIECCAQSzxCBREk8SSYk+iSfZPJ+rXFa5rnw++49zlf3HVdlXvvOdVbJMWzxZokjFgwRSEhNAgQRAEjntLjbPTs6hp2c6+fd7vhlKPTs73f193xuf98lh/MSxCAyG60nHSIC5oI9RAABAAElEQVRyktpu6wMwXaxhi5g0uERiIXrSNP4KZszawzm/JKNO/70VDxYFqDmkuqfGi/EyHJgn6iY1SZawoNWxGsH+7pZjxTst7WEZQDRmE7EwsHbCldc8pF0gh5puKLhk1nDD0WJgjIII0rgpC11KePc3mRtrv/D0Ammge9KtW400t4aVEo38HEh/e/p0JpAF0kOYYT8W8WFXe7oPkVpFiNX1Q6AcBl6Gz0MpsXyDZ9DC96S7ITAzBA2ZQKVrfBRmmpicZ17Ggkj6X8ZcwxXU+kpmvtt9czXdpL4MG8HDKZ3m/jLpZnMQos2bzJz4lz7m3QNjIFGP1OIQspnZWeqJARfAYR/Esojk3QWchlugLC/z6/Y8yygzzkC0rBVsI0ztfuo7TaPd2BAgwqOsJV3HOsrwtigXYbKXq7gCDh1sRIYlodMDqHVSdzJdTKsE/xtvNQFceVaF38AftNVUiAJpd+M6k5M7BxZbMMIWqt1DSNOSdJv0yQ0yuKmQkPAMYvGYQKPcOkncAaUsOlg6X7kyS+wa8IQ2fMl1BHfucLZlfC2WvY6C7E2saUu/96cwnQhrCBIznIkxztQ4aepr3eRgnCZbGX0cmEVXxg8YkyLVgBdxuiUzSvwuwyxSQjVcGxF3WE8yn525M13H8nsdhncZ+NjAUpEDp596CwU1JxFw0Zw3Z2gLblYrj0CsMFvDvaO+zDlcrqRb7JyuZK5RDSF13v2BuI2A64eB5lXd7xiHwq3B0tv4szeWGRMB09sA9z64TgK2AINchduwnEGLbLLd4+SjBC6iNhNdV8EZo6xTpsxAkSOxZl2jkDJWnF5coXJY8syIJj5Tk18erMLIE6ODJVc3Uao8pPXHn06b/+YP09o3n013Qrd2X7mYLn3zR+k6ms0O8LKD5axFGYE6bpd944NkDMT1VAAC/nTzG8HtTLzWwY1SXiDc4oHBkAT4W4DJlFlnuoAFAOR68LOHUqzO+dZapDa1xPpIV6Q1YanmzlFwQgX3VJVUXbRhs7ptF1jvTKRivodWkSPhQs01rCZCOIw74xKXqjzyyAlHhjiRdjXtLe+ka0sLwAcuk1gnx+BAh4GTYSzb1pvU0haKSx5UuGkuo8AB11l8fhAm0wlJ3y7OkSiGTHpNatAViQUTj3ct3E6r/+7LuKRup76f+3BKZ05SXgH6afIFElxkDCLrpTBBO5vgE5l2jb+Cq9ZtlQMZA0lxbBJIrbHoyyD627oL42lw7v5pklNwjqZRfBF3incz+JH1Y53M2tvA3NpcBT+TVm0PGDKRlGEEKme2sJhig0HJoNK5Oy0Ky7FnKIY46+sIAHVqh+VxkTOpuYvnuppiPc/xbKIxy6PA8p55FBd7VJsdJHbQZEGjrIMcjD4sQcvByb3QnV7oF7I2MXvgNcZQJqZ7SMU2sAnwpg3WfGe1lm4iBG1dVXjcjrO5y7p1UdC4D6vc7l8/mQZWV8nwal1SQkdQiBobOsP4dOGWT7AIOUeZbHLsGVvdhhFUaPBXZbceTmwzdAkcisBNKdI0cmowTWJKK1P+pnuK7xBA2doAc+fgGQvlNVqiwiBMKefwiF9i5fDqIA4QxdZxZj3GuVlnL3WPZ2aMATzA2hW12lMmgWIYKB09DwAKa+T/fdRSnJlJ6bEfD6S/erE39Y9Tzoj6llqhxOdm6SVYFmYXvgVzp0kSuumHwgPQ7WY688FHUpX4vfVvP5UWUZJpLdNbZrCqay9nHb5kmiDbj5yETtBmB37zEvR6g5jzCRQCx8HZqF6CN4mkIGiwWiyscdTyezscogNoToesOdWPvDsV3/NgKr7rbanwzvtS18wkhbzxIgJ3lelrl/sYbdoGHrUKq2jegW6VWXSTeu1yFudRRhZ2aggdm+nT7y+lX74DRQtrNzOykP7pfZcoCs41YHCLfseuXgkYGf/nv4mCai5t317A4gtc4qpZhG5Z2B4yw0u8wYoHIwWskpCthMv3b/3x20i1jxWHO9wzec1s7ZmPvCTw4Bx5mjtYNNZbPJYpOG0242ODX+aWELS4L3AK+yre4ZZ4VrwuXlDYCNxDQ3+/z9m6uO2Zt0N2La7TgG7Z2b00IS5nvWxXCMmELo8hD8cYwWnOwx/uYUvjffxP35lgx3O0oTDn8KIdnokx8oVtyzfHZ64f9RE388x9Yyvp33/+YvpfPn0NOFpJPZy308D1FZKwdZUWUx+Wsgald8xIvEIG+xLeWJt/+UTaxmgxeve5VJkaoaYlcpB0BDzj0shP9XDWe/ltQasX2fM8CRTH2O9q3oAL1tPFd8zMyYyY8YpFy972oezDDVeGkQnwnRtn9j8XPUiIawQCNWC8mwPjQqpdG8GEUQZRH1ALCv0QWZBAOvikQ1EhCmhCOBBmebNLmYE2bcZY0A5L4GSia1jOTLkcFgbAXKTAqHllxECAckyubgzDK3zn+MN6xV8lTTfaOx1bgJ4d8YzPQgYgipwe/oaQEwCbETGf8xkbPPJVz57KgDRbD88Lq21LtBtxXozB1+FQA5DceMcV3/OgiE5LWACM4+LiUSFprwl8Ap1tihAFcD/769iP2vJ5X9FOfB8zjLmEUMt12/ZAucvO0YnHX57r7G/QNoI1zYrQn319KQ1MD0FkK2kYAm5rC8T95YwDEIlABKzXQlk73GQyxFvCYtZNIO7qN55Mb790NY2t4GwD42sGo5dqE+nvbk8xPjLwgSzq+NkTbw60weTSFjojGEeEcr7rBbGY/lpNm2zzJIKYboom+TBA3gByAyX7IfJlLGdIe6GF0OWtdP5kOvPZn4FxHgIccfkBtnYBaLXnxptV6FsGo8R6GFBPUyATXCjI+mRx1g4B3X9FlsD/71Upey7NEuj5Z7Pj6TJ14HLA5yoWjLS8iusnad2JTWkx9tXfx3UPDV0JS0MBolvWciZHgZpavbGwjbwUczgA8b91cjt9+PxW+nmKUY9rbuMe95GhxPoeUDqiigtNUUQcMCW8GiDOuJlPjXWRGGJ/Cpc9t1I4WQSOmmjQyxN1EpFwP2upAkViJjFslXDNwXLWNQYxxII1fmEUQXM3nTmt601KJ1FvjlN0eHLpNtkNs0QfnneTXAwT/2JWsjKMyjRKlT4QuAhjFdeM1dkt5osAwL61SHF9ifHPwcTsQSjGvkAdHixoczduUqOphksmBAINco7MZOV9tMSkaD6BxpzNIC4L4QA8sYXbYxMLa+84pxWGYgNybmp/rfJamA6quEcSE7QDrlhHYMDQRqyEzJJxamZ9wyXQNOswLPvsU8SMsT7ijXnaqdPGzi2GXwPqiFnYhoDKxIm4tdKVqardw9xmsCDsIeBseI7dHP7T4qXFtiATx/U2v55JFjm7LgwJY3v0u45AS8B7k6QZbQC4inkpD2M0SXyT7pOnyOpm8iQVEr6I7Am3vxxC2QBnrohZ6izClnEEUEwYCGEfVzn2pmEWOM7SMHteqa+n5aeeT/vPv5o6lHXo+Y1fTrdI3LOsw0ydgOEbMNdY8lok8uiViaafIpulWzBsF6n0UXTAJE4Baz18Znqh2TeOY2b2ehrl/IzQ3xBxgqOj4Pi+Wrry2nzaw22xyuEuzHFuQe59PA9oYhlDWD7AKkrcZBcuwpSAh3HKcCcOuxjFWDssJK51G4vFIHPTf1+hwWx2JikZOGaWVlJHMx4ZCIm3zEGTACdyRoC3WK9tmBEURb0wTlwOrbourD0I9oE3mam74t62qNvVxAOggYKkpnWa+3RTahA7tU9ynQ4M9IEMMzDV8963psF/8evp/AfehXBBUoSTx9PI/RewjJNZzrgeUEBhhHUkiVIdbfsy8Vi+ZCAaQ9V0Y3WOOCLEUQTMERRR2sjFMdIkUV7echEIpxh9oI3CJcwampcRXF2Gqd3YhRtcEXgxvb5yk0KAHhDO0eLsehiACRDsMpxuCniTOMh6azWMbHvSZWAy3IrcFLwe6upA2HHvlG47pgIa3AKCTNcJBIbJXmIcp4glIxOtlmfO1CLt7oHD6ygSAJ+gL1p9Vmnb5CzW09oBka+uZWsA0koz40PgHs4UiQ0aCPUyy1qYdznby9CF/FAfePsC+FgnbiCQ4HgZ9xaKA9BjvHZJYiAvoWfAPkqNI+2+BCoYOXgH/6pcDPoIXVhbxiMAa98+cXv7CDxdnFHVqcLCGDDZz/4VxbdlskACk6CcoKmorGJVzNC3C/BbS3CSNVOp5zqNsT9gNwISKQ9Bnvo81mrhyqLtunNak7It7cJrYb8L5p941rKMu8poTESl2GN2x9g9zpR1yGxA/nkNLXm7jIs0Z6BIBt95FVUyYHgnTFCDc3CsL50kvm7oLViE8VSpYg3vX12LuL3jn/n5VCel+uzWLgpM4wFpHwFinXWbB2a01so4dyF4kFiXkgOcQfouQE+FVde2SJr1AaxMZXg34zYBDc4i54yzskvpCZPoeFBpAnIo35DhOr1OzEzc1I0AITB4q8O9E+5uc3WXuNIFZqllylhwcbO3+FtWSU/ig/1FcC6rPysvyVrKnsQYUPC1OWi3d+APyyNpfX6dc4PFnnXxlhNk8FZp0WAvjqzLRejTANbwJQTW8r3n0+A77ocE0w8ugwrUdRDotSXLv6AwIAvkHPjr8eu5dAtlRxk4untpM0pNGGaxwZ5tMVeaDMUmqAIchxWW76yTaPKjDrj5xG98DrfPSdaTbYN+tVnb8oP3ppl/9nm2kH6AQcAPfI0bvviRwZf5Tj6U4wVjzmeeGUFIruMObHbobz/TSI/PSvNJCLI6lr78yh3pCsmVyDyWeuE35i7eSFf+19/F+2Qo9T14X5QN0E0yz3q1KYfBCLDmsL/svfjDTJX7KED2yHTdX+HcsGWGp7gPZk6MV8B6hmPFxQ7aPZXhz4QZ6ATjjBeb5CUbcK9DiOFvdkb5Tp4lbsiuRw/ey69422f88X3Gf/KJ73gq/vIf38Pj8sM3cY/8r884FtvzTGftxENxfzYenuGG8JYBvm3LoRz1efTeNgKWozUe+Qftihe85r3+eoszHyRu962nEKYgdhH3C48n3rI2cZMzYxKefhQpO+C1YRXvHBrLpjRRug195L32SCI0lJCUmSlgcGrjcXCAEsC25Ss60Iwu+Kp/+u7r6X/+hTfTu07j5QGsxAC8R7zBK1bPr/noHjlXso9DMGlcZOiYXaDDudGvnULwqORewY+/TaPDWNG2iG1pUkcoZ2p1NlU/88WrC7gULeLaOJZGyWKSW1yGoDTJ2IMbDsKAFpwKgKpZmbNI6mBNs0A/iK0DAFpMOaRohqnml7HFxjtet9Dhx6bE4ARykC9jDyA6XHHv8q1/nUdsOX/97PxchmiXvzYQkjfXFbr8nM1dhu5Q48N3EgqFnyYaaIEBuI577Sh+/Bt9ZAAX7YokedZXCJR8GYDBZ4Uq788EYPsEkfNZYh3t2xZ9xJh5E1q5+JR9Z8M+c3R43NRsfWzLHrOHbb+CBn+mnwQE4wdpBj/nYWIP6qTYlVmy+KT9BDAQ3dBhQ4q4yeziCjm+00wvLROPtbaVeu+7kKY+8kh65oVXKGZ6K12dIvMXj+nKeK5rLb3r+BJaPOo6gIgnYTK1KmglZHsjNbQ1ItT2rXDdorXGLloYViHf+erWU0VB0IW/tIe1/x1vSxW01AAeB4F9gGsr4uPS/fD9pMg2bo64LGKdxsLsq2Ye5oY5qxkyDW4w+qy3dUj0Y6/zt8VBewcJCT56D7CHkGFszAODa2lokgWgPsUMRZj3sGB0ECB6mWt65EFiRog7WlkiZg0mg7nUGUeD2K8mxZ5H0Q46vhrjU0xT8/Hpdy6kj92HthNtvpZOmQB/FIG3YCyLMAMeSpGZxad9mRVzHYKPwg3UmwksJlnwTAqv7jG8M1Yz9us2Gb5wgYHu81wm4HMTwfJqZYBv9mOPNztkmitQW2eHpBHWElogw+A8Fr5NEhZYkFtLFV1BkFK6qeiAxq+J1meHQrUqTQQKBZNuYsQsrl1h3A00ugo1Q1evprWvPBba7hbB/V1nT+FmgiUG4b6xgXCPpa5pquT5eqT1DwLPGvRifawgAJdhQnZWiX8gpkghVG2UyE6Gooxr2jQJXKZgOMdgqvuYeFXNLgRpG2a5STR0ewUcAfWjvBN7KKL1bMMsQzDVFueo6xfxSwgKw3Eqsvmo4e4QV6drze0c1k2oaT9rwNV4SRyKwIgxtW3cJ7XMGEPhKzvzPM+ettmrPIJnG4at/zhuksRWrV0lyxNWl/lVBHrO8EIf9eD6iZFgH8UbCicocyOJhhbjDvNb4gzGYWUAkf4axqAX4a9MNr0CzI9WtBWKwo+gFNn61jMp/+xLxCohPEsQ2CsTGZTuIu4MQcJaVtpsY0/ZZzW7xp3kgNEqDKb+DwqqugCpGKkiBN+aPA7jhGGFZ/fod4d04WXSkp554FjqYDVr6CoHk24SFJPnuBTk46Mts0Py/WYXqcghYszLfi1rser6MH9dx4wx1toZccysQbj7UR+qBAx1IQiJU8WDnnfhzQQR4uJ+mNAOqnAzhVYRHGmBa4yP2zZYU9PWB+7kivWIEgJxHWsQnrlpGncoODtgFn4H5NMhL3edX0TEmGPthctp5dpNNN2ddJNSL21wjvUWhQLdniidF54hJdavBNM1QGIGcS1do4AoIGQNo8GGBg7yHG2IP03EoOue8NJC0KlhcUevkGq4NsnA943j9gYh3yPjnH6z1PdNHaxCvcKu/dK2GeRUHoWSBbyMPiXooDit66CGhQfrCLDUBRNHfWgYS2CKPvuZaK4KC0xB9B7uMzESw0UxxVkC5xYRrtpzWKuWdtLc7XVqJaIcwHJrHC8zSxM7m+wDghI/eoZ0cxaNs3R8JiNp4g0xDb51f4TVLVzNYE3I8kfJiEGEQdZJ19ljH3tfqnzvudS5fC21p2awFgCDCMptXOm6aL/ITSaucHDHjhHZJd1XvGL/tcoqjBqHbmmaKvP33BKKhJs1TA/W82XwUotFLXDuNxEqthknw4m1k+F0H1rAcBd7bxyrp9Yzq4LOmmfGLYmrC4wrXJO5VsBNtsZZb8B37C2QIAvLq6KZ1j0gMRqHwjIm8CVntpu2+7CAqbhWxvK+VdwaLd8SrpD0mTGkPMrgFCA7KFkUAtqsdx+wFutIHyYPqG+QXRRrzgGWogMSZ0CROYMIPVghKUyaqnggnZ8cABcSJ9dC2OEZrW+6XBVUPsAA7sCY92AN05IrM6k7Jc2DPxgT672DW7lKxCXijncwuZRKWL63snpl+9CFBueqTeCbaxYKBveAubtONeIqcYwKZaf7FomN6MPC1tIcyV+WVRSYCxiCfnEtx74fVFCIHjeMBT6CeWV8CvwCY1oltlsh8TPvwhW+Sip5aMwBCh3hzYWuQ5QivhN4zBJj0T54Xfq2+vh30/b1W6l8/kw68fMfTQNIppKrEgqqt09tU04F+sy9Y6Mp/cr9rTRDcgYzOL9CttIbxNmpEO5mX4yJZVlCOWnSkOqpmTSORWwMpazFnvXUqIJrHVIXtF9X0wq8UQEaWDk2zTxKqf/UNHUUp9MgrqdlAYI2FUJwQsGKr3KCv7SzJ13iusEBdx1L6T7GZrjL8OBueuT4ehojdt1kZEsYO3oXl1L96s20892nUxeWusZnfyGNEetq4qYObTVI9mECPYdv+y2SVbgXy1h2l3AN+Pl7FsjEn/EMPBI8QvCcvHcumbLjcD9YOPkTEbv3GibgG89N8M3cL17wpWzg97FsPOOPDfpzRButC5jhcx7gcmwM1z2L8dm2hEv6s1WGTRO8817aPqLjmWCVPeSl6MWOvffos32LALKrtJm993PMkfFGw7Rr2zFe3npmfen9Ft16F2+GqnXOZCt99fnT6amr48TXV5FnzK7oudhMlUESUVEGyaRwmyXswShJ+jijFqte/u0/xFsEAZw91Uutxfk6MGso8yszV5XBbXg53WvvOUlOc+DtOq7ZGh5CqGc9HU/IG47HkTFf6WIZnAG64QcElv1lglxwklrMrO3iBrRgwJqov7SAWSh4RlcSYjiauOa06HwdQKl++8mUnngWty/8MxeW0jpMnJqYUZiJcoUF4bkesmBxquEMAWaAfgjEMoaGb6IHY28s5OGK8cc1d9O0+KhFcfGDqLs5QaCELa9x6fAVG859Apgac3+cVwg/bg7/AqCOHuBZr4VQ6Lr42ftt13t+0rbtHTIGLLrfez2ajBv9rPVPQQvhw/XjlQli8TbaVKjyYRf/qP1gULJvY1526TyyuQBUzN/WHffRgLJ7YqR851VaiwYZhfcfNv7Widvpf/zUjfSF9y2mTz+4luaWN9Pg5BBmfbTzaPHVuB2AsCoUlBKJNNE4D5rgAerYoJbDwVM/Rku6FnVyHoBg3MnenV7fj9pBEqrnt8bTU7cnsU51I3Dj0gX3uQLfGcG4bGABa0c3wOeWG0xcPXzPEqFlg/HCH7v/o+9Ok7/6qTT0U4+QRQ9tManIc8DTAfE5DZNMML86ygG1VfvmIweBlj/1oTT6m/8o9X/wnWjIIUwyS4xH7dgtTgYehlj/gDlcjSqsh4L/Zfzr//YSSJ/130YbeWVzIF3bxekFrmwNRqADsZv/t19OTSwVg2SoHH70IZgWmRQYZwiWmm214Zo6ZCwMzLVmn25/Owh3BbR2JeD8az+splmMJyINtYCeJ90cTPlsPI+WFOOrYn/ZZ8sa6NYxALGUsOrK1M2+mD1VONNdrIzQXB7bxe0QZM16qG05gg/duEwxzulgP4mlIPkAjm64isEgM/djeCdW0OpPzN9EWZq5l3ousQMS5wBDHZkEqL82ggDFuEogG8e0AEOnFtA0+fv4/C/h7voKDN827k17b1zD3D+Zxj/5KIR1HysMDCTMBupIiPVmFIkeRdgGu7EQrXR7aZV93UNrCctDdrk6KTlNWbwFMY3sc6ynjPxzZ8+RqELtvolMcLUkYH6PpA7TxxHhEYZavaweglELyQo+NzvLrOGqp5bnd9fYI5j7IrCiDtHz1gIRarW2DhcYDQYQBgD4Z6l+cs7EPV3gJONoi/hbWnhZBlpNqodJBlzrb9n0oHS8S4KA28/citiPyTNYn2BYHzpdShMwICep11bBRVO8Yrs+Msf4GiTEyPMB3hJtHa5KXBPh0CvxJAjWwOAWKa8Dv8LkTGD26vmpR9M+95qFUQGHo0UcCsouige3lky0RHyWqbaxpPqytSEEtA7uV95sqYQJYF+BnN7YV1LKIwSPzV5NEzwz3svYsWL2IYiZev0aNSvJJ52o30pSGRgf9pVKf6xTO+J7qgh5FayjJeIfh/muh1/XWManX5zFfIxLUXkjAxcvYGoH2MxDmNhu5g3DyTPiU4m4cXu9YwgMpAbPYQEZPa47LdZ0zpBlOs6SzGAEheDYzka4okmbVMAYY7qzTu08BNoyCqV9gZr57zHHJllp8wiwFVzQaB7Bgz2890wqkcRl8/JN6iqiTPrRy+mA9O+6N3XDcLlkObNtOSdg9ifMNm22cTUrIjgWmUOR67paRsZA5miv4ijh3FW2KKkKTfgpcCLfAItFLJs54Rb8JkyJRhwr0wcWZWzQwOP23ACGKZ0ecG1yCV03dXNVEeEu4mwYzyj4btDCwS6RElsUl8dKaLKLI+akQaYxsrKAdHEvQ4GqUtS1lyGH2LFnkGBxGDFgxubyKDvE2jE3rfh602ipi5k5SNtW2RVzAq8wTjXpKo52FlDCknG0BJNdoRPdxspcywHLHXiDbdzQ9kwOxB5otUEqZq84GzxsrGsRQUnrqaEUdVyKyG+SNhAadrAI7eImPX2MqB7m0hrIp+FhMlaCH6T5KpAsPrDHuEx2soNAKk44YgAjoyBz0KUyT+IF3f0UBI8UAQq/Jdagd4a9AkJPck7cFums83La3dC0Payzra1yuvHGKtZVLMDUr/M8VdEwq4io0H4bweio5p9jMzashSLPdW6z5xXGGA1yzUQT0vw+7imgXKhAN6qc7QGsv4t4b/zoD/489SPwNu+9G+s+eJxHOwi42yjdVCXssFZ90EeT4OSA/X72S5ogPe0g4EA1+J4yMaQH7MZdd5jassGkd8NUEpJQxoJbJh4OT39q2Rk7lsX9SVO0unbhVTI0DWwwOXYrzj7T4G8r4vhKrGkXczbuCU4nEqG4VpkyhiQw1BysvQr/sAsfwfhDOHNs/Ly5Nph++xsj6c1FlQTkvwMeezkfNQ8LnezCfxygLG2DmyoIOdb4yomXEXKGsWStffXrKffm1TR44XRag9ZEfBDKrufmh9I8StMi75fnW+nPXiO+jJIyFjg/g2XpgPUtsDYHnAPpRD/eMp77Gnu4TyxZ4fM/l4a++NnUfe4MiRtwNb14La1fvh5eP2YpN1P4AYrq9s351ERxM0Ssdd8XfikN/+efSx0UaNn6cG5516OykXMkj+DKoq8O/mcHa/sWruMK7i0sh3PbKHLgq01q1sX57cIl+NiHH0m34JuRANIQNc8axIWa4r2Bm3GHjKLyysLXHjxPEWWNsaTfeHU8/avH7kzfuYzXCRk5hV/Pny+t0O598KO851JcDzgXD3GPOEPL4BHPmQnThzwqExMu5GWsXyrOUOEYgpiTpkH50wxF0Hjgp4joi37oMvoI3pV7Az/xl2biWTddnHn0vTDiMx7EeJYb6e7wXv5yr70cxbP5Kbzf+C7j9x2vRg7WnDU4wuHZyDhvMqK0bxfZC14QHLqH5bILpS2kUwQSfW/C/GzDd9aBxQZrqEV9kME0f/xSKjxwT6q+7Z7UuDGXdl6+TDZl1JZk2jUTugmlaiTzEj+ydBEraT4DPciemT2erm0DLyqY6CebDWPmPGVjZi1Esky+Dh/G+LmFL/zSCR4xfWrNP/2Wa+m//eCb6ZETs6mLQorWYziBdmNutZAuvrSWiqRv0/+2i1FcXMDV5uyJVHjLHenFH3wvtSlKOQLCuQWcNCF6eVyJBmCiyyyQFdTHcyvp//nNq+l/wtfz/fexYWixhDwXMvtPcSdjcDJhyY1wnBlAeRTA9zHeEL6cbMxFc72Tz4hcMMnxnPPMtsTNifeMQ8n16BXCVQBEBsgCiL8hTPmGl30FIDO2aC67Ie4TuAQK//pyPB6MmJXj9gkH7R2Mz1/bCOCP8TMWnhFYbcd5ZIAdT8RztuU1XSbi2mE//Il+PLw+728PTMWFE+30JLXqXrg5kPqwfh4AiGpOaYAb0YxjKWh1tlP3xHDqpkZSjXicseWNdJMMSTdmb6d1tFXNxdU0/emPp2W0Ra+SOcvUsl0ksXjP4K30ifM3YT4QB+j4TmJyHjpl02jOEIxmhwZx/QO5mOEIwSXcEZl/HUbUQ9BGk9r3sx9JQ2b3fBC3IzQThb9+KhXxt4aExfhECEViGFtf+zoICYYUZmOUe7vfgen/rnNYzGgLgqdFaRQkM86vLlN7MORapOrsj1rZPoj6NKrhOu4mauAneGAH4dHioN1YJOZoY+ESzBop4nPMefSTH0pFsvIcoDXLoSU5QIu1R1yVbo0DA2pCM1iQEXPz21q1YDr2IRBaiQN64xIwxnU15BXSZasJMyuW+8Q/CCvIESK6DaOyxJ4eIOzoVSKsa0EmughNK/WnYMLcL7yB4pz6sIKZsW8NGjOzn255e2v7CHeQJdK8r8MlL+O6KFFfnjT1AmdD2KEdifgyMWc9wwghLQjFtdUoB6CWVK6ihMBhkHYRK3k/yXxmYCBHgZ/REeqw/Mlfp+L8cvjgN4gZuM2YdQGqoMbuaWPVwcq1QGKKaId59OLm3IcWXhe5+gJOHpgDHI0p24VjBd32PgLk3CyxXggMWEOmYcqHhsppcDSfXn9hNjVv0N4tHJGw6pJQLBjWI41uP2OuQKxKUMIe3CbrCDesVrw8ngbJ208Iv1oPwWOmQY5zyV3iGV1e9qkhVicxRaTB5mrEFbEWMtPGeDRYL1P1D54iwcSjJ+J8LVzOETfWTJcXGukWDMV13NjqWCmFiX3wIs2GpVFJ54D57oIvN0j0oQXZsz4EDGIOJLsavDQukwNYF1eBzw3cobapdzNAgHgVdXAXzwwzr7LZH4iv0qoMR4h2l4QCutu6hrS/TAxaV5vCyjARlTEsp/SnK7AulFXmXYABvnoM5gYGfAHrKmXS0gZzziE8nrvveBo4heBqAegxXAMruC8xD/GM9cjqCFbFHbwgsIIZdxOJa1g/GXuOXey3GnVy9oZLhxsQVlhg1ZirJmmvW7pwMT9pDcclDeICckAA/9ocLlyLuBy/thCCzMwd4qd8ehNYusJBnp06gRArzoRA0p71hspYg8YQdnNtrIgwPt7fA+Nl2vEOWWkF/By4Svhanp1LTz/xdGreIlW/wsR9d6VxBLZu9nWbfcujcCyOc0IQksw2urXBwjA+4cekLts7WL8QPnIE7+c5b1E6hC4VTqUHeSxkXYxNK2kF/ObjK8ypAsUvEuvbhrEy02FRRSXrEoHxvJNEG/RfIDkAGD2UCJY/cT97wCMVvE7MEmlslkcz6m/5PExyD5Y88bBxmL4ch7CsFRgpK2P+sVgPofVvoGFX6bGBVUSr47pun6wXzQb9URjcBU7KKEwLHA4ZiyVgDgIZbU9C//NYGHWjapjKkzXZQmi+/Rxut+9/KOUvnE3tW7fBbShc6D+GAG7TqhPwxxzNuqaAmkc5YtH2KPrLmI35NDFDEdgY4H7ja/phrksoStb1aECpUUBgL3MmhpmDmyKttq5ZGXfFDkqbCh4RxpaGeyR/rSdWwvxjNkeSS/L9HrG0etowZ48Dz+ue30RrrvJ5KfYy23BjR9uswR79NrEk57BAn7prEpqE2z5WcvGucrxuS/sIpdanVGEgbAo0dcx23cQ4S1vqCKY38CJyHXPQ3pO6khJPZYRhE81e1AxD+dekuPLxhx9MpR+/TJzgejzbBT3sQtAeBP6rZDBUgWUPChZthJYcysG8qSgZu/NyDBGzCFwsYzmrcV4WSZDhmPOcj+XLy2RJ3E/7y1jHbmERxxI5xHOhoKZNS920iCk7WAMHLOEyylzEsfIz8ihrnPQcNH5ZWoUypEAyFmmKfEx4J6AkMVivPATuQFRWAGVFPSTsOck69nvT7/9oOv3ZK1PplfWTCKYoRTifWsZdN9RvKBN6KQ0DBmGtrFk3jxfFKC5j41/8XDpY3yShzjZ0u4qFFfiFxrRau+mhyfV0Bh7EguAjKHg+eT6HUoox07kZkP1hufDgYV9dQ/62WM+ZT3yAuDji6M4eR/Aup+E7TqbTZ86k3T94LG3/4MeMmTWFdymjFN6n79f+7e+mqY8/mirHpqB94GSsmTNkVsydnAY3Mk3a3TOJDnAvne5DQFYZbKz0svvAfGL/oJW7ljvBnVlBXv5SL7Pw1mCc3XwumZGXs9bBsloUbyAqLxgbTB890I6opUljt7egv9R6u73bk/Zwxc74U7GKKyrcq5CQ+WeR/cL9Orwon+TeejO3cQ/X+OvZynhcwfZQuIsnpZjczH0qa0KJxRpFs17nPAR+Fn/xpe3boHsfvCrv/Yl1ZR/sy36OXkeJMYQ56YMvcQaN+o65sX/crwAW4+b/GLz/00e0bh983ULB7Mu+ou/DOfpd9jlr/4AMjHp7ff6RhfSBu9dDWaUHjUXW1U+FzMH+mbVX9+PdJ36Yam9cTencSfZ/MC1+9bG0QgbWXXBaW8sZngdmiHXEenmZiG9tYR2LMXyLrsZ4JOSgydJFR9APrOtp5fn1GecZ/zOJ/NgEkhxQHNLb4aVMMm7iprWc3nMXGqkDXAJwa1Aivw6yODWOAWMYqwMSYxPg3ocxvBvN59C5U6lwcylNvDyb9tAoLFUG02k6KaGh0aXIIHBfMmXdaHSGuuvpxkopffc1EnlD/N3cI+HHRTWxQmySq+3Q428GZG6Ek4nN5fsALD4LEGFtcjP4fLQxvIvP3u+i2A8X40Cp6Qghjs9/L3ELqG50tmRciudsJCRyG+flODOk7PcZoHJ+aCcD6qP+XOPok+cEakcXc+V7Y62y+ieODOIq4MaP94JIaNDnfTHSuJIVrnZQ2TMxuMPxe59jXFwhcxsE9PJCM33/Cnu4i9VrsDtcb0oAi5aWKbSBHRjvtokFFjZgBjjkvQh1czfTMMGQRaxXtb99iqxcu2huetMJ7hvEhLsLUv321tn0lVfuRJXTi1WmkV6FsfnmVYQJzsUyltESSKjM3ExSIKMv46LGW5/+yj1nA7FJtJxf9dhkGv7iZ8gSeJ1MWDAFvKpoB/O4dGyhuZr/zvfT1D24NPyXv4LmfpgMibT91nNRBDWsHuyVacE5R+wZMW0iRIIqrUFShCHvZc31QR9ASqqTBAQHT9wT0cRCwLvxPzkYJBvlIw8grMK4/NV38cuvEagPg6XlhcUteAZuE3dC7EOXTBrj2wZeTdjRRMvSLI4gvNTTv/z4zTSBxpqjFVsj/JkuH54uNdfRlBH8byY1Ycb9vw2To4pyHMZnmLNk9khr/dBAaKluCeWsd3kMBoS3CnpMMPY3gr8xs+dgMLCBgoQl+GAUGOERsr/1w+RMoSE1KP44Fp1IoMI6KHRIFKoEvG8tA3vEQY2eILAVk76uOtZyqbPm1vdoYL2o1zbQaIOYTp1OlU9+IC2BuAgDgTi3EKbqMNsqTSBi/ZwZLGwdmI5RCC8NBwO4u7lDHBmB78BblWyN5YmUZiFb1t/StarKXhVQSV87f07DDVlFEVC2cRUkS9smQs8jH7o7Ddw9mjqTaHzRfuaxnBnnynJkcM4Z3UC7Wsd0SmJJLIAlWIPsvHhuiOeHWQAoGWeD9Xb/jd2T7XQPGBZxULq94JJDcOQgDCrGpGhb12l16t3i+m36kOcnscvsd2dhdlm302Tpws3r3hO4q3Bux9Gil7BOSQBlqF1z3ZuaMAnmQS3hfqorVFvhCuQ9f2UBuMTKOIk29zQaNu7q5p7h2jpp0tdTD+68+4MDaVNLD0xX3fMivmKPZdaa1DXZVRBm/KZwNuA/j5BqoWBjP8wgZpkE3X6xs8Fw7qXjt2+mMwzKpAbHRwppagaBZiKXLj17I63NY5+5ARytM2sK1xvgLgxrVcXogTsN61UxGyp7Fr3ylzXUGnIATvAl/hNLOT4FVKIXsZrgq7/E/iDghbaefUG+S6vAV36C+AxKN5QmoS1vnUTLmNJrL8N4AV9nsC6cAFe9/dob7KBYkZkyT1YsYbAOJq4DU7hV4hzR765uhFtomnGZ8tCJCySDx9Y2090PEmP26Ntxf0WpSEM7l26SyQ8w5QzvkgFziyLc+/oe8ujMCAI2MKZHAdVCiKFFg45gvImAzrGJmEfd8aQXXcB+k0Ji89R1nGNv1rEwT5HGfuZOXLlqW2ljHgFjASEQV7g9GKw+8JG18XS1CTdQoHWvStoDtLcmO1IpozW9TDyVsLvK2tZxd9UFXAuFDNIg4yrgql2kiLICqO570g0AGi8X5r2CMuFNLItXV9LruEtVJjhnmIRmwAfT0EgtR33LcwFL7pk4BeNpWJ87pDSvgBMmcAnjgNJmO82+MY/SAFd55pVnT0ATuN7k08n3vYO9G02b3302rfzt36VNxl4g9qW4qDsacbLEBrHFvMBJKGi6YXaV5Jska1FIlM3yXLpLBRVM4EbXtAc+o8pvgVSJ8gW63OvqVuPMgJiCvpqltZ7H1X0DF76DHpKAAB/ApYh3m3Fr2RnicE/SZgO8Oyd+ZK/pDqubljRo0Sz9gcxCiKQf+YcxlYRcY9mZA27tCIYbuOQhw+GmCu7mjXjBOpEq26XWTcYWTCV9VdAeNFF85HC966NoWz9Zfz0UCsPXcd2uk4CqRubVCro+12YHHNgClzTYpwniIdtkty2giGyhcDKukNbQpAPfsfd8RX+WqamhxbNWoe0qDARNEWZ5b/FlC62fGgYvs+8t4Hb6LMpQzkVzYj31TcDw4w4gnpRXyHZApQcCF4CQGyaPgHSKPsWh8jODcKu61o+ieJ1CY7WJUKpbqR0q3LddF7xo9uewt4PvwjvA9QEuVTjkmI/xefQYHhE9ZEl23UC3AbevL0lr8LyA5hbB8+7gGDHwFqa+8e9+L02+9W4shgNkktxIK/vch+Wowv5c3uwn6QKCD4qZBszxq1hDthgTg4HGED+KQKwFXW+UMucuErXgtjz4HnABCuQSlkgF6a6PvjcViWlrE+/XwopZAeYs8qzisUiN1y4EryFiVvuPTeOSieUSeM3ddzeJVk5E3LXJulQYSP11db5CDTyOKGelnt53XzG9EyWCglqldy+97+RSOlfcCh5MGrR5cyFt/83fRSKyPF4pdc63sBohPrRVwsLaz3nocH52gFEz1MrkW8KlAyyVEZZzZVUSQgtz5WwcLiufePmBl7jc8yVfKZFS8eMz7pFbKT8bQpXvvd/nGJ/7H7yuc+P9Ef9iO8KID/+Ex/WRow65EH3xnXBie95nzWLb9YsQtmyHM+L46Mmb4/8YFd/ZnmPwe+l11g4faSPulOD6znv5LprmKz324sUzmRWQedOW33rf89cq6Yv/913pv/vTe9LXf4wLIuubh/fZwj0Rr2rWgn6xoHveQq4A/+xevUGoTV+qfu5n0wpWe2M5S1jO8hPUuKNQ5MIK+BhBLLKqkoWzUzS2vpQ+eP5Wumdk1mEG3+FItkmSdLQ+ZosXFty5YZTg+V6CzH25QV6IyfIwcEZQdic9+XpveuyFIhp2iiMysHtxN1oCWU0S3N2FBrIKEuuDQUy/8fnUhetbHa2P6XMv/De/BptxEAixFvUrWFQYAjdgCw1HYxGHLfpb3B1KS3tMAKKtcHOkUWR8sXghNAGMjs+N40/8zYCMD3xxBAix6Sys38bu0L6POPlIOGKjbHkAgBf4aLsCqS9dK3zOj6HZZRECIF0X7vO9t7tOcZ0PbrAAYZveFkAj0Yk+swPi0w4kxm8/9h33Z+3ox5zFtXGs6TxL6S8+1yUjOxTer5uUA1AT4TNeE2D1Y44XA8gAE4Dn2U2Q9zp1kB44Uae+CZl9KKxa30JyR4Njtjy1Ki8vubZUCSO+pzzSD8FpkDGvkF68975U+ulHSS89AWO9Q+K+PRjgXHpzbAAGpIYbUyW9t3o5/eq9rxN7tYz1tJLehrbwQ6c5YOz7CFqfN06eSfOMueq+MkZYlCAianFKaKlGiO9ySfFLCaGq79GH08D4RLg6NGHo1cbrWz0Ao4+bPLC1mbp5Tn/uNsHlursOnJ5Ba+HhyYSdIRYbPUHa4PDPgEz7YVwbWHZMjneRIjkoP9BMldNCDY0T7iombjBrmS4v1RNTaQgtWBSV5KD0gbhzMF26E9JKGpiiUCSumGBC4FjLCIeJ3yodPvVKV/rTpydZK5gJGGD1IIEMbDfgDqGbRAp5CrHD9jFv95IMaZyf3VyNGhr59AZEaZfsTNsQpdhqVpIjSIA3JHTPmAeYFODD/Re5SRAxbFG019pKtKmGFUImXFh4FNpBsU0YCmBhe+pEaCJF9sKfyHuJsZRxMdzhTO6tofXhPjgu+gaW5YEYYpnFKHPuJ2HnSpcupS40lxMER5dJFKMmqAMs1SDKJRg1kWbdGAISh2BniJdWjiEKc04Nk1iGvuvXkeVRJE/QgUH0Qp8CYYuiy723rqc7cP8YYT0VGsbJ5mUSie8/eTHVXsfPbY4YEVK8U+05ElTwKGMFlhioSoBuiFceCVbLhpYzhhPnwXXqwx31BEJblYxjveTINgGIRNTzE0gSgtGEEWwhgO3Xca/iS79XW2cR4GXWl7oBqV+L3h0ozj56lpg5IJ1MmWtkn7y0nE9zwOAWWt0cDKnzCnzGXwukFzGX1iHyJeBn0uxtwAWbmM6encKVZp2McyQduGqMFC6k7OMifkdDn3x/aqC13UbzvoibcXlrk7WGKRNO5lGmEEfXAPEPibCAV4nHwsIqdX9gytEsNLAiznJJt8ImzJ6WCuucLU9Mp1mYjjXcxhYRZleJDzIt/cQZsmpqFZ4CBohfkI+WaRWnAJEZkw2T57qZaZEl4x3vuW6CmcySydmA4wQkGR9JEbhuPah8YTMVJxTqwEWMI3Ah64UeI7VugIFu1iNl+qXv3wDgc+mu+7PaZRdxXXwTmHxjfIrYHdz/ZCL4NbFUD4qICtcKVAefgPnWxdjYlp4x8BjTaEJvzPw4StbWqY+8Mw2NTqUN1qf/rmOpsUKdJQ5NScEHGDaAqkKWxx4UIZjSwtVnUHU7818jlefG/hY4DK8D4LPKXGV8XW+10rpyFjaWKRq7l6b4vgoMrmOtWHgTRYGWrzHiEcZZNRL35LEqrIBz3H+VcqSKQMmB9rY2wLpWopC567oLTK+izZ8EV40BFYVSD6nnwXG0bwGKRc7bzgJJcPhdgUEXPzoWlSYHCJd5FCCdcwixk9V07s6TaR+FxzYxhmu4DN5i3etYbA8QJiusj/sp/nNc290oL8hYukdZidmlw1MMIhk6NspeoWggtjJHwXBpRw5rT/+v/lxa/tEr6YDsl92ck0kY8H0YyYbKBmh6CzrAkCRmtLcepTAszNuD9sO4z7Bmc4OaeJP9bCCQbhKTukYc5CbnfHScvWQ8ulv2Y9ms6CnBc9L0fmBQJ27LCZhoqYLCQyWnL+GuSGZWC0Aj1iBs7UfCHgXYfejCJIucx2Ok5x5CKvDRAw3bLO1qeQSOWH8VIDk/7KI0gcep6MvHCwcCxkN/4h2UauE6ySzFZqHoZV9z4KIS81FY3KDcgPHPxn1eGMXiwnr24P6dGwMfoAzV7XYQBdgyCsFjv/WbQfcsS2PypTrJIPIoZZpLOmp7NBDa6asCXdzHrXFvk2/5ZzIsa61p/bIckW6W4p9d9sw5K7TskpG3rucMMFnj2W5cA+UpRB8gwsD3TAH3O/EQyj3aihgd7vFVB873YFLXgT0TOlm41/UWB+hqZqw0C4/wwXutX6yPtEZeRFre6BrjOyyNKMHOnxhIa7PUikSAX2adtcCRQ4bzS4wX57wDHVN4XuHMjSyR/du6Xh9/X9ogMc3SD54jrh2PAWi5tSYHiXk3EY801dI8q9anY03UFU2iSTmxtoYyknVjomvsQ8SjO2ro/i58jesawgfrxMaDD4BPcMI+3jIN1quBsljX+Lr11+BjFIYV2BrQQvcDwgxfw3oyf5ULCtzu0Z3bm5xh6Afr/dXvNdPXbiNogr8XKHz+1UvH0yvtEfauzrg4j2SV7jUpF6Eaq088m9Z/5z8iuGaKGqSD4G/26TdHvyp3LBXBKrPurDnKYosgd0DizkV8zfGIv85LYUz+0ldYn7gYfCvrpbKHCRw+I7+a8S3e6xUuBQz7V145eGCu+FjGe2awccR3Bi9Mn94XXgXeG/dLJxhD3J5953tx3WE3WWf8D5bj/2xc3uM7+eKQT3gvTvY3hMi4nvG77r8ziCYZYPBf7Fu2HrEgPPb3fLjMeq1Txd22P90knn1ibCIKnc8hlJ8h1CoH7mW5I2Y5yi0A45Of+WTapeao3kPdF06nsx95GHwPP02ym4NZXLwHpknEBl+AK7tnK4eSpA+Fwj//ywfSf/+f7k2X18cDdzkOjTTKQGGd9PwAy9lkYXXm5ohnwzIRC3Y4aJkdJ6d2vY0G18NWhdLpB2yK3GscaM4Vzwym+twSqJFkBRzaXlxzmq9dSa1LV1MDq1lzXJcw0pOH0AUDLFKEe5NxMn6jUKURzPlj/cQvdKEhog0XSwJztMAKONascYAueQYYbpKbl40x3hzuY2ykGx5fZv85H4GKr3mJKDIJOKTgw409so6FBMs6KOS5CG4qH7MNjWfdYJGAmDxDavH+cO0EFpF7Ns6sf/u0DYFWbYPjcEx+9j7d9uzXvrwR+KJtDoif7Z8f5+vXR+ZmNcpmuoxnuBJAyu2+nIvt2scuGtSrC93pg/ftpI/fB/InfmyQhB6SmNA+MNZ+3Px0MzF+8GBzCwICA8SaD8/dTu0//kYqg2DGcAHCVJWmIBZn0UqPcI8e8E/WzqWvvHQHAEjOQSwrz+wU0+OvQwzRmskknNjYSKdYMpkQszn2g1DUhBC2gmYYQo/ZnxGDBBHO0AwqXOQ4GDWSjzSJZXAfmyAWMxZK4vcx22exDyIbDg2JFfIwXqbv7mLtGxBn2QkTbui2Ngd3uQRCtZbMaQ7Ce6cg6Me6EGAI0IQJuXdiM1wp4DdDeLz89e+lpVcvpv5HUTKgyaouLwYjXAW55nB5s0jkAVqS06PCQEoLA9QpgbjskKl0eW84ffmHE+n/+M44GTAHGTvaKeHUcbKPdca0cwPtO2eqzqF3r/kvGY9URatyggmZWa+f1NBmsxOZur8yFwWY/f4pDryMAs8ppCmguc9tFCX7JGloEjSPdySJTEyJb7pWhQEYCV1I6aebtVNLqaZaGJOQVHF9zOPagscVjCn2FSfF2pgauMDaWWjebEWKMUsUYlyBwV9//Uoa+7kPwRCRHIE1MiB8j7NrWnA85lgPnsciM40ro/Dr722YkygOjBa0NElfHH2LoJul01WQEHaRDbN28jTxq2Q7Q2iYw9VtHfeyxiraeVJAl070pMI0zAxBGIQXRLxJdm6YJ32YZTEPQ5OL9c207zEfhoC4hMsIaeOVzME5CUZb116Zl0DWPG8QcDd61uIQQlIJYg+8RB0d1ltCO4p1tAtfuq3buJ3OEdj75M1wZekfpWg3Wf7GYeCHQa7H0IwX0SyrRZXQax0SjlsciGD4EJrNXilcaPlcm18lfTOwRbrrnVHcf4nlHUO7usmzo7/8yVQmZqdy+QZMYJOEEAeRWrqKa2/XBXIw6pYLI4vYiksX7YNjJwhm7wX4+2DCmwTwTDL+KusrFgyrAkqdUWLidI/xDI0NylCybljbVIyZqe2AfS/hWsqtoQFWUxrlDtROb7BpompcK2WE3D8LVe8BW3ngYyA0KigEuOD228eaZ7PVh5KBlcSVZ41nxFOuvRndumaw2pykrhLn6dRD0wh6JWJ8KDOA4DjWTSIL9mJqbZnkJOwfjfJIMEB4XXIuPWN7uF0ag8eYWYNtXJBMo99Gq7nLvi9sEq/2l0+mztM/TtuvXUqvf/tZTGPjaer8Sbw6XBuMZVgCmELE5RlfIewcsJ/Or8z6dcNUeqY51AgdTo7vPSfgHOO2BP46MEyaLOaarUsFy7WEtxu3yxxKGy2iZdzII3mHa8DQo0xLAQaRw9shDED3MNvG2QThBWYSerUq3GLhR1cftMIU22FtwFLfP76fJjl/Mg8yL8bEdasRMcwLwe0ARnub1KfGSnXJjCNUhIuk+8X9avgVkNQ9nATuqijmKpx5GW9T6VurCs4UN03iKpijLnktpWDWiP/5zLzBmVRgTaUH7sV1nZaYV47Ad+vs9RF7OowHg/cODfYAY/QLYtrEukFeV/A7U5NJgaaNbKzCL1AQHoRMQkMSNBAb/CaJxubAMWsIkMsottA2eR5liM2yJ72tA3cmgwiFo4eNIVeA7zqKLhNKAPnsLTSJ7+3Hs3AbINogU+L2G2SmpGyF2V/dba+vg8MKnIdekk0Yk4wrQxqD6SmzrysIuRt4T2zh16gnwAECdJn9ENYFC/egj88sY3zXhRBlFmDjwUzUs0dZiDYD2UbYbuJO3IY5J4SVWptD6SylYzqWPfmzv06FJ57CpR3cg0tsA/fS/nHwM/TXVV8TD4Pne/FUaGN61RalVVHYr3jgKAuzTuZb8WPdSTMu6TpkwW3DoARcYmpDrgSOYtDBm7ByrC3XLM8CaW4r5LGOTkTeg60LAUexoJf1rCgQgP/lPxSujH/dYz5mbCoRuzbogkhTeJXAKfl9CiUAq00UKVfmd7E+qULjPNC+jCoGZ9o63MDAmvAmWKVXzpxKp/7Zr4QLdwXlysb3nw+8AvfL3JtpAEu+qftVBjWwJN09RdkAlM3igxVKAl2ZnAqlsP44TWhSWgAAQABJREFUU8xXYWgf69v87/1J6lleCVrnGKV93dPjlD+gnudNLMWPfTvV51fS3P/7tbT7wxfSyImZcHOM9ZQnpszQ+lcfD563DL6GFJOADGUj534bvHKFfRhkncvA4Ifu6aSfOUZsIvMdGaynT91xK92XW2SMxIwCFx1CNPr/8S9GfNn2D55PjWs3w6J3YEwx6yuc1NTEsqbuQxSZBobFzUHD2Ic8OFlYF3cZuuDfyNnAfN0KXyEUsN4KAtlXcNZclx+VR1fB5q+8h9/FYfJ/Pge/Sd9xjbbl5X3Jm3M5u8cvgBVfYkF5Xn+P3PgCM9KuZ/BwSDFOHveBDBeID3jGH/vyPscSP3xwWPF7+NDRZ8fgaLzfoTnX4NN98ugmrznWuI/rCLQ5Yxv5fgdPC11tR8l3sCprGh4JKGHAwaBOXLKBz3e/LfXddUfaR7m3/K2nUuM9D+ENAP1GfW/SxA6K1lvQLS1nepRolTUmvEa87TL88fYWHhL0rxXXMSnASc8OB3WoDHHsrO8DDz3AFT7E//7n5NwoGFt4iPum1tNv/dQ1UgEjRRJkPc2Bfh1sUixvU+9omDgSUnWjIVqAGDZgsrtIRTr0/ncBpcSA0FYNJrJNcGyLIO1BCSG4ew9A3gR518g09+G719OvfWATCR7Ew+FwHAEUsdKMGuQrwvNjjDG+z4hU+IMChMGkikR8cd19EFF5/xFwZJcEXL/nHg8EbYc5lzm4UH4Xz3sH7ci8/cOVsY3YZP4GQHOfxCHGxXciGNsQKdpHBlCMC0hx/V1wgUamPQDdcThYLjouX94XffPuSFMQz8UCuDM87zX/0o59OoZsXod9RCsgfIrCfOmJifSv/9Ox9J1LkxlDj2bHeR0DWHSdWcRvptXYohI6CS2mRkEeMFho2ObHJ9MKjGaNwsxd+FV3Ll1Le6T7XYQwm31Ti85P91xKn7/vIoSMPFjs38P9jfSxC2jBcCc4hgX1ytBoWgSxGIhudkY8okOj5xrsXZ9N+y9dYhasCQSxxYGwUKcpmXdeuZxaz7xIHAzCF3FeXX/x7TRKPGN5ACGQg6Kwp5a0/Y0n0s5rl6lXA9MsImKNuvhVC7qJdm8CpqyBJraJ29MViMkfz1bS6iIEmzFd3exO37s9hGZRKCXRAs9vMY7KzEQaIhvUwQ9fTS2KqVdA+HWQa80DDHGswJzUENDcSK11TQTZOslV1ldJ+cznOhZFCZAuUTbszvfB+EUdFgr45ij4Pc41mQCv97IfTVyW1KAvQsBkNLR0HSGvXgjgHlZCDEsBy4LoEcE8YP91DSpTvj6PG4qwPAADJEMgzEinM+sHsMh5DugRGTB/rUnEraKVRqADCW3h0qog5pj8z6BjA/praICt4dIDkewZGUlNrD5m0Nt4/vU0+ydfJ/mFYfgol9GQ1/Gr77DOOZIHbaj0sS3GNIQ1rWTWS1WZcC1t1Px4NeMOxr3Mx0TBIrDu5SWQIC7PENjRLgRuflswoFevL6faMvEjNyGIIE2teb02zZ750rWoDTNpNkVFyYhho2GPjHPVDU0/cuNkjHFYgTCtcJ/ny7Pg2qwAQ5sMb32J+D+Y2xAouO5ay/xQcomU2rRv8CBJTbrPUZmOM9si/mqnBnwwZxVLt1EW7EOUZfQVvsRNB3w4QIIye1wBf7oRi0YzPnHFCDW1ZPLzCH94i8Eow5DQb7fWZBiwnRdfIwMUsUs/+4G0wHmaxRrQwce99Sr2MLRyHYTCCQOOgT2Gj1sfVjCYMLzwws10l7aMubS/wEeMZwAGUcsBM4GwIJgiTBtnNI9LenkP4ox1so0AKqM+LL6kDQVcbCE8sI/VFFjDjcNYY/GXTKTLIqO9Bm7foqacQsYRkzDIulRhdNu49UAl0PzSMS+GEIx2g7zcjQ2yZuHKunbDLMC4BZ6iN4a9jVLH2n/r/ZRqiDFn81DJ0CKO1HhQpGlwEDQGznMY5nYMpWBeyZIFRXSCecOqdv+dKffBB1P/3WdTbmkjrV28mnZfvoglR+WUihTgBsGyjkDRQHs4jEt1PRQUzI04xwKTizPJOpn0QzgLVzjwgJjbvUTuibWSrvQTx4CdAvxizS8YLCwVZtgxVmkbOAj8756wNg0Yqzbrw0xinQWeiCdlDVViGY+lxUwdv4yTBW9hganDhasfFhHfG/8kLGtR3OR6MLnAku5kB8BJkfPMEYxEFkTrpF7cothZYIZ507awsMB/0kt4cuAJN2q/5LPExjGzCsA2y22cE08ojNNlGn7XffSBO+kbV0ITr8VEq4NMxyYKtG3uKzKmA/iDvEy9/WOFoilaoR1whJ4gyyNjKNeIzYHLBeWlJllB77hzGryDexnu0J1e4pMYlGN2wNZl3OUsl+q4IaKAMwOjMChtNoNnC+HL+DvdYC3jYU03p+SviRmMieo/xpoitYxzjWkCC2b0g2cDZ3P8UpHz7eFfeG0VzxLchKewZuKfr9VJmO/ipgPWWBVyxhNAm8AFO2TQMwapBBOv0iMWlXEoyDTBVd3QiDYdVbDUcpxSD4m6qj/7obTxre+nNl4ja4wXkZwBsXYoug6wrHf0VOCrCkqZUawsyPLsgeuppwCDAe5ck9L2ehqkpIcZb/vA3+jREKIpbzHTh7s7bs8ooJBQgHUtYMAdc2b0AbtlFCDdKGbK48AZeFseS7wSgh/rtcuoBoGDbtY5Zs3Z4RbgE54Q97o8ipXOehdCOowo4zEjsStufcICTOw4tQzPDOyk4xSl36ZMgsV7PVm6eoNGg4kvYBGXlmlB0ypZPTmTysSZr33tGxgAyGUAYJUpF6DVNw/HfJEyEa+yDlq0YDLSs9dTusHcchzIUUo2jRMvqpXTpEXWd9UCJQRvr67jtVVP6y+8lnZJAtKksHBhYjTN/Ff/WcDs+pPPgt/raYW4Sr0VJj77s9FHnRh8M2a2SCK28f0fo6yb98CAD8H3hhnwV5w5xH6bgCRPVt9X54vpZRJWdaA/q5QbePzadLrU7EeJRwp3Jn4wSRzs+Gha+A//ERqAomJ8HPyBcOy+su9l8gf0IfSxBaARXKtZNwWY84Q7HOvbTw+eQi1NCRPxvN+HpYz3cXj541tOOsdZKGfvDu8J/pP1EP8dXfMkhKEBWIr7gO/gQfneNrJ/zFG4Yd/FO7ZjH37nGLO2hFa/Z/+Zk5983vZtKfhWv3Ns/jIG/ngTL9rJhhpjs43M6OD3h+3SlzQteHC+y/juf9AOrdiPDdp28Ms0Gu+jDa9wvhGQVTKMclZ2CeNZ4sxScYrs3PBmKFM7eAKtq9lgngpbg+96O8quHrxZvg/eYn/ZjzbKswJ0PQcP14flWJpkP/sk7+rHsqZ32+F0Yp2cIZfZJ/5jDpGoKNYtG2uFOPLiXffc5dD54aDTuRMQYerR8fhzA2kc3/sKweVnRnFJAWubTYk4fVyagBk0BzKTa3BaJgbpIDk2CLxuP/6tlP8nn4VxRDvvxuPKUiT9+dqiCj0QMQd1sTOYvvz1mTTcU0tXV0QtLAJ9OhKz+DAYvnMCHnoQBJsbwgpf6poVli8AzE09AoxsFtk8fJYngqBKfARWN9L2jlaHd7zPPgpnMmKBqLJGM+DzJp6xrdAo+Mzhernx3k+zGcDEm+w7LsW47M5X9G1fvHdmjtX3R3PynqOXjwQj5V/aF0jVlBgc6fhjZZyLB42/ZrxzDTINCBtEA9nhqJGohbHLqIAk76IeRongUlB1pPk029EgKlqRB2cdJgI3qQYxZ9yiu18fbqqDd52P/Vr6qydolpiWkXcgzIHQYNT+ZutCeuVH+NLWAQhcHb9Tw53lpZR+AabO1PwTWEwm2UtyUvCkh0PBXMIIHLx6LS2v/0ka+xdfTHtYEhxvEcTY//H3R9DvMjEMk+97O2bmzXTxjcvpnf/nv0q7l66jzWOfFldIzrGUrvzwJeKmSCXNQpp+W8SwD/GDNoY2bo2DtIlApU/23aibxs6RBY+gpoVX6ul+1Kz5kZXUfRvBCKb95C6a9w++P/VemICOwmQv4Ha7tMRao+nDtbGEgqF226KEpJXH1CRjs4BbFD2Gy+ckRZuFIf3AA2nhj58zfTurvYU2kGSRpCGHgSS+r4GlJH+gkyfMLMi6SFD/FItjpjmrxw8iHCxy0es7/K/LbxPn/m6e84C7z65XCeJlUPcOKZnbN4Fx4Hdubi2dwGqyTWyLmiC2FOFSgVkimsGGx4uBQwR4BpxjmljrbMn8Ogn94kNk5ZxVYJSEGbXGheMzafKn35K2H38y7V+/RbswsjB9qxDBBngAfo71z6x1AzIkvuizBgFsMk9xSwEEeADcodCHEWUvgVtG5XCYKbiCwWHwZQ9hBEg8kIML6DPOjP0rwcV0FNh4H4KZB4NXj0iT9x0Y3DKO4tY1MtuiLcb54szUCF6v0dcOjFGeIPIK79UuupYiSE4I7rcIGkNdiXJm4YromByY+CYsKwZYsA55pNoOrjP6s++glDpAO1ojq6SxlPto0ovCou3Sv+5vfXzfRgjeARYL3LuCFdrDQFMwoiRwAWZVlEDBEFhhJFmzdSxoBrBXJnB9IatgAa+E01hHR1uYHruGUucOYYV+UC4sYNVEtQEjSgkB4noqKFA0MokcrRnGQGJ9HYsMzab10hjfLtKPgeoWkW6SufMkKufGi6RdnyZhA4VyD3DV3MX65Eumz7dtkrkUYDL2OFMmfpCobYawC+PAepiuv5sga/dQPOWYOghQspWWTcjBjLh37rrrryCwxz3CXJFx54nRaS0jPC+SaIr+fN7isu5RWKhYMwUVMz7uYxXWRWkfxUEbpggIT70QxaGRAbL3AU3AiW5H25zn/Rev4jqJlePuk2nqE++JYtSVE5Oph7qNLQRe6HMqDMHo0waoLM0TYxI4FCZzE2Fth7SmjqPI2WoxObOdBi1xn8XDuDSiR0BZCe6BcV/CDLCvq0wvNc7I9FjB2p7D0tE7yJpBy+LFuWshTZQ6JNuwyH0Bl0DGylLEflp6Q5JuIXNMlZxR4Zmzzvw9N65xGxfcOtc809JIM4sFfWA+uTEsCKMoUzijK5fdS1zdEb73gbU1YHGXM+r6aqyQHm17DrA4tDhjuTYaX3CirlUQPmoAYfnkDBdQXnQIwHRdkfHT1jMvpdxddxJzwTOXbmK15axQUxC/9nAP30MaNWuf2v8mTKYCi/S4omWKsUbcLPhD+lDEh8jMlCbKIIE1STVwE6YcQgGGGw9EGGWUBSycZ3WPNY+4ORBYD4LbSpX6m6y/TLHtkzeN6+ASYM0spXrmMI04k4B7tOO2WdRThcgB/XI7ZxrBUFhECNd9towbcxtBcuKOYUqF3KbUDC70KCLXifV0HS2hoGBptk9ptgrCXfzahiew/F8CF5nR2sKhjEMhuxemq8AZ3AeWPAd12pOh0+3RBV35u2dS/wN3p2OdgbR3hfbAOWYuLgJTec56PxvdQmG4Trz/kDFXRfaIaXg+PE9aRTsk1VhEIpvHAwGdW9oCR3WoqbX0+kpaBU8fO90dFnJRziiws8Qasp1xfttYtdpkEuzgAqursosiY66Qpk4SPR3xXSjfgLVTKmiAtm0Blnuw8dEG8xo1IRN4gLFqEY4X1+8c3kr/5KPUHSN5x3ytTGkLIn2BjZApSL7Sw757NA44C1p8jadTaVplzB0yDi+9fhHdHvTgoXtJLkR8NM8OILzeO7adbpMl0iQ5JHNOj5zBYPDjjPtb0XqN8cAzIfruRgE9esfx1BwdThN3nk03f+cr6dbTL0RG1X5i0E780idT34UzlJ7oTfvXZtOb//q3w/2xg7agND0BQiqkm//+y6lAXBoULw2ePwPeIMkL7XMc0v4PXwZvI1CCf6QBqqOEum4U1hXOlmPsBVDfSRKT7jmL0xNGgcV9iFCI9iD1ZFFmjKBAqk8eS6UtLLDARpE6iS20klfBKcJuCUFwF4Uci54eOLac3ndsLb3/4Wb69dcQ/FAACVd6VgEJwCQYBBiLxGnxhLBCm1wVJgOHeR+wo5CjgjGEKfCQ8OSPWdqlk4BYwLi4QvrlmXUM8Zl3vo+b+Bu8BldUpEuDuRLXxV9eM/unr/AQYk7Bv9pS3Ht4t7BMF37nj9589nb0Eu8esupx5o++j2HwwVZsNxrhb9Zq1kc2XzpmLH5viMwuVmbLQA2yayqICpxRs68DOdSQraYD68ih+dx7gVCe+cU0duY4BhBS37AfZret4D3QziPMw+SqvGyD7wrjvZQVQsHCOWjBx7WJlaQ32sz4E3GGsozKCEfsjzMcpNh1foi4GuNn4msGGJpkF4UH/vbVUvrK8+PpD56BsgBAB9X+dAcWsGUCm9udHdxRRsPnmIRGkTCicseJlCMe5QCrSRGrSxUGdAUg4VxRToq0uKSapNQKwdtZBp5X1mbSHz43mX5wndge3I0cYPTPAVQrrTAUfpmBRQ+Xlo062uAw6R5NKBafWfiXXwEn/jI224kMVrGv2YYz/3hFYg3nyzX+BEEWEOJZAVAA4M5YtHj+aK+z8XgxgMTWeB/3OgYA23aCOfQvWCdMu4djc8VpPnuAzln5AHzHYMsxHv66cR6a2MsYBV8efh9Ay43ZWDPh1v4cT7QRwAsBDgCEUIEntDyJ4Iw/6cFF5DbuJfvsk4WOC2jomiCRLtOe9/WnE8ScVYkraKFZ2iHe5RbPLoLsTAbSC8P1qdFr6R8/8BqWlW2As5Leh2b8Zy7gygJx6kVzeqvak27DiMfauR4QJt3XigjxTSwGO0PkZ7p6I+W/+YOU0EBxa+omhgybRCTiWP/K19PuY99J4xJ01qBAEG+bwP7Ff/OlVP/ynxPsTeait9+dig/fm7rRrvWdPkFWq+5wL5ORO75FghMY3g5Sw/No2P7DcySiuAYzRXHlH6z3pG9fn8D1xXS1nbQAUzGIEqGLMTaeeIbirWOpd5osTCy8CKaDAGf65BzwPE/tGInhEEx2k3UoEWM5b/AO3wXiCW1tljTEI6jbnhay8gCHdQDzN5YQGQW3P3z+0bqsgoRN/2zylNBS2ZbAwCsEMfqW+RqmLeFK5GIs1B4Mukk22tNZIcrTd8KRQQSmj8HwIzOfGEYTzA7kcUvSAiM8hWUGomw/njNrgPVQ5V5tj0CJTjddwt2ui+DubrK9VbFqtTF57/GrJWrhWYgZypYL/8Xn0nGo9SRtlqnx1H0Mph6k1EFzNGJCBV9MdBnianpzX2XMJn36ZDMHiZtMQZBOxtFk7RUQhVdfxsDrj9JPLBC4LxBwBLezLqb9DqaB97qxtnie2Nq0vaJFGIGFPjMFB8iP+fcXhtJJOPDzJBBoF/twrXMPs3NmX1rvZPgjuQsEblfiQdviGtfdNTG1e9WNg1hJjF0r+CCYs06aJi4G204a4pCpBZaIC/e7PKvran6N+BgmZOatsT6cKmmXxcdaRMg6RGGP923idGowfrrdTnVwzePZ7p96JO295Vy69cqbCNrE4zCmfdwmWwgvxpmYsAJ+hEUE8XMetmFq8ghd1vDRj2uUaWjBEGbUXteBg3PXLqcpHukFpqpYG4eJ7xueKaRbLy6nzhr4gNR1u7dgoBFExgVS5mEdKctSlFFMdE2KkzgrXAt8zfeDMFJEG4JbjDWCwRfnxPopoPIZIUQ3y7Yuz8B2CD4soa5AfVgiCoPELSIIDU5T+B23qx2sVcYR9QHLCg93rC7GHoknWW6IJYo/BEsODPuNZRkBi8fSKsRmG4H3gLinPHFkddcQzWUHujTzxV9EeO1DS347jaN0aphSm7EotLZJt9YkiYUxIHrm9eE6ar+ewCrMbQ9noQu3vhzZTb1gSQxhV1zrGe5BcYJ9CusrxZuhdVqpeiaxAqE82l5AxYKg1iAb5x6JOjLnI3EKMAWcsSuMFdwAkT9KBoTsAq4x1pXkStxTpGgxxxmQ43yw78Pgnv5+IHuoRuFn9oWxuN6ORcWp9ehab5Io59Z2mqX/PMqoXtZyqh8BFtwxCCz24N6aJQ7A4wCI7tX6iOtuAyawAD4aoyBuvJjTMjQhM1Ki2CNu0vTfPRy4VTT922+8mYbxruh/90O4BEpnEJQo9WDtwQGYk0HOAogH5jRTwhpcj7yB1Qa8FbAgU9hIvcA1UwPPYn2CUa+w3jAGgSeM89UipweG7K7PqbhSmNidJekFcXvWUBUv+0s+VARVXU6JYcUltYu91orsS1niNtcPOHP1W2RahPHSsq61QGqlq6m3KpzJMxXgAGOvcU2Wbhsz5lqrZHL9jNvRaiM+gi3jHuCaODVNv7qgljVdsdfG2C7hcmsGx1Xu3F8nzTu0aYN12iDRVgfPheF3PID7+820Q5wV/kScG+k7zxKQpRfFNrwTEEiWRjXzrB8uLM5XgZ3D6PRgKmmHc1BhrU4Re9rbC0CT+Gv4/AiKCxToQ9bHA44QOuXPjFsqaX32WbBls4/VQ4CyflXWYgar8gzOUAdfYXibPqVyFmZWOdpiYYWLhgGQ7gXXPecZB9XBTbmTHv8R2ZaJ5zkxBoCDmHQB1hVaXH3pFq55OSwQKNnohn5w08aCuYsgVqR49+TPfDgNAUu1Z54nk6HeVjD5jOTqyiCp9JmX4wG/zG1Tk4o5R2FovG1s+wDLUwmBZvjht6XRT300HUcJXD13MvXg6dUHz9BDgo/9+eU09zt/mNYpZ2BoR/+FM5HErIfkZmUUGbf/8LG08fSLqcCZVjjNcwYH8LKZ/K+/kMZ+6wtpGotbEYtmQpFBAeG0jaWwHwuoHhP3ETs9ztljMxGUsFqicCkxfhwxwYe04zrhsXT8w+9NDVwpa1//ZtrhPqgBpRzYD4o3njYRDz/hTg59kxP45sXx9HfXxzFykFQJC5rtyy/+xBsAGHEPw9oknPLDLXF+dAOVhwz6wN9wsfNu/imYcWvgKJVJsY+M0YMh3207nsEQpoCLUJbGt0KgD2bXPAvy38HL8J0vaWr2DhDgJ3iQo++54PjC8MB38jnCp32GUo+LP+GtuZ5BqMJgNm7PpTTJ8+oYPSO+/D7rlL+8PMcxBgQm6y0beavRaJ89WOTe06xlqz2E8htkSlzaLOd0Eny39zq1Xi9fTUPveTANfeZTuFtjbUXDWFC5rXDGms6bVRPc49nP8WvdQdc/5BXOh+NjFVzm+JVnDKGYAcU0WKduYI4M3Bxc7vL2jNmXKjA5mJ0WwKOM3YcZvRtgrYNAN5GuUAQiFYIkSbmufL7K833f/E6qU0uj647Tae/yjbT25cfocDBNQqx7DY6DydsyWxWYNYtx6YcAz0dfeQhiDmLvhriIrqd/wy/TkbHSTs4fX25IvPcjfXuvhP1IWBEwDMyU7IHPhIbs13v5GAw0LUSMBUTj6KV1Khg650+bGQjRl0B1+GwAYzyQjYbbaDsbj8/wpN0HIPg5zMPOiw0IYGYssTk+F41mh0UE60MBTHbHGLxfs6luZDEGrvu9HXiQos04Lx7GTAvi+GOMjsV71GZBrRV+/b7CXpj23gPe5HcCf+0yWX72CMDuwFgWcQ/pxdKxDTFrIZjVnvhWWv2b76XRd70tknMcQ2No7SPjBb6+eTY9+3QufaJh2t7r6QnqhtVfaaVfx8q0RyrkPtJZ94PAQgPDRkyiEer/7CcgODAbJCcpriJoobnaIL5MJmrk134h1XEP3EIY0KqzhMuidYF039tCi2UxUxHXIv7gLQhZBaJ34Td+KeKdeDwQyBKuD+v4AveCHBu9A2kXN7xKaTB9sOt2etd72ukC8Hvzqa30HojW4Pl5YrHIqgOieysa2pWTZ7HurqZbv/8X6TxZCTdwM+ghbkEmblCf/U0ScxAzc+c48Mb+1RBMCgg8BzC8Q8cn3T1AVWLEHpHpEB0s3yRSrO+nC+zB2G2yiqExzBPM3NzDfYv92QL+cmj2xoELTf/q7iVK7p1oRaSoW6hEmtBhhJIAk2i3whmtoAnf2gIRbMP4APNvvDiP5QxNNebKOZDEFKr8LYZTO3Y6db3xQ7RunhMGT7ub9JeHAS4htBgobvY5hQqR6cP3nEj1pzbS9i0IeWUgjeIntIg7XQEGqwhjUMQ3vwBhu949ghKmmu6Hga3fArmVelMJhvCqhbKYg2fvBFogbBYwM7gyk4CmDpEm51YQBWYDEWflIO59FMbtYU4G/xtka0xDifpGy9cJlAff5IiF6CBwFDDh9Mg48JznYRwOSrcts7uV0HQvwCafoJ0X1ZZzzViUvRblIUDCc+3tdCeIdsI9EqHyvPugq5qvJgucZ1+rxiCBKX2eJQoXzDLCmQUlQSypMk5ChetYIhC6aghzC7jmqeVtYzFudyOxtZeCcauynqPsy8Ew+6c7GFq0hkFzjM9NHMWygfkglfCpLL24R9IFBHWeQUxJa//bl8mO+WgavutsKmMpHkEpoItsGxjMQTyaBJdrGYu6L+4dc9nHF30PJrLFPpVwdb3BNFU+QCZiPlUE7B9OTacTs5fRFMKkkvnEiM7NKhr1t1A8++pm6pqWMSKVOpbLJdXBDDRcyMCxVVxymoto8hlDjXOs5nOf7xswWCZ7ihIBvFfIFpdJJFUIVSnkWYA56SB19DC+wJPcPw48FnGtbkAYxOE3nr0JQ0PK8dMwW+z7NgLpTdp4aex4Onvx+WizjnC0yvnfB7b3LcYG8RzD0iMKtchvDatHk3jWFolOxKF7uCDtIiws/eDFtIDr3YnnLqctNOg1hPRmm8xrrFETK3Me04Au28b2QJLDKids5LDmtcsbWM3ArbhPGf9qdmG10jJI4vE8Z6nBc5EGG1rZjeRaQFrsIr606L5rbcd9tAkMwYYHvg76AhwoQJgwRiZX1lvcwsLSDyUoeJ6cPVhjSmnD9eQaTweMdDY4H5TB2MQ1br9DJB9zPVDTCzxVYAaXUMzkRyppiiQLeVz/9oBT6/bostuN6+cBwk8J2ivtMNGQe6aCSMZSBiqbGh1yBhrgcTP1NcGF7cjKynXWbQghd+1vnkq7KMZKx47hU3aF72lnlHmzNBvUh9I6LB6YI6nDOb7rR0HRw/qZvdc1CBdvGORtmHCzB65zFjaxpKyv7KVBLNnGQHUQQvIIaCXcLgrsg8q3PGuEfQ4mimRCwE7ZubN0JqlgdCHMBePDnBUezGWnR4Jzm2Ahyw0UVpPE4lqXiDG22Rtxn5aJAu4XgETqILDXwW0r1xfSBYRhXf40IelW34fpsghOtD3jb+xbWod8QNZdo6E4G/SNXBvnQNiYIf12FyEEU6w7uf2JjZpJI6SvHySmchchd5CEENsvvpLWGQNlwin4zjkibqrFQdRLyUQ8KjnHwBub1M30nIYXgOeNXxltaQYiSXxfx5XBRGyNdWKdieE9oJRCnvjHFvi0pJUA4N9EOJD3UiZSiC7gxiUTFskmgGHnZduWHtAQ5r6aVEzcqXdAA4bU+BrnDVORWqtYsYBJS+cIq9Ia711ujaW/uVxOX3hkOY0fZ/zzm6kf9lPPGgXcExMyqdbU5RF+AQHid6nL+Nzzaf5bU6n7nvOpjHK2TqmdFrS96RqC08eHUHhuqdZgTgjEK/CZk6IF2uzfqqdJFmn4/Q+joIDnuOcMf/FKgHewtEHCJbcfi9jwiak0+0d/meaI9+oFr+2/9U6KXX8M/mAPd0tggLjKtb/4W5KXfDtVH7wn3f2PPpEOqN/ZpkxFG3zt2TNWbfQ3fjFt8X3utTfT+a11hGnofa4vff3lFTKIkpUZLaOu8PPUd+ihe10ftSoXfvxCuvijWjr7qY+Rd4r+Wm+E+yUiUOBFLS83wf8saOpjP/eZi7xAu7YKbQOjwJuXoYHyhZ4p8V7GIzI2cJMkXwgN3pBtCt6UPfGv9/u9Sgu+4D14XHgAF/ARvOB/XuQ7eLADxsekYiwCh7BjG7onOz7b0sU8w/LCANfoy7uiX9pV4el90a99sQZtBilvogLYeXsvt/Br61mXMQz+ywQchsX3/p8ZJLgfODVJjKBsz76cS5xO4CnGAd0JYQ755uzIXvofPnMxXZ1FiMoT1sMa5iFaW7iP9RPvuTXHXAiLGULBo0fO7P/1RyQsI6M2eRj2cIPN/dFj8Nbn+KU3cFoLL5Y9M8oxf+tW9s2MpNdvkPlTl1TgtYl7pIocz0VYN1kX100cku0FA+a6YWXAq8nNs2lI5GNhXAwXl+A2BYCdGiZcOt6A8Tqm5QwtY4GaNXlqn7SaWNBYihurO6nx3GupFwa8+mufxr3tjTSwv54uNnj2AI07yH2Yg2hhxwWIVe3N62lq0nTFDkbXM4grKx2LxtCzDQVwGIcbeMQoucgh5Lix/rAZLn7UEeCvn2UY9OPPrE5u7N8Dnptle7FJ3CeMcfnwHkEia1dXQduVSRbBZ/dzI/dn/UdDNhcClAvr2DOAY1LcF+NQO+EPj2YWtqxD74s+vOAv99guG8CzbFwcKAQokGXmBuM8/QXEue9IMIt1cTNhFByj65Mli4Bxd4PRDMQcEMJ3cGsRkXQIFnbdJ4Dgq2QwbBxskkIcYoVGfwfg2cXPwGQIebTw+7gm6malmFEisHsTbbt1tSwo/dGhG+lz919FSMFNrFhN7yVF7GffBiNIgPsAjABAAlPD3nrw0FoV3nI+deEaVzHoltiQBtaX9QHcsAjOr+LSqPZ/68+/gdaaWmLGMWDN0Q1h4oPvTvtf+tO09qWvpZX//UvpzMfen04+/PY0cOoYCSPIxISVrwuNlW3233MHvvXjqfXQPcQDrKeB1S2Y01p6EY3wv3y6mF54CY0pY316ayD97itnSVaBJgMt1jKa96lNDhHuDJMfeEdaQUPWIWvSIJkS9aXMoyXtgNT3IWQ3cd9UKWHNnQqC1SCp/cf7a+nRs+vp/mM10hdjGeN8BgJiH62vY1bGThXd+iC/EjPWVLgYY7/bLQRS4GcHghcMmiDCZy1IeAvhcsV7CFAZl5ETtCOs+QvrSeYsCBK/HTJBWt/rLW85niowND3DaNIg6pMwhEBvKs3eQIjYha9gLjQfsV20pbVpn2Q+wxCWXhh6AbeFkP7967fw1CJOBItGDQZkg6QLG9QcKuMqOvCJD6XOKbJkIlTPkHrxArAig55HG9pdJ+VwXyXdOUNdIJCgrwWzWv3/VL13kK1peeD3nnxO53y7+96++d4JTCDNDDAMAwgBEhJKKK4kK6ysKqlkq+zaKq/Lrv3Ta69V+4ftLXstXLLCriRLXgmQBBICAcMwwCQmz71zc+ccTnefPtG/3/PdBnzu9HSfL7zxeZ8csHIAkdRGZJxoxtmVIAaevyAiPLeN9cH0+mqe1mBKtGp3N/Lp3MlJhC4yNRZhoAyiQ/axAK1nwXOzxpxaMBHrS1g9V0u4RlXRTHumXEjccFirPixnU3APFxjDAZkQ9zkrnCJ+eI5zhbeeagz2FyuE3IfHkO/hFuIjEMSddRgciL4ueEtX1smoh/V0FkYPa8pJss9Nsunn11dT3/Z6aLIV7GQ6TNtdIcGJZ7OHD3sBq7LjlhFaWyfKRq0vWRJzj+JSXCYDHten62swhHeILbvGuaDo7K99Kq1OnAhLk5q+Kue1x+8jBH8tfgX2jGkiNJLxC1fQIsqG9jyp6Bm3CW9cKa2DKiIuE9t3EsZ2HEbzLLElI2RmHDxVSNdeXkq7t4Fd5OrDRWNysCYzTP5DYFBnTjIGLLXlcRliFGr8E451bTJbppZXdi1cd0xMEVYM5qLLR6ehZrpGLAdrxzOOVTy3Dl2hIGaqEn9Tgvm98G4yorJPKzdbaRdaM4tw/gDr/cDafFg+xKnWO5sE3qoUSDLFfw4/xFXcSWRCLGxehxZ1MRsXSCaiVlOhI0/JmNpLN3C7QxP9Oz+d2pTNKOM2TRQrawizAZNaGEbrqImWMTaIoXLmCrXWZjsi8Y/MRQem3eyrMsTG2Uj2BcN9rlmcWitwP21tI9jqWlxDGVadxC7l+eBfQY05Y+ZxQIxzLS7nHB4Qo9RC8KbroBNmluunj10I+hZeDUKrigset8fInDiM1qE6jdKHOY4Aa0ELuKvrVAl3tsiICkyasKuC77f0QRdd4d116yCcef7cC5lnjG3hWjg4DKNCRwMo9CA+sQ4mAskhCBfI/pufP8RqRdA8njR9H3k8YKCIq3kZPKS9PNwvYZKVFPrJADwI/NIxZR6GAldpUdqGPmyzcOE2Sd9drGb3gaNMdDLDvLSsjJ3rptfeuI3CDkGHmM38BgIWrr1ajKWlprIvwZROYg3qIQyVuaZwZPylzxgTqRtiB9qoa1YeBiqUmMxzh/m1wd3VtUnO1FhaAnZVLEhvV9nXPAMZrpGE515cUjGGnL9/FkEBAWMVBTXC2h6IYJf5HriG4G0MQKy8y0Xfzod11lJTwHIyAM70OpHZ6QZxTm1ijNb1XEBrtrm/kHagv20Y3ue//FQIDFO/8jPp3Pvfhatbdm4PSb1fpA6fwp1+wOHqf2seQZnzzOHWNVIFjDybCu12tT+tQRMBfJKd4EqJ4Q4MifsrcYHCsWeTsRbIhNgitvWIH+tC+W4PRV0TqTQ8bLhmzFfGHGuN1MKAhwKwiEMDZwPlDPMy5bs4vIliqUEugp3BtbTaWAk8ZqkU567y7eLAcvrXP3E7DQ+20+bGMu6xnBP2pqwwzL6RVyvtbhH/zj75E/hSiyehDW/84V+QoXY5tc+dSlOf+hHG68mDPqKIGCmQHIW5uu6jKIA+dpGsmODwHvzHwngtXX3i8ZTgSwfe/87Uf+FMwIB7Lb87QpzQILyHWRjH3/fudPaJx8jUiwKJtssIXm/+0V9SNxHPLt3MgJExBLP+S2dCMVmD1zApUxvXNmmqsfPVS2dT7uxcKl08l25r8WP9jOn/iUdz6WOz4AcUJRNjh+mxU7vEOHGuOecHhEfUbt5MrdffIob+zTTw5CNp5nd/jdqwllbh/Cn8AU+Q1Tjj0ixjOEFM6ZOPttMDs9TSW2K1RF3Ah2dXfOHZDf6ZvTnmk0OQYn4+Z5yTz8onB99KV7YtnjBWMIQF2wq8A/3md5P34gwBbyVxDnCQ8cf2AW0Todg3uyOc+Yl9pB3viMC+P5mdT/p+0HLWQnriT/Ths/wY72iz/BlNOz7b9ie7lPVnB9Lc4O+jL//HNdqLeTF+x+Axcr/sQ1fDV24U0uMPHqQHTuGJhPLVch1zJI5r9vAagwfOAUc3OesnUOZYD7iCtVQct/+PT6Xb7L0W7UKLGF2stIVSI92ELtXAcYA1JySXzsGL/dYHltKvPrKQ7p3NEhQdr7nzCjmDscScWFe/S3/y/TCcfbgkhbDAhmdAz0Iz3wKAZJZG0w23OeQcs2QaXC1qDTSeZvwqweii1E8TD99LjMhe2vrCV9Dq9qXOhVNpuzKSxoGYdgmfZjReK2T624eh7UPrKeN9cAg7RNs53LpyIA0BR+ToCjrAGDQrKZAIXHf3nI3KkKzXXXg/jteF51d8vO59N1KwiOe4qVStYCPjHB+uuUnHH6uIu5ECVAAB41BgDddCOpCICYABADE2EEQgMMfMe9EWDzoQ22b+tuVcss9dxoQBuzGOkf9Fe/6ZAQ3jhZiH5pmLtmm/jtPn/dv+A2jthr+PAZWu+AC0XNMqOkiq7X5Spg+CwIaK1FQQoep6xTpb0mAAYVmWwuQPHoQKmzmLVq0BUrRGUeXt96VT/+zHU56Yl+WvPZNGMemrBlT2unY4TNalIZIhQAQRDDbR8s7DTB8x510YCufjapZpY/yTH0yDj5GNChirmGqcg9JFo30Z17hz/+p305l/8ZuY7w/SEWbjFkLCaZhRrWsDc7NRqHqTNd5f3kzbZJwsg0xrH308jf3ij6b6nWX8eAFkelKYGX7X29LYb/8ipRx+PVUffXdapphysTyc7sGq8puXEW7uZf/QbryDGIVfevBWGumnaCYbMY0L11U0hvX5pTTxwx/Cj+o0hI1YF7Tg4S4BU9tY34A04TKoCxIrCcQyQeZOEOmDc430zz+0kX7pvSvp5x5bDWQvAAhJG6z5NutTotZTA8G3jCLCfRREyNfkhsHoUSSWa7rFAOxxPxPeuc+Zac5XiAmh1hpzdJ/8OBYzX+qCNEhMwRBI5MY14vFgoBq4dmygqoNHD0LaJRV5hZobCmW6wFgM+RDmvkzRTt0Am9R5MhulnxwC+GncnYcsMo+GrwwBG6Pv6s5hWvjX/ztuR1i1wDzbn/1HSiUMpBvCNt+bS7xsuuR1rB1La7F2HLQ0hRDewdUxh+DfgiEh8zGMIwlGnCtjsRaYLhZFFDlF2qqhIT+Pqya0Cc1/M129upiOlgmPvoP9DQtvGyJuGu0MseEC4JlEgz5AcHR7ZpfsZ4dpNg5CRnh04zqiOCqhUuk6Y3AcKMiy911LzwyETu1vlfVto7IVD+rjrtIHmhGuvE2sH31owDpkI5t4aDxNwgTtrZJEZLeTXrpF7BVn6tYw1ubhMRgFmHrOiY5cWuhl7Yvclxkfo/4NFxkAbjuzExB9rpOePP/aPpn29iO5zXwVgf/BS5Ecp/nZL6Yabg5mVVXpVGCtmmSuM4NiHgv1JEoTz78IfxlGZg/8XB+EsZ6U+cECAI51DsabmVnu+tmL6Rb978CErRFHvkNNpiYwMzVD7ATnJU2wUCjSsAlEYgUXSNy/R1u40eP5h4AhE0eb4hkx6Z6EmrEpkJlUQ0FEfB4CKkxgr0pQ/skDMk62wpLIY8HYDQA3jdvE41EaoL7B+j0zT8xTJ83dS/wIwuM6LoJrIMVXTsyRRCbDybov6iqLpyHugJwdfCPP8EVmwQLzJylu34O2dLASmKlSxVUTGKhcOJlWgfv1Lz+bqi+9lbaefTUKFGtBVT7rwEgj7iY85NIIShoXTeVIAddJcrxCrBFPyRbagwbq1qhLm/CrZbVHEph1szWyRrs8f5IsmH14Ba7sbZNtEKXIGs9zjqWlFrD2vWAYoDeKzcURYIB3++7CHbsXnzJnGpmNJ8Db/JaWKGCZDVSLuujjEBwkrDpeldwHtGGrRfrL76O8QLkCig/trcyCsZXDB8S8AtuevaCPPG/ijCYuaSXwQJ49HCKDKwSTPsi4Ct41UU4da2X+7CDlVsppiNCFlf/jT1LtvvNh1djnvU3O4hCMShm3VJYUMHJMjo3ZAp9t9rvN+vVhndYDI+AHOqQL3BskBLGsxzoxZrfXEJI4U2cuT6YKyo/iGdwAccVbY7Et+Cs/ABphD3BIMlkS9QP2YLRiTZgROgmWA8GI8bv/WmXDCMx74k3QByuKc/UsJRLam+k8cMIBi/FMseBtYq46WOj2VFagwLz9MsIEmRvHsHb14XJ5ehSrE+s7iHWkSQy286DLgEGyp5O4iDFg0RA2xlR6MT/bdx3cwzKCYRH828fYOCWUGxlL9545k678b39AVkIchGH6GRG4WBhHIEJRtid+pp0q7nKTKCO7MIDGgBo3aNywGvgj4ClPkqZZkmGN8R6GfFyRzYYLc4/r3ijK+A70K0dcoaFwFnN3PP4TLDENs/fifPA1eEu8cfypwU+0mZDjGuGGgpXwJi2T5exgLRtsDacBFJ/D+cFICiKsHvMvaweD6XkY4X/7+ZPpqWunoUfgGxQJ4shwBacd67DJsYlUQGNpFR6g7/7L6eKHHk9v/QEC2te+nfrJgVDgR2+gSrc/Pb10Ij2vWyvPz3PO/q/ne+nbeHpARtIMsbP3U5yyX8bZ/XWcwKD8n7F7h/y04HkKnHcV1wcsmJkXu7iHua5mrFQhqMWop1XloftS7eQsm8I5gUBV4GPNximdMCmRpT2mT02nDuMe4xzUOUctyiV89uud9KdaZ1CQrq9V099dmUpv4HFUQHHch6dL9yHcrh+4L21+5h9IlPY6iiqU11iYC7jBhYDAyKsSLeBXPKeiocD3v/3OIBmyJ9K//dsz6foKygDWOwsLYEf5O4QsNlZBVOVNwCHLG4ks+C6Olo+Mz929FJbledkBHvc3EHqX55Qnde20dKkEsT3pjnjftdWK6vvBC3NPkPITggfX/Rzz8hl/y/fjh7insN8EzjN+1huZESM7X5mwFoIN6xCWXcfMPILfd2/Fn4xHfjt4LJqwP5UHrl2MM/pjb4HhW8Dq5187hYGCdUVJ3otYCjOucpaRi1q6lIJX+ml398RMOvtf/wZnqpyu/elfcW8vXSDswLUp4kbfwWujC44sQuM68FBlAFDXfHHSi9dy6ZHz69Bgc4aKJ7gnr0G7jtU1cL8cs3z7+jLlI/qxNvRD3BV4vOHHsftXl1gkA2RNyf7sKwu4pMAAYgpeI33zKoMuYJPWPx9HpjT+4z+Y+h+G+cZtxOKUMz/3CarPH5Gtj5bQDAODaRpf9WFcB+pYRoxfmB4BddtZWM5Q79CrTLsDsP9M0OEPP1w4ZkrdKFY8Ft3Xj3f3+y1Lbq7tCEDfBQzeM9lDbBwNxvO0G4KaQBj9ciEazTo1uDgCKgXsrDOezx6QeQ5AYIEBG+GUNrP2BdUMSGVdouHo1z79agsCs3MyFsTvjkvgtE3bzhBm1o6HyHnGHtGPf0ffzpPvAqh76FzjQHHtAKHlJx9dTr/zQyvpv/3k9fTh+7AMsfZdtGpq/2f42TLog97Veugj24HRX0eTM7CD+pzCz1VqfPS94/5UR3tUQ4swi0AVQhwDdkjbaLnLaAHVJO/Dren2oSbBumaR9p7fE8DGIBluyhIUmSqAWKZCIaFGBK+Iz0Durf/1D7GU4Ep39SZMQSGd/eEnU/Wxt8ceqpnkBIK4Sb/96b9Ih994lmFzEBD0eozLdVezVVADinXCzKE1EFwVAnYI008ZpfQXbyEozYN4KOx55bCaPndtmmBNmEzWTEv0zrPfSQvMeX9rO81+5H2p/55zMMvsMYdUAl9DE1rF3a4GcT5GCGUJFFv83M2B9D/+1TQaX4p0W3kSmA6BmnEr5GtZ6KDdrcHU6PooMvG6Vg+OUDrJmmEM4boa0kygFyZEJjI3JSxyNZgD3SCECwHGBDEtGDOLD+dnYd/QFp44ORrZGqsQFM/hCJyCsFSlVp3V6iPGhAFH/ADDPIQJ2gcpma2zCh4AmwRcbpExbFvEBLGUNUe3RmA/jNEV9oZkCaWJkXT6N342zVG0d44zZVB8bY65tohbmmLvpkhkIaJjPjcppny4DlIiLnF4HOLP+sxLtAACEbSzlYlfGp1CkMSdFcbuGkR2nQxlB0sIiqfJB4gma+A8SHuWxCxY3gw3cn0kMsaSHIGIGlvs/TqWTFhpY7M4EXEmxAEUVIhYrmEJFlTfLHiBR3hOeC7zY2IAC6DmEO6sXQWIxtmSSMPn40KKlYVU2k2Yxyvfeitt4q9UHcFyQaHXe4nZ0k1rGoa1QrY03cuiYDjv6q5qG0UEO9vck1nmu+f16uIKm8wKEIdZP2EykiHEALR0sJ7VJ96TOpwZ6EbsCfwSTA9wRV2vNtaCKgxFcQcXN+C/B2xGIVWuDZMUZQRf+eJuN53ljFuEWjKphUjL6cmNVc5+J/VjkZ0gTXgJeC4wNt1iiyjd8jA9XXB9lbgNheWMUGNcYo9VXsFXUqpCIYv1leEBXw2zfpDGKKpcJQ5Ixtk5KlAgH+BKhQJg0WgVrGe0KR7zSN8BhvPjMJwTnBHc4s8+dpKkKYW0dgOlB8KjlrMTrschtRZ5Vkzp/o3IdLMfh1hUcpyLJRKNGMtm2YpVYp7lNzDEcpN58/7R9RskGqCuFTiho7US123r95lIxkQYBuvXGEdJRIOg2mL9PKfi/7WwCKBQxDW5uIngAnOnhYem2Rh2VNpAGvg8mfsm6Yv8NWlLy9kGBZBJvjJ2bizaBklyRnH/Ze0zZgPLGI20FcD2UWLSXMN14Qfekh8ytDHXcZQnVZ6R8XDRVAayrTACbISxclz0uzRH2qSLbw43wPYov1EonKdIdHMXaw9CYxNG1Di7BniyN4g1wIVijyyzoWUH8MKzQtpSSnu4cQd7xfMzJD3oI4avWmfsFGTWPUd6lS6dSW3wpDW2iuDkU+CjHgvfw5fsCLx+wBlRywzCjPpZUSOK+bXRUCvwO+48z8nEu7eAE4wLZ4VxVYHJ7TUStqD8wHMxHaH4MzW5WRZVeJiwQovJENbffJlshOyFWflkSIeAj36+Gzt6BIOUZ++kUcZWuV8Y4MAI4lvepa1bWoJde67rJUSm+9TECpNHCCuDFk9TwBlPRuLnqRUHftoGNjehlft4oZRwM3QdzRJrrGUTvFsG/cnk17dJRES2TjoK2iXclHELrzIePGSBTax/9Cszl4PGHniOYfDFbya3wsbBeGHkACoT7nimxC11XKqqxJF1gSct/ow8GL0SC9ojs+kyfa8xxkWUYRtYHg/XmfMtFFcreDGsk70UpVtk/oo3A6xCEdHk7PdwvT9coz2s8lBmumSgPL6HsKlnzSZ7tQF+7Mc93OsOS8WWKck7eNHkhhBKUbg3eD5TXGc8zC579xcvn0t/f2WCWPeRoEd4IIeyowANGR9iDUiO1WOPipxDVckqD7T81rGozWKNalNb9wDYGUX4HeR3HvrzsYvL6V19Ov1TG3M2n37+3dU0B3TtohDdRzCF9UyHvK+hwfOqK3hkJuYsmIipg/VDnmSben1bn/8K7ssoUDFGqBS557f/s1TETV13/gI15/b+6DOp9dYtcO9gJjSxH9KgqvFGnM/9VaKZ4ZHE/cZFy88KEw/PpPSB0zLkxL3hz/jRC5tYiLWccYZZxMbqGuEdq6l4ktrBlKFqoPA1yY4WsqL11VCiL5JoQhgtcc2YWlVgt7epDUhh9OfuEEsLX86oYzOlafK6fsJazj76kafm+GRnl7WXjxEXBR53D2lTWiw/Jqz5VijSaTdiMoVF7odAwrzdf9+Vl5FHjRT//G29SfuVxtm+vFBmaaNNz0KcUxbYHmnG00FTGV607xiLQxADHf/c/e59PuIf11zhK/Ap1/3nOw48u88Z4VooWnk+3uS+rpny4o+e3kpPnl+gP3A7cGFJmGgeeGjhxtAVboArYTHNTpLgg4yauLeOUK+w8ujDqf2eR1DoklypTeF4ar92u9tpF2byLNbxNnR9gNCgK0vt9NQd9rWvn7AiiVI2TnGia+oai/PkhbKfDDcWjRNQOHAzfUlp1IkGswvTXcZd5AgAOjc3lprfhElBS5DnsJSZSFFmjglSujTSSev2dcikSldupDzahSZSfw91hkqpHIxjG4RkvJNZmYowEQ8MrUDgF8Rb6QtfBRnJs99dwJDO2XQX2mvHgloM09kwpe9mgnEveM5pKpwEoMRsvuf36tz8BLAc/x0AwUK5mdnt2JgAYDryn/PTn9T2/VHr4mpGfyItr8GccDfWUMB1LR3n8Tu+IAKzn2hDoKJtx+J3D0scEDbL9nzfe7En3vS+YwegnZufY2D0psBpix6i7wZXsqcekDubo2Tg6qUP3o9zFW5xNIpGEEslY5CpVSOgRsjg7R7angoOK6e3j6gRNphu/s03U+XeOZDimTT5tnvS4T0X0rND4+kD6TpanL7QbE8MEycDLOTI0Dab2yYwHviAaI310DWrgQQY9xCQRplPjN3zzBiaBEZX0Tq1qeGSiPNqoJldvbVIpm7SlJOJ6pBCfwMgvCrJNnbevAn3AMAydS0/FtQ9mF9JuZevpBwub0f4hffjHhmJO2DMWt96KR2+8iZWlLnUQFNYASFeBi5+5R6YJdz0tucP0r1Q3PtPr6W+eSw2aMzNfDhM6v4yfZe/+M1U+KH3pRpC6UqBLIzt3fA3NibPbItqrPznHsuYGiC+BfO5sosIQGa3fjT/3HCXYj9letQHllFVqoGXIGsBce9kDtA7AeMgCxhit1ti67v8GWx1h3Ss+9dwxWMBNoEB8rHEc75fBLAkDs7d7HQyVLpN4lBBm1o6JHLsOdavPH76FMgJhGx6dxnnEunP+img2IrCHvTLOufYz7FRVC7VTVxKdJmqYG21GmoAAEAASURBVIEl9gVmfeDh9xCL9nzqnKZY+C98Mt2hvMYQzONFiGWTgI49kq2MbFMXjaLWAAKCBzEB+Md30ZAWEJL3cL+wbsAoTIRnwnFIxDy3w+sLIHfcVHBHuzSNaxuCR5mUy8+/vJhwJiGNN4wDMSDDBEZPsAcLzE+YHwO2quCk6gnWjtTybAWMmsQChpH77tURhFrCWM/tRyIL3szW3k3kowDUwRpUp9jrJmZhGXrPGE3zLuNDgMkjfRUPqmn0ZDmdLZxK+dd30tFOOa3AsG/glrfPwzUTJxXGyWiIeS96Zn60USIbYoU16NHOiZlJKqJzvlnnGXL2lsYJSt5toghhHmjz1Qh3WZ+VPyCbKclueuffGUzsLkxvlflUrBf0OpphGO4CNdbOw0D+IzBgQoFtmLbuPoIQirCBk1gwr7MewiKAxdELrdwuRTF3gpnkMtcznML4d6lPxP73mH+e2NIce4ooyBbqhss6gre7wLZJXSzhoHDN7VgjcaA4exf47Gh14be31ShLvAowz70x4sqwqJvSWvdED9AIcNoGbhokOOlONtON1QWsXa106QFiT94opHkEzDuMexOF0hydiV8P6UdBrIb2vwLz1caiNYIHhwwFRwA8BzNG+21xMbA7gEJw+r4zoSCZwEPj6EPEzy6TsGoIdyZcc2tassFR4TUiwQzYBHbZdzUvJdcozFYoANhjCxOj5wiFhecV3j/msk92GHF2izUkTC314eq6eWUXZRVj3oImsK5l4HIUugoLH6fcBBddLItl4NZMp3eXJRQ2RGkmZLZw4xxiLEbVEG0TUGVR3SJ7URoxNhOcw7iooINlFIYIJdkhTHlvAYsgroDruEbOnkUhAewNoKxh2VI/OIWRhuJAl22zT3pO8jD0Kk77uDZoIgva8wTtAlvWEDQ5BpuINZYzwbymfuVTaeEr30wv/flnU+H1G2l/lLQ4BA3lFknJrhCLMDwBLdhFOTQFf1At4EcAHm3g+hNWGyYcIQmwmjWY2hrt69rZj2DGwgd8slzEhOGaiSGvrkUK5Qh3oQfgNpiLMrX3jkiYsMFaajGzltsecHfEXmqV0RukA1+ji6MKDN9VkOoh/HZ2rR3GB2FA+qrC0HNvQ2ZjLOm1AAwUaMP6d3r2mChDJSpmUNYeGuees5oRZyletT9KHJgB1zjVKbwQjI+z7eskYTkg+cc+OHf3jjWPoGWM8WBhncLb6+mdv/4zuKpOpeqbm3EW8yg7O5QR6SLYB8MMbOVZG/G+tc2OEHgYCQq67BwCXiwMhenZr1lcIU/gIrppkiEy3Y5XxlPuNiEKgzeiPEG7AsvJ3PyowDLuME98TYckMwU8FvLETVufkyULekNhAp7B2s9cxljPuoIccxUJIEew3qwlQNwlq2ZHKZ/195/3M6Yz+y3e39xpkE5fJRqJu7AKygdtEUMH8qIv6kSigBsAKWPkS0fz66l9ez5d+K1fZkzQ2rdupK3ySTx78Ooixu3FxfG0TmKvSd5r4Anw7VuthMMhvCUKHOCmeOsOmXLZIc86dapyeHIUwKVtQm2WXr2a+sg4ugQTWqEm3yQJQ0rwIvsw5Tf/zf+JAQKFsvDIIlRx1Zf/a65tpPXPfzVcxHWTHMWTx1jkFsqZgy88RckQ2mbOQ4y/RzkH460JMU832KQHWe9DYvOvbWDpZ25TEPNhcE/79JmUf3kjzXwIvuPUbNoitr7DorZknlE2a2WZRqkZSlIWsId1dAw/xzKKgQPOLKvO2oGzWcfAY24q8CzMqBxkOMF3yYMqTLEhQf+Cx+SafKHX5CTd7OAvuZb9A9ThcVrM0faDZ6V5Y0XZvkCTNiEd4Ve8a/fWWItQHy5m1/lNN/K+Qo38ifjcvqT/GSRxg8Z8IgRGxwAMKtzZhv0c8+d+V15RPvBjX/yfB/wP/Ee7MVZ+a2n0qu0qWHpm8/AuD56lbfr4h5em0sMnRuFHWHNo6TglH0iyAJ+KF5SKX+BjdKgvPF8SoTQDl8+loQ+9N63B6+hBmIMnBR0yKefMGvDvCFgposy3fMST59Z5v5WWUdg5b/7jw1OOg/G4tiX4gczV1PVnbgaF1mDcNiUeXImHo3ViKCqb6Tc/eiNtRMA2TDCm9nHcb44Ahg00YoMEd+sGMiHAYeKDLUfSJEYJxDAIo692SxYFKhlm/ip9iWD16TxCM3/24n76qXcscbAr6elnQWYgXgmEC+qux2+/Mx4ny5zvXnNjMyHse0JMthF2x0MAjsfD5wQg2mKythGWJe/wTHbPHjOAsr9s0QAUns+G4TXe5IYIJl61C1vzIf7KxsnfnGIRuNcFpu9fT3sRdo4tYrwYbYnk7T8bHZfs1G/0dXdkfLvbB11kgZY8w9/27udY6+jftueaxKFg7v/0Wim9MD+QfuEJC0A20goWjAPcCcxudwa/+dcJFG+B5GoQkQ7aBNM377J3CtNNtOPDOILnqDNWODOdpgn6Hn5dJpf2ITwK0xutPmJ80OrBCN/CHWwDOJoFFxiof4QGskCbxdevptYze2mPoNvaB9+HZYs4mZu3Ux8ui9t/+bnUIT4RXJwmiRVrIrQXcFXc/ePPRGYqkaF+2/p6A/ZkURxLe998OR1cvZUOr91Os7/6U4wbxo55+/vgzmLa+/uvkWiDvbrnIjFOD0BS8iTlyKfP38ad5vY+8V8jaRFm+dUbE+nHaLupFph3e48/ms4s305rX38uDdJPEaveebRZt8f70jiuCPvA+ER+LrLc5dFkRVFoLFQqNx7FqvPo1Dw9QVQUzjQvxA5CXIEHa3wdQrg8iGZoc4+8L2zlYSyFxRpMjQyvDHGGNDlPPNZGaCueoL4MiHhaPJSBiEASjIIukV1itNrEFK5vbeIbjasYhK4BEc2zBwJ1ASuWbhzCJ6yGB4M9JjYLnzEi3sC+WLQwcagBVRu1jAA/BNHIwQjswUyF/oixT4KQnqfuywSErD2/hPsgroht9owxlE9yKvCvr0NRT1IDMd3gHNDe6jYRYjvgD83sJEroQ6O/iQubFle11tg+iRdppfnRExAjtFRY6l+5bTIKY5soKjpHVliTAVxEaL8l4acI7DIaY9YM3EzwPIQA3FLYQ1uu8Ey7oKhgKj1HZqJz3rsIDUcwFHn6kvfzBIn4PWlaIbWYpQHuwXzPspNqtKGfvM092jPnwsEavuWMfe36OuXOSHozgfaV+o1jMELKnVrgehBpnxeN+vsExO6QGk2HCJdmrr12dR5pkMPD5xqWs4fI2rYFXiyfgEkDb5Edgx6xHEKAp8lCWjx/Lu19/uvp1OYGGUpP4Y6Ky+k5ovaeRfGxUk/PDzEwtL8MmcyLxF9OkEHqJq50yzAVME99rKm4yJ1vc277adc016afPwIm3WPjngZIclLYglAMM2iSPrSAIVn4ILqsBU0gsKGJxqop7LQ5U8ammL49YvhoswoM74M3msBc4GgWYTcD4hAajmBQ1JySOy3wjsHwPVwA8duDaSqk6Xsn097Xl9PybdolMYQZBrU6jgC7WkTcL/XDkup98I123VCIwQjouiKTfIS/fhUlUYeAyjZuotvgqLUvPZsmZ0lcRPHQPO6NIzdW061KncQTZCH11GFVOqKshmxOEwFmaAj1xt39J2sWFhrLWLAWlCMxRlWrjwJghbkB1WiNqrjNFvAkYH7Ape6LR8IZ7/qAjJYcdE/pkT8z7wusmjCP4sgc8Sc85A3WBzoS7bRwP5YRViGasbnsTCaAISiZ+bJn1gSa9Lr0IuiSrpNc6bAvtlXCDY6Tb7fUZ1IstPQNb4C7ZFLM1qymvwReFz7Disqzwwhn4gNtyE1wtsyY8cZdpLs+rOADKLTKWshJflDYoCzJ2Fjg6MyNEMaLcyjXrlDiYZBZUcNmBs4+whzG5WaYn4KG3hMNNMsbHJj6JvMnnqq9Rswj1mQWgxIcNEG/Nik48ZqGyEguViC1f0VmnvmaKEQ3IuPRukrNjN9VMRMbrwZMssJRtN1EZH0nWQYsPIM8z+IDV9J1rL3gUpm4o2WsJXuk1p5fI3aEfhjDIPMY1OUMhqqMG7HMlvG1MtCuv3XPyswN+Zb94dwxfiaJQIwCBjzVRwbLJv7BfXg3665v+YwcuGEURWjxwrl0A/q1c506hmToyCtc1EZwnSe9vD7FtFlg72oqNjG91cD17p1nlNnFOYepY78QVFCO7gDXm7TRmQA+l8D0hA7MLGF5P0C5idDWj2Jgk/aYdfAe2KxQ/siUIliiyDAJl54lPrGBZWwYurcNHK+DR8a4XmKeKq+Q1xlDZsnLQf+0gEWWS2CKW8q+rAnnE1jIgeNOTZJIg7EwkvQaYCDvcRKX6jLW+QbePApdrqvWuxwuhpMXzkcdqcbVO2nlC19O1Y/+cuwP8nEaY/9zlH1Q7O5hgYQfluUE9FgnaFj5hZdxK14KBesWJS8uf+zDrCX4Eu+aEkq0629ehWaSaOPnfziNfvTJ4E0b7EGPH3Pt1hl399LZdOm//22SnWyl5T/563Tlm3/KllIegPCJFp4L1kjLkfBmhWRkEDbWhTjzy2/Hy4NcyQiCBay/B8Mk3iKJU5d92SSJ1hS4SSu2hcMX3nZ/ejf4qXSJ/ceNfYfETn1nnmTVwQ99uDeAU7dw8fYo1Xi+gYJtF/6tbvwy510ot1C9ng2ZcMX8wc2eE71x5Cc8Y/K/x+ELrm8oJMQFvK8Vzfs0FmcgeBT+9l4TWuF58GzYlc+F8BQ9CzvcCyabNvln2EzWkHTD8dkX123bf/xWMR1Cu09yIct3QfO0zyN2w/PZHyqfbT74Jd7LWvE9xVXvcfacOnPxLAixjp9X4hPv+QAD6IqHbZf1/w/fwNpVID6Tc/gvP0GIAWtQ5iw3QTKMDlKMRxId16A/egBYW3SCcgvb/+nzqfieh3Bzn6An5sI9Bfkme7CJS/QjhICohNfT6vbtRfixvvRnT4+nBeAn9or/q/BUHlC53uQcu/RlcHJTvELMNOcYrTiabSeiEOOGuWBqNjfbI+mZq0Ppdz92K4pMfw1At4C0B2IABiYHcpD560GEljH19zC9901PpD4SNagBt8DgMM80O7sgA+r5oBEvo93QhN0FUf3Vc1MA9lp6+CICnTPk4yLGwrnQAKE7EhJxwEwmdISkzC03JZ7ltzvD/7ONOQYMroWWgOvuhQDkWyHAMFeZZnBNIJ7YUDc2AMaWsk8gPcZi67GotJlZygQuGEVX1DH7DD8OInsnXgpA9XIIYTzkPVuXGZeJtN24RjuuvQQkPjTmPLV++cn2JesjOxisP//86DqgUBc/fHdN/Nvxgj/SDi42W6REOjvVTG8sYdkkLb7pebdBZLrMNWGGcyR2KWtl6i2nKbXCWErGf+ln0vC1G+nGl55Kkxd/JJ2BieuS7bCKxqEDk1sgw9pwFSRNPZo6hSBH0Y4aL1SAsOouhEs9BJei0iTWaCK0Vx4k29L7HsFKs0OqblNjwxAsrhIETJzMycn0IEDfRsu4/KWvp62//AKKizIEACaH/Rx/x30Uv50C0eGecWcp3AC6MJ4lilT3cL/L6UoAEWpcuU0RVlNfw/9uH6StWWIbw6Wlkx6GkV7H9W2MA20hy7efQDu5CoLkYJQO99Fg1dMWTHOsn8QUF4ptDueJa1thsevSfhfGzE2WEIS7AARM0N0gZq2AVeUfX6dgKBqzHK6CkfGUw6eb4jZuM1MIWW1qGVnvJoRw5jbIvXq3TnD5DNkTMSpBjOQpwBExDvvJEdPQvjkHfi6nVXsHLuwTPocaVTDEBK6j+o4yAPdfOpMaV28jlOr/jpZzjEPuSsM4BnwwrwxBsjcQqCEsLH24MBWAAU+HZ8L07FrGDaLXyt1Fe2yKWIJp0rX/6dOkyR9Oli3IoaDZroyhxSOVMgLu/nVgmsQb/fuME+2j560GQ2H8muUGjrCamDHuCOFmCA2sArnsjLXS2qzt+c118AWucXyfo+bUCgXHhs530wtfWkunYeer1PnpruGig0UiWyDWgL1GP4qrnAG5u+An6ue0MM15nuIHhhRYL8KI9PH9Im57xgCssi9t5idBELEa4NAtIthQUKnXGk0vQdyb4J/AhZ4lvpdInNGPlj6Hu9PkKRzYqBu0i7KqASOnS0kTpH4ETnBONA0jC5JnqEvA28A6Cgysk43Z/XRu+lRKN7M5nKdkQ2l4IfXvIFbckaigNQYH5WHWTn/qx3CdeHvaun4n3aE47c2hc1hH9tOFNm6ipJ3uQJxLuDadZW2fY78YQNokg+421qY6uHi6r0miA5lx1ol1zbjFLPOizFSV/505QRIVXi3AUN16diOdZD49NM90RGxwifAzEjcgcFmPqo95qMQZPofA3SaGlXGayUvrBPrlUMZtsXcV3imzn+JShfMKMMoBRV9BjAaAXQJ+Wf2AR61oMnEV8IaZ2jbn93iOwtFYhO7Mk4AF2DM+xxhJ7FKSg8C7bBi7zneEywKL3eT9LoJQFBzmmRLnVKtSh8yoY4xj5mc/nkbOjaQXP4ei6c2FNHH6VBqvDqehLQQ5LDGdPvDnGWJqyELZw1r8xrU7CC4Zbt82ToT6NIOc4c4OBBWBY5zzNIA1TaWdMV+ow0l4hVsa6wrvnW6u99L9uI6h5iIME5dhLBcdzmQfyRAigQvroLVimbFPIuRv38GCgpILPWic+yPu98hAqVu18lyd2e7zvPN2XBwjspAyZ1xoClir2x3tZjATrCV6J1zj+Bv9CHrPNHdmgrTtKD/BS/sQWrM+thDYcli1cr3rvAvj6BzYC0Ln2Bmew6qwRUCiCh1aCYa3RWxkE5fGw7eIZe3uUsgdiwF3VQC0UGTlJ8l69zrpIhCMuydqaZH4tAmSidmewkkf9K4MY2rdO2S9EF4VrIPMwytUYZwt+1HDMt5B8nLNXibW636UKvsruFKuM2csUlrXGowVOZKzD66fZU3eBE6YVzCUAAnpiMKiqFCwIyECVjjtTMVVypgpbcntVeCfC9JK14HHI26uBO4EpFKRZDWDE5U0dWk65W/fweLTSidgsLcZRx3c0ZiYgokiKQhvCpu2feSGkahD91KLbu8oVAknMGoWC28RGlLynSNKHHBWcDJM+cuXSPH+AeKqoWdYIg+O8BopnKRVlBgoqSZO48GBJ4H8iu5qBysINgO4F0L3TNCh65+0XkaERALE/GWZgqXHRWKpXQfkeazY0K+mbpjAF7ycyhcOIkKtFlLgiWe6uCWWB6Ap4G/jzv04t35o/igwOs0exl66nozQc66Q5qneyoOfUO7ktJBz1zX1KelKKKYxe3bwsnn52hJJMi6ka7aHsiiPJ8sLN2CAH1NQZw1RkLht0+C46g88kUZOTzPnzbSJR8w+bocDKoYQBouk3j+DR0NunVycrMsohP+xOfqCptNoukGCpIEDvC6gdVrAqygWt/EeWUfRSoV0ahDW0gNvfxCmmPh8cG0BBWgfGTX3iCdrAQNniIlf+zRJQVijflwO94n9Hf7I+1P5qWdxk95PW3/4nxC6voSiELdn9kJFHg4NqQY+OCAmeRSl6f7RRrpwFoEemIg8DcS5v/vEctqkzlnncIKU+VgPUSjlLpxOTTJRLr34CslvKN5+4YPsE2eB/c8BR/3spYK4e9niACn856F31hgOZQ++uD3WV0jP+AvgN/aF/eCfPKfbHd5VnBV57Q6HL/hr95H9BjzZJ1RU9CufocCmckE6Kd8Qe+l1/vlFQQwOgXa5eReW+IP+OefsvYDjWDwf8rDBg7MPXBJ0+M8WpcMAnr8dQLQFfMZYfS9atlFfuTsPzrHPcs0abt7xnv9TXLN95+dPdjnjp4//zuYMXkUpCGuApR4eiDjGJZXovHwCGi9VC6UnZ3AHBdnYjWtp/Wk8Zz70nrT+N19Ozbdup9XSYdB6FUX2X4B2maDNYuclDqv0qJEnYyMB71e/Tdmy/AK49CAUy/KZrnMo79kbPQE4Qg484LFoHM35S+fSG2+8Hovi4il8yJS0G3vpzTXi0fi7AwOQcIsaQJtpUdtNAGZWbS8DGQJaNm8uwZQSP4FGp++e8+nwuVcZmEmaGQDmwSNc5cZm0PgCmLetPwPwtgoTZHmspXddRJrkWWcnMfcjsDlWLwosmRQvQLFobpKrz3+ZcJZtpJfYdyCG+4wxTJ6MPQCFRbJlAcQFcefVKIR0HbCV9csNACTWJ4Aj0wZkGysScrPDv5z2eI0h0Ld9ChD8E4iz8bJRAqh36FNfdxGVPxKkzJwbU4i1jmnTThAI22Oeumx5QKKNu8PzVuYnzDQZf1j/6CegkXv+/h6y7KVfenw+PXTBWKl8WlkjU11lIA2cOZsKO9fSGdwJXsWHZIOsaOcn0LoAoGqezeTjXGq4C2qNqo4MpxECapuMu4rw0Gbv8wgtui022fvQqsAoTEF02sS7NIk1VJs8ycHvwvS3yZqoD/kRroitv/qH1CO5SAEBq0ets8M5sqhdPkfRTlzB7j2Lu9FGGjt/NszI/VhfCvefT7eeeo4aExA00uJvvflWGr7nXBollakrvvZnf4eEcpjWORQytV3c+vpheGRe+qhzxhW0rRBakLmxAoMuNARqj7Et7/fjooF7JWs9ghb6WwiQZ15+JU3+9A+lwn0UgsQCcnZ1JS1CgC8uEqBN5sZDXMZGa6wOp9F91XJwREbIRvtM+l/+9iS/EQRgfPI13DX30KqyH1swtX1o3vOUGND9IRyaGIcwvgdTNAoLNwlxbCBEDsJUQmZiz90DGbFibTBV78On+XYtimirRBGVqXlSLiOUJlVxDRMgb7y5loa3G2mgXkGDg/UJoVyFSgdkLggJ/ypXdGERSet2Y0KECkheRYNChfBcQIMpYt/eo74b2Eu2ZZ0bDZit6V/+MRYX90z85EexThQ6Nd7HVWQObfZTZB6rkOUMApeutMJKfhPtMt6eMJMIW4PFhCE39ZOwRD9u3ao9h8Y1rMHcybw4Z91pNnAX3MVf+14FIQLy+u95A206VkSy8zkPT48CmOJxjnU7Yq4SsFHGucOaexYkljXWqYK7zg7zXEQb/QjWvSlgQLLC6/IgCBigLkZUPkFRyep+GsSKX+Y9abzrFcLrAW/sczYIx+xh7dLqoGDGY6A9z7TnXXIFZPK3aykjqQVjfwI8T7ZHzA5pfp7i5oxfN8SF1XWEWWACjiTPD37mzIV4JRiLMWqp5K7Np/LfPZUGsCrcg4a/wTOl4iSFd9fSAW6mXSyFh7hshnaLfS4SU9oHU9GHwKGkgAdi4FStQDJfuqgtzJxKe0ifa7hXLW6SrIbD2m3V0jvfey41X76VBh5hg3DxnV+E2dKi5TrQ3Jbtt8iauQDuhIuvw9W6C1q/SB4N3eB8kW4dCIPxg8OSOIMzDjhfxl0coJDLIfwQms9bQhRngPuegwIbUTdmlTnhdI3rF8Y7XBZ1YdyDOe+gKXahhU2toA2YyzwEtAsT14HpHyKOVAYSs0mqTFCyAk367h0UgVhDd2D5b/4pSVUOYXytD3XPXDBZbdw4rMmVpz1jzXJ3aKvE6aQcw8Xzs4m6FCgSUzo/OIF3gIwgDPVUnTXWBQs3XOY7ivuWNKvHedlD+LzDOh8Ql3QKa+DwHOfvGjGIlBcZIlV+jfhOTAJh8QkYAcZxDOMMNtLgjEJwI52Fbl1Fs6vxEufTtArTaJKMGkVodd+9yd+elX7WpUwB4h7xwQWSe0ygrV9m/sgDuA2yRlifyghRHeD0ueeupUceo44Y2VtHSGYzxnODeAi0WxOcMxROMMiqnBSMNgnGarEeQwggFeh19UXwB+fLoss93G53ce2ZPQ8OfJMsjIwnD0M6Cr5MT30rXf/Ga+n2xLtYD/b5NpYQ0lGXiJks62fM3g0T395BmZVjLfMkaMpSStMxHxNnYeLjd6wMxXiNVSymyw/NpqHNRWrGldMi9bkAybQDD+IaaHXYY0+6rxGjp0II+NYFUTCYZ8zsWFjWZLOOENL3gNdMMQvzJP7ljHXBSQPAl0q//F0rJCrAaN/sxqOUjmiRdOMmMfeXERZnprB4sBbWNRymRmgRC9URiR9auHbr8tcP3A+gqNtfxjqsNpygqhnCP3Qns06b2SlLCDkWx+ZwcJ25gGf3RsahD820+G9IuATdm8IyvcycivANJpAyTlFaAgRhKapRgmM07d+iLTQrxm1pqWPYqnZSFSvUMALzLAXPh6DHJl6pgJ8mpknepSv0KFZQ1sf4WhlC10esVeAcagkeqoRTPGog15kOuS8tMLY5lMq+w408LsMMP+ig49K9eLoxhaCM0ANvt59/DTyHFM7H/TWx1KUpFMUo6u8jbX4eoTHP2W24FtDNC8QOVgaGED7BxpzHMnsrfmicO48FcyFt/P6fkdyklu6/fBYGGmsZ/Mc+dSv/7i08bur9eDscppvLufTFL7XSO1GgPIhQMY5l7NTiQiTOUjDav3InNa/Dq4Jvmng8dH/g8VR++AHihUZT5RwZiAmx2P6bL6WV+WXiDvvSyPsfSRt/8jlcGKlF99xrwXxPf+yJtMa5rN17Ib31e59Ojeu3IsbdtXJXTXKktb2GUnUZq9+7SuPppW+tpc9N59JvQhRM+//nb96Tpg9X0w+SzeYk+H9lbJyarDtp49N/nqbwfqhYlxF+Iy9eYn20rhwyfmEbVEKynn6UzpzZwl6aHSdb43YNLwCj6/xkQok8cpZPgSu8KK+cKS/ikeAfhJmgpXf3WS8g3w8LFP1GeFHwtBm/rCFAg4G8DyOL9oRtQz105/Za3OMd+Qt5VTs3yUUI5zxrIg7pdnRJX76T/ecVvvOelEVcoHAjaNuvH6/Lz+dYxwxXODHAxfZo2/6CDvDsMX8cSnTf5ZmMb/Bvu2RO0JEuVkkwVWQmPgF+0fi4iBIGxIp3FMmXyL1RJfHMIWE3W3/8FjHEp9LMf/XraekLX0n1l15Ijcr9gS/K0N4WB2KDgNERkrwcQJNGh6ppwfqhdGipohKK41CA07tr4Jicf8zFebCu8v333nsPbCoS4fiY5jzAikkrXPAsg9aqA6GH0cZjI42UcNWh8N8hI9clyAxEbd1eYMg7INXlV26mw++8kkowtUc359Pmv/sTAmHRcHCAUWmwYDAgWCXaaHdHGcBrBHiXOLjjuBHp2hQ2o2ydo3/Wmd8MmnEFQPHVwFsnGQIZ9/3txOK3z3uPBfCaG6UQ5vsyDQK41/webfB8CG3RTbx89162cQIWf/ED8N7deAHDa5lA5ILahu+yXj7PnyL/kOS5HpK74+FBtV0+GVlz+CuT6LO5+G4AItcV2hyX7jDOOwCR7wYORvAySM4984D4vQRTbfYYXSoUBv3tOkQgLszR8zcn0mtkVPzsM/3ppZsUPcDnvYXrm8HtSxB0gb+mi4bmGv6zUCa7FNbNPTIjtXEDsnZHj0DIDtrwfd5rwOCgsMbiU0o3d4fC378OXOyCEBcgqjKBZu05AjkdcWgtFiqiT7S1+cWn0yLIbNO4MTRho6Qlnfrvfit1PvFkKmG5a+NqoK/yEfPvnZ5Jk7/4kxALfN9JFKJwZ+DtADVLhknhPPYjH04tUrrvwGBsgMgOCL4WItQeO48ebRhzJhwP4CpxjoxVw8TftYDHAZh0A3P7idD2e4OMThYCzuHKU3nbJYJ/0fh+48W00o92HR9jNWMWKiVwBIbOfZYPBK5YPzGy1pcGmn+iR4IJLaPRK7OuwqJQk8eEbsKDAi497mkWH4ggwd63ERy2QD5rrGEHZnKbN3QtFE0KD3CaaffVCkkGEJB4LoNCERLrCmzhNUGgKtdHsPKdRvge66PwKUI1/V8kvKmfZ6yJJtLzo8beFL7CoKb3NutShFApLAT6B1brCOZ13OtKuPGI+ITrIRjBoSffncoQx+Y3X0xbf/dVmCieYz4NGJT2Iu1hlarA8OxizbSEApNNswRPm6bclWiRGbCMelbLuq5HLmQXJkaWrIbmXJdONeuOtIgwUBnPY4XA8n4bTfBbxK7BmKnMlwkTzj1/plDWClfC1crtAMJDmPCc62K1RV/7MDhmGBtBKG+Va2mNmQaS5P0Qsvm9x7gOVnAVpI4a9rO47xnUtbKAZQr7LBZlYNuCQFYJ5hmtk1V+BkCKnvsa61BFKNdaABTGem4w1som89OSgrfradzqeiB912ayz4pE/ON6DaYftQdxWKwLmW89y7uvXkmby8tp5Bd/JN04dTqtISk2etRnWgJj7sEwQ6ndO3GLcFUDb2dFsMENwJqMuLAmbpfplimbWLqDOyCWMBQMZ6Yq4H86nzhKL377Vtpd4Bx8h5Tbi+Ai4nEQiWKdARZUCMqWWNhnUL7oChZtu4cwQbRvoV8th2aE1PXKvdG9RaaohzBsRlizjYZOX5hif3SXNSfREfPqUcReYmUh+UMEnF0IHI8geGHRwfogvPrd9ZKRRF4hVkyrAcwJZVsCTlkIU+m3URbUpjyPZKmjj8EPkDr/pz6WTv7UD3L2OVJv3khXr6AgYm8k9EUsZz0tbfhDFWCIDikOLt7Oc+8Qy+FeB3oF7itt0zvwocUvg1Utg5wfBKQq6eClZAX3CBDpbCAMobgYPokb+SAJCzhLYZkSptwv1oN8HjFuE4KonV+Xs+Ca67JOa6egl5OMZ41aWAf0KX3WLbEO/m+0GC8xj4cwtFvgCd06db0xQ1hxFHx0GVo0iVvwRdyFd4uELhyFF8WK2mwY8IJZQ3lHQqbgUOfdIYSmARIzmDl2G3xqYWfhanyY2Bm8JiZQtpUY9CHeEXXw3+rv/3lY4Ibf9y7ceqrUl2K9sIx0LqI4YC339xppk5pzwsg2Vl0BvQq8lqALNdo1oZKZFFVMdGB41YarrHEN+1BorENQ6qSvb/IzioJuiv0mxwmrnCVlGQB39sH0Vir7KFzYE+CLGQV8V5oo07ToI+zmmiiVgBthUrxwAhxTRFAsUCuiBD01tXowdrzM1CiHwFpw5isnFSqKaXZ6FLdvLFXEvB4ixC1QJmELC9khcF1ByLf0gcB5AF3bJUHN0AxUFMXXAYrPRWhXRic4n+xb9RSeSgBvP9lUB7HW1ziXY9JiCItjO5pFSfWOh9hLzgjJRLSamMALYJXRQIkBfkNrUuZ8o0MKwS+z8rI37NfyyGS6hrS9QKreb98ysQH4DIXK/NU1GEfw9AaxzcS+5HZR3oilWLM4O6yq6U+b0Bn5NBXmx2fOc7kn/uBcW4B5i37y7L+u35Gunb8HOB+7va10dJL48aN5anfyPIpem+Wp9OTp2+l/+Okr6TcefSs9dmYBxRxeB9wh3DLmtcOZ76KgaGpFoj9tgnhRp+o2ikk8CXaH+9ISGYSXLpzFw4KThnA50HeQPnnfQnqsCIfR2SeSoZt+7olSOg9OKQGHh8AaOrXwYGjK47DGHeAoR4KbOYpaz2BBr8hXcq2Dwlm8tfyN53FXK6WpT36E51E+fOzxNHpmLi3+3r9Pu7fnY6wlrGj9KJRPAveDl86GUqSPvdF10KgGLVJNEolMExN4hGfMvY/n0qcu4BXCv+rgXvq1h15NnxiY5+iNkOEXPLu0gDvlbtojHnnowftT8/xpyjRg3WZN5Tta4JYdvAiEMQWMQ86hHgm/85G19C8+cTP9Nz9KHCHCrzCiski8654JT74Tm+DJ4E/PQGapym4pxHAnnuF08Df/OJsRU8bf9leSXvGJDIl854HgT/Xuki+2n+Ozdfz9bqO8Res878eRfM/zTd7aK9+9HUPVQGF7kd1VOgJu86mYi8/aH0sRRiTGIm/tveCZ7r4rjy6s2qvtRUmHGLZzE+YdEzBsqlfnyhlruP+2zr0K+CdHXgXLtuT53aStGoJ26SJwgFuroT1Dp2bS9fFTUSqpQLhGE/xep+atMak2L04rwJuXdGV1Plg1ddPV+JElJFHwvDu3u/NT1nCtpmdmPJcgSNzHYpE5fC2Qy/Ei1Ipb6QPnl5gDKSdXONRocaow6DJ06/v466IdLJBCbByt/AKWgT60OUM/9fFUR9u7t7ACIq2nN1A95rDONMyQhaZEArWJlcO4gAZc1na9mJbWCGCnmKZjceFc/hDIXEy/8T8H7WbEx+8sFgPNNoAHYqPcQv7LJNLsns+EBcrF4eX4P3/Hl9g8N4p5wFTY53G/0T69+1vB6fgZBQ8l8WyNGAhtGVsXH/5WYIoMMnZhn3d/9JmVeAYj6AY4GNqPQyCDQFMhuNkXXzKkmI2ZW7STAZUE5PjQydz4nIKYACiCNhj0uwDPs69cb6Tf//JY+r+fnkif/gpsSg0iO0NgK/t1Tx3EDdJf2wd7kWq8SK0rIlUQzHClgSHZQojbg8Efvu9S6mLCLaPxkqA1IFoFGLEqPvtzI2T0G9YKiusHkxolnqhF/JIMSwWmW03hEH0wfYQ5466EHhJCMKnK5TlcV7COkTTEwHHRQv3p51PzC19NI/cRL4YGEdNuGn3XA2nrhddT408+Q6wCiQKIr9HiYrXKyY+8N00+eF+4RkV6abYCXiaQ5CCZ88a2NiL2QOZjCa3wHjX31NzsIEgu4aLUgoFgBdMMNKR6+WIaIMtoHUS99PSLae3p59LYwW66Q42gXVgirQdFXIhamOV0L9jFTSVKQSBUVBGsSiQyQNKIQ3nY7aNtnmMsTZgGExM0t7Eqcq2HplotkgKJ/uw4fKURkEwfxLBHOmJkrTgHMudqS/dkrgkG7uOsfa/WEVsGrOTgbPdg0DBOphKBxgtvbsCIweSvYoGAwL5OUoAlzpl1dHK40rgPDIC5kOmOMSuwGfN5sKL4zE36kwGcIfavB/NucoAqQgeXUu3MbJr91MeBY9aRjINrZLXsI5Ndi1RqXZAMxlPaAg5lQmG0jPNQJNtBu94CbxwgwDQZM96ZcRbCk4rhqFFSYyQ8sw0B647DM3MEMa0x70NqBjSLKHhgYo5YFxGfU3ENdKvbo99GVT9v1pV2ZHTj3PPMMM9QsjOYmB3mq3sLBiHue7KyNkZAy316ASDMDtNHWJxog6aYO/iF+ZVA2EyLmEK00Whw+xDySmh+2+zpJoKSNVJ2sZq2SaUvg6dAr1VWSyhGirSPdNPge4NzRNMAE5p394D9KRD03SMuAeiEMcZSQcIAiwG3SH/tPDtfezZNkUEVDx7GjYMfbp+NflyJFBxdC+ciI8R+dSEoyE60ZTZVxgWs6QGg9UwHrDtjZAPj/O5gOb+63EzLK5hatsrpvgdPptosip77ON8nYcZY83X2RuLsP7Mulpp9qbFshkyYHvcNwqjb8SY/Tc5jle+6FyssS+jEh/yCiUSriwsm0AYTx03nz+KOgtLbCK49yi/kZfpXiRNDwJ09Q6IX8hkfwoyvgtfWcdUqMg7Xjdlwxtlf4IhKDlyniHueykTgGxaHtOSsHTiii4SkRY7XcOWDQG6spPkvP0OShxyW9/tT7TzJjtRMOz9gooAVLmCStSxCo5yzONUYIhmkOkJ4gzMhLjGrKJsn8HicOFfEhoE3tISZecsJmhVW65C0ZXcdARTmM8ch0TrhS9I68b/u2T3cE+k09tH1VqmggLIOPjOzonBSQ9lE88zJObOcKGDy1FTMoSioMk4ORewxhxAlHLCKj2QO6+kdSpBUUUI5XBU2ng3hTPjzEwpB2uS/iOnKsT9aVTyTasWlYfIFAlRB+JJJZNwFGI3db34nbRFT3P/2e1P1nQ8Td4fgBfB1oDtllD19KHTGyajrZxCrm2fCmoR63xh94X8qi1R0DZmQCfjUFc/PEUJF0F/Xk3e6jF1BPnPY4z6X6yT1OEDQOGpU0gqw1HNcrIO1BXc4m3r95GGwPb974lcPNJ87LGIdhU1nCY8BrE9bnI+MoWXtfQDrH0cHRZtxusIBa4DVM1hRnq0yxkHOj+7wLZRYxr96D1SP8AicIMS7xGZCnUMQyDxwOFMoEeu3UDQCr601hDfcZXeABUADQXEwzXzwvan7ypXU+MrXcUEEe4JPiuDuMrTGpCI51lT6L4+hS+Q+g9TgJzgKc/pHjO1sRlble6ZSOkNZjPNnUTiifJkjZeAIAnZziHU+QbzaCMpWBimjKIOrha0NLq9a1gHvJkhKnH3Pqqs2hJUY9EU4KjU+2ac2FkCzfAYPw/0dvo8Rz11bnkzDRWrHQTfkm6Qn4uIR8NU4IRCff3U0ffbFabxqyJAIzdS90gkMEnOmcr0IjbfkUQNeox+8eNBPVlqSeJx7/2O4yfLOP/wTHhnQJbDZ0V41/fWbp6ini3cJ63VtKZf+45vFdIM9bepRAE6vwtcW5UGADZX0B5zjI2uXkXilTZIPXeP1ZtFbxDOkojV4nfsv47pIluQnH0vdMbA4PnBVeBVOBJmnsTMD6/kHLqbq2y5Tpgg+gvMU9Qk5ryVpJjBRB/77UVh+9Uox/e1tlH/ES+8fDKTPXD2fnquPoUTax2MDeGVsKqYv/fOfJ6vtatr5HBkB4SWKCP8FhHHXbweLoh4ZpmHPIVBWQAIPnqcAN6bTZ7BkHyc0Em+55uK9EJjYG8FeGPEnvLHE6zynAJPdy865f/uQ/InteF4CR8VzPO/59xGuy2fLa4qv2sCmv+NDH55b3w3+lLbEH/aVCV7gQbb8uG+tc4492qZNXufHVRadq7z2YGdNB/9MO/EM4/z+347X/Y233evj+/Gq7WXz8StD4zHwanUABSlKN9bL2r0qfT1bbdaeYQc+VtXrOKr335MmPv6BtHHlOkpmvG8+/iTeEVPQbl1mScrE+VVhEAYP14R9NYvtFt5H8vZFU86yeiEMM06HEFZG/nYtHW+2nsoD0A+f2KKKeh4zugNWknMzfBHUmhYbk+mPv3EyPf0qDAYEr4XrWxezLX+yAWgJaOKAjisAZg5tQgc/3PoXvkamOypooxUeMDCUFazAZFfRQLlwZqd536mzTLmW/t8XptK/++Ic2k8ZDZE+j/BhmeO3Y5EBCyLPFa86zoxh4OxxQPxoSfI5P7E9TC5DxLzBC26NzK6ClRY1zcQxV4kr9+3bhTneYC1VIsFMWBNA747n7vP24yWRiJ8Q7GhfgMuYPkHYZ0QK2bsxJ/62/+MUmtkz9uVBsZ/sHbUG0TcjclxuqmMT/uM7/XjIBGh/4uM8eMb5es3+WhCBJi57ddyRMHLCCBK/hCtGCcS+iHZI4gWKZU8BJcYPmMTBGwCZtT/4RJr+oSfRKqGZ/srTafXT/09YSVA1RVptgzB30QzTBHMGIeE62ME1KbJoYSp2P3b6+9EwchBBWP5Y40bt5ia/h3/tU2lgdjoQ2dEmumKQUx2Ly978fBpDCKg8Qhp9+p7GcpfQUq2tkjlHoJfYQqT2Voh6oGB09Sc/GgSqj/m60hIELXbWE1JD60q02ac7mPs0/JdgKmrMz8QPLeAH/QhMNWsBoM784OOp9J03UncJF0yeraNhPkX6aLOZ1dCCdNBk6a5rDI5aFVYUzViB9O8wghCqPjJiDhBXVtW6wrr4hJYds1ClISxDKLcQY3jWA8lase554nEU0jZYE2M/dmgnDnDAggQfZh7GNTT5jMP5CVOi11VSKQ/0od0j7mJpYC1NziF8n8B/niKuWNnTfbhL4RHI+QJp4IKYQaXCi8kUEOxWLbxI/NAscWQKb8CUAcfruIOUcM8p4YYY8MSc4RcJXCcxyq3lVCaObJbkIHncoseoaVNAOOo37TRzcs41zrvvGXNln2UYzxrKGZEnimqEXdzV+BGeGWbAyiEZ+UxlKzPcBMcI51oxSC1ERixKLuACXsSdqACTXxfo+HhGIe+sNwkb7GyX+ku0aJC72jMZP91K24UB5kuwOX+XiAGIRAjZ9sU443ShNS7BlIOaw6UxOnAP+KMI41+WiKOqVhO9dsO6TxljPIDwaE2uPvZkCo+AJu60ar1VUIgPzNZYg0kuClAQqcAYMlrcW9s1RgAhDPzVm8R6gLZ3iOy4s1hqupt7aeTxd6X8Bx/DPe4WsQvWpmN87KXcnIwgXC4/NMxaGVcow62rFDINZxqNP2PQrTMIKM8obAwR22c2twHgfQQLQT9j7w400hVct1orrOdt8MoazDSeEbAwgZOE1xz70sbVo4bk2oZxikL1zE2LoUxxCXwg7m3A5Jj1SqIrzJrBsUcAfGceZoondpi3DLT4zOyDidILpN/EbRkCd8qMfuzfcjfdxEpRhQHBCJQuX38dYRDFoLgOoLEkwiFJC/ZJpd/BCrF4iAux3DSfNq6nxsy2mbcxP4YATZINrw5MT16YTcXF5VS4fjstXuOMs2bYeVCkQAxR1pRNcoUFU3ol8yUTNMB8hmCwYIcibhqTTyQDET5ND20GzS4p1Tdx/TahjYXap7DC9eEeeQjcNNYP07kTuPQJj2ofPCGsj6RrFjxUBa+USeNvkiVhKKMNGaOfR/mxR5B5B2bBOFpje4LWADU8Svp+1h9F6SFrKiIWVo23aSKYNveAZP62tmQBIUG8WyEOQnxUw4WuAx1QYSgz4rXYO+DqACXWADitStY5hsd6A8O0cwhjfIRlrQEzaObREvDf/+SjqfX5r4ETFlJ7dgahnXMHfjWbo+6nB1jOdnEPd8o7m3VgiF2nvxznuyrM0rbKFK1XWySiWmdeGwTUH2KdNJ3jxCxMJ+exxZk/pE2zu4r7QnAEFox0QgtIW+Bd+pOOu87uTewP8wKxh3sxlzgmWZ/WMoN1Sq1JEuuwiFqrpVfiVktZgAGIyeVVYKIH3VgnBX0fdK+Ml4F8gwyja5OTptGnSkhQX+wr2wQzBk1lnocopnaOlYnySTxXMvEO3hDoWGL9+9jbwisvp5Vnnk/pve9INYSCNejOETGODehGGy+lneXtULAxwDTCmRb774Kf8ygXFdTdR8MpdNfrsJZ7/G5Aj2+uYwlaBIaWKmntGrHdpvXfRyjlnMO4sW4MmR/Pt3i0BvbsbqJ4ucVZBMHEmghV3DchiCh2gb5WebrMHKoxFmCWNkgmD71kj0/ucJ72KAHB+jFeaTYogNZVCaLo3yEZSHUK5ROugbFX3sQVDEtjqQqD6xlB8O1D87JIFubRbz+XmncWUhd3svK5uVR56CF2i/TlCDrtQj39EAaEB8uqlQ+oG5lL7ztDrBoKVBNlmXzEGpqH4Dth+DikRbrRxKVcRXQJRZtlNRxkKNc574fgiGFizt3LPsIpCrjk7qOUawEDR/AofVi4HLM+Cw7XzKBms9WiooBsEiatTJMIiW328cKJbnriFMoRaGCt/yC9f24xnS3usj6DaRGYmn3hpXT0T98Eb4GPOAfp5Cz6WKwu4NkyZWt6BeyI4P8xBsRRAO4YCwC3ug4dhff425dG6UdemPPOXnx3zYV3vgcfylidj9vJJeBfASDjT/3OtrI+XGPP5D+y3xkfLC31PXFPxnt4DsUYvpidSe8dC2XCU3zo3OuMIr4Gj8naCHM0F2toe8cf8UFmXMnof3ipxWO+wHP8mKtBodW3gnenD/kIRha8q33FOeeacxcP+PGX/EfIGXwxnvbHHpxPv/fTb6QfuGcdBQtQBX6St2sA6E1yKoByOLNav8DTeA9UsZaN3HMhLf6Hvyb+lgjw2nCaBbYqZ/BCIBziALiSlkTxcfgps5X7YVrsCSPmt4Ko43PQjkxePebCt2yfJOPIM24AajYQZqbNdbNCEOLlQ9wRPvtCNf37r8+k23WYK5inYVwVBzGpvqZZnOLS+lRXCOjcQ5Mw/tv/jDpA21HnY+yXfpwirdRmwF+zDSLfx3JmIcVRNDI3MA/uLSylsxCsTaTKF++oEZBFyxYw61/iw2aDcCXwIYzF6gI0XA/AAQBExG6LP7EJ8Y7MIL74vOdmxoSZp0RPjQK9BPD6+7jdYwBxg70uUvIgu5kBAKxu5ur5PcD1APBotHEsLArUGQLIWhJpqmXwE4DGdz9ZLxmw+25c4148ym/20KZ5Lpuv930u0+6J9EAmPHy3OW/zPG/EGnnftpgH8TVhkUOLBLinpfU93N4GsJoU02lrMYCw1pAbOsFokk2TdwT7QzROAxD1ysmZQGImdHiRwPiLpGCOWkAgmSrIYRfC1cLyImES6LbYDhO+qGN0cGWAncUEiXMfwN2CgTIgHSU1jBeOQe4hmqEjXB6PSCgy/IF3p+H3vAs3I+LkJobZU9Ydc/3w2TmEm0GIA8/TfsAGfbUgfkWQp+4xoiZhx6QDA4ylzbWNUYg7sSA1GMcnTqb00CxzhBgOEUd1tq+bpkfRmSGcnISZWSC2qwlFfvW5l7AULqTR82fTxMKtdHNqFG05FhKQciKmRsXuOEzKJpYN9zEHg32ivJf+iydvpo/du53eMSezREAxh9+Pricd3G92l2Bs0Kj2sFpqJXI96lAiHCDTKQhpP2slgzvAYrqNMvZR5oLDeyTjAeLUTcsMRcEc8EwFtekhxHb3OnEq+8OpTrHmFj7PmxBXNc8v3ETQAiVvsNa6H0cyEsbUZh13ODs5ikMXSZm8enuN7HewzqybKGEYTW3FsgPECRkXINPYBB8ovKySsKV1404aYz/2cL1Q65xnX5vLMLk8myMeZwMXjeOPQnIBeCogmLS3gVmWsY95GtPlGTXrnXMdBrYsTN2PhvzeGTIhonWsTrSIqaPu2DyJWxZgKuijfxkFD2sU54x5zIE7TO88RE2s/Di4iOQ2MzLWtC+uUNFQgslVe95U+wukHDLHONcuNJ9QOLFfPdPQA9txJrkVzCtvmIlMV7EiAmgHZvDUfdMIETRCPM0WafCXcbdcQUt2B1ex7gh6ZdZR91xPpWNQWMtjgWX3cQ+lCLvnmvancOEze1QRhrR8izhOhLJl4ik20Ord/J8/nbZfeC2NXD6fpog/q+ATuaVGj7O/g2CiFaMJwxTjoKcK52idzJhmxdM6sc85uYWwj1wvQohx6Eq6jiBxCCyYzfMAzTS5A4IBPUG5FFN3o4RGaAFGsBKZOj5cpdmfcJfkvLtiCl8yZEE/+I44BGOItR08o7vTrDDMdfc1NNEkhRo8h1DF4TkDLB7HH2j1LOIOW9zkWZjCret7xDc10vRcnlhDksKgbNRasjw6GXjJbHweun32qh/zexdToix6H8JEAC77WUYzrjKFxWGPYTLZd5U1g2pGwAl9JB/KozlvwpSJJ+qMsaLQAT4gqwjuiVhS6qRKoB/d3TaQqrcRStvQyCYIrgw3poVHC6wwpGUyb9wXlnq8I7Gq5NIibm9HJI8Zw2o0cgH8ga+T48qTJGMb3KibjemTMZYiIiCU37W0bNHfMV3p4aY7g0rBQvM9aOg6wikzCsWCMZkKMF1qHCnua0WK9XZvkEbzuLv2sJa1mfIENfQIZwlL6QbxLYixaQlLpEKR7/ihC0MU0SJgFQ6FVpEY5a2gWQr8YzAmLUIcBkjQkEPoa2HxOOTcWdxbWGiSAKg0WEujJlRCMMZZJvsAY8IAkwJ9owYDfo1gVUmgQClt53VwJSU7zEbKPCfRJk3gzjyA1ef27XWsYqwJ8W4F/NPyDFL87si1yosRcwPQNg6TWdWkcZJTcSvbzjhQ1AH7pvfXhe+7tJizw05HDGuHREMb4FRXUBpW5/kKvAtODKkz5JkvpAsPzqQ90mZvYGXeZg13UYoc0GdXnKoQ4FoykSMPNXihNJCVXNFiVsYyGvwFa2GCjTbWuA7vHLD5kT1X3LK0mtZffJUMhvV0kgzEg9DdQfDWMIJ+l/CAwRPYVxBmCjCCupPus85dLKsrZM0IgYx2XRXxFZCf6gjIBe71w58Z52u2z/IQK8bNEgGNFZIbHTJH/EriDLtugzK84IvSOeyORKNssk80epevQlkDnI6g7D0PbjrH4vSqo5kFm/0I2oTlyqLQ+T1q4pUGwWHAIWupItw93gHput8/+e699OAELsXgsRoeAp5Bn2sxp0P4SzaBFOSZMuE8CoH9f/pWWn7qmbDG5++/mEYIa1DLYVkKY5lRahlqAABAAElEQVRe2RhNK8TMSqcOaGcRXCLNMRXNBsaEcZhl6Re6qihNEa6zZGFef+0tEsKsI5xZJAAPD3Dt2p9+Jg1fOJ1OUDqoQ33O/vFRDNooZy6fS+P3XwpL8fa3vhOKm30sXBt/82Vw9KsoUKTRwA44WOXioXPxt26arCnycboBIjtAEGuQkOWNdZQ5uJBYImIMT4oOse0b84skvNpMQx9+LE3/zI+ibETJISyjSHFNyrSjl4n0hCUjCRWJyMgiNjXUTB95AHUnFlx5YGHfTyhBWG8/CgAKJb7LI/Fxzd2P+MpFeUrviTPFa/HPtqIJz9r3f7L3hGvbke8SN6m4sA/hyTYC7u/2ya/sGi05Qvvy47hs23Ycgz1lAoz4AX4PeLcdn4lM4Yy5qULD5zlrthvjALhjTnfb0vPGm96XBw6B00b88Nss2RdONNPF6b10cWo/8I4eEabSP4MSGASKoo+4M8ZkwMwY/GiR7LQNfnJclxJWKZ2jy2cZHrPH/mxSIxPyi1cH2AV+rYJg/skHNtKHzy+mn33PLeaT7cH/b+wMJ9bCtZfH58v8nXnXkZgQ/BudwHcXk4eV3IoVNBxopL0+OwUyZ1HaMGd1xj2H9jQEBBBIHSSha1+N+J6Dz3w5c2kiIUBjeBwTOI40MKDVMczO+EgfIBAMAIz9BLj3YCCKIPgMCESOjkHC5dZ9bxWPgSoAicE7ASfnuDJhy6f5m0k4DzfICWqqty0Z2UjEgPm+xY/EIvsJSPzu3Ok9AIVXg1jwNT5aVGxb1zCzG34vwFDCI0HIANmHfTcsWaxVABYXHItCiN+dVWgGomX+R7ta35ybz0RLjE+G6Pv3Q2ZRpJuNUebcQ+MhFbCzf/G8c+dZ23LdNNtOUexwFCb83Bi+3OxTI8yeMPAyCwxoAMZZTjGPQCSbpUvLEFaEqyQPaWEJXXzmxXTyJ34wve2nf5RAWISOpkVIOX4Qm0m0Bdiw2EdcE4GFGdR4uuDo+17CJc05U94BJgdtLOB8mj0fxxri0q68cQ3/dsGeqUB0cqTU7169mTYQAsz4VQDwo7YYloEWWizHl8fdsPHFZwgAxh0AmGrDWbYI1C0hVJlMQs2ejMoOf4/S/wPXr+PLD+JkPM8QMf8KxJWeIDu59I01/L3xv+/gcrjDmPsQTnRFGMca1OZ7m7ooa5fuTf0wXiXWpGwtNX+jQTM9OBV9QJjsH5agxZ1S+usXxiie3Ec8AgNAKSHM0G341JudaxQLwchFXL9gKGoceGFYN7MiwuEm1rMGxKMLY2TtI9fEH3dXN7cWhLYEw8Wx4wqIhrbFPfvEy6lKK4+CrIhr0Y3mCGva5CRMHQkVLuPaMooJbQBi3asTuwXy9KRVgJ+oN4X2tYVlbgS3DX3vZWo1vq+w5k2SCeSwCq3B2ByCbPaIATJ+aOjtb0tHCL3Pfvbv0zlq8wzDPBSL/al0GmJLwGubmIu5E5OZ1h0iuo0L8z7xKxSSSTlcaUZOwfDCkKhhlGkzY6UB7beGCXJnrtsoca4sddKdRbTuC1hYHT9xGpU5XG9h2A8JpFJoEGl3YFhvQwDrMHX4usCVGH9JxkbuiUs8a1FQGje8UszZPaulOY6PZ8zYBsmBrmht3HRzlAEowRgAeTA6EjrOEpso73ZIYoAuAfXNBZjGFxdgNvA4gDEcHCqR3YkMg5yty5urPIiFkjOt8BhJABSmGR+hmiHgrGHBMZ5D4erVN29HFr0Dbu6QLXAdZiOK67Lz+2Tuan3pW6n9nddTPxa0kQtzuLqg6eVsDk9CGrRs4JK8hcXZATYhQCO4QQ6MV8I6DAimORgYC0lHbAh7qzZ/YGcj8LUw1EC4F+t0cRMytX4bC0QRQUXLor7zQqBrIONZYj0sAC3+RYfIOcpwnbhIF2YZx5Os8yFMkjAkLvPdZRBXHiYst4BGmgyQV9gbcaa4ecn9PwuuPoG2efYonXh4AkteNS291U3XSG0/TUDKeTq6SCpseCx2KmPKZxGy21h4htABmEXygHMJwmNPeQb4KTKPMuur5WwV2B9YI1HOR96JFc/sqDATp6ZhsIgVZHxd8GALobFIwXWIB3gEhSP4JxgC4KIfprWGQkWFRpfMNoKaFMoD6PmW8HdMLsL5YXhkAIPesdc1hHmVKp01CiA3KJeBsgR1P3XPZCiyH0gnK0nfES+JBpYxiTO1sHSxmK1AzI1FLWCJ0P1QK42xbmXmezSA7bmGagdlRBRfZn3ER3kW6gjpurVcIg6X2nELxHqRJXKQpBBDuLUZRziMoiSK1zN2P4ZQqhTKC/O0oQZ9CFfzvK6U9Nkg0VIFobXbD2wB66rCTAiy99VvsX8n0zDM6x7lcQ5BhnniY2pLWvuwTGHtNrMcBAtrJCNnPtZ7U7tstl6FE123BbUai2n5FRWu4tQOtdCGiTMaIJYtIViUxnFVRNgwNk7a5vtNGKgj5nl0hMKLdbQhBQzpALMOzfcoMLbFPNbYV3YgaN4Kfyv0483ParYpB+TWMX+u9TNGUAr1M7m/wVpCM1597hYJzaiFOVFO9xLjNsOZHweOBnCV7QFfWSFtXaNK6STxUHlwUQUgEB5PTozJUNERbYmX7BGa00BY0R1S43d+hlI1Z8+k7b/6ewS7Phhv3LlZG4U7qcQ+IQhheQWvTKIUm4C/KrKsKucsSULT8VFAGAFfTwD70yPsNWdZxUOdTlSkqzQqk7BJq0APQVfL1zFDfRB7gYW4g5XoJrACvBlDZTIzeQvXlF1NN1EHLLP6TSxnCgAqIc2UWAM3dSgGb0KwPIqMBgq7cH+7y4ct1icpk6IlGsUKuMuVL2AY2ITmkZY1TU7hMt3EfRD8bZyvLvdHwEyNFPQVauZufelpsv/iuM6YOrg+Bs8EX7GHVxDQgUsvSn8E+IUd9pYTysjSGfAV3ErEvZc5c0MobPp4p0As4NGrb6bt2wu4xVI4ehUxlSR2ltHp/9gTafCeS2nz1WvMT26B84bV7sR//vOp9+pbaf3Na6mOMH2IpWv1S99Ie/AxMn7BZ7IGweWxT314qmzjQWM22lHgXTyrpU66wtTCalkH1iAwKCMwbsxOp33S6C+h+BwkOck9WJ0bZH0un54Fvg5Iw075CXgZrbRFXIRVnC5ultLiej79wNsojSBlF8D5CfwCLQEcAjZcKx4AXwl92d9xGvjTsfuSXjx+PFt6NqgIExd5P1P2c5N2bIqrXLZx38j40Jg37YSyIvCbfXse/fF5euRHmhwv+i43NIT4jPf4X/wdhhHadSw+G+/yVzRk/77n2PiEUOf7/JOuxGzow7n6nm3Lp4us4zfvyCObZX6EAOQjFOl//MwMSk3wGpNja1B+QFdITmVpBhPf6eVSZz23v0oeBkIMZn7hx5DdBtIOSeZKKrnH4W7JFPYyLv/9tD1H0qA6ITCjKA9/9QO303/58Rt4hZG6jHuOUb7d3xpstBaGJx99u09e3yZkhHWByQR58E5sSAZgmUCjxsagTZY73cHiUsSCUAI4LtDxy2sAYe0gVcf70ykOhUvYRmtg0Pnkz/8oCKYfpsr6N2w6h629sgOhHE5jLMYSBKJB0PwYh66DtjVMmUVS8bowAIUWrrB60Wa2uBBFFjk2yv1gc/w7toFxs/Zx0XboLhgQNXHeD3Osd510vMMmMtm7cEH7d4UbNlqgPQZiN5TX+fg/gcN+fFeLBEjHW3z3d/TLb4cWQCOwRd+Mkfdswb59NqT3+O7oGB/9+34AH7/9xFxpraBwTAPHfYdwdxfotSh6j2nFRht3JpAfz+0YcB85vZp++KHN9O5Te+mx82Ss48DXhoh/YlBaG9SGywyDY7Fg8RtEYmbBMgS2ixuhsUR1ajEZ83UajdIQjPYhxEgLRA6BaLFeQ2tkwCTMPOt6HUd1cF+4EkmZyiBDog1BkzBVdLKNuh2nsrAqFP76i6mOC6HrALeYbv4Rtc2+/Z10+oefDAJlWtKuxBpmd/r+C2n0wpl06x+eSjtvXIV4El9EocidZ19O+//xs5iPURqA6Brs+yCMooyGTNYN/P3raHT7gdGfOJNPD9wLfOGaaCzVJ6a20gU4vwLCyRnUUBu4MqkpH/nFT5L2/xLyVT1dev2VtDJNKDnFJA/QasElIOCj2SWt9B2IyqZczc52mqkcpn/1EzfSv/zxO+nn3ouaukb9DDeOk0ESQcZWS8tv5NPqTTTtHP8g0tz//5h672DbrvOwb51+bu/19YoHECABUuwgKVIkRUsi1SzJkhVZ0sQTx3ZmMpNR8kcmk8wklv+wE3sSJYomGltjdVESSZGiSJCwxCKAJEgKAB8f8Hq9vbdzzj01v9+37yV1Hi7uuXuvvfYq3/p6MSV0DwWFRZlRpMOwZshBvOPeQtJDWK6twJhR5LqL25ug6V57fwILkSnR20ZOQz21JHqvgfWsjJBBOS4QDYwR2jeRiYhHgNI9aB0YGiKjVz+xF3X2Vc2lcTXGOp3FGpmbQGOI2WUQtxrrxUyBMHa/+ALxgShaLp0lZmEk3cZytggh2q1vpdptEBI1ecoEzr8EwRJ2APh0coz0+uMIZgqIWEf27+cSnvrskSeG+bFGMmkXlh6EtngY7f0zFwbShTMUOr9QSMukPt6+iRb/Ae5AiwgQptMGR3geZVitUdRGeDXVd556YocIrGae8xS6WBXWqEVQbg3hqwSxlflUo+7Z0xrOysAAw/ixXZvUT2tghYGMBiMc55P2Dda4N0FbGNzcNOmbn5lNY5MEnBNHuE5WyesI/lvAnu5IHdbZ8ywu8KN73cEWrAJ1agrguyvncc9BI95kra88fpbx4F7GWerHRaXCOTaes8H5GuUciBFWP/sl4g5wKcci94A4N4IKU454lR61VIbnKulxzqXcbI/zsoey4mCdFaUPExxeg2BLkCQGMgbQmXB7KqKgMQZN4UCBXnwr7gQEyTQGXkAjW8XFbVDCwDTCysvvCGjGxYb0ZBF74h5oQRvjuUHe+YC4wkEEb4WeYBB4eJ5JDJD+v3hpH837Pq6WNGZ3XB9OVmos0P8daAdpze++QJ1CiNjpK2VKDlTTQ4SvqzC5L775HeCl7BlT0S/CBPVpxcRa2uRsMbUYv/WmFKyYLMwj5wz4GIDB6ycb24M/eC6tmGhljPikr7+c9qBpa+w/waBYMXDZowaimu4OE4ri0OJsGMGJyaE0dGWSecoE8z7mq/bdpDoxFdaoh2C2R3yQggMohPgaLOGjtGGBpUQR0Qk+1OXbTKnCZUC/awpcdrDMlTkD+o/Ypz8VztYQcFBlY7rsL6GkPAYc8rvDuCq4ivbqJLABJ8iUS3PQfcHIodEla0b5PNZCrGYnrKuFb7njavOweEkX8B4wKJyqGDHmwvFYqDoH7lCoyGM9hzNH4sNN2kLKHOeeudz5z1hKo2+m3/qmVMUVvGsKeNzyLFFSJEQivQXFHopBk4rUcJ8U56yQAKrOAHsoCpVjhxmLbpq6neqZsINFeZE1WEIJsovg3UHLNjUJsw48dbDWmXF3GNyrxc+Vt/B2GUVQwlpeam2nM7y7KhwjcHBKUGSprGO+/D2B4i3cKF1bzuMZZqs+vP8iyjYVYs6XdXVtIyM09CSEdVw+LKFx9iQCFvRyhyxuywhtS5RboM43oRvgQvY9z+JKe7fgmRYRqg8rJM7iNLURRO/eBcC1fsA3RPIzYinzxJ9MnkCpjSKwgqDdQyGRw0qztrwSiSk26VcFBwiLPUFAAccOAHuRcRBljPHMBfD7GkoI6WdAE2OX7h/y7C1o4epmK70Gvlx8AL+ySYzpPZJmYanpYIXsIbluQ5hYekExAM5zXEew6g1A+3FtWQbnmB7eNPR6q8R6QjdH2XtLoSh0HPNXgAR0CoUs1mdDXKivwt6itGBNhDffcfV+J/3Uv7ucfv0Lp9InvtUHfkLohPZZN66HVXWZ8Y6OYgcG/wsUHXhP47CqWLFm/sEH0vodkl5cPJs2yBpexYtF/rRSbaXHRtbZT/YdbdS5+ZTeMUYWVWjhEH7wN+BDq8BjBYCusoZ19lrFsUBs0o79v34xLfzb30qL/9fvpEeUK5H3HEPwDXdIaCIXMuUC4y9YvNo1evGVtPnf/au08BkywNLes6Siw/33bKsosvabRekHoTdt4m1PzPbSkyMqBoG7Mm6O1KYcKIDzi0OpgcK7SlK+BF24c+tOZMJWOb0F7EXMJzgdroywCiCWOUTxcRSDwu1vf+10+o8vXki/8YVznE+steCzUAoGTGRMv2fFa8FLH+2FPELsi2PnDHom/B08Nte8x4zYR7YCoUS+XNgSVKQlrqD96ckVPC0bfHw/aCb4KP524/mPpt/7hLWLv6JP7gdOE3/Fd5sB0bxDmhOP8z9h3GuOL/NIkl/SSJEJN8edh8BoD/Fax+TLo8cYhwPhSpz1HDhnZphEh/R/aQqFKnjKsAcFKKI86JtEdOCvHWh/Dv5i9ssvpObX/i71Lp9JQ+9+c1r77Jdxd97hLDCXwL8o90Fs4lGtrSUMULBInN9eeu7qifSV14hsZ3/cj2M5QayrAiTcQOkHFMa6oOSBFxWVpX5ca0JSZZCx0Nx0Ej2QGuYzDhkLwD+LG1q7w9TcZTRrxpyxVmlDhmcb5okDXDkxi1oOVzIsIk3cxMwW1u+A0LiZRncN/9hRDiO4N924fS29+TQak6FWOjUudZVJAGhYHDeTPwESgT7bOC1WMhCurr9CGOG3f7iR8LfRHriLNt9bBPq0vXP0VljdbMILJLZZh8xPhu/on0AQsi0PupnHY+FrPBeA43dWMJgwGoigvg+4PuU7ZSgyoPbvDFF5EL7/rmNGznf48XeHA95RdcdHy523woXzaAGOzbkBatz0Pe6Ri+G8PDT+Xq+PpnXqSu0cltIKgffzxO5o8TKAvAYjYy05foUQbmIYC1Vbj2p+s5YeQX6LCEDnPvAufNRX0/Jv/gEJYQBgXGIKuMKN8I7TZG+rDm2iXSDwlZ9ZiEmReh6HaHr7UT/cwH1ogPEb9GvKbRlVMwdCqtI22Re3P//V1Hzp1VR6+TqZ0PZwa0Dgh9lsQbRM7W9cm0JfBWGh/71vR7iDuUGL2/ijv0rN3/tUquGKYK0XFVC6GRkfoiX3WEMyh8RTgijWYIr/+FonffUWCMX9YPyfXpxM31zAJbI0mA5AkLMPFtMucxyAIAxdOZfyZ2bT4qlTaEEharib5bBKwMmFy8UBTMIIcDzOby1vw4OYxclu8Cdfn0t/+TKs6iEMNOsvfGmPbJGyuzSCm8kkTCV7JJIWno31aJNlil0PhoKNJP5BLohLXBPJ8+Y0gptPP5UyOetH8CZgZnDRwJWsjiaUSUXCFVWxu6swVRwIliPihoZgTrQAhSWI54wNk9k9xAXRrFgNhF2D8j3QZm3cxL1mdxMCCLPWQzNKLry0Tn7z2yRl6a7pCtKXHvvnvxhWxgmemxyZSYVzxhAQc0UGtCto+yowAhbBXQZ2lnAf2WMvG6aygjt/hEBsfJ3nxR+ZtCWyjG1ClLcZ0wvXa+n6rYO0RP2iiTGSb1xmVU6iNZ1j73B7UuOcnSrWyKUCnvUVd34V9iMSZHA5kB6wIdPqevEtXK6mmLuEVlzjdeNMTiIsTZ8hAY7nSWaLW8cCVglmqEKJgjICVq9WSss3NtDSYmXDKm0CgzF83QaB71FqCGoRi7Xmd4V1JqyL2DyQ9Dj7A+Bfu/6QfaUN1smb95YgsqTrRoDozcKo8p5+NN8oziOuqjRPbAbCsfXmZsDDl9mbUgVhFytb6fRIam600437MH9Ojc8Y3guDuKP2dCFFuDoDDJSBKUYdQoLWqj2IxgGaZ+MwjG01o5zuzW1KUpRx8SpAoEKZheUHwwJL65nhiwhOVxxc6aQLmyyQlhzh/CH7rBPvJNJfHiv6CnRCuiieI1oEVzoEiDt9uD0OpPs8F/fYg1Vg4BCLSId1r8500hs/cAmLOCnp7zbS9cUWFgqS0yC4vuOlr2JBzuZgvOQIa71NBr8urmEdYGkPXOl+xXnZpioYQ7SYskQa2Rm36R36RTtNDEBvejrNfeyH0qVnzqczrIe2pDkUEYNzWA3ABTnW7S64wDPo3M02a/a6DoJJx7piaMF1o4705cw54o2w9p8kls8YvSp7uYKkv/cQxQfxvuPUqOqbxkJInbMBKPk2A43t4n9+E/raD3EbRPiTIRcmdRfUhRl7NAIy9BYFpwyU8Oze9NOWCKiIhzCdP0aR6CtiqmHsSnisVHlukDTuQ/0wswhiCgZ5EEJ4q1jbFObRcyfeEIB0xekqlOAGJ5baRfiXjng+TgIzVfCA7ukF6D6ev+kQOjD+Cx9NxcGhVHvpO8malXovlBGMBwkz0x1zlPeYQZSsBWkOa3of7pC7ZJbZZ6LG2bKUCLusK4z2uaXFdI51PY276hhF0IfJZvjo7naUr8hT8oFDHUlpOOlBw7XiHmCNLLaB9y4CCTCs4B6AYBv+qRBUUbeHcGu21Vg/fm9wrZWfTK1HnAWUMbDh8CfAPb8jnpgVqKLA6JvKaFAO3KDlM8+aqtRgmcg6y+6BVxVePF/GsMiaQRLSyj1+477ItqVzJ3CDYu8g/liOGqm2jMWzNJZWbzVRXuL6xvp37xAD+fm/TueptVVkrazpN8PimJijDTLQZdP0+1o2ezJ+MOpmw0S1GGdJVpoVgq8CT1C6ZJSzfQ7r+gAbNjWLAo9gpXNPUyQAr4ouwmyahAeAHrleZiyVB1H4ctWaCJLOw6Q+wppr4uGPVBggAlXTkQQIuhNKAcaPTpHxsQ+4PeNmAb7oixT5wR8hUOg50CXr3YHJZFir8/NjKEdQ1kCbF3FjVwgzDEa3+bYeN7xHVocdSyvA1taffSadeAeu3QiwI7huxx6hVFylYPbzS6cRioFtkOzLt9vp0/fgUWEI8giufWTPU1nXoDPdDI11lJs19lGFUon3boP3uqxxxj8RW3fnYepx/qdJ9KHwLDxZPqi+sMwq4DlC7KSZR00Q4looMOeBjQJ9mtU3srcCm8PUuDF8xHINf3ezm55/yNKgoNynzM1fPzyV1lCuFFBqm4lz5/qdtI4Ven5mJk1cOk/tV/IF4+o+yHnoUFvtYG8xbcA0u6+QAfDIYFrfQZlEaZa/W5pKC+qNDV1xPxmvnK6CQCZsMTNhFbhlSYMHjRAbv0vveUY+xXCJ4I3j72gYfYV1hz/1jpN+CCXHwoXvkIcMfpm+3DHfw4Pxzqx/VzZ7v3uv94bjCOGOdl6zT78dZ5S2/2wsXKO7jMe2pY1oLVz6w3fHLr3N4DR7t0kM/cR47YAHTfrkx/fGb5XS+n1zrv7FDy/iYUJsJvsrPo/av9I2cRRwo3WsceNu6pKkbv5nfhSNdwOl6fPpYI3oS/bIGpvYIdID8JSeLyVdl7GAd+srEfu/ihGjCc62xEI2UMbNIMJSxzuOhWGF8WyfXBE+Cw8exQW/Z5Ng8D6JgPDuk8vp1z54N739NOmcITINELOFAW+uIrUSgNmHO5SFgg0+3UJDNP6R96Q6puH6zfvp0vIdXAlghuCMDogpMjvKOD63K5i0h5j4D7/1ZJodtnAggekUqHbNZK6OPwo1kUmKAbsZMnEiOad1zDQ5zswsz1R4NLbILvgJEODZ480QKPxk/xcwM4AJgOZ6i4PrwgTgxcb7LpAu7xW4YoC0i3HEnQyhu7DH1i+ZET8uH10dAT/P8kf047hijhlA82DWMJ7wFfRFG1+XCXbMFqAKF6ysV+6DYJxL1m2M12dcl9g27tuFY/kHTy+lX/zAGsC3RLFvg0cRLgAQkXAXBkfg64ORMj2/ROYQRFFhj7chCoXFpbRDWtmhxy+mHG4r12A8he89GUnehKE03d5FQ4rvigTWmjmvEkC9AsEXuasFmNYiw/rt8aMzk6lq97kxwHt0qdj/2ivp+v/xH9Miafv3IW6DBp3jTljDWgcwkC4YDQL9tOFqCzBXaqhruFoufOtquvPS1XQA4h4E8VZgDmVozAippc44G9Oeb4D4N9FKVrHMfhSN2offBpOjSwaB1h+b20lPndqBYK7CVO+lOzA197/5KsHQC6nwJEVBf+Wn0vmtFWI40LaRyvoAQbVAZjgRwTjIfxchcIF7bQI69tZx7WNdb67k0ysLZCfDzS+0OGxMCPLMt41Lk24qhx5mYcN9Yo8OtR7T3z5ExIyTAR9czxAqfA3tFKKaxDoYH0YD+gaeQBq7IlTqF/Xhwmhq9CHqDJbGmC9pydG5xBo2RKgUDo/ixsKl4AU8GjQ+SES4sQ3CQAdCCZACeDCRnD0/Zc5uwB/tB8gD3ofgXPvCCyl3b4EEPzDhJP3pEn+w1tjEnQkGAgE9v4f2m/NucWnHOT4xnsaJZ9IyUEIDXkBzO8wamH1Ptz/HIvMxZnkNCIBazgmCdyZwIRo/RUpvhPwtMpy1N2BKGKuB5zJdrqtrJKwL8RYHhoMWIYSgIC5RoSExLsGAjeP+Q9VGCC5CAu9z7YMDoJ1nvw4O08K1Rj9NxhFIknueyRZCahNNm8JqAVzVRxxkWe0xLhEGmucZs/XM8ggtWuYO7Z9x6R5r5rg8e1cHhgcIYn/iwkmsnZwhBNxnnr4UNfPKrH0Bhr4CDIj3BhBabj73JeZCnaRf/ikE3uF0c7OR7sG8NEkb31pCL7+Auy2uF4+dPUk75s5zK6TtNvBzFG1+ddR9holm3eNDG5U6QfS4HnWmWIMW8+5oneC8OWaTQ+2zDj2sgVogRDRaK9qMqQjM5wdsB3NnW97pO8b4u8T9dU653hPksBJMedSCwOwZLm49tOIDuD2d4m/hwvUdYT9LmzBlj2DYSQBy85sIrsTBzZ0nCQxeFrtowC1xce3xN4GXfAZlDWurck/3aWNjcggio1jtmJiD5b0IbVgs8owHXRHEEZh6Clvt+96C3pA6bFh1Vz73pfTw29fTQyCnClGuA7MtkuPAPqX+kyOpMkTHrI34cQRGyzIuJp2p4v+mVU0XMMevdWCAvSwSa1gndkWX6jXiDqaxSI+cQCkG8755k6wlFi0mZqmGVWqMOdAsaIPwZ0KTNIc1n7XTlcx3WgCkSjzhFsxeLyxouv+y9o6J86nLW1nrAsw2uxd0sgD+0c2MjsNKmltFy4ylZxGLfxdGXA2u7mcDvLuwC5YkRk7hWgZKt50BGL8+FAZ51u4An7nBCfEY54l7ewhqu+zl4YiCFkol8GA/eKuMRXLl9z5BshdSgWOqhbpowA+hvsbcmuA10/s7z30sAGZphK8kJgkawHWtGNwCpigHMDqWbsBg7qBo2tojrgqPjktvJtX5SfiAOfDKMDSGNXdf/LjdZXBPHpdRYdOQA8Aw+mNzQrCUX9Cl3UL03vRxafUZcEGF+nKDZ/nhhGoQzLJWsqe0E3bbuP3lcZnMcaRWHmHCZf3K8Crh3su7M3aSk2CnPGC8F9OS8qm70BkEHEccJTGzJmVhZHTBvhJrrztf/zhjxIsloIHzPUOCpSLx1it4J1iiZBcrlkS2A8+0TQxvU7dBnjfBD6g1QjWckxTN888uojynYPvwOMKJ2YiBRZQX9S3WYK2a7l5dgVYxzi02ALNfZcNSSRlfEnwLz+RQwPfIfGl8XzCOwiNw59hFr+IYvaGMEyYix+PNdjAv7vt3Hrf1NIPwhyWziDk7eC9JinuDIJKDIZZ3WKKQXYWiv9IkEhGHYqDDCxQEtOJ2gUWTWGG7CzzT5lrl2R9Iu4+W0wZ0uAjzy4g4Z4304+cW4AHM4Qk9f7qQfphzN6mQSBKfA/CncV0mADOBF7J1eKO4VyZ2UqJV5ZrnvV3WWovc1v/7B2nntZsphwVtc4E1IwvrwYOldPc3f48wD1x3gSW2FkFUQcnvWOXY/7Lj9vwxJ/vbJMvkMO/ARyI9+65q+omLrBO4tUxW4Z+4eC+drxICgEfPKvS7CTzkYObHfvHHU+HMiXR7cQtrrHiXs+z2aiRhDQMfsN7yFmMjCncoLLWGggOFWTck443B19Lz7FL8ljuUt8iwj7SANRJ2/XAmtJC5z1q0Mrrqe1gz5iSO0BtNnjRiueyLa8GvsvI+Z1+x3zzDf3GJ/8eYfLf7HpeP232viWPhvcfX/U13ts14c+67pvwIRtIc5yr/HvSHl3m6nJuzCUUIv6VRGmSkd8HXs26uTbThtz4N/+rTF9J/+duX0r/59DwutXhY+FLWVtriT6Tph+7raVN50+U0Agw2ydR48zd/F0+QC+wJfDIK6QLKG+qaYAShniD74eC5kx7dWMZanUvPnKBuXhufMfYkswCqXM7m2ATWv79uzAW+LrKzusAPHzxk0kyMAbsYrqwMcYEA6tWDwfQ3r4+n+6tI8AC3H1ORXiS7lFXlMZEEI9SH9rxNAT1xYOcWcUN/8lnEyEUsJSwOxKsfjWUdrXNLhltAZmhrEOUehPQHHyNFNNrwPIsQDK0zEwD5pxASDBa/nYwDDwDjvmMVcLzmJ7P+sSgwViKWDAg9K26HsJP9jj/4n9ejr+Pr3A5gZE1Co04bgSAAyy9uq2vDZtvuuL/4+6jrIHS+wL95hGYAC+9hjHGJC7ZRUBNobGMjf4XAdfSofWZxZVzg433n5Po4T17+PUBzDtm6edm38OOL+U8Xj7Wd/vT5V0fTx1+CZQK6nY/agS575jxM795Co1MmjkgrQJNaWyMkaqnBgK585RtogBfT+NufSRd+5R+mbQTrdYUztLUKWnPEnI1OkEURQMZukj48ixUFrVwBN7JBTO83TpCemz03IfgOjJ3Z+Kxvw38h3MAXRv0Ug2hNcNihvlbr9z+diiBhMzK6D2Y1PERYa3zqeTLtYREA8YnQnbPugWq2d4AD44eAICxzzJAlEl4uYcE1YU0TH/hP3MmnP/sbGArGbsL6v3o4mp5/MBYIswMTNMXz5bPz6eDFv0tN3lXBfW97dgakC/oFsCvMo4Abo/tZU1UIwZVI5jig3fxwWlghroRMexcn9lhnDoIrzT7q7iGT0iI+oEuZAbdGwUEEpFDhjlTZg0lORR8ZmiyIrUXDvbTdHpPx+9AptZcwNIEg6Z6+GxC0HC6NB8tEA5A+u4Fm8pCMXC0KpDb53kBw8H0cCqwvsk4Z3BhmqKtMHU7KIgFNtHAKS3kYWT9FixsywGYwodBaVrMJsTlBqYxN3ZR4/nBrx24pQt/BkgGhwBUG+RBEicIFjbnWJw/QColeDtFCU5M2tEuRmpx5GNcEf5m5erCGK2OTwdx41PYY+/YWbpLEfAwCN/0ncB4ho6AaLeMRdMEQdoUBcVcJWMSjECuuQiaMKACmQsOzpqsTpD7q8wCpaGYP0gRzcy1C68bayiSYQr86Qc0haJTPSCxoHueMl/IbgdK1wWxQhrEooQnLAcC6l+AYEPBneQJdwbSqmPZYyxnRkiRmwFUBoU6Fxp37K+EabdHZa8Qw5DGcmgW3N41mknF7ntW4sqKpNE89nWeeSC3iPueufzfNMrcOQflpkv1BuGuhXV1cgflnngAN8Tkw1NyO+BTGZqyZwrW40J9gHlkzteRaAIaIKayRlVEXkUH6KxnYzHN9uMWtMWf40sCT4qtFGL89BPDGlsx3Zm1gAYMptD6XWvRx+kEiTcv+5uMerbO2bWO2YBBhybBiiD9lOhBYWLsuQiRSG1ZlLC0ndEMCdkmmsbZLLAYCmmf6/MKDgDn7M8HIIOvjhzw77iiJExQjgV/mqIjVginuUt6gjcXbjHntlyjF8Z/+EpdJXISqA2n64rlUnR6NGmo4tqXCJC6SuKyCZUM5dRsXXvvzjO/h7rujsgELd4d4UvGya+f4jXsynXkX1+s+8MwZlFwYOnEfR3HCtuiNMXCGDHSkve9hyWsD8CpUnIe4YYvfCjqtNQRR4MvSB2IEcdo+7ooV4nt1jTpAEbCDRdV9bcIkbQFmrTrxv+FcUQLHMFTwpZZDFR15rNd5LO3l2S4WfVI5cPj2iRldxoy4hhJsSeUAiWE8H6ZDV4GhUqsDYrU4bxlBdAnlXB7GlMESm4Frc7dG4hrc+TbRMEMjtnTfZcWL4OwemZpHr5zCm4I1B046xIhp4TkA5zhXGgKHrAeCLkeLTIMqDcTt2e8ecxqHBo2wr2MoZkyeYp3Dh7fIqImLbW4Bl6F11srhsAY8Funcq5zr/nnphBjq6MOLTGxVYZ11WZaxklkWLsTd4oVQFBKvVl8ng2huKG3B8BzHcfdo30ecK/I2BATGF/efsxcmolbcynIDfAa9QW4yGqmJC2GR8jTBA9CvShk5F3QjcW5UWvJF4g1koWgAniyloQJHnOLacOpT68x8mvzYh9MhdG/hDz9FnOJ6zEFC1kZYnT49HYxgDjq1h8KziYK8zDrtolThKAd9KPJumc8BYp2iDiRzGgJPTUwjvvfX09RZsg6C+C1CXQbP1bDiWuDcg6V1YB5akkeZkObxaqhg4WHsGXOc0Txj20RvKlR05dpwI50H34XZPHSrSex1ZxFxBMuZLqX2LZULiwgwJQupEDxC/HgPoJW2h5cDsKvLq5Smyzlpomz0fBEJnRo/9uE0Cf9RwKtm+fc+mZY+idcMR7WBh88CzPBXHo0yD3AdirJv36SG7pL4iWQguA122EcTl6mEEO+oPNFrh2ULPd62ghZLUAM+xLs1JljDmuac7v3up3B7/Hra++QXUv3jn0s5LMO7rJMZFYnGDoFCbzFd4Uym02ZvdKEVDxvPaGjInkBPpuDnvtlOf3QdvI7ybXtvMP3hjSvp5SbJRmDWh6k9N3L2dDr1Ex/BZR4r2K//Vur+0Z8Hbmww0CKxnxhTUXCjNOXA2KV8gzKA8BFlmsBNUA5GxUA8V/zLjAyuaUYn3SN3I/hOr7r3tLWdcBi8tW3YV3ljYVr66PcQyniG23x4i3t/9IlLvub4Q3+RCyJuHD0S787eZTP79o58jeNy7b/njXbUj28QR0rfaRJzi/b+HXO1od/lN6Xl/p3NxYm6FvYtbB/LNYGLoqFjRBlPzN7tjeF0f5c6hvso2dnDNrR4nHjNLoJzAS8KZg+v20wz/8WPwyfDp+LpZRmIuX/28whRGDUIk+nhsVLgvMlHmMEVaY04+an03OJ4+rU/vpQ++/J4KJscoXN3vNLUbN7SStdG3Jit6yHeIiTW6qRVgqU94H//44EpIRF+4NJC+slnHqa3nltJYxN9xKQMpbO7h4lM0qwPvgkg7f4wb5PW8/V7qX7tJtL/TxBbskts2jpEhEPHC1vUWhmoDKV50gur/drDNP1z7y2n//6jD9IvPLuMFkuByIVw01hUviu9C0gFhDbH7ETcHCcSgMR9/0mwArhA8DLzEq/wRY1NZNKxf7bM+uBXbNaxRiAQEG19v0Afn+P14M8M1Hkm3pUB9DEwZ4tKY9odP3L8bt/owXGsAqvjt2EAzdFrgkk/ercdKMT5nH34CeGTcck8+XgG1PbAh7WI3vgjNvZoBMcA77jvL2EtIJHELgzYKtrwAYKDWdg4XA0Y8SLfp+DnSlhWCjB+agrQD0dR2EsHuJRQu0HkVGJNB+AsL85NglBAbLzZGmnf3JhOry1NI3xBkEEkn3pQSte3AGyYPK1A/TDmMjC6GQ7gwmGWPQmHaUAs7GfmMJNcDAWRwOWHdzz4+qu4EuKzDjLOE6dwePNOOoCJNUtgBSTOo5FWu4a1IzLW06eEybV0jU0G0aDdFojvGsu0irtmE1e3D1JT5AferJWAcg/t7fSBsa30rsdIZ4tGo0D68200vyeefiq0vmskYcD/Jr2HmEpdwCKLIX12YMg5QmjL2SXW3QryA8yjCYH/029fTA+2qpwVxs0KqWyQWdTVaJT904VoBK9fNdTkOfje3lZZD/3INyEMbc8Sz9p5CPC0m2Y+FQQCYoM5C2q3eDfvVDmyzb5U8JsTSVRHTJ9PDNaFcdwOEb4oXWFtLoW5FrAi7NBd/OjauWnwMjxuR2R0cT4YPGMQPfsb9GtMQZW5m7Y20l1jXdyEOI7hWlKipmEOJkF3v0OYKGNZcrsITMxXYZXq9iApOtfS4hog7CkMWedwhCxsRJgGk6T2zn1rwdRNUDNITaMuQ9MAxQha+n7cwfYknGRD3CcWBZyIaw5CvkwPc1LLZ4Yle++RqWgPhY+uPrusj7hAf26LeuewZCrYznIvXxrFTRNCDRGNM8n7ZQT28EdqIRTsMxdAK85UEAfWSpbZOJl4J/RXLb3upB19TJiXQpUKj8Ea3DJMuq407pHM2ibXyTPCuHgP3ganpkbBraR359HK1AiacX4zVpVK8icDrJ9nuO8nPxiaur1Hq+nBl76BBnw3LfLuZh6r2SoiNbFZTc72JG7kdO2hZB2xzoDw8Gxl/z0Xrr67wg99Clf9uvqwpgwtYLPfxAXE7qzjVnyAi0+DmLU2lsZBCIyww0owd9x+6btMBoVWH+9lNpCzIJwSlEnebQIO3UIOMUOMcE387dro5smJZA8QlGG+szTIGcMULWDqACOC3zEwYRVXQ68mdQBJf5eA6zqw2AIGQwFFnwqbMRXaMCRwCcyQHJb/seZL9T1YOuITp4znoR4Vlqc8WWAb73kLSS5GUz/WeZljtp1zAZzwvhbu9m1+dE0qkmlvwM2mjTqWkYBd5sca9mE1POC6RDrwDTPUPdbMc7u4CW4zoF0t3FwskXjBNW/rysXc9JACM7pqR8wL55hB9HADLIwgXLBX2lEAyphrBWFsh73kURhIrGre4+N6q/zJwXyWcaUuAYcWWNf6K3YwUUcO69chCQT2gJMVaHF5EPzN2RtFS2+s1jhnDY0Jc3Bs4CquiR14JUwE72fNp6jXp5eA9xvE5GkrzeFeXYFx8VSXEaYaCK0zv/QTqfPt15M4cx0YbiNQ9taZO4e1YjIP5msfJn1A0khbAGcNHCO1t0hxWFV4je5sAnLUiEJoR5/F+1lLcEkDmDrEd/OA/dXqKsOodaiB6dSsmNYPPAAfulbuq/QF+0rgLWOkOsCPiUfECSazqvEdb0jGQAIc4gwtbO1+i3NNoFND+tpSaXIdIXaLuLEbq8y7leZPVMjqhhszdNTSBlWSRXVw97aWpUx/eIzQ1+EyCkVwWQs8UMHSyAIzNnCTuB7vlXyJ0A84+i6KNLNt5rG6NnElf/Tnn03DWE6GmX8RZIDdjHIOuOqjyJFuau2e57yXsZh3UV4MMzczlTpnVjfV2MACyrM8641RjvmidDGGi0QcLfrQgmdWuUNoSX1XDgH+iLUR94Qggf2rvARDQPyrVhv7FTI8V3XgzDp1JMpPqyhfTTqikkIYV/BktZwh61vHlZXd5WHv+aNCrcJ7iwhUur2WKF9gnVuzaKqIKECru/zdRHBt8ZNDELE0iGEMwyhMu+dPp9U/+GQaJCnXuJIKdC6H4tHiwSZzisL3WNoGULLMscdDWOj68TI5CT62zhmT5C0qIhylvAL7wPhE6fIp/iui+NNdUhfh2sJq2nzhm2nxzz+X1j7xXNp+5bvsBDwMayGuPoAGud8HCLtR/gUvEkMw6qy3Nb+irAj9THIOhfm3Xs6lD01hmSMOdmZgL/3DM6+nSyVMmygyNilCPX7xVOp/8nLaJ0X7xoP7xMayh+AU66hagLvFnoqKfbcwXIZ3O4Sfcl64M7BWxHSDP3gbs8zwupYw6YHXghehrWcpQgJoK2/tOcpIqfsXJzXolu8QNjyPfA1c7tkQjt1q7/jb50NZTCPxM//3TnYIj/ZevKYwx58BTz4dStXYk6P22VPBUwlzPEArd4XWvsfJ00EGr1xgKMLVMY0JPBqvVcjxPXQSD2cdi99C6Dz6bZ9ggBi//R5Cg2rwdv3cKIJHjS1tt8Ei8FB94JXWAAl4Tp5Ih3/15bSztJLO/vLPotybhMYO4L4NTZ2aQIDdT0sEBp8ir0MTXDZEvOy9zVx6dbEvvfhoDuU8nB1r6NBUFjhGQ4yc5fEq+N159UF/2HoIOQTZi+y66xYNJdw9DuM7HiP4faqdbq1MIqmDDLBA6Fd+niDZDn7e7a193JeQEkFAA2h3Nv7d72DuhVj86HtTZ2aaDHiAMDDUc3HZjBaD7oc5bQN8dRiperOY/vJbE+nLr+MGxvsVtNyA43E4GRm3mEjs2vfvHbv9BfvBPRkppxFIwS/xceJsKvftg3nH5EN7wHc1m95zQfTT9Sk3LrPGcTC4H0BJL/TOFI7a09LNFnA19/qg/cQPY1bg87AolARyOtKSuc7BZNDWDfJjnyLtADTGcewnm42GBvTt2IMZ4JkMIBkjz3Aj+vB93rex7+V/MYdN3FEG+w7SR9+8nn7xXWu4uNRJmkfCAWY7vQ8iBLDu42bW6lISlIxBOYjCPsH7U1uNdPvK4+n0j/0QTCAxV9/4Tnr0Z59PH37yTFokEF8G2FpJzwwspGefvA4zj06cwssfmThMT5wH8UH4z67upAezJ0ObC3kIZryHxm8YTkymHpRCDBsIm5XdBxEbW6bbgezIGpbXh//bb6aF//U30uFv/XE6eO4r1FmR2IEMQOTGM8GSIuhLXES4IHEOkX2dw6ols2LGszeSrKMDQ5jDdeg/U6z5/3yJI4mgNgKa/dLaVPqL6zNY1bQwwNZAFJb+4ovBIA+Tsldz8yH7nyeehEGBhHkPh0mBoISFUeaChNtoyRgTAuAri0MUXCb489o4whpRA+4p/0SGexDpLjW4ciT1QIoKguCeqgU2EYXZ+6aAkXK5n6B6EoxLUHif1qUD4UiN55RwJZwIa249whjz7dFBE0ZsHaZzDyZq/zZm9jWEal1aEDjaNJYhQbUe8CmUaH1wrYQVNY41Y5DYe2HV8zOLtt36VcKzsXxaO/GsTBvEjvV94B2c7Sk0n+ADGGFdVrUqxiIpLOm+x5ozgxioZ99MkAb9NzBI1NAE98WaZxokXhlChLF1FvttQ+R2YCYweqatzSaWMyxR/KjNNtj8AAt8CAa2Z14jCIFmG+wQ99c/g8WXN8/QaZxF1nSQMR2AaPdZ4zsonA5wC5yWgPK8TIeI2yKS1pPTaqQ5TzZDPMTQAh/IfGhh8FzF+QP4jKWF3HEOERpBASoa9uDA8xMzrBdkH8AUzhUKDxFSKyMkRiL+4P7DVQg7bkFYE5eIDzHmrME+FThzJRPxsMeLXJt87Gxq37idOsT5TVBXR4+yOWEE62rrFH1hicsjUNQplMogPGDABIIqrjMWdtdaa6ITBRFh1eFrUVycP02MJSUD+HsdBm9nB5gBhk7itj40N5yK59gXghvrxI6qQAmlFYyYNb0aHNByw9TTWfpx19913oL/VBFV5myJM3UPkXD7kYmx0HZ5BvsllvZZzpXw5yfcgli7DhrKDgSRkFcswMTyKdyw1zUsu2YYbRLYrxeA6y/jsAPjzxKRwZU59ciKBVMZOJ22J1EgdXGFzd+juCg17Wqs8y4Man6imr5tIhBcxBoIErvUPltFe2oZGZVXLfAhAMu6EEeoYoGP6oYTw8O4YKNsggnscQ4HWAPvdoEn43JiKjBPezA+/R5MxqmSxOHKzB4Sv6viAK9xuDnwEr8yjxBgk/Zd3Ot61CrM817xeCakAduMxbgqXhQFnQOb8LKwnvGaGmtmvIfKTi1mCrQKIOIpk3D1SEhSwSVuAFOeQmaPvirAtrvSp0ULAS3OP+cjYxKyc1jBrRQjMkof+kCTzIQ4Qwpk0G3wG2x7KNzyuEUu/8lnUt8bH0/p3Gn6xB2VcRUpN9LB4om/TNpfswRBYIJURBgxLqkfa+0oP8YwSbNdiy4KonskDnpI29VtBCssjy1c5M88Pge+5Ewg6PQQ1j03TJG5gL+YE0NHAMTaCbwA2tk9RmwdvDHxHjBImWiUf8AfG+L26OqqYNHOUUsQt9AeAgIRPjzl89BCOqpggceLG3dK1gq4mZolVhvrY414OesNGuu2BxAcYl4r0bAMblNAEH3oYDeItoIdIdEPOGyN+OMQPD1/MHLzQ8Q4racCi5XDO0kBYX4MR1bifs0WXH3bG7EmD4CvABjGGYlnwB+6gPvZgd/oIkAPj6JI0hQOzDhu45eNd1ocHkvb4Ms1XGmXKOlQ44y3ab9M/F5PLQgui54z47pkrDOa4vpxnTIe+ck654qzx3mWe5If0hMAOw9j4IwD0xNA8SF8n7AhDAl3u9yrUipCWlUDl2q19/x4XrUmvffSdvqv3v0g/dTjD9PbcPPSou2M8LjlGZIB4SVhIfvAvQIsMG2pDRV4DfjFne3tVP3ZH029H/0ghIgYUlZ4HKl6blBzKqcDV9waWq8TfMd3ggLXvfQa7qJdlE9gF3Ar9FKYES9zVq1txvRDMRcuwYyb29BmhCxhCUVxCVxlmRX3wCQ47qNLSDRA/Kgctk8VrGYP1ptIeikc+D3LwFxK1x7m0guLZLIF3nZb/RSkPpvuHw6zdbU0Bt5bOX0m5ZbW0hJlfE6/951p4qnHcaWHb0FggDgQs0xYAMrvNfrVbbjDmBztO09vpf/m2Vvp6fkN8AKDYr2lZ+LsSJzBpRDCAklxduMsZu20FBszZjiGODyuRjt33a7i/wFb4hwFJGlI3KR/P57dY4tzXPAm7w8elgt8jY80M1zZA8aACw8uTTMBUU4XoSiuyc/5kLB39CzjcNzyO+LG6JSbQFbAbLSKR3iGF1pfzjU4ejr22+9xzeccoheg0ZEEBSjtA+GNonDY4pyJ48fRnrfJAlqAVwFlcwZ4N8JVgVjAMjHNDRLZ2Ynu54XePnG6lAkpEQOIkNeFDguz0rgxXFUlBJ0mXgfM3Xk6chX1LqVzdQx65YjAQlnmPtIWz5pmWqfGghpWD5jPZibCDHGaKODGxkj6y1cISochrfFSD9PLuBi0OvhQTmHW58UzmKln/6d/CWNPmuxvvJwGfugdqQ8Brc5BaYAoughxxdJMOgPB2CQLVIACKVvHYAIkKgoWDlSTt4soQnAafrK4s0zKV4vj4YoPcxBG/Nu2ImwDfgWiuOZ8uCab5SeYYf62rRYpFyoW6HvtBCB+WBw32HsKZmp6vSbhdGGPtQA+bw8ZQ+tYdNUBIR/PgfZq5BU6HY/jisXnWkjx9Ob1KETMd6YWH/tzHForQjD0uwDr2OKHcRy1iXV0sRiJ/8UYeS/Nos3Vlbn0p1+dSssbJHDvUDAYBlG8N8S+7HMo8zAR5Fvg0EFQ0ZyXIDpt0r7vEhQ+Ti2Qg1dfSzlcpaonJ2nP3tcINoaZMskA5azTi+tz6T98+wrarFGIXTs9f6ecPr/AgUf7vzY3nqY21okvIAUpe2xdHzYXRlXLgCZ+EpaAe9RyWr+igVvRAb93ub69s5c2Hi6QmGI3bWBlXb6/GFnLnKrWql1cH8i0HOstTARyZcpqsZa5vsghs5rUBkyoLpe98kj6GJmd/ukzaDIxWWx3ttNj1c301BzxGAhuQ3CqS8yrAcGZeNMb0syv/gzxUSQn+carAb/GsLlPZlMEB2eAxyIraHJkgW0YmdgCsmRBFMHoNAJmQCoKO3ncbg5KaPRP4j6IpnYs9izbf33rjadZIS5nG0Zxn3UNARuYE77wJoeRwpECdxqL5srcWX4h0jDDgPfNNdMwritjJFYwrfiJd81TJ4daXCcrJNoB6aA4mcTtisEAU26BvUJQgFUNPQpDg1hGhrEQiADVrq5QALmIlq/CWdV1Y9vYUbSDk9SYqZyaS53v3kyP/vAzCPFbMBfsKWvMFHj2EEGsSMpuMo1qfQDmLUyrmb6vgkQDQhyh2PI+zJQ6vR5ERrhXeGyQvEBNotZbYd8A5UoDK4YZt+aoSYWLTo/sfP24vKhtdX09X5syV7jNVQ6xQlHKYASOHY8ye49zo/A4kh8lrXIlnUSbWuxHeAYmFXwZcgivEYCOKl0mpgJlJUccw2JOtOF/4XrZwS31gL93EIJ3yOxXU/FUJZU+FqoRBKUxEKxJITpYpsLV7xVfUwAAQABJREFUjbYy1CZMOkT73kERUcHqNUuCgBIM3iqxkGrIPBOOpHsWizXazhlgbAwWJY+b8SGEeeHu/dRPVrzt85fIsEl9KbTOA8C3Kb9bcPzWCQS5SClTH0J2VfcaXIpLJACaBgxlElxfM2KKj5+5fT1NYCkeRRifHYJhRF9Abod0+ybxHA83Uv0OK7dOEjyY5GH2x5U27bxWa+OeumWEWAmji3f0aTAHlS3CZh6BocY7Wf3AR8okbaxwtdcQsHHlWSLtvIKusBY1skoI4DMkBDlB0WwSFjE1klFAFFlnGZIR1rG6ucb0YJT4HnFerJdJTLoIlf2I41cRwlxr1+A7MDmjdDL2NDBTHsPVsJgmT87j8jmefvof/0jqvflyGv7pH04zl2bTOYSqCvGkk7OMPKxKWNlw/Vuhzpl9ySBdgz7u7hFDwzp3VpibDBtzUlh174QjTboFiDc5/Sjs3cYK2UwbxOzpolnkHDaBkyrWYAzs7KEaWy3HWCs4H21iHQ7v48oJ86uQYA04LcOu6RBnth+msgm90mrkRyWWiVqUJRWWLD6r+5x4xjUwlrhIeY2+AfZsnDUgY2OdsdfpZ3mrQ1IWfuOiDMIALwFDvKMGLG3QRxeuM4/g1CPBwvoyCjvOLUtNLSWiNRGwewixuS3OuAwHeKNGrHAdt9oK2csKVy6B40g+QTbPPIohV2mI+mjCjpSyCB7KI3CUcb/e5Ue8b98KgAomT6yvcT7z6RI1Dk/MIboN4Pnw1dsItyhziHGv4Ms5oaWEdRH0RunXAuA9XPDyWI8sIxB3uBkcAWtvTMg4sLfDeHU/kyGXHmhVazRJULHE+1HMKVCJMexXGmr8Ms2Bdc4uvpTyIDJoWvNVxgRdpn8tVFl4gLQefEQ38jM9uHJFF0huOj2Lvy7Cp69wXw9WdQpGvURtuy5lBpqM7y4lOnSjn/uh96CY/EwaefiIuuyo3lAedBGWIz6c/S3gZjoq7EB32kjhKgcsyyJv4RmXvxjFzaoITpwCL42CK4cRFFvjh+n003MhZFVOIThBL8xuHBp84EnexcRFJp6xpp5wZW5f1xNoYO4ITpwFlZg5EntY8kABXrTjs/aTI964iJthjnHlce/fog1ds8f8DaxrQB7Kb6Vnr2yl9zxJLOS1VXjJelpCYaBnzilqS7WbgUHAWfQLHthDsNKK24/b7JX/+p+kjT/6dBr8i+dSDgsa4JwWG0Pp2ia8ByiwiyDzELfjl1E2W05hFFrzzoVHjKmGEoRSJ+B8FUc18EYDIYvtYr30unDtgGsRmviFH12ES+A+uiXbMu25BsiyBiq1uO4+gj/7gXfLcIhXS+Jf8K1eETLmdbKPFuClWNF0idwK57Fymw+rhBD5g6eW0+kKCUN4Zx2lwySDse7fEHxEDWXKqzNzaYLEI2oSitTXOsBrxRIl4wr5jLlMvNnS2j4J9XbTR57eSD/7zoziZdYhBhprzrrz2y2Q3ZB39BNbAgxJm1UgN8FbwdNywzVwP+XHbMmf8ZxuqfKxXji2qtkieuNLCH08r/AUQhR9S3/F144hzmU0p88YAG0Zg0PK/s54XW/54w2fK3Bugxfmt334nvB48z7/jtvRS/zzXhPlffDrwiT/nE/0y/8ce/A4fLcHz3oO3sz56jFk0h2LezfBbf3wG7oslnleWGjiSZWDJssHbf3NC1F/dRUk3IVfKBDg38WYVcN1fAyBTs+kBmf3Dh6DvidHDKax0M7X+Qg/IaBKT2NdWSvmFjDIek7PkgisgWvSLuZ0kzb4UGgfmZD/udDaNcqoqGbJNJaDaRhnIgsg2QnqvRTQJpZlrkAuh6QZLVHZfOTi2XT43IupefVWKjz+BIe3go0C4gPwtkm/7JL4Di0O1u5wUd48v5x++X1osViUEFTYlJCiac3X2GB/x7D47eL6EeA8bI477nuNf07W7fC+QMfX+ASQ8HcATABGdiOzjLGNNPUlAk0wZdwWKbdhtP1th97jhbGIvvfvt8/WTiDjBHIrNErRJfMBkQs4GfDy/NF1+7JvNyqu2SMDcY5sZQCoA1O6VrMVAEkb72ftYlixpj7v+GznXPx7A/eMP3n5TPo3n52nDtdwBAgPUZNhF4ZlFiZY5LS4p0CM0HBqNpVwuaoy3wsLG2RgI1j1299NeZjxHElBZsfHUxGB5QZm+A7WnSEQ+ftHHqWPvvE2FEK2YiT9NKmyP/R2gJm6HJfuLqbbJ04F8Z9QTc+6HMA0sUMgJNYTDYOExtO5xT3dWixwboB9G6FAGJD45SBEahrM9NjHeD1EpmE3/byE2v48PFofXcUo5szcyb+RTm1vZm4quNrcRvN5dQ2NIIH5IyDurQ4xlQSTF5hnA1eLAcbRJRFI/tIZXCvqaZkU/cP3HhCwi6UN4a6EhEYzXPMQAPB9ME5oFc00qTYCeY4a7xOHDljCTTT2k/9J2HS5yddIhb+JoFHFpYXxHSPEGkhewjrkUWKHB2U0YCJEHCpMNjk7edwa8zBOan0ZQiBKmTGJ2PYjmI3VQwoTw4DB9L/24j1iWEj9j1VlEc+JDdZlh7nlCYRg1UOTXYMBlCBB+1gfNMI09LwAvCSoIPYNLsMkI22YVNPIVyH2JmcZefYtKYfWsvmdW2juG+khqd3J0UanwCuFkdWMt4nraWBtVcDyDAyBEIW5Fhn1HvXDeH4XzSsaJguRy8BFIgrO7PDyI4RQtLaMlakjGLLe/EQ67psQp4cISbhU66rBkEIwE9AngINKE1c9I5qo51QnEMeEQ54tccEo79/r4k/O5HdAkAeN3XDRER/4iX3gnRkBAi/x3J5wxU8W38ka0VZXxn5cmiZPltOZt50hmQpwCsXeghHdIIHBMuu8SdHhPO6xJjoIgsUrJkDSxNinayRDaVD8/NESCgustCa2IE8YiTuquPyCYx7Wg7EiYgSXUxQ5xDj0yMU7dv5Mqv3Zc6l6n1IDridj7pJkoL2FVRxXNWuxhMaAd62QIayDEF+GIe/NYoHglpYrteoqjiowSUsXrqQ7WPi2YFLMnqvVpA9r2xNvPJWGzhKHdQFXjosEM+PCZjIOT5juZwoFQAHcCkIWwGLMELoVlhnGhL4t+q4luIOCAf4ucJEYcor/meyichYWeGA7nTUFNu1VyBmM31rhf2SUrS8g1CxSdBiBM49LIB2E9bbBe3dHiMjkGd4WeFGX3KKJSbBwcCrSGwamAAjug0vfevkcGngI7BqKweZ6WqG/hd/445T7f/403f/4F1Ll+W+mlY//VXr42mLa4pwdtDax1jBm3O12say2oHdvmpsJ+CmwLyfJOjyFK2wfgn2OjJImRXHvVDZ5BrWG+F7jqVb4m1h+NKa4k0+j7Yfm7b1GrlPcyw+WqK1Ekg5d0Y41weOAaaGsVRGXJ2AzlAL0p3vlCErPXZiDbZEOWQ6nxOv0L86r8P4KQkPfvFZIyiLEytAX94vsaxPhtvaAdy/v4NqOpN2HcAgMThFTNonwMA+zl1bJPgcOFi6Mb5wF5iwQ3waPdBEmBykhAHGiZ7YHLwhLFpTgAwpjsJt6J+CiNvWGK2n91//vED6apwiqB3/QPckeWI+wpJgdEpzP2EsAhUyT7oRlXDKr0j3HyzWQTdrT/Zy5b5k8BRhuUpJj9soEphUEYobSRLG7BF4Kay5j0hJeR4Bpk5nWhD/ixaC9QCzLGh4SEN6ATwWJIu8S1rXWal0ZJdPqwAngB6UiImTQDvkHeRLrn22QvCUtoblc6JI0DeUAcDGMla4fxWCZfrUUmtlUy6D8QlgieK9xpmbgE2cU+b0HnZVW81/QtkFitnNkM4Y1AufAF/DOMhaTR7i0VZ+6jBdSX9ogw+Yh8GCMc431WwIXmDFQ2j41glM4i+yeezr98SOu0qupwvtULtfZo7DygXcG6n1p8cZarF1rHYHgEUl7WLMK/R1/dFw1BCHXwEqKZ0PWaxyDmJ+WGBNaadlCnoq5qezzTIqPh1mLIpm3B89oyWqAd+Vb7IVG8I1fuzmY/r8X3kDWTuJOD4inHMIDANiTDhxCSzeIVR3CY6OPEkKwl8A6wg+FlSuUzjnE2t3/hkupikX8GjgmD6Ose+S56d307MQiSOSAc3RAuaB8+tA0/TGvRZIPvUzMuOWC13FD1bLXYu8J/8XSiuXW75Iu95Bh9hC0FIIVWIaFWX6E/n7WkR2MNbCWZAAX+y1902vKDJCeV111O9DyfSVmPgrdOWMwSfbRhY5J86vsdwWcfW+P2H28KICacI/toQivEiow+aFn0/bnvpLmvvIi3iwosckO24besuUkPUHxi8Agn9lF0u3vL6Xf/hLlF2r96fREHWVRBg9Bz3iXowhlfXznLwCQIcd5z4QU7nP25D2PaVXw0vJanknnDP3UCnTM6/q3cBydc9/+/Mn65nzxx7FVzMve9J/3HVf2PXuvwkh0dNSfv2ya8bjZesvnhhAXT8pPcE6Zf1jQbM/fztHxxft4h+1tY3/xEwPOtu04X4PXVS6dGKqnc2O7aQggVEkdGecRxsf7GKvDM8YauKk09kkU8/upi4vtxNufRrGym17+7U+kIRSIg3jt9FOjr4av8Ar8wBjw0MSVvsT+yP8En6E3FHDlBB07qxFjt06r19wH18fz4jzu3L4Lv0gx3300vS6ixzREBCdKC31ntyDeFyf30z97/y00WQR643Z1Fk3O/Rotc7g4YX4v4sJW4tCoQRx53w+kFlqNvas30gSuDSILteUWYKsf9qFVhNBywDV77iM4vHITBCEQcnhjvAIeABCuEDF+p8G/mFCGSGLz46rDBlgYd7YNMY2YnNeyFJ9umvNhQmxSmFa5J0L07ww47Zf5uzjRxvYCRbZQEi+Bjl/xggBmgZax+nL7DsHM8UYfCiAZYxjTp0+FTgHj+LD4oO9wI/gSmjjPQ4ybL173vu3jGm38201yLWyQrQv/557jy4AUZtexHc3NxB3+vU8K64M26YzJgLe5glUEALxPFoMKWPXKtGMBMcFsdyEAXRDzBlm4uqTBH8ECOvbUY2kLZrz+cDHt/+lfAXxokNFo6zLyjb259MfXT+LrzqGB0N/YLqfPvI5lg/nCyYJcZTqI74GBVEOqlopTEfXPrEmmSIexLtbaGAKnpl7e+DfYzIAfyzYYk6VmFHwfbgNyAKbLbQnUrpfrBOJUA6oVRwa2iParyVj3QPz9MMUiURIw4YYCwoPEDELoh8i+BT4FiSLAENzdvHIxDcyMp86dBYonHyLgZant22pXQN5lkqSwjbwFBKBrJWdB1yNd7vax8rEEmeBEoxCo3T3+M0BdgtY3R3ICCJda1RDU6UkYNGaqy14Zs9MH4S9yPhTo3UcZlh7uK32jZGyifT9jEmFaHFSTex4Ot8hZG8fffhBLzIU3n4YxIT7wHKvA3k/ATF5mfSyoqbuFQq/lDDSzSzFMEd5PbJ1uOfgPhjC5jBuJGqEuSEamJg9yWSd1sGfGoHW1bZf/6c+lOdzF5hGeFWQqp/HZJjCZ/AZpYkKXDeAQi5/B1qu3l3lxfzoHQ70H33sd5gzDXLiuydiDAZgH2d4Yq9bJh2j4D/HXL5B2eAJmpv8CTizU0Omi1S8Bsw36Vlsrw7An7EcsHlpmGBPjvIhwinX3HGXptSGOXAqNONfCRZjn/AAG4GDOILWmBidYC1xPLDWhxlYNaiQQAJxzJN8oINjX10iO8a37aP8RkAqcpYivwEWNd/bx7h7WGE82q8t7GDPrPohQd5KkF20Y3H6Idg3hSXh9QGbSDkkWejBkzQu4IqFtHeAsjjK3nYdLoeWvAI91TJx7WNF2WecBYCORJKGEdlv2QWzjfwViEKzx1cNq0tVliJpyeKQH48QBCcZY68Hcje+ky1hSBoGp05yHAQhRFc3A9VeX0t6dzdT+LkLjrZQuEHV/BYGLt9E5TKl7TE22kfPsFafU2CbXkWXFJZexAMfYhGiLdpm2WrqEX894F417k/Hgi5ke8ozaZ/GrgfQFXKjQBqQCMT05zmYXPJHnbNvzPsoaY7zKwJtZ0twx8Z9utta7s/6ViQFuNDdZA+6ybtfvL2ABxxyIweIQBUPIrm97KrXfcjG1nriYCu97e5r92IdSZXqcchjYvUmfP0LtswFKEPRhdT0EzhfNFsv7xauruO/VqKFkvaIOEn4X3MTJBOdLL0wy4NrC0GGNnEW7PYrXwSZ0cxOQx+EtVaewIo+wFjD11iDTDRoUxVxcF15Dncj2Nnia0x1rzXxlCGrA9BDXjINgBQgrCNsgY0LxxDxzlD1obGCRYG0jrpJW4hyas6kwCKjx+2fKaW6WOqasfRNEq1uq+7EL7AlzKnscQx1r3pYwDywXSWmOZIASAeWAsMZ7TSqSo9j1/nqTNN+UW+EM7iJdFC+dJ8vmBvC4R10pLM7g2EPwSAsroW5vm6tbPO7h0TsL9h/YMLtsBbyhYKZFRaQvk17Der/DtRrvrsKdW/y7Do+gl4aJLEpYrqvgLNeNJU8nfBavh9IYVmaTlbAm7ofWdIX+CnCxofWG7yXgyXhaTkbQ6A6C4GEd5Qrupi3WTDhUQS3vodBdgPHvg8alGWIgZxDmzo+SMZf4UeIxV4krqUmfwF9N5lPGOiLfZI0r2S8zVOcI+1DYQWxE2YAKin4VUIVdGXghWfc5sySL0zvU32vevs99yhb8y19Kk1hPhqBZlsMQ3iqjKP7AzWYtvIcr9P7GfmR0a7JfZg4Vh8XKYHmvjYwxCnARwqRui2aS7WdtS5wxrWw5YLGDL94OTKUW2VBO894pZqGVJz9K7CkxqHo8CEuhFOa+NKofi5gKhX7OOxxN4OFYM/ZN63hnB3fCR9K2MnyeDG/G28gIn0NoujQFr4nCYW2fJB4YBYR46S9DxdsCusdYi5x/acKA0itW9uUv/m1aJCPoAVlHx3/2I+ntj12knI9xxRQHXxlPf7lILBBte5yj56+n9GXi/UrMCz1detMjBDfm0YcFWNfqLi+rY+nCuBbz05LZhzIjsChjbfJ+BTUTpehx0QT2VSBCDDh/fAMPGa/r6RX3DTCvEmsh3zfMmM3OW+aaMNiHQpNm8DDFdBUr+iJZM8WcrTaWF4qmt1G4VjBwCM8rX3wxLX3ub1L+LU+lEcqn7MzP4c1LpmuUMnnqAvd6u8SXk8UYnqPJeajiLreBonJKTzQ0cBNkaB4woRFj4pWBt0Ko4Q+xh+fCt8un0iTa+EUcfCxQiatVUMr1+t19PRIj6NFP1o/8rzAhLyC8Hn8yBYR43/XJ3ssj0Sbu0a9jCV7cQfBsjEX+zQcYi90dC1teivtxk2e5eSxc2W/0c9Tn8T2fl+8Ifp05+6jtsrUA37LfNHFw4L1y+h9+9EH6979wO/3KOxdxhUcWAj4mSU5YQmEj8AfthwYW2fPWayikUfRV3nQlVZ64lB68didbJ98jEqVdE/w3oHCGUuuQn3edXEk///T9dHl0kXN2NE/H5HfGkgmywtfRmFlbx5zxfmx0IHQu0SQQtRNz8MbXfP3mWPoPz8+nb9ycDM3iAJrAbRioEbEjvuXsEkSnkBYw5S3eWUrt+4vZgaO/AibaKgfWjbb+Dkp1tOFMBKbTDI6N0nj6nz9xPv2L/3Q5/f4LE7GoAsb3PwAIh0TmVW2GG+DdWHh+Z1qbDNHFgrvwjCfaHc2BWdMyAyo3yR684piONy02NhbFBeY/7mX3acgnRsS1+BJ/2IZxBPDKgtEf62jvdiAABRjGO7L+tPBFv6LQbEjZOGnpu3wyhEHHyAHPkqB8fy4hfNAqnrV3nvE9/uZ/R2tCP/Sd9ZcdHqg3ggcCF4ufw51uDcJaVeMPA3gSxkeCfZOgxbzO8SDFMm4o0M10ZWkr3ZmcSlPvewexTrhhwUT2sJqt3LqL2Z2NZP8GYdjf2r9IuYUNXM9wciS72GmE7/c8hYYI0JjElXUHfynd19Q4CZyh2WTIOxyCMRiFQcZuccgqCNJ6NEPABhV4YJQRIMCSChI5hCvTmqqZKkCgKtxTM0m3cHaZdj+UAByKSdcIbYTr6TtlAEzoUYIpnuZdptPFCBbazSpIZKpCTIS2BRDvFKmb6yQM2Lp5P93+w0+mScZk5qgVGLN9LS7Mv7YKGwSBmqH+Esaf0Mhp3VLA7IfTGeBHRkCtmuNzP0JbzLwkrIcU/mRC2Vlzr3lW33yno/Agmd+FiBwK99GHRABiiotZCyaeSPKwHAgIx8iph3atgdYfUQLrFEzWo00ECZg9nNP30fysMbcNsim2ED4l4iICLXUyGB38LPqJYWqv16MWElHs3KdUACn5ZaKMEeVIod3kfexHFR/+MkliBrCiHV5DYIeRrSm0IqCZirxGyl+zGR6g2QQQOeu4wsKkjeD+nMdikogjqRDzcAYrBA3AMZnWme5TjuB6NaZDaBmvnOA5NasTZEdb300Hi1jjiDUzaYO/bc8TgdwkpmZ9bSM87VCzqwdcmyDG9fcsePaGgX+tU32c2RJIWSbQ8+vHrmqsRw+Vfg0ev96CoWJsHMhgFOgiYloqZMArzYPvcBeaefIErox9JA7Q5RkBmq4UFjcpvBtIV66Gd8jwaXEaJZYjt4TdCWJ75sQ4zCe2pFhn0mrPIdijIOv+bS1NQCAIPyOJCIkbcJUw9bmu5xWIcRkcOMQ4jdRoz8FUYnFr4IbZNPUd1z1fTZiQGr8Peb6LlXIZRsQYBZlBCY1uYPfPXEj3OEc1lDCLpNTeRcLfwMp09olZCuMSTXKFZCAI0N0zMBT0K1kXhreByTqSd4NyEQ0JEgvjD0cqWQHIeFCt/TIzQ17kWdc4WEXmWsSduIpFbJZxBC6kD5UWmri7xEy2YWB2yFxmDaIyzHgZJveQM+hZOgCGZBs8E8ZxKWC4ZwUy6RkXfxKX2UheQd8zuJ7ksCZ5oNrUF9wgpePDV+6kNc71y7jcdxYfpg3c8axT13GdEDqauKPsE98oNjCrYtmUi8CmhH4Xl2DjY/IQnDxxCXndzLgX8RYon8Qx+OylXSzTugbu7HIN+CvAOCuFRRwN9FH46CKchTLJdeNvLSsKd80iQeRcExhdM71ImiiELGgbBazBbawakMqa825rK5lAodcP3iVWTVjz2RCmAMY8ZywHWLRJqtSAocyTxUlKKaKJs085CV/n2kZ8CM+Kp9vgEWUp+5JGuwbi2BZKFrHqgFk1UQDlZUoRKB5+6vNpCGalODmeVtkIjIbEn1IfTAELwXdsniIL4D77qxJrBdrEso6FX7ilreKmtaFyKHjnEIIHwRmT1DgbI2VqDty0uoGFTymINHvGK5vATKWr1toa3wEPrCp0BHRsi2/4Jr9g3B3sOAoE4g5po0XT2Etxgd4iB+CrIjHSOWiQcUVmexUm5R+kw23S7Zm0r0OccmEDQXWBGCeY3wlq1U0O4yIHkRxjAgMIGCohMgoOfmAA/awNXkyIMsAqSrJpsoKqiNGKZyrt+jIWfupcWOjdJAENeKSDU6fT5FvemOoUQi5fuZB2oLGuuAKA+M007yqLLHlwcXSU4uswgo0D6gqy3sxH5ZjlBz1zQwfEuCEImwhEy/ooyUNyWJgn5ogao30VnNDH+eLVIUQIB85dV+QOwmIeM38/ihmTNkXyHReV+3o0iJuWELoQuXlVPQRS+ccSjCnyOMmCwHG4P2pp0m1eXCgO9tmTI3vpR966na7dlRegT86TiXWER92cRxAIpVmHZA7uQId2SCxSQ4AcBVflmf/up59PIyhXXr98CYRNHCHje+rUdvr5C/cRLNmBcj39+FtSejdJpMQXe4zzlmsFfGkhjrhA9saPQroMu+nvLTKsp4NnZ0S4YLyWz5F498FrtHhWq5qWe/ReEeuutVyLr+/gmMXZ0cPEovMdzvwB8PmAMjP5Xer/kjH22ceL6f0ATBucO0Aq/bdObcDvUPjYPmCnimsoQm4/SF3CSKZ+9kfS/LvfijcQtFj8YPblpkpS0iqxFmXGZdzsCRKA/S8fu0XyrAbeG7j2q+Rz2PxTCJN3NiGWgqOf4H+BJ+97JWLi2fPgI7gu3lHJ5Cd4bObIIsX1OMDMyd8mUwkByPb8s5kfv/vJjCfZ+7wUuJJ+tSzL/3nflt/jX/jLLjIle9aH/Thu3xDj4rJCXyYLZGNW8Rn98LDPH3um6eIbtMm5Ht2TftHCQR71J9/dS594AS8mYLAYqcLxYBCngFQOMVI0wV+6x3IhBOz+978DvAq+Bf+NfPA9WC4H4SegUyg3C4NNkn/A87BlM8DmPskP9QD50BuW0q++fym9+5LujdkKBU/C3Jw//zFP+FkUWiFAsqaxf8whb4rrlhotdlULjOP3oPqgG/Tc1b70uZsz6ePfZhJ0WCe24xRptRZ0wO3hMjYziqZ4D+Y6pXu3iEFjMyvveksa/NgHUw+tRQcrwQ7EdFc3HCT/UVyz2mikdljY3MZG2jgcTKv4LLTo99h8GpvhRGhztPzZoqq5iEXOJing2Matif9zeGwYk3aK7gzzcjGyfrztNeYmgufPbMM5XCBYr0iolK5D0xD9Z8KT8B0CFtdkgsIqcrTzLmoGGLyHvn1/ICSuh6aC92TvA3krWMS4gHt+0232jENzQFwTkDR3Zn15w3v2qaYNDOxDfFwnb/qOrJ9svTw40Z67HTTBEUsIkwIVxHJELR5qhFRglO+CpAtqCkgl14DhqBBXIHHSv1qmoggDGS55IIzVz/znNIBLW+FD7wahYvUAYHcZ42JzID3Y7k/rMvoA+xaCwrX7MIfAw4FBwQ6U8eFRiK96th7hmqG1hXH24WsjQTP2ZpB2WwRWSkTN6lghsL919kTK4245cP5UOnvmRKS/zp+dS4cEUPch8A/z3CzutEMXThHwPwJzTMpnYpeGcbMdxU1ghrHOgdwKILZV4iW+ugAjCjOoZmvpcCB9jTS8dSQrC7bmaTvIoRy5cjF1Ts+H1mwAuO0H0ZfLCK3DpBFh/bAHJz1+ZGwGOcgFYAYKk/7Jew7S//jjD9M/eut6esNJXI1w+SuL1NmzLgxLFcSseybRURkCi32ESQOBuq/TaPuHEVomysNpUsbIfWCcuzzTj6BSGSLzFozEKEQpPtyWCJZwo9DdbRAN24AKkRHWEDP9IC44BQVJLNOndhDYmJ8WCy3BQ/R5FqZAlTEJjslyRZFvrsHBR9ebCPJKZXliCMxeNMi4qsBPDnO+7jUyVptXb0HASYEN0hSO8iSKGQLOioznNFbXsBRzcNpoqVvU6Krg6lnERakI44+DTcB/gBpzsHbP4vRsuNEpzNRgEuvgGWMrZNhGz0/gJgbMI9MBtsSRAPOsjT9VtMXIgFhEiemCMeiHQE6xRnFWGKcC+QEMunGPa7TvI+7lZIB4dpB0h7V4sAacIgJYH1a9QdbJ2IM4e+xvHq6kaeIVBeEl3IxeXSM1OWm8YXyG8ZMZ190RBsWYQMckThDu1YAN8mNGyS4mnG1cu4zlaYBvugy6wVrWWZsSMXqFizD4zKtpXA57paXVwPXpX/rJ1OUMbHIeD4nrMAkOaulglBqcMRNCxEwcM/tQxKXMOXVJqmBMpC43wpI4UAv0LNl5r8Do4mSLJ4N6FiwNuKutUFi7sUkMGxapA9zKALdw9/I5z6owo+KhgC+QGEfZI9aHvneZT0umnN9q1LedL9fFcXd5ZwtFzu41XAh3K+w9awNsiaO01hyOI1ifAJZPtdKps5MB3WvLCqUd6t0R98Zr5reooEY/9mlGQ3GGrmfWhhtkX1co+i7+BoGne4+wRpJooe8cLqa4JJex/p57+gLazssQUc7kCdKSo3DSKlpjjwqMuYlSw9zUWlDdM4UG18zxz5cHsTSj6ea6CUgO8JEL4k8bi/GGkpDzuk3mrk2mdgg3rfa/CkDtYEXNWZiU+KYiMFQEgKcgxEAITKBu3cCjZ3aK+fBWViXgx6LoYygcjJmqc+6sGWgGzJg/4yB9FucYKzqWRq0Ynl3ds+J57jUQTM3218ZEsE7awR6pBfsQOk/jJWG84jgCfxd6qoJA2FEpouZf92mvGB/WRknCYLjLD3hO/qDHGeuQGciEBN2hgTT0zqdRmFHL68btVPg7BF9gSuG8C5w0USQ1TcEJbRBQVte3YGSBHF7Wh2XKchXuo+7sbdbuIRq9BZij22SYfLQIIwuevvAYcVKjrBfxiJU54Jxz7trLwrhXWXwU7wNnyFjKD9BlKKFKwA9DDfoXheW547jNQjgGPWjn91J+nPgvlAAKEmERoG9xm+5qA8QpVcfITlrCDd7AbPZdutYGN8rYNpjjIbhN+iujqJAhe6GQ1MNl0gQsuge+jqcBQw3YlC6Nn8Arpb6chi6CW7G6TUBLJ8DRRdxCu+DXLgzgEuUyttlPTgbWFUpQ8D4ZW7tRoBlCgCqi5FORC3+IxwueHSxzB1jfr1K6gfW5T4H6VVyu97Gs1Bbz6Y6WcXDL4ZpKC/pBQBZ+PYfyQWEhUzAf5Dsw4jq4mhmPxBoj9ItXxuAdBnlmj3dANmnhqPSIYrz0o+sgI0GBGpcDhhSmX7zTn/7tFy+nf/2FJ9JfX8XSg8Kpx/x1kVZwXUQIzmEBDYMocD2EHQ/PxNS6dD6d/bEPpe1vvMKY8TqxuDOCzR6TuE1myecfzYb3hLj5s9dy6XW8eKucCUMfRlirEnDYQajZh3CY5GYEPDpFxss+Yn4VwiIznrwJf2/giob0msaB7Qksyzn4Cesc9oNHFeR0dbSYuZkzrXfI19gDS5B4qjvi/ZgOZxSXxgou0dXcQPrCd1L63Cr0E2Z/ZXcoffL2XFpEbQXFSGUUAYOnT6SxNz+Zbj/3ZZRq5TQ8PwW+xWrOulSBGfmyunFzwq9nkXO0hwD9h984mX7ji2fS//7nMiQAHndM8OIYYj+54tkQj8lXuiXsZHbf72yd+ydeESf7XMb/0j6ezc6T/K0JmWxn0+95Z3HdfjOap/rM5/ybfo/aRr92T3+cCOBXRdHfu89f9uub7DssZ3yXv/Vsxdjtk3/GfXrfOcXf8Y5M6AOdxLmUh7cjxxTfs8GEUsdnXUs/OaytCwc4NEOTB1BWoTECh1MAHsLbhwEjD7+CRh3hnX7JuNlPtt8eni2t12+nPtyP809iQWOMlrcwrrYPeHDOKtu4FAaMf/258+ne6kA6Ad6Nteb9xx9B5fgTuIu+Mt7dMYKDLaZqyk0HXYTR1f0uW2AXCaIKQLgp01Hwjk1GmtS1RtM0oyJGBODC7xuxLBX//NOpSbaeAWohWR9l/xNfRKs5GYywdUuquETCz4cA5/sq1NWpYhXZI/5CrCbARdyHC8s/XsxuZhOmwZFQ5HSclX+zeRC6Y82VZzw2xaeFLP8WEDlc8dU/ec5+TUhhg+ONl5HyVlijvMMGKrmLmHyYIQH7ahEE9LhEc3ulf1/BPwFPJKTwFi1sJyAw1yDmIAxIYmygDLJtBGWRqzvnxgai509fGO8T+Bmrm8U3CItjZhzcj4PCtQL9x4o4ZvpyrBILvxdAdkhFfJcph1DjDjEGM9mkbdlDAmFsAIC6jahBEDFJEBRW1c7miTk64HoTzfEsAcuVi+dS8QEESMKENaDL4LfqINEuwM3fMoIyi1pazLQkrq/ydz+wVYJZ2YfZHOZe8Q0X0wQMkgG1WyT8GCH73wAHo4AAtPLd6yA1XG7OYNqfJkXpvcXU4DfqI5gcfk7MwiERiElc2Cptxy+cSZXTc8AiY7zKwXkjgenX7xEDOZC+g+L1pfu59OTtcno7J+bd7ylhXYNB/no7/RCM39iTD9LemkJLO13ExeXqxcn0JGfi0g++K62tfjYN4a4zQqa/bYJAi8vruAdBGJjZGah9lwO5CfzOs4a6wrxyB40tvuQ/8/5N4gYQUr9j6mGBA4UEa9nlHboNNWG6TAgiwjMeo86h0I13qUX2M7ZgnDpc27YVDHi+Hw36JgWH+0+jibOwJu8KxMema6mow0xXEDDbaHC6IO49XIxnIegNUk6ZqXIHhH4bS0APl7IqQSUycXsQDl0iB6f60sISSSvIXLcd1gYBHULkviEo91DCaLOI8fPM6m9/nJSB02kI5FQlSPtzf/EKgd+l9GQNl69HwBLMSBl3OzXTbDMACOFh3cswxW36J1EiGmcSZ4BXbgkvCBtaIK2RNUYMzDAMlRaKYbTUxroWIaq6yjXIeKcrm/hokLTgm5HZzvOgRUcXSdwITBnIelRJ/PGI0+IZYxQhKJRZtzHO+BS1dppwMfAn3MvOkjEmdQibzqYthBJSPxDngYuOyoUgeEwEIl5AAOuAC/MwUkOnB7BCr8ZaeYY7us0yptNYWXrMyd6dPrufKaJYIz23S2joBoi/q7AvFpWtcN5GcCltLdIShnoQAb0IUZYpf/C7n0xDxECe/W9/NZXe+BhMzGoqY9kTL5nARDdV92p+Aq+DO0wI5mIHC0cP66zFaIsIy3swTCbJUfkmIywTfmtiktg4RHLiNNoQJs+6Vp3RKcSgLi/A1bEMvmjBqGiBUMilRViHzRhneQZzzKGMjzUWh54ifkXGeJe9xu6bzrD54hvnr0b9sL2Zxp4YJj4on84B5KaaZzmIR8Oax741SbRRvteXXqNoZx/vHp40Sg3LLfhkhV6WTpxLw9/9JmsMY8QYtIpoPSjReQ/X11EUNLHg4JOLp2dhiq9DRJHeqPdXx5rfuQE+WLxHGmuykuIqN3lyLk1vbaa9pSXmSBIW9raEVag/R3Y34s82xtGCMj+zh76+v5ku7i2kK1h3eg+ZE2PWPUyaZZxZjX3s7W+lizC7hpucIlbvq3c5Y7g1ToJLRs6MpOp5rCCvYjmB8V1135iTAvwW8DSC0FbYAt+hyNxlDX2vmfI2WONJzu4qMJOjbtQqDKGETRpCARAS4JDUwvghBNE9xuA+6O7bJQ62wLp0pyivQUKdx8ZYj52H1Fci6RHuwhvgnRXqEOag+wHfEgzWdJc9O0DwLuGSxyIjJFFYnpEOA2ujo4MwxLhkk5SjQ3bJLmc3TRN/8dE3pK1//zupgAtueWkjDY+fgfliTLj81lu46ppQxDkxjz4Y2FCBMv0GSiEOTcyVZUSwwGpBXPA8Z3aWpFXbxLWZgOTu68vEk6L8wc1oh4Z94BWmGXvNUqK82aeem/2iVOA9TgUWMoQzYbpNwo2GwiH9exPyAw5BKcAiTxNmcXBPt9iDSGRiOk0eh9FnfByUDnimRbKaAgrl4TFS3ZNdeg9ByoL0Zq4Wfg9hnsMbgT6NV/J5EypVwFMwD+wFSg1qg8aAaSPX1qSgtfUw6/ewljK+fbIuHtx+RL2lB+nss28PBnMWXD4JXOYU6KEFw+AJlUxt1kRLrSVX0A1lLpEsiHQG/SrnmTnytx4nZpyT/xjBElkaK6RTFydwQSXj4TQui7jzb4IHtcxJSxyf9RqFyRwT0j1LmIiETfQRCmD61apoLJV4XeE4wk943LWXy2ptgKPXDaPAA4RdYTLBp+nSXusNARfgJhQd41OTqXNr2ROOmyEKAdbqcdyQTc4iV1QA5hgAwg4C/j1gF1w0cOZk6lFTL0c86PBdsDXwND+8g4s42YmhyaClSDBXJaNmF0a5yD6YBa//B9+WTl0+m1p3oAprlM05fzqVUdxWSNTSIBRBobywthUJz3oqLVDaqBjO7dTC9VKFn/PI3VvILJRk6yvAq3SA7TyW6Q68SZezYu0r65bJA4WBYWgMZeouaP0gPfsm5rIBvH63mk7MrqV//thS2njOsjnEaeJNMIxCdZ93yA+Z8Ei3zhGs+Tn4BRVMUno9JoZRIGkllS5uw9p96zaaTvbCzKnBI9LHsSece+rO+nGf3c9Moc8d1lv6yH+AKXCioElreRIPWMY/ci0uZworeRE6BwUd8an2AW0I+OGa78oEIvGVr6Nz8JXvdE+9ZytxuA2EJW4fPZf1awvv2davweccPWP/DCzon/DoJ2uXtfd4xd+0V74IAwv9HM85s9hl8C6t6pAo5uL4bpomw/j+OiEseBeZQXm5Rk4GrNocS3AtihA0EIcoEeTwR07Npb0XvpUOn348bVMvk5YkXAJXYai6ClNRBteMga/W5yhgjsePiuxTlFB47S4wzVicg+MJgw6/XQ/PjWNVnsmBoFR69iEsFocpcDeCFsEK9GqL3IAw/bNJFvXFjyge34HhK4L066QBn21upz0Yv0My3pVnLgE2FN/sjKRvwnRdhJkoXTmf9p5/MdVfuZbys2+H2UF7jya8h1buNERQVKqpOMfA4XPCssbyshG0OR54fGcmAlVMyhbZn07Qti523HfCtuPjhh9PXs0BM4gF8Vl//ChwBRLiwvFzPBTCkHNXAAsJG2QncAgnx89FLwKdH6/zggA4vx6NKZuHz9kX6+j4GV485Zicm/+EJv6O2AyBLebKJS7rHx+DPxqjr3JrjX0yg40MmmuVXfdONk4JtAj6eF2KaAcem9mF2SUG4qCaxoZhkkmnn4dBRxYJTZB70CX4vIywIiOWA/FP4d9/FwFJUWTo8Qup7yPvS1e/+lKaffGVtPbhn4M50cqD5rSftNSzZB9kT9s7/B+krkuUxUxNl746OJpa+E+f+rH3pqknL4JoiB1S+zWD5np5O7UePET7DZOI4JPHZa6Ee9CgSG8Fd4BvfjeVf+2X8fXHikNBSKgHPvgQ0FkKgrKaEVAKst3/+tWUv3IWrS7aK5iOEu5LJYS30uXT6fTK3fTkAppjGP1buC1+/m9b6Re+A1JB0LiOS9fVb19MP9Z6SFwWLmpYfR5/8Wra/4sFUuLX0xhaYS3By0OTaXDvEUw/RIT5qVQIRoD9c6/62Wfh5A1XsNfsXg3hd4RaSWpp3RdhQA2dsV05o+FRDZofxbX2vnOpyqTBkM/CVI9XcHtrbEZGwrBcstcdfMtxOA/3DOPF2Lro10OdI1FJDYGoA8HFQYtI9noaxrSeI4aniWCpxm+G83yV1NnGCfaBbPoYQw4Be4csYS3cU/rg3Iuc0TLtZDoaZndD6y+zWaCd8X4KiYsI0vMfeS/MLzc2NjnLaOKZew9h4xBf7QbrrJuobigl1cxoKg8gYAV4Z5G6LqVNFAHGI0hUoAoQaJgM5tEcROMLsyOyArg5j8wbN0DThO8BI4PE0XQZo4WoT8IUP6AP3b9GebaMwFsYwz2JbGoH30HTTS8LMLPqmkc9EyR6uE073XG6uMuEtY35eM5MOmOhUkllEUZ+iDEd0LfESwZPl1rP4gGpnvP4SO2RPS5NwPDAgDTg5Aye1vtgBybqJsQ1jxVFuOC1wXSO088+7q49tbNIok1wafAetFHTvIcmmNuR2MOTXGP+O8DjMC6cpCpNO5/+Yhp51zPUULueDl7aZt9I9jKDxn+UsRP7+5DYIM+GdaQmYaLLWP/STXpB4JlkbMZ5Ckfwecp/pAdG8BDu2A+GRIYpCBXzrcGMVKABDYQX46kEBK0pIG7QFOPWdxfBs4dFromyZRO4E7dJVBR2x2DaTrM0OEUhULGLrK2uROhHaIP74Ou4GKE1XuI6PHY8e8Da5ojzUyDtznWwOF9Oq1+jNMcaLpW7KT1zBjeeO630pgc302uhsEDJw7hVbpAAjcK0wDF/i0djwWGsdoE3WuFGCbEcxxLNGMavnEkj77+Y5o2rfUQK/a99izMzTTY4CrxidVPX2H70/zP13kG6pleB3/Pl0Dmne/uGyUozIw0aaYSQhAIKsAQtAjaAUXmN07rKeE3Zu394bReuWhvXuuytWoNdhhIuLWEBIQGWECiirJFGGk24OfS9nXP393V/2b/feW+z+/Xt291veMJ5znPyOQ9RJITBjS6NpcVpJrJi+H0xPTQxk2brhDbnb6fTJfYZ1nmFV6Yc3dpvAbq1g+fnHsN4HCDPoOAsXSyn7bsI6HcP0gTFWUA79jV7T7xn/OKA4VElwrnK7F0D2YbBPadSQoGbpJCARrADaEIuBz1iLfSWGZ5qHq75V7WFMAlG6fgmcKhAZ1SOcuQq5XHjna6iDELDJzg1uI7BYw7F0RzUeRC6gDApH7FqZIV9b6n5GjROxalKNb9z5qrdIewLYX2NfJ8eAvb4EoVmOPQ+T4GTcQxWQyjFu/dZ7UfPpfbiYkLGwdDSxruMksf4LZojvdKbMkXemoVMrASooGlOloVVwsioJ8IkeuZVQzG6z/l2fTwdixzPUyQ8voJhr8VZh6dcs4CRvA/2wv4lF+wuAi1GlwOIavA/1mUHZbXHYY8EciPIFhIVsOlLGURBCHrAvHPQlpF5aCaW8mFoipEf7vklvLxD7Mu9A3jzKkIZBoU7va302EUKGbHnqtDMUTyLo8xp5OiAc/hAHvCXFcVICb2BNjV4t0PRhvIoecESD/cRcxtD6BpukWNIuKMIkGPPNDGgFAl9nHv/M5x19UTa+JPPpM2Ng7SFx3aZwliGPK3t04rrTy9zE+NhzGjRr9EYVty0WrAKmwbMGiHSegeZKXwKEwfr2oJunmJIt43WJnsWRaHSxSvDe8GfwDdhdkisY2+DmSBgyuNU8lwfZUMLFXXZKA3go/FwRhrtHmCPyDcq9D9CwZzxx/BYfm1A9EIx3YNR6VHMo1wPDL/FyDBAwTyGGE0RHt/DQDDJnlXZuLFBdFWfkEYcABJcI6xmMHYVKKG/gbdi6SM/kRrwlXF4hF5Zje4FeTBrEecxwtMvcK7eKHRakrCF2+0lwm23nv9mepTogybKWA15qIiyI30uIUcYgtkkZ7K3tBD9lM8vkj5ANVzG1kY+rRE5UzNRHUNw/znggZJcYwzxPpFGPWiuCmOBsuNt6LCRDl7bQZFr39P4zdrydd08ZSqcfxCec21rMX3muJ7e3byTFnD/FwgVv3V1Jc3dvp0e+Xs/lSrTU+SRUYACwWzRvG+07hIldevg5z74UIQehwcRpX/AegwwxIJJsScAHLRWZpKhnH/7kU4rG7Nagf8h93JN2pXDcywOmEpjIRm9o0b8hD4gaQVnNOBljguVo0yu9cw0PVPKzMLb75CbaVYZmp2evcPf/hWKFg/Z3tnvvBK/i6vK5Dai8pbJ3YyNd8OjbZ/gIC/7SLSnnOD78eE5P77nxZjrg5uO15d0cjy4HfCoks/4lkcOMaozP5Sv1s5e2oBePTrRT7Mo7wOMbQMih26TwDpuYRpwUhlzcA9zIUr4AHhFNWMjKcBjDaBwIwaMwwj4zY+20v/04RUMK810dwNFm1uuk4PQqCE8rbSL1MS38rt3fQi6joeOyAqEQs4XOcRDotISCgNEJAMUk8Ir1mdT1WBiAq0GMpAdAdOlMXIz8jCOCvkchiVNYWmvIMi3EY4bJM8Vf+o9qf/NJlZtAEsYDXsbxqrQkw2yyoYcg7hvk8sjcTMvSvOyIQP2f6ZoZU8DKIbjBEQAP6EMQXiyFWIlaBcci78R2x7EsGZve8/fFOhDaQJAEjovu4a268IZrncWXukb3g1kob0gsDwUbfO8XizbjB+2JwI5gGx4tPfgF54KKz7IIYx5NRA8kJ652reDcDTgdPzt5o/YWYTgEOJpn0vRn+f/tLSgRX8gOz9pOsZlAz7v5lNoqROS8caLx+ltjyLpwFy/dIvS5+RGbLHuoFNsri1CHwrnaAOkiCRXYnc2WPMqRSHSvVdT/7GLqbWymi7qsQI55yBUMtwRiPlLh8PEoA+nkWOsw70DPBok5G8RrsM44jwz1kzrex1L9eAAzLm9lpp31tL27btY0fcoV39CVaz9KLPbQ1I0kmaA9UGhwWSS4upWKpC4f/cGghGIQ052qt+5H0KvwoReli1gPrS5yeHOrA2bAppO9VC8M7Oj6XCeQ7IvdNKb7x1RnTKlj7yhkGaomnj4HQpmYBF97eu308TXKWGPFeVJwh4/A7P6heOjdP6//GWYGALJ7n56eGc1HRD/Vb2NAEuhgOHz5B2UUJQQElYJJbxEDkWXsR6SC1Xl7L9Pf28oPX+L8WvzZw3EG+FVMQakjADMnhnn75zCJvDSo9ZGQdqh7PcNzrnqEYKnJ0lLi0RLS1qH/dMm76LFZo6qYyIZ9z30ssU5L5MwnF2s/eNdQjovk1twZ4uS8yjIEI4JlKYdsQeioZCufRjDeAi5ZQBu/p59qSB1IbhQZqx4tAuzM0epi8dAD10PJnXxjT8C4Smlg1evpf2vPY/wOoNX1EA2BDsETOekh2Yaxd6+1OEOYFb7CMUSST0mXZjbKYKS91Qye6whKxlM3HPlmghZ+ygMxyiY7W0FUSyKnJQOFFA4GQ/eApUBPdRCOZRJhJyR5hBtoRjS7hpIAHRBJgRB26dcOkEKhCqxP1gHrYVn96MVGqryLKIL9J+dAU7l8Yqau6E1sUsbXehd0A4EvP11BCD24TjC3QhGqyEEhIegX+dgYjnw3LwD97xeFnO1opQL86aGAyFP0lIGgxVdZlLjrgd598BZS5GrDI8TRjEE/XQ/rn3q82kZT2UJXG7lCd/rbeNtQlDdP0ljs4V0iTC9tHaD/c26cABmi/P0CjCe3jgVLIGzyqPbyS75FTwk7EIjA+ujIFxmHHGQKPspziljPIYWlxAuzQOVTkmTzXUYYi0G4FsRAcrQUbAi6JAl5D2EehWlDQ4VCjGXAr8JcA2vZ+0CHs7rFCKRLvJtgQSV/y5V+ZqUSi8ZerV2L5VgilOLGBQIZ2uA89KUW3jOCq9+F9zXGw/eM58+uN0Dn/LuKwwvDASkYH3xElfAw84NPBPEpBxSwrrx/Stp86/W0nen6un8D702vZ4Q2sL38D9xBpXJ0JPkElmFsIaH1bDvm3skDdGc8FqFBkySaz2JwlPiSASjBaS9RbyOAlXczQMf4kJQsNiWrNmJChL0waI9BYuSqFwAF8+RdN/6ntADtPC9jPf02HtdNTaEL0MeO3gG4oBTnkR9ChauwGwZ5gGGHM/+G0AQWQGesN1svOJUQbjgbShDryvAycISKuJ6dSQdx4RsGYJlmLPPK8DrfbGSYcF5wR2u7+PmZqzyw1FLSCPEDaCxejW03jcoUKP8UMXLsI+2bTGHJZTPIejHAKXRsO7dPWgZPNU84SMqAJd4t8ZxGDNE2FTXoRXQJBUJz7ka8G2xlD2Uvwa41KXNMuvSQ0A1EbrM/vEA7TBK8tMwviKerQ7K14D9YlixKMB0OIdLRQZvG3t0G5x4ghs19q37zBytcX6vq8ApSLFHxCe91dJjo4eG6Rc3dqpfZo2mwcVHJ9NgZy3tc8A4vhZkFpgJAl2HvJM8485jdDHyxOJDHoEwdg6DxToeD8beQfkIoVGPGmPL4b3tsscrhGqm76MIc20EHjvztmfS0XdeTodfwUM8+gQ4BUwNYWPfmQNMsygsKLXs8aO1Fo5yQqE7lpDKBL0x1i2PsnFA9AlRgXHOWQsYalTCCYg3AKMU1ysUrMlBr1oUPlIQjygZ8G0IuBRZ494Uub+1ecKKkUd4P2RBxjJKrm4LgXQe/JkiUqCjsZLxtFgXEA45r0aINu1uQ8fAoAPG61o59z5jU47KQx/h7mlqjKDqPfYf1zwvzmqww+z3InjZFxeAo0aDPtVvK888lS48fin1Cf3e+bPPkw5DYOGFZwizr+MNrqTrh6NpynGiqH7vHpEnKJ5vJsR6CmfAZdyLQ3tUIoaOdwkZ7cF7BxaCoTpisfcQawVA2IdtFKzO7XsUA2LkXBvw7KgeeIrbddYwPrB2GpR9bnh+Jh2/dD3C4PIc8xLGdeaF9YMcWBwdz/8gzeFZae+tYKzEuQHsTjAAzABbqCo88CA9u8BZsvfJo8aooBI6CQ2fe/rhVHvbm9L+V7+TbhOK6pmWJULsVX77hNLu4klbsFAXMBshhWPlHsZtaB9bHZoEXOU9UgIQRWnRQ7HDcOVfrIH7wrkqk/h7JneeXWex+GiMVNnyOBulj8Bbbp3JqFyKtv2pUc6PbflcKEHs7yyvTHyW5CYAAEAASURBVAUse1/aBJr4IvgSrzz4gx/xdzbe8BzFg172Hf9nTMxLGchGGC10BvzlRshWEmiv2388r/IZXWGIyO7Zb3Tkn/Fr1q4Go3/+yctczHOe82L66ORumrp/O1018gdnRY2CeYY8LyEP3OMZU5MO/uxzrP80TgaKPPF+G/rXQXlWLoj9CuxKyK8FDkq/u59Lz786k164XUl/9e1b8Yzdi1/mkrs33G+Q+4Cho1J/cIw3rt9IRSvmrN1fw6rSBLcIY2ICWb4TBIWJl7Bk2FiDcJkiWuU+LGjKAglsXON+M489lduMVX/Pj6T6Gx5PR1SeOcSqfpFqbqXvfC7yNVwoY7Wb/hSyEk+sE4XOJhXmsI5juWrBUEUsgSByCHSfBJ1AaIgoi6Q1XQTM4mqzyZRgBhF+yNgzYdhXeQrA+Y5rw153DeJ3F0+Bw4/z9dlAXpHNsfkC/7Hc2X0AbkxoKF7cyZBARPF+ZlXOvGEPXqWJs2cgTYwjE25iAWnLdvxW+QwFFJjEGLgW47B72g7PEOOxbed15paVQWdt2vrZJnE0fNG+SO7aaf1ukvT8ZYq5XJrGhbvUSrMIuUfXrIBFaFZYXSCOeMlKCNg9LJ0F8rgOWmsIurjqsWRe/+r30qVtwlVkQBQLWH/kIrHh1XTEwazjlIU/lztMb3ktxPIKRH29mcagFA8jK7bLKDyc2zVMYniOdiJH7cWrqfGnf502YaZFiLEH9Dp/aDMkS4svggdj1590ygY0t2MRi1ni/JwSRMhcK9AuysIPwQw850ymo5CoIIyRA4skxIFNaZL38ZVbafldP5KmvnkLAYhQIIwDf/BCP/0EYXznYMQ3Efyu3JhNP4Ol0aT0lzl/ZIpwhdzDy6kA8Tvm0O3BjZXUfcv7KaEPPiKst4lL7hAjbjKpksAOVmhYVtoDRhul+fQnX76EogUxheGnAmNnHK7tTcZ7UUsfoTQt5nLE+mTEIx/Cp6fQVxBirMw2AtMz58RqUeL+CYp4EQHWEscaQlSUbF5jRdXy+HqxCcfrYb1vYk1d/c6d9DChUPtUNlzHPe9eRVci7h6rzwDGC4R5PfYhNScQGGkTa/AJyeMqt26WCsLAuLkeWKvLHGhcQ4adgPEMv/U1af///KNU3iAHCFjtURTIUu4eM9Al7IeEpAi73N8k0BlB1P08DNOaXp4BSrSFtbaP4DqO0KLFWrx2L2qBmzhmHehbZecNF4rpKxvs+0Vysl5EeL/VxPvLuTHbEEIEwGHeOQtt8IBcj0HIUf6bGQT+DJOn4/liWstUFlsovVYq5AEskJplgCJroODjPlHQO2Y9T4HzCcR5W4GNkCOphOMrgIvlUYgxArFt98cmOcdqOx1tY3nF0HuHM8XWaKuLlyVHGFypjycYXDTEqMpe82MRDThL4BomVohVl7C3OuOiH/ArfwfhHiHGIyB2MaRUv/Vi6hNGcXIOIUEhH0FsEtpYK06nVpXECo5uOGZ/NR0A7eYRlg1/UkNwXpBshEBwFTqoQK2ix1RTkzOujsmVaQPHE3Btb/+UPDjOZyGvxmqCuXFoHWsK6UDIUrBkWYFYA2HplOiIMrkTCmLYI7K1Y+xk1aQlwx1ZRws26BERvmKwlc/0cqDfYEwQ70OEiPHEIfLse8/XKs8iTC0tp71v3UiHnAG1A+5dniTmn+cnKD6xhrGgR56NVFaLOUMMxTuHwkDJIq6p8EM7EMSiotkyORor+bTAvh1721N4j55NT1H1suIxBi9eIf/5PAVPnB90h3k36U8zRI3fs3BkuwJmzN/iXRo0OlQEiOps4HbQ4+jTWZqjl3kr6niGT+FnhtPVNOpQmVPXaB7JuA99bMBLQhAB3wxpzgGcFp4Wq5pa5CR4mBj6AL7O+BjYWrxC5cl3VQKMBrCARx9aBqrxhl/QBPcAbffwAncpkjA5tZz6RAnEe9Bc161BBEOBiUl3/ddgHObUlcHzDkYCQ/TETxFG5awMjUCC5j7wYK+rUJ5wxuEpgu/0f/WP0tFv/F8pR7XKzuh5ImIoKEMfelfq5AZzonrgQhUDkuX1LfKCcyLDEeAWlTsJKZxnjd1xU1R0PWEsju3mre10Ae90nv2os6mCUgVyB/3SCGllvOoIOY4gQxscV7j00wIH+xhshthzM8CnhbcHNBN1WGHCZMHPYYSuKjmLNfhfVl0UvsojKsZ5jBAt8Mq6/6j5eJJslWq/KG0j0NsK/EKLoris8Gg1QveIXjkLRzQRzKjBkrrg7zkE/BzzGUDf98HN441DlKSR1LjPOXLkgPWhRwO8MIOj47T1h5wd+cyTaeHlI3RDDoSHZueM+2bd4vgKRjEKjy5B61qcsWSurOXw9SqYB5Vnksvb61Es5fWL0NA74P9FQtyvltPFh2bT7nUKE1D1tkwxiRrak/BSqFY+Q9WGXhA+eVqFpiHbeZ3+Aq9Yb3mvcFrlOj2kx1gTjSsaciLCgt0zqNMKhYg8h9MqxioIjC6E8ooblnfMxTsAASZ4ZgBtAjChtFdJBTgBn9kAPA//B3/ugIs9UhbKb30y7fzxX6X89ZV0h0O2pUjdHkUxFpvpbXObKXdjhmJVKf3IQ6wfVQyLhYlQuHHw4jUkbA2v1vqXvpkm7qGUsbEsxHIIrDT4NvROsgZVHBRsfXIieQnc2j03lx7+H381rXHsxgl595bBt+T/KrlyffhfHf7XlbZibDPiQ2NTjVzrQ+jU+OsfB4czmjRA+Xp4jmgI+BmuCmBFzQV4eYN0kvAk00aJs1WXfuZdqfnSzXTnd/4olS4/jufsCeRgcAqQlPCijlc2U5P+DcC3GBB2YbdnfAYYlaRVoF7guPJhHO3gA87Jb76kUPwacpevnsm0NuLfLCXf/27NUB34W1qHLCAj4CON9VlxXeVceqX8bbitT/h+PMFDMZwH1+0hxmEnfHyW1Qf/+c2Bg4sh1/K8d/0BWmbtPdjXvmQvZ+GXPMjHWTEOaKO82vYCZ+k9ZksbcDQb4uVMjnYuygZdIsB0MBXwaDcobnYK3ZsgvL1cIMoD4+cJ/HiNBRjHadT4gz8nfHUvFX/pp1ILufCYyK9zwKWAfNRnzY+haxXojnzBVDHPcvzavbn09ftzoPg6cIoa0oyJj/NijTIDs1cYM2ulPOzXtWvXkAfu4OXSDS6gIfi0DWGCmQgfH6TzEZQncDcjMNzwjIgiCFxWYMc6xnAQbnpp7uIsZxhRwe0L36Ty0OsozFBP55Y5vJjOuhCyPLt7GowqsUG3tWyvrqZf+9C99Ju/+HL6rz9wh0kJOwbJWGQuutQlwBkTVAnyAZZCIYtPNiXoFkQv3KguskBXAOBn5qV6QGACIr7lPRbzAYJEGzyb9ZMtpvcUaPyIaGcKnjDKmsn6sa2/zVHjjmOIa77rr87jwZjDamSfXLcd28+Ioq9k7YUQyPO+46PO2/4kHMLCT3aNtQJZz2Blt7YVG4E//KnXLfrvHqT/+D2r6Qm8R6tbpXSHc4QmKO3cRsiZgOCrCB8jdTAiHoehMJY5w+qwCo7u76RFYF1/5GIae/OTaXD7fpolqfvJuyvkFeHhoXLZrdZE+uMrFzh0dY6zoTg7DK/HF9dQYloIsbjbS1SOGvBsHsEbl1E6iG2SMbUiVl3DsU4RdHZg2iHAMXZDL1TEFIryWLGLCqYo4IYCmmxtuVtLlXZ5TgWAyC68TrSDUKTn5QAB9WWYZ/PuGmVpZ9IaxwK0EKhHYN7/8FkEB6rGmc8wC0yfnDmgqAPj4TDMWQSq7g89lRZ+Go8Fm3AT9/U24Tw5YLCD0GJ+VE6rCFY5xyYhDzhLHGLByCNA6WizSf2WaPhxrS0jUobZlKeoGIj51NAMw5NUDKaYB2QCJQKhzbVHqJARssLgKsyFny3mWZ0x16QRXgiJosh0iMED2YJ8KAj4GISf9i49CjFgz05g8V0gzM81HSNEUYYUQiHPuOJi1/4OygBt5GCC4VGJEeOZwnPgeUJFKpO1se54HpdlhCuEQK9uk6uDoeYhqkoRtUPcNWsHM60iBBT0XCE0TiGQiLMD8vG2qUB49/oajnMq/SEYeIr9Jm06R2mMpFUL+trCUpyDR1Rduk0IyPYeEKDE+PTkSJp/cjb1J1HMyJ0oIcj7qp8wZki36N9QpTz5lAqqpwgq8RBzN+epCM3RQ9fBI6xqqownPfFbsqHn3zUZmWedwGtDNQ1nVDCVNri/ihThKFFKv0NOQ2cLrzKcY1DB006/7JzIrdQrWjo5jrUFLLG3VRoqCHsjCJEnwGCHAg2WRfe+ZZn1gJVRMAccvJtHsZ9i30wisKzc3Uj7CAyTH/0wFtmJOJR5C0bRJwyvdBcrPOGRnVwr8hSs4qZC5bxLKH4WnxCfUJ1jDIEvzNmCICMU16ghJA4Bj0WkaItK1MhDubu2m/a3DlJ3DdzAm47EzjhkvqwZMDD5GVU/1aElegBAOScYMBTHytIo9obeQgUKPzIcjQni+qlhoYTwNAwB4Z5rF0dhMFYF75PDUlq/ysH3KMV1Qlgn+T5U+XAMMiag7L7TUiyt7Ogtw/jQBbZbnKGnkOiaG0alt+ZULxfjaWMNP/ryt1PhaId120oN+FNhZTPlOT/olPDRCHfBszTYpy823MjSeFSNtdCPhqLzPYrhGM7JrnF/N5hTW28I8DDvRr9VZ2ouHeKt3AJC4sMMxXhGSQJvwvBbWw3OXEOhZ6waFsagreKUQo4hrxXgXyUowTIOYzJ78NBw4XH2SJF934CmGXFCZCJPIBDzzih9DMhVyXOERgfl3hDHCJUBBnq+TjEgnTCfNp61GxxjMSBMc5rNOu5h6bQ9Cl0u7RAOSzuum559C690we0cxok+fTsGCZAC/CHe4FPocJfjOqzK6eHIc/uEh/6vvwWv4MgGPAU9DA0aFlSkWpxhaon/ZtN8IDxJ4IMFJdoIMQPmhGHZ1sPbJG4MOEZjDWv0NvtiZbcD/eF94LX4yESqT7O7LlA0ZZzQOvakvN0vz8Y0X5BAA9rC6COx5GMUgLTAPEkoU4YvwE8a41yUD0Z5t8AxGOMXxRkPOqcFYG9LRm80MbrkMN61oUMFBOndbcOJyUfzOA2eUjeT7kpsPCpDIVfrvnTCKsPo0njJEeap0nnMuY8xWf6bw8BUM+S9TxE1DFAFckyHgckY/KWPclaCV469481pi3wlFWZ2CDhPwRuUGc+GtaqghpwO3ioNMDVCYjMPPevm9FnHFgY7CxCtkB/YxKq/exe4E6Fy6xWSIF2NbXARGtvBXRhyD/ilzCGN3yf2tkfotjA+ROFTNlEu1BgZ8g9jstCFxSpOwWGfi46B2QAAiZ99iKvKnuc6eZ+hMPNBes9r9tN7HztIP/FalKkTqj/zfgvZBpNQ0If75KqZYlEhAssDOEdY00WiWZoclg7A0sEXvpaqj11Izz58nnlqoECI3ainv7izBI8i+gCP2Keu5NL3OYcxjzBtsN8IBisN6LfJEyrh1V8j8qUB/9Iz1oMutAgpr2wTmsq1HWC/j5Ggf4ySSbXh5pXb5I1updLcdOqvkz5xbz0d31pJnRdeTWXOnTsmh+3k5kpqfvfVdPr1F9LJV7+bDv/0c+TSY4gkh808yTaKW5lQzr98OZ9eoixjG96yT3GgGxwlcAK8zMd3P3fnZjF6tNLGb30cI9lYGLQnSe+oIjO5Fzs4RA4wjE1DT+CwKJBEtxDBdHnyKC0MHyMTkKrC2osCRjko+xp2qFQYa8Qa6nTJZE5lZPYB6yJeygNd/2xXZfe4y3uuuw/x4Xc/XvNd6bAyhHcDL3guZFD2Xbzx4F3Howyt3OrzIoP45E/ppLzfjZXJxNkY7MdPtJ21lskt9sFF+/eu9/0vfuNG5L+Bp6ELeC+g4ZgzeSFkBa86B19GzlIu5wIRE7RJBJ/pJ1UsDYAd2omSDy11jHX48c4Prqbxn/0xvM7kxH72S6lw8zrpGcwKK2gPg9QURdga4HQHBjVxuo8RFyIAAOwvR3qJ/fjlRb1/fswNDxh5lfsqmI7ffYm67+IIKIRdBFYZRoW8siID74Hgs/m76aPvGGAZHkrX7j+UTsaIjd69T4I+pSMhWI/jcSkR2zukYMlE90B+y/+e56C2U/Ilnnp0nuIMN7BksfH3sdpPy6gzIeGISk6/97lhqtyV0+sJvRtC6DJpWWDGwvNcIANjdAGyrS8ycOPBorhYrpg//IhUmXLlgmeKlUKiQqmfDDl5DgQWKQNxuX62cCKSbfBAPG+IQ4VNLfE9Y6j/ztogqLOeA8DAcYB10zHHuGjhrH2FPPu06bMN4hlcfhyvQkxY8h+052bJ2pGsuSGAG8wxUzwDpUNwtF8RG5DFfOzYuXhBqGgt/PiX51EIEFjxbo5NV9PDWFT1BFpaHI6etihVbNyrpXnNB9pt7VBsg+p4ral0MDWRJslLPIB4vHrjJnHR99L6294TFvVJ2js32CEvBOIAy097s5THv5fetdAhrA2EPWqncWTYg5FxlBJCZ+9vIRCCdMxFS2ALl4aViLTSKqQMg+QHKAAtCNoeA58nv6wLlzPcsXVxjrAiFDXWYWJuMnWxNM6Af3tsRlLlQGSUMRhmiTwIQ0AuEwbYhdkNI7A+Ruz4EIqZlcL+6IWUHtsvprfDXBqs1ZXdGsULYKZAYIhrB4zP4jX3fucP0xz9HC7NpKldqoqOQnBh3g1wON8oJyImY4MTwYngRn4C4VEX3niZdWRLsRey8qjEhLPGUeRG4ZH5niCgtpm74T2urMKCFsJMmGWMEOIBylLsSZeRp0YRhMgkguAT9QzztDKQuSeGD2jZ6iFMVRHSrIiZh2jrgRxB+T6g/D5kH+UI4YOqgiWYdokKZa69fftuibLwE3hBeoZmkpc4AFZQUgwyKArAO493NbNEYVDB9VhCCZ58dDmd3LqXdskr3WxhaUUhgqRQIjsLAbT6nMVG3Cf2Yz7LyNxI2iT0qEvoZx+8mcVjo6KgdVV0lUyPIiyWLa5CsQH3kQJwt9xi3ShlvkLiLfvKCn5WEhPny9Ao8y4OgHEXgV8B8+gA7yPrqOJuvIB7yPCaSnGMQjBYs9hXTRQaIBz7xf2kgixB7BK2c0q+XolzaHzf0EdtbgwRmLALoU8qlMboF5EiLEbiyP1fAU8FqQUDrBzgQZAscIMdhscM5Y813+XlAkQ+z1pIy+ggzXD4bj5/ENcreB7bhMI1obuIc4wWGPI9tLwUYzzFO2tF0VPwoTPKYcn0N4xC0AUfMoZFX+HtI+QCQbSMB2KfPvrAy5LtKi81vu9SyGG/9BIl4qmgd4g1FwG+gxJ88cJMaqOwlBZRlMDvGgn6e7czhmH77D4MbCh+0Is++TpgmwQu1nkUhbKDUG64ahtkJtgr4CNPmSYEqkL/wxdQYq4QMkwuIqlDMUcF3QGwzcEQayPsQQ6FP2EPxZ6hDSMqZGPSvmDg/G7P7Cb2E4BlbgMK4oxRYAEguDiUDkcg4t06hRDqGGpmMSBOvw9jIYnbTZSG5V/4QBqgiC5QObL6pVuMn/YR/gfHfGOYPMAiulVCSEW40cK6zmHPVerSn0fhG6F4iTlFVeYYy89YIpKBHNVpcmNJNcOhibGJQ6CPCT0dgtnXwf2xZbzl0N0+58mtsYZ+VCLaCgd4Z1pren/4iWAr71PJ2ZAv8zuiGkL8CGdHCnHWmjki+mFwgdYcoVgTsmsFOSsBA2bwlHUGlkd4Eng5LVMBs7daTwfkMK6TaLwGnLYJieuhIZXAKWmQBUVUMrqjCJCExTbZwAfgkrRAL/4kitdWj9xdC3lQsttQq60ixYlQ5jfILR/7sbenEbSV2RcRasjrIe4tNQnlzEF7xOED9noD+E1Da8RBj/iQArqmPlBE4J/gPo4sjtIAJITeqQCtXN+PUNJDFNBx1nmIPSk+6LmLQ445325AuJt5bkw5vF7cjmfy7LVT9lKDndQnjK+g0sm+E38suz8/oCLi3cxAYGidHl+GRAEhaMIC8LjF+p9nlNMUmXl0IRVvIZxjLGgRLt6EDnmO0SlGIc8qy0KlVRigRVgZxZuuex0aFGIY+1BE2yMsrmGONTg+DA4hb6ct9uqeNAvaO/r2N6fVf/W70OTFNDeYBY+FA7xQnncdOQZltIEQr+I4hGJomGbII+ALUwI3oEcPBO1RQpb18E2xnxsAdeniTOrcQVlGU66QM5tbBRrQ4xBUmboFk+YQFitUmizTjzmBsT60qRcmq5QHziKZ0z20kP/4JykT7yz0UelAj1CsvcaMuS99BO7smdctkFpQPwEGrP34E+n+DzhqgcqPLwNv5ayFaXF7FJwiVBPvlwWqtvE615hvHoVJ4btDFMbmImuxBmSY/6PzRLtMrqb83XmiddrpuUfLaUriqdOA+eQxABuho1fSAlcWlZKWSZNVMCDbgSzyAOm3ub9GvTSRI6oYYov0q7fM8zML9DcOsFbYPzyKsRUvPRgl/CvyC/orc69EVekuyl2J8NMqAn+pcJI+8sOs3fOcyXltNC1OHKafvbSRStc48psjflrMcxZAtpF/Oihck+T3n+Sn0slXNsL4I79XPmTzY8hWyaEPeOxzF/fSB153J91cr6avXM2lz35J7M4+Pq6grxwZ1WcZvzK+Yw1nh08yfmXkkLdZp1CuuOayCuuoSs7vXvcTnina8C9lTOVnLgYdtJ/ghLzsebcaikI6dv3pk6s0lI0u/ud9P6Go+SvvZ7Ky/dMpb/h3vMJ/XvOVkM/5RdrJIzEWBywfDyWI35WdbDLk6mgpG2/WLnjJeEK+ol1xRF5zinfawmDYlbmf9SMvzHJjMYiBR9PvfVuaoJz+2v/wr+JYm/7oLOsLXDmHtcBRVK+SV3YJxDqFjvconrd5BKUBH+yrC823f393DYSP+oRFr2KczIUp0HEG/yZpIMV79+5F4l8F4uXkDT/r961lRLt8rbYvpi9encTDdTOtEefy1+1jKv0gdGLpobYHiJ3FbJuHtnJ7Jz33yHIqfOlb6fAvvpDyP/R68nAQABlUHW0TuS4OrwwgAxRzXOYJE9ACVMcC5GZz0UETJuHCMwLeValxLDE53nmwSoGwcQ9g+p7JmFa/c+I8zruZBmp/EpmYO21nCYy0yAXb9KeWBu/bb5yXw3P2aX6XP/kTqx8b1HFlV4CjgqWKmNDiKuNkUPG7yJid/p3NxQURyTPXsG2LsG4Ivmle5Iq+bYcBiUB6QTwkMqzeXtOS5YfuAjljXCAU8zYMVGE9rCc865wclyVAb94nRIswKT2OT1HBqQ6RslKX8elqyiNUlDLZvwhB7lMNqE4O2Q7zXjEc4+Zqan/y8xzMPIPldTRdm5tI78SCNNkifIuwxduDifQ3hAa+m1jzMopDG6H6E1eL6ZeJBV8iJhz5B6sBxBUGWgcZ+08/kfLkkJURoIrE7rpWM69/jCpPbASEgyqWrJFHLqc9PLCFu6tp8MTlqOi59EsfjjXqofwPXVpOVRJ9CxSbGCaspoo3ZwelcRLvQh7LVx7LU5XNsf2Fb2A57KYrCGjPArMq4HvLOYRozqZq3cCfy7gUsjpYR6pYtCh7iBTB9/lRNi0wZL0mCSk7OKimRwn7qrJQo4Ti1hF6do6xaLEU884J+JdrJAfDlLXU5/AgisU9BWLWkbJ4CNxYBbnexwJqQRfvd1gvceCYdaoC+3kIfxxqCZMbR3nZjfsKouAhUl+N0AjPlvOQQ4AfuKTnzpyiI3K0DCfyMNkBHpVJmPIAy517r8oaTwFb4+4jWRhBwNwd0Css8uYvFmEMfZQsHog9NA6T7kQoIDiEUmFuQgfvZxvlaf4XfiLd/Ngn0s43v4sw9xDKpAgMfmL51DtWgtAdIthJXC09bOEJwxYNyFBSQTfDaqhQBM7y093jXs1TqMLdE8VHEGqHEe4qCLSNfYQswmRrCPBd5mnIkrgkDNx/sGrw1/scjIzFdU0FlvbcRzyUJvke4NHrMCeOemUchP+xT2M/AtsOsPE5hd4Cnj1WLdaWi9GGe3eY8ZfZJx1CUVQmRh4i7PV5hBSNSazzKuXSPYKiSXhEZ5iz4KxAQPfSi0XG10ByzLFH8gjiemMjbI577ltLY7fgCoYMFoCJwqF73cNlh6G1HgzfxPI7duc2ORLzwA88IrhB74Dx7pu7VFgEB9H68c5xHhqHKR8Rpt6lvznasnqYAngXeClMVFGCJ6HzwllLdY3KcOXxdlp/fh/DA6Fl0IsWhztXCLWDXAScMuanMcAzxlgncKgG3kmHVPoOmfsI+8iy03lwd4t114LuB30mbTKO6qswLY6vOGbeiP3x8ecAIbLAsy2SrvPgrQc19DCunCIAT8NkwMxUxouPuExfrhT7DpiOwIMGpEUBxbSezzyZ4mGJMBO9XuhLIBpnAOEV3/qD/y+VObql99hSmnvTa1LzWy+j0CPQIVgDuFTkjL4WZ70BWYpeUDjg+L4ji7mP4YGaQ2gskTt2TFGeVWAGUsc+sT+L+eSGqKR6ao4f+5lQUw0w/TYGEZRKE+tP8Vxb9diDvMd8nn7ENOHL09BD1oF1Mh9KmqEQOQEs14GzZ0Kq1Fvcgt1Dlxg7+K0OjEfxJB+jNFV5JhPNgAk4ceo5Z0SrjPXKaQuFQsFziDBnfEeExzk+vf/QH3hugT7NCZvAO1gBZgcoVCMLFcqJO1HZMEYlcsfKA/J/JjgAGTg0MM6OEAVz8X3vSPsf+5M0/J/9/XRUGUqrhFN7AHD/ZiPVUQTHz8+mOhX8NNZUKNYg/hyAW20UWPwTsabytxxGOSvNKjDzD4EW3so+G55GiWyiihIeKHE4MvQa76MC311ae4Y83dYWvBbcAwNCVnDPHQHnA9pQmasyJtAE2ggc6IuNHjltBdaIobJJeQY+5D7n1QiT769Bb5vM/xYembvt9PLurfTsxR6CNSGy5MKeA+5T6+TCYtD03D2FLD2A+EThn0RvsPeKKKAdDAQDDGZ0rBAS9FgELqBMdjAsVFkjPUy57/2AvGfOTqSc+v3P/k3anIR3Mia9zh5Ifo1qmCG8gkvj5P+V0UDaNzExQds1BmZYRLvQ8rEDjixQnmBtsw94zDy3dg8AIcauFQog4RkvI0gCiviIU1YKzeP16654JmorTaJArmg4ZNwK9EyU2SEj8KvYO87zFhtyfxoqXkAeKKKAVebxxqMUj6mxyaeYu/OdqkITS6Ppv/v0hfTeN4+k11Dx+BD8xhwALOhrny7gnwXg0mfONSxcdWB9yvp47tnUT/9Yat+7n/qf+XxKT72ftsvp+motfb03n97BmOrIHtcodsIpDYQ5AwvG1gSvNM5PXjhHkbHdtEkxrwmKPYxThVmjlXihQVA4mDPk2vWhQaN4Js05LpIL1v7Kd2K+Tfaj1VCHlDP5aS6xINbDHE4E4NNFiK9RaGT3PuGTk6SIDB2nk41S+t2vYQS9n08fpI27O1Pp052x9JO5K2mWvTtGIvJ9jEI4z9Psz7w/7f3551Jp9iL4O8M+wOzMONusewd8QnJDfsVIBl1ZxAOLeJI+zlldNyigpOLCisb+YcuCbirF4FYscrbW0vGgPKxJyJk86H5xGyibhszIuoYyenYdPNS5oOMmkztFZyUXsS773z2rgTPrn2u2z98xmgd9ZR6trI/oBxh6/8zZEoYAxhqFaJhjFADJmo/2aIZns3HbrfNyLtJg/sU9hhFtOjrn57z8Gc/Snx9lbr3NUnvlDfP5zk2h00CztoA1omnwN48QKkWKCnClIvLET7+bh+H5Kxtp/KM/kwrwy84rUDHWRXGEKhDQg1NwFl5KNFpeJ4gEhREVkLf7GrrPYOLYGc8wnXlmHQ8GzRMiLFvwneLm5kYI922YdQCcgfMPoiUQqZpd20p/50kVh5S+/fJ6qlOGeeouZJHk+1uHp2lxDqLKPZnyt++Rm/Thd6baf/Mr6e6f/CUWsEq6/fJVQJBLzxC6U4HY1UHeUeLgr4FY6eaV9JZ3Ef6E5e87txgkDDmPVVvAxyQEeozDMTnJ7KNQpdYZH1fFgcaYQSKeC0LCTVE1tGTuq/iogLm4odDx3tlztqNlNj7cV0GNBgUUG5umgzD6roqdn1h4xqbFJfoXOSRgvMOyRF8Z+toS70FEQ1CPJyRYtOMmeIAwjiWYA+0bxmiCZ1axUeSlBcYvcY7x815UZHQ89K/g6+YRQ2V0GawQZLxOP5bNh0dxn/wYvFEFfLaS81Fc/lapW+Hk+m7ngPb3OPdlNB21bpJvM0kZ2EF6GcWnSPGOAURx6uc+lJ5BcfovvrySfhGXbwnPxSI5TBfmEVRw1ec4M0IB40fPo2jfaqTt5gGKRD5dHRlLzwnENz6RZv/OO9RyyXGiAhcKew6iU6Gs7gAvaoU8r+bNu6lK4YnZtzyFMQBihJLlnKYpNHOwRpELYvAVZk8RuuDTIYR5WOoI5+SUCaM95rDQGgTY+P5xQm1uEppojonx4pC0dHQ4SBdhCuYCTcFahjjkeJbxnNyhwiFA+SJMwMo75/7hT6br//v/myrfu5qm3vjWtDY+nR67yfswuGJnEtyWKaI4AFcFrHXi/7swgjqc4QTu1YEx0QXfEgnDw4rpPlbekRrMkbU0XMw1VWg2/OykixcQS6lCGWQ4GKV4o9ISohwMRL2RYNIMlx/gzYk4TfhXeYa8lMUjwvOm0+xDhDUSHlYjdrqLQqPn65S9WMC7YeK/cDCkROJDMVaIE4dhEsoyxTNdGJPJLua5NVDOhohfGxxTmIPrWhTbEJIcVnQkM8ZaSPMIvip8VWLeRx8lWfxbRNXj3p9FsQ8CyDoYiroNM2Q2eLDcP7TJ/+4BvU/+rtV6DzzpE/LVQAJfw4R+REhLg4Ig0yTGjb4GFQuBokK47CgCjeeEdRAc3De77AEPQW2ShFjHSzNDuyqlsW/YT+qOJfNKmNMITN/QoChHzd/uWXM5hmjDkEcPje2zVmXhC9xinPyOjp+OEWraCLhEGhIFsAI8OmlmCUEE5WJ+nIOr79IHAnoZJVNG5tq7z05omyXK6A5GgLt4UWXmaJmMCeaJwlnA09knp01hZRImf8yazH30p1P9oWXCadbSvd/9ZLpZmk7b9fn0bIv6twfQaAW7BdYAIwcxS4Fv+1jl2/vsK8KninMcYHwNcZj1kU257ubTdLG6EuDC38yPMZrncbgtDcTyC/z7CM5xCDQFXiABgb/COb6CNkFPaI8MRqYgPqa0JLxQiteL5FyApeeYF/oCYhcW+YAvXqQ3NdLpCgoJe34Ur9ceMGKnspeBE4aF/CpHJOwResh+nCSGbxxvMI8Eg9slVEgvqwKw4Vfb9OuBrIb1tZv1EHCyhxHooSueyVmchvmyByZYz7GffB9C2XC6+cm/TLMf/0xaBMfbVEDznRrtdjAElPCQDChKogW7cUQYCgYqmsH446liq4ilHAaOfKkxBJNirLHvW3TllDyY1u4h5ei5D/7WUXhHJ6g6CL1NVME8Pw/c8U4fbnBfkYH3AAt0AnxkTRQz2IIIiGAM11U+PPJC+pADp6UCwtzr8oVDcFNLdhyngIQob/GeymsPobaolxY2Jp1sHpymkVHCeQnJq+AqGKVvzndmIAgW9A/G2zLKO9fwDlehXfvwYnFTpCoAzyqFVDq8GzowHqgRDE0qo/ubhOKZc8P+NYxnGCVSI9/4peG08UVClQkPb+L5QEsFz5iP3hXWvkIEzeS6IV3QFbpt4em4MTaRKEieSnjINthkJ2NE5FxAwSV8sw5wxOE6E1SINKdjCiPQGDAauowC/AJeHwQii3qI7e7pMXjoDvnO49CgSxgrkDjC2wPooP3AqGKRIs7Bk5/yt6w9hEbaz1HxVA/egEqiw0soEhfxXFFBeA8FnrgSQi+JSICWbTDmSXgSth/4Ld5SDGI7uIVrSxgktqvQ0T6GPIpCwFf8DLP33PvSTA/izjFeKEPqX7lBGPd6Kl9YTA9/mEOIv7pKGC44oleOfpbxnOXv+Dcw3d0jKoVKcYTD3BmjUMROJ83pkaSvHh7RoymMDjeoDojNpgPxO8FjeorA2EWpnWTXVji4vYzB4QQeII9RNuJNvN0oZvCv3BJ+WGSyfXkhowuZCjwpk9MsTqrEs3wYj5AneFM+2GRPl6hW2juspa0bZG5SVGxXxYy9RbPAF++g8gG7aJhoq2kI4vEGnkJo+BGRKjrBL7H/uj34ewNYBZ5zkbmffPnr6Wh1IQ2/67k0/czr0jf+7z+mSibGOGjSCKE5bxjhvN0+8KGrE2iqxk6jvkaY+xxHvDQWp9Ljb3oynb50LV3Gq1GFpiIVY2gYIcyUmBkiRHYoGNQkh7I8NUkI/WN4iJnDlVtQTOgXlaCnf/nvAkeK5sHHag/zPvjVvHYb3RPcAXH6hCAWiPSw0qO0Pw8vbUI8JhlnjqI1P/4aaAl8tELZ4ktzB+lXLq6l/Aq8k5DH4xyhrF/9XtppPpomfviNKUdu3MbYVHoa41ib6rGnGHfz5LobBukaN8GzOkZlVgvAttK9A86aXWexRWz/8R3eGsamNz2UE8Yibof1wzWnLR6L50LO4K+QLfnJTnBVuYfRn768H14znqcF/gO+0F+Ezqwd1tn9r5IHhgIzOT2t00f2ib+y/r1sK+4xm6INh+WYlZP8qEhJy5yDzfi2e94x+bbziTnZQLyXXY/nuaTBP0Ic4574KToBLxGEF5RLNIpKUf+DH77P7xjruxQ2Wz6XLry6m66Re4xbhBQKklEGDQrgFNKdugaRiXT9n/0GRzedS6OkbZXvvAKduU3RImRfaMnLG9AccG6AsDCEA2Ib2jeNvOfRRqcYjzN4ZP1Lo5Tzx+scHi4v529psZ8SOO9xDsW7d1di8ELKucYC8ZA/vYCdLb1wbyZdXeecIApCbOy/RFgQDJ2J1mGOJQQ+mcwOmyG/spp2Pv6pNPmRD8EcSHz98y8Saz9ElRqEBxBnwOF6h2wEkWwe4v8MLoiPfXUu3V6DbLIQbcieHwGfjSZDHv/MrvFLrKREh/4eLH62uBI6Fo6xuAQql27wuMbEYzFEVK/xdRZmKGEyRyOUQH7XvZ59RDaQFGJkzoMflSPPswqc4fdYa25lYwOxRCq+wmDEhg2EegDwQA7b4DsUs/g9QzQVTccR7dBu5NQ5fBDe+fpuKIXcE6V939/8+E4wbJ4JRdTLEgvX0A2JUtKFWfIgwzPhWw2eOcC4DmHqhidM6y2ASZVIXBJ2Q2Vqr3EQchdv6gXDpLBEjz3xcKp87cV0cHUl1RefRthd5UkIIZbZUwjyazue3YQNrIMSQqWhS/Q1pFCBgOO5D32IWh0zjwdE71+/R3w9/iDaV0nq57ZQ0jg/hjjuU2K8m3jESuNjbAyYFnljA2PDEXL6hDF2qfB0wjNlwg6aVPoso9ApFHXvrOJNQAGBEeY4w8lY7x59dAm7KZ/KihktBO2VLbwfCCkzLLPnDb1wfyiV0HrGBngoCMe5dHiAFZfyAsuLEU62ilJ6hCdkSvc1m8Y8yjrKSRMBwspr2yo4jhML30WEiV//yHr6rS8vpe+vjbJhUSgQpPOswRqC1LM5WCP5RlUEhhxrUgJfxIcjYFDHCjjNM+amDZGXYw4EKQOBe+JwD0VlGHfJJhbiXYh1LDP3PZC3yCKeINiWCPWUGd57dSNNQhC2MXSUCEM6Qvi2CIHWsCBwEkFwwLDCCvlfVQSjIs8dwmBiz8AsRwgfGS4Rgw1DEYcKeAMsytD4vU+n6o+/i0Orx1OfUtuHJ4YAyiNOUvMG3p5OBWGZM9uwUoanF1wcYn9NojDvG/KDcNuWkDMnwwisyMYkWRssnw8EqFGEmznyY4aHqOA1R2GIH9Duq5QjJ2erQwienLzJHnD/yzQq4HadtaiOIjxgDQ58B66hALHyyqGhjPL8KPDpgusKWO4t9wVkk9QllBesZLktzuJBANxzbIwzsybCJHmuSD6aYb+eVXfxLRSu+KMDwgAZEx3s6bl0nSDi9mWvyiUqiYaZWs0TmR/lk7wi9hONR/9j4Cyxo4RcnaTiLt4gPL8HQ3h7EMLGnn06DbDSNTgvsoRyfhGhRmuiye6DRUJeJhCOsNqtI6xJjHIQdHQM8A7Y4KnxHb2xWnfPFGGtw8LuiH0JCabqHAq3Ql0DpZeCDVoVq5OoITSUR4LXCMSloDd6uTSbF3CHD6QfXA+6xd195jzJOQmz4NU4IYZNlMzwRPK+SpgKRmGLqjRdjgHA8tzimrDpMZYSilgRmJcfw3p8fywdrjTT5n0qY7FPR/GYWIVvaWcbfx1rxvIzJfKxUAQgtKBkKmMMWMcCrfdQetIgxLjC/MTbvNolOLLJcRtLP/6G9I53Povn8Bi8a+PRHEszt1d4lsA9gDTA0imcOsDNwkI5rOcDFJPd40PO5TPUGGFHKylws4qp1N5/BCelYTx7dXK3IREcS9GDTyKUk7s3gUBbWxomV+sa3kk8wYT7Hd1E4HFNeFfv6BEe7QJaHbo2BbfkL/ApvvZRPlREPbaigMLeBLbOfcB8+ihKJ+DQGKGYkLEojEKL/I5gQZx3jhPEm5PQF5StiUnCxO8Tvk6+5CZK4y64fpuCNoNtaCVj8GNRDvdCDuOFmU7IKyw1k+HZyHPiNnUXAz6QoPB8y3f2X7mWln/lFyISo7lFvjlCucbaAXhi9b+F8QkiH6w0Ca6gKOsLUknosR+iIiNeEXGuhlI+N94gNJFQeYT0JvSoOlogMX47LRMe1Foh35V38hhZwtIPDA7A5VO+hzEA9lFIG+41YGR7Gh36KCyj/JxxTIRgdjpZRJBUUEmjDe8qYzlqo2RkB1orAPIeMNHoSbNEC7AH2B8n0MGpISIkWJs5+QD0ZgwjjXmAelEGXDcSpQbuzwC8AoZP8z9zI+C9CgCwtFJmg/XWyHAE/pZZ1zb0IGgLoXojhM82/upv0tg//qXUuflNciK306HeenEBoT+WijXy8OYaJf1PN6AlKDslEsjMu4+8YDx5c7tUCYZ+zJJsO4KhZWIOfJqrp+FZePXVLfY08GadASHry0++/BihUWCfpj2Mbxga59jDtx8I56Ai8MIDzLz1gm+ihD7Ce1XpKcK5xs82BcXK8MDOBIItdF3+pue4zV7Lg6+rhG0/jjD6K8+tpSLKx3FjlhxjaAlGAiMJdqiAWTBcGhnFaqCAJ0L+y2vbaXdzLVXe9PqUQ3ktPvsMkS/sASZAjAQ8J7Aq8M4y6A+h9BqSuQvWrY/Mp6l3vp31Y28iVB8hFxQWCSJESR5exCiMnHoCXtTIS89hhCkszlP4bAGjJTIH8y+zjjlkn/TYZXIJMcJsbIVsMfHQBSyyW1mqCTjWIt2hQoGQkEmhGQ2qJZ/gEbMwkqT+BWjBCMbDMQyAK/vD6Zu3l9M7Bzfh31A15IHb37pOmOlamn3jG9IERfVGm2VCgcF3IjXybDjD6oaILlNmY0k57oRwyQXOagNW736McHf2xUvG7zOWbFNDU5V3RRpg6S/KhIFE/KmDQmVFuddwVSRiHgPnecQzcSW1EWWTvZq9R1PRXDTJ5oi//GGfrIft+zztKCuH44B19TF/97EYAtdUnuIG95RhobZ2HJcUQqV/fnlNvuotx+gnlDAuxLnM4H2Mkzb4F7/7fDgyeFbMzuRzm7IX8Mq5c/0hzh/7j95HoRhSb3e6C6n15420iUw6zD4fIA92zA3HaLoFjRohqqPEHBz/CVFgJPEQDQgdo1JQzsIw8O06kRx3CEUpEKnVBW+eOX+U3n7xSvq9r4+lL95nHXlHmUQZLFsb8muPaCkHXXJAMSpYJLxVGlc8JhZXjVWG4AP//kRsaAer2+8/bwrxZPrIOwhlmJ5OE3uvwhgRbhHCBpNU/uO9cyhxf0FY2OZXvpvGPvTONP3hD6SNf/obaQHX7F5pDKaBhXH3JE1dHE6ThUa6BxBmITjLl8bSi7e3gDj/GJThSKBJWB9CE3fhXCzXya8AvBuTxYBZuoxnyo7zy5RLteWMYMpAsmdicq4QfyKMQMT92J4f2+/CJEUTPxH6yEroQvamrtZsENznnewpn3RM9iuyZR/bFOnDEwaQfVgvlvMRsURix2wYprHY0e6Dd0Opss34m0HFxDOk+NvNxLXog588EZvBX7JrwCZeE1mFJRucKjHE3YQgtbVLHhZnIRWqw2kKM64ehDUUjTyhH0UqXBQfHE7LIBHyqmmPv+exWs7/p38vbf/6b6a73/5+Ovzwm2He2o6ZM5JKlXL9GgAVeFChotiBFc8kEobpaGk+eYXDoSkmsotyNUAJaN64i8cA0gpctdAIwyP+VqDsmyBH/7sgfA1lvsnPHAK+wpjnS5zAJCySYcJ1Bc/aEEJpgdjwSJJGCehqxaJPV+QARa/13E+HcmKRkcfxBD1pmedvtNMCiDu5dJgWKIvfplqh1opTLZvEiye8d0OTsD6msUQO0Ul1BqszLWJNzJc4q01my1cI7wjMESJENb3H5g/SOy4BTxSRF3cU6NzAhG6aA8bXNESpQMW3okSb665bDZxoE3euBQ47W1i/TZJmafiGIbAvLEvdqjR4D0UHa+o9b/KyYRbH7IUpGfCF01T5GtbRi5wDRwGO88tYbrG4TVJSe0oLPgqwhME3oTfMBzzDwq63pzZdI1yDJWO8nuV2DAwsDCBz7cP8jsCjA5SaNQorLM1opcyly//o59Lib/4lyiIWNvFhgrYx13eA5xiVBF1TJkkYHoI2ZxV1SzB9lShKaXd3mBe3LSygpdHp9D14UU0H+cCS1af0ryJt6GZpEo8OYqOlnRXS9SVIgIVPFebF0KEHCHHgUo95isvuIu87TwXLfQSKbWkMgvws25m7YUix2IJhYpLy7hgzJWywQq6TCf7hueBJwJSOtXQjO5RaEOzbO4TEUdkPHCrhVZTuABJGBv6TR1ZCmBPOJvNboj9H+HZlhcqcSHzHO0ehnFrpbY+chAIWfw9bzc+VqRhZSrNYV49R6l2LBp7a3RdeoWT/VLo/RAlnkpH0YJYpPR8VC+lvhuqLDBHhhP9Qcrr0HcwP5lFzoSV17AeZpm0ONQ6wKqPI8e4Ca2G428jcIN379iFeBgSdNegd+6F3hGAHnMQaabBVxqzeW1liH1KKriqNUPNzr4WGQBVfDBcEXOEZlgYj9jH3IXDWENseynYHWqS3vsJYxV1DK7vEvOVQurvb3bR6B+89e3xyATxHClHp9bzA1YXllH6gkSljblY2NJxYWRK1jhBwBkh7i2Nj6fLsNIdYAANRHiHfvJMGCvHhZ7+bbjOXt//8B1Gs/yptb29T3sSwQ0ptg28tFKQ83r/6BFVBsYJqWDIk6gJehFCiAPMEoX6r0LwGfYkb4qBjOpygGBZFAI4w4ngsI2QoLSyV0tWX8D5fpyyzCVHmamHgtiKrm0P7dFb1lRBUvJZ9KlsYnghWRsEV/BAosewDBLpTDC1llIIB62aovaGDhTr5uSq6fSqZ8nNdPINE6ag6hKVWie06BqYbVAq7sESYGQqMnnALIeXMgTjFOyXus7hakzFnIXmwVhhiPPLihPmJxObntMkfZheGwtHHkuIeG1oYS+d+9O+mAvnIh3/6lxQDu5lao0+iuIFyWI+b9GMoqAYB2RxUNxLsxaWBhXu47x6J//A+7TOvPeY7okEJxadJCdWLT8ynhEIxmGHOGl7uQh8xNqlANjFwSXf6PO8xJfI7DaPmD/uvo4JNB+YDAdbYn94wbYHgCbyb7AHskFq1azzrWMQuFboikUZ59ntnExiAG419zg2kqMoheYQn5A1aOVP1vEixI70nGnbcCh4sbxGBKkaFUehlgWIyL+K91FDhvC9wbFF9A5jgbUdkAmUxQjHoydddol88rV/4CsdxcI95UWgdI6hyjE52foLjqlLMgMq0hJ1De0ZR3hy5HhK2CZMvpQ3OFvXMu13Y2Cka/8Ea8IIXrVGBkVQzeJ15poabayDDuATMxceqNIif7RqKIB6dXbxagCoM4e4vvZJdcHGyX0kz4MA6zxqertxhaGMexfSEtRg6gQYgmwE+gCj/Y4wUPvnc9RnOr+Nau5lmmPckczzgvpU5XbtIFOAdPfgBTOaj56nz2ENpHkXkgLNOq//0V9IoRsg6OaDy3i6yy1ZpJC1j3Oy1y+k74Mfu7iC9lf0/BC2dseBPw+IcGHNmplKTvPeWRb6Awykh8HG2HR6xfaovSuM1Hre3tpFRoB/IFyf7RIqwtyrAu4DBUvnIM8fs20qaUagMelXhjFajozyIWsN/gcigTh+5l7m3ka3G9Q6CIOEhyR2ny0PQUfaY0Sx9BHxORAk82vnUX6fqm59K42uNNPPCTY7hwDAI72rpScYrOI2BYpt5TY1X0w/usXcdNKlGMzUqXjJOcwP9QPXip5E37gHXNfgsuJI5NbjO7+K7sDnbO8qoIR9zj5bj2w0qzslGwpjO3MXJs+vRAReEaXQb/bHujEXezePZJ66D8/zMeLdjyfbdgyfoiY8PPLj+oJt4XqOLH/8P4wlwV8mMa9yT1zumgjIF/Eh+pwyYtfWgL545k5OfWMJlBRf82N9Mpx0M8v8AY7T58cb49DjaqIz3qwThIMqRgnXIH+yt8z/3wbT7m7+fjm7djf2WY++63iWOSNogf7OODGkaB7oyUWR7GJowWrf1STsn9ztjYqzqVo6jBF3vukAQyFAh+FWY+Cl2RCaJNYuiO9Ab/u6kVVDMm+mQJKIw9ijVGK9/+psQTQQMOh/Bwp1nwxpnvdVHyJVhIyTv/MvfThO/+lHc43O4/4fTIhuzZslvtEqVDy2ELreeCIdhf4EKtOUMVIQcuAsowmWFM7IBO+j48KdXmAvfGSK5pmKCiyjxdLFEqjKbqc08bc95hzLHPRsQgXxGIVoLhy5FbwTwuBahkPx0pCKkSJwh5oPf+duPYwlEdG4Qu7jMRfvUS2D7jisLrQS+9C/B9kGf4UY8Y1vOx48wsN34cMl3/GTXfCabuW0KQzdOnIFDe/4tAfFLplFEy5DAm/+g9b2kAMt9kbfFhEqspRaTGoc4W5pXoos5gHu8i2BYw6V7bB5RwEFirDJXgbE30rkZYAxRTttz4EouvY6DKCfWiW7HUtZD2drUW/aJz6brTHccgbuL4KySRZpNsJqYB7AwxDEQljUPWCOIH0PUaiyMsNqn933mOIsygr82VanW1kRZOnJezAOIUoUMixI4uw9zkGFXERImaacEPqMepC/vwDgQWN5dxvuFxfSrm9PpfRDiEYgkQEgjq6tp8/nPp6l/8FOpcB6rG4Vt+syhwya17HcLY0aH3Ms6hD2HcH4Sa8u6IpG1CUvcPq6m9z6NwE3804uvaklzdnrBIObA0jN7cuCYOWaGMzlPDN/BID0zg5FCxFE9sPgHoeSe5VlbVD0b5WuPtdGCKdHV8KCAg4GNM1VwpTPvU4TgQ0o0j8KYWxCLfTjkITC6SmhHhzDk6At88XBblYYCuWx5PIZVBNwBSgkbPmNGKLW5CrQBBIDEIuAYLthIE8+8Nm19+VvsKe6TU6oyxIyoUsT+oPGBgkme+o1YUoOYMsaKXqCxehRCOGEs04aQ8Z7KoowAEAac3L95YY0nxFxLr6uM5ninPotXF5zqgMdjxLMeMQeZgvBDjopwqRJeuzzuHKuumc+SfZEDxH1LVy8wzyHmYejkAYKqdN29IU4r2M5CgEsKS1I0+h9YnMW2GeMYv3BcHJZu5R89aQoUCOGYzocYr+ecVcGzCmdilRB6PfBWocswVE49S0W8Fj3KmXtQ9gjl1Qd3GZ3MFHyCtoMArA2C4DBCzzFzG8CwO9yrYt2tv/+H09HzL6Uhzt9bK0xCbYE1lTj1kLTAb5XIAl6eHg1ZrdQcOhWvPgIg5RJCkHUeMgiGn/apfnZAIZ5DLK2bhHAc4R1okj+zNEdYKQpuH8tbziqfwyghzOOMgerJNafiXN0rAAAmm0lEQVSwhbDXIz9O5ToiAlgoxGdCbfSWA1OuG+4kXOMjnNzfdG4BBI0RcYf3srA+lLRJaOJML83mZvHOH6WjfcaF0gqoQmmoUmHykAWT4WYU2pZV0llH2m5A312QLrjSxdMSiipyfQUiU2cdhtjLBQq9lPZ30/oL11Keg16LRHIMYzY17LvFfJGv0/F1GOs6Shu5rxDLoM3bHWgcFKYEzhyS26FX21wbqbFeY8vaw7TI2zT5H68E+CGdPSE0t8qZVhXGXcaLUalkCpnGKkME3d+R+4lHvIcRyrwvBXBD2tk8HM2Bx5t+DTO0VLueDT9iJQ48PEHQDxSWIkJk3GM/2LY5OrBbAIdAwl5ZWMaDT0TDKXvZgiN6WEYUYDhTqjAgWxy4UaqHteUDzvjzFLphgYq4xFzyVHnUIHKCgklNlTAQnE6TE7O8lPZ+75Ope+s+IewcHYCGoLzYBz8tXtDYJofRPU6/eu4hNlj7GXzgAD99lnYHRAMU6c9sXXNYu9A/Q5V3CVOvQ8fyKLdWSS1gNHHPorNwHAqwRqHNkQNsTilgCmOIYx6F9rfJJTEqwcISlyBO4WmHHgUvhk419QLjdLZMuLxFr5uKr3h+Sq5YmaiC8kX21ou5tPw4yvfKjXRAaCpxHhQ3YW8wvx3wCDTDWMfuCqbF3mAOLYiOFRGVecR2FTjxtkmURhOCdQLMcxg/WDIEP8J0/4Yz/KAh869/AoMD+X/IEAYBYlKlKuUgLZBH7fs97m0eETh8OhLwKYNrOMFCCeAHtEFYsP7MYR6iNUIl0OllcoBnh9L5c+zZFcLyqRicJxF03xddBwCnXFPnu0r0y9AU+xi+W2f/hTwIDKXNpzIaNonCpPvQghh0A63KhHy9rSXoYgW4GFZsHmnk4QMPw9fuch7Z6omesnb6xSeo7nxjL80jU3isjp71RSxkwg19E8GUPQQer0+T470znKqEkW1+8RsYJTBYXFxO1W/+gPVupenxTnp6dj8VVjDoFtvpgw8jk9x0X2m1QfljT57s3Eunt1fSJjLHEHv7CFqh93SX3L0T+h6H5+xTqEX6aDGHQwqKWYTDI2eszCqrqiCYD2N4MqUid34BmKMmU+WxTPRIC+9VHd5ZGEeMp63KI5dTY2OH8M1RjGB6F/Fwsx9nGKJEcI5zIkt4tjXS9MBxZZ4JFLIynrvNj38yLb/mkTSKdaePfFWwEinhwPVJwlaLJ2mDdXkSOFs45C4VRT/7/KOZzHS6yviJVgHP3FRSXz/SGNeILmItoQix1kw1eKc44/PKE+GAcKG9ArKJE46N1Q7cO2vL/eq/uOfepo8wMvH8g+5D9rTPcEREg7aTtamcLBWPv+P/rK1M0cr6c8/48Rk/IdOfzYGLdBV0y4EGP6Cz8IjFz2xMgZfOgfF5+Lye1thwPOPYzJk1hH6MisseHXSVYxbuI9ddgAZWKufS/u1VFKuE3JpLD+2sp/3vvpyG3/AaNhYe3xeuptX7NWQGxgF+GKWhIldg/YXbKSkhMwsYRSj48vI2B5wXXg1dg6Ziv+gZFgqXJtvpBsZJ4e+CqLPINyOyyBC3LOQOYsimEhrGmdJdADYOp0GLtFb37VUoGbkMQzsIvDCTYzaQSW8eTjnHpp15ZCmNPHwp7fz2J9IQhwdPURL2oT95PkKIBAIvYEUjpBGmYwW+BuYxrfV6GVBNWGDJmqMHGdgRbvmwukj0YlZOgJGxICoSLpgLEAvpavHt5AxhjBwy10IFk/m4GM5JJdNH/Vvksj0XVcTzVHQZleFYIVjyhtf9BMrzfChn9hkN8nK06TP2nbUZP7OBBgwDvrYT9yH2jF8LWCjAD657zbmeCUI2Zl/RrjNk8Zyn98+UaJlMjIfWtAz6tLH4zjc2EsRXhPwPf3gd5jucPvaN8+QtZcrMCda11LwTSf1WROtBuMqYmp2XVTdFnlMsbT3g16YIRgciZwllzwWp4mEs88xRB0/pYCR96ZXZ9KGjGsnnHpA4SJ+4W04Tm23i4BE0sFovEF64DUG0wImYZfERy9yGcsZ6ycxzMCitq6FQwuBHWX/zsa1aZuEDFjqs+OY2NrFEGY65Cg540LU5FJajVdDhCJrwPBEBgJKJNw4p5criTHrvS+RDUmL35xe6aZGwmd7zhBcymtePo0hRu72LMAxapvUhSjpfvZXG7hFG8bpH0jQHTu5+4ttpHqOD4aaeaVECXw8okTyKQOa5TuKUm/4U7vQv/uIhSp4TTtEwvIc4fwUbxqblnYwvwl441wpc18qp0O+aHTGPMmE38wCHTBjGzxljMAZElFhf16Bewfoywj7EA6fnQUWd6cVGLqNYD1QYkJb1ekV+I3uzBgBsZZyfi8DoZYR7hVZEEqCPIKW1Biu0Hug8hKqMYMJkYkwgAs8yOgkaP4Svqt3se55LL/7bT6eKlkHa9EyYEkDXe1mmTzUedDqKEMgAgQuMq4zVcYJiMntqIehjMvcS9KAHAihQsRFYY/LUDnYDR0aZy/I01uR1GP0s5SFoc+17FLHg/Qol63ZQysfkmPTPP7xe7kvWcIIYfq6fsD7DCnbiAg+MAKk23oVNYHYfWvYWknbNV7AQgviKHzBd0DAEgTWJvgUuiHPyqfBAAdO8Vk6HzxlsA9Z+mhLfu6+i6B8g5ODd8zwalbcGwtrpyS6W03XWKiOyM8C5hmDUueo+5swhJMs4T455T1GmOU+xkzzPyEA6CEd7zL8KLHN4IipPPp4Wf+5D6dbKWlrgIPW9MazbrjzCgEc8DBCi23CQvoOjvxrhvkMTFCVB8R2ssvbstfCQMhfphWsyjsdoEqEIRxC5gR4Ii5V/mSqO3ySfgnU5T67MEWF5Eyhp7qmgQ8yNo7PhETCyc+xdCI5eZZfY+xZYkTaZX+dHxY3VCfhB9cPAl2tw3AAhu+ZJdqRNrEcoKh18SHicyhgUDtfwXDIGGVSNDXkIcUC1YI/Ce1wQ3vNLUbVBvwNg3xxvkd+CMMZtPQjS0ibKbvsuHieE6QNCre5/60q6VKC8MQJQ//lXmEwV2jJFDhP46FlTeAqLCKNW1Szgac5jkQd58AQDX7ZAXg4MwDiHHP83MKX/4DuMVPoFAQMeXs/G587uU86+wN4rghujGLDahBR6PMUR886gw5SwvvfZd3m8RA3EwUPuC09D6n7AOCwgoiBYQmE7RMGwdfmb9K3tHoJndljjHt48uWfkcNI+MkY6Yi7mrGiALRKKK/93vQz577Ivc+TppgGqRuC6tMwxy2OgU+zrIgfg0llEKFigxVDUCrx+CCW17BqJf+z71re+nwpvfSqAc3wfnIEPdMgnGukQ3kNBj8IN6B00bJQ8VLgT46aADkruEe0N2G/iQQGBfYLUCNeuAj3zKIuCIZjkAY1AF6Vryg6GdHpodBi2WIM+BpUuxafk+4AEHoYyxO8N8GSIc8KwE5J7ZlglYXfyeXBUJUrvnuHLeYyF/EhT8M07wE9jV/AlipicAtfcKyhtW9208v319NA8Z/ktlAnbRQAHnh7RMcGZYgwqYC/NsDR2HUW4y342fLuKMF1FroowPcY3glFE/m1kSZd75uBVUSInKDwxsjyX6lRr3P3it9Im+SpL5CJpeasRNWGuuHhRwPiwOEFUB9J+i9DDnh5nFla4xIHzzNciKBqsKtCRBt6WjRVwYPMorYPDCxSeqAEvq+aOQItDiHfPMhf3nMp7+z7wpB29akwz5KNIj2Dc7nGrNBqKqUch4ySMi2sW8yiTuJ2nmuUJyrY6+Fn+vlwFsLORUNzA5W3OVjzPHPbBi0nWVmVoHSG1UKGmMs9Ib/UOTzU4Q/TmvXTl6pV07i1PpyIhZVPIMHuGYGPUuLpZT58/nU7vYewjeH0NH7uI8fVNjNWPIaf5b3yfXFjGyFw8x8qoK45yxHCwB/9B0abwhwoh2J7KtM35JYSdorwxYOUUjQ5HyKu77Bv3+vB3foDiiQIuf0RmpMhxGAE0lg7cN+xnC7J0P/T3o+BQF5r3B1imH6XgyQc4G/j64VR6gZDHD+CjGQLnPcy8efU+BhQKWpE/XCTqZOV4KL2OsRmiXif3SWPlHnzvtcyLwBTy+zxP1FBS8BXcRWhlATVcKGOpTAFx9oELG1UX/VuAxCeTX/07DBaspXQBBGAvPrgXPyFCfHwuDB88FG0wtzOPmDnA0vDog75FJf7kI6/jd/4Qb8V/X5Zm+jevxd8+6jVlYeV6nszolD+5d6Zw+Yx/K0tLa5VvVfxtK2uBuXiNP52389IgANiCXvIQ9x2DD/gKRhuMeEPoM+9/cj+9tEXOP2MdZq1PIPJd+GPZvHqMIQsYcvbg+bf/j99Jj//6P0kTHBS+9Yd/nk7qDyMrYIjGqNTDgVWDhit/OI/xyVmOALpLSgnh/qXdtOq4nXToVgwB/GFJOK6CyvhVFhQDoAYPhWDn7GQ5sxBhCsTLWA1PO/gAskBk8+H1YseEtWMJ6+IACVAkRopKcwgqjCYsL/d6VKoinGeCAxQrlk3/1x8Hscpp49wlLO48BxG2nrsWQAdhYvoYhEpGgHQSfVl9R+TQTRjj5HcZSihq/HRRzsam0ESL8ZzQ9rZ/OGYXSaUzroo4rlB8st9jgXnbZ1VG/NLaLNE0Zt/xZQpg9MBzPMh3KFlc8qrXfMbPmcaf/e5IHiAg992ozidDSK7zFQn6vB/NxiZSUHEw/GPsKiiOSwZvHxJEEc15nj0XD8crjlUG5/MiYqYM+OzZM5cWTtIzl4/S0tAe7nWOM4CoVGGgMkJzK05gei3eOybcqUgOV4czWPQcTBpojoWVkpvp4OZKmnnfc+k8iNliUTZZ/yrhBE8RQPTP3vJyWppfAW4UfKGtf/y6drq8bAgUYayEMf7g8sP0x+gYJ/ICCiFhKNASZXkugULAiXWy6lEd/CD9hYpoWGk5bHOMGPNFBNgaFZZWqfa1gWK2K5IDjws8737r8LeWSMs1uzYit94/8mkpaoKSuL2FIkHoIvf/DKb7wj3GwFcc/sq4GAp9I3SiUBSxijxBzuT2p76QTjlM3dCHPkm3R1jZiniEmvc4ySg3Riw/ORVY9fcRUg+BfJfDbUfJLVg5GE03d6hIR8nxARtOIuFKGFozIOHqZPSINj3sknVitH5NwOLy7QPiyQdpQ6MF1uBjxiq++b7e0BaKcg4hdoBlUqaptVz8cK4Kwn3Ww3wmw8xGpvHscbr9CEK3wXUY/dI64Rg5BMEiCxCKvIAHRq2IQcq8VQda7MFVec4mCnUORUgvnwKvYaQH4Nitf/1v0hQ5D9U5YqYYO+IOZZ8JGaEaaIcSzSWkxgqhU+enIToyC5U01uCQfMECVqQSXrMa2eSHCB0qTuK6ANK+fGdmAcWkwJlV3cTZs5y7hQHoDkVGyAk6/95zqThD2OYc54CNut7gk+8zCnOfPISzR2GbxhpTgJ7ozQj4cd9g5SHyTqoIDJPkoQyoGKZ13K6Fv/DTG9kipK1IiJ+H++IMy3ATwcFCAnqEtXhX8DKZYL/yxfscOUGewSR5XcD5Evkc+GbSMuEnIygSKkHC0QNJ9xwLlSwLCERF1smDiWPSwKfK/rJKnR7qI40OKIha0Wqc2Hzzt/9t2vvkX5NfWUszP/Gj6ZXlS4QmoYSyd1u3Ka6BwNYjpPgh8iWkDtxIB4RMHhPClEOJp1oLFb8ygQIfEHQHIYjvBkWdzDnrggMWXgHcgVtzCNIT86Opeh7mz6Sb5LXg7AsaZoy8B6622ON9PRm87x7LmCPwA57I0tAhPDAINvMA18O3FRofAZZ54kHz0yjaRQqdME7HS9OhJEOAAIdKMWsHnM3Zm8CAUuanXigT/E+mZ8HDzAthrqSfYXKSiuB5vYCFGqVWA44GRsNGzH/tE7J5h7jMF3srqUYxosZrzqVjreLSeGj9Ll4gBXkPqNfDH5WKWbfyOPyOucnZ9fC+bmTWCWBnIBSXOYKahDUiArH3vO9c2sMjeLo4ysG58lXDS2ahmIM9wmk3D1JjjzUD1rkelnPeCdzjWavCFaooM3WqfBEyGryS6Xno/Y8TQqcCI2wpNxOCorxAuIFG4SnPU/I/jzFB/mCbFQQ1zEdEOmEU2cHaj5Fofe0wjcwgBJNLOIIkOc2zQ+BBjTw5+ZGCFlyKAhvwEJQVw8674KIcVOHTH+Ky8oT5iAVzyGhDZZSzDtLY+aU0ePla2sag5Y6yYqD5wrL8PTxFGqEMnz8hvK+LoJMjl3GJQi4aWAxJrnuNSIa1peXIBbu7B33AS9YE+Z54+iKKLR4E8vW6GIIb0CN5nTs/qhSiRVQ539F8Yh0T8mLz5zTY5MllOoD4YRNAkSL83nf4dg8ssecmCW8eouAHEX4h/DLckBuMCiqyp8vIN5XHeG+qlF73zEWigjg6AM/ODgYR2VkXfDzE6FRjT6jQldm7HiPUJy+1R8GLFoW3WhhO7nGGlvijJ3YCb6Waj0dOWOVUlTrP3Iff+jTFIH6IW0SafOIzFI85hi+Aw8DIUutL8B/pcB+Z6h5nUHYxKJbBuQ7VTKXxykiG3feg8XtDI6wPxzngmfM8RZepAF8ecs8Dmy40roxHTQXIj8ZoaeUE42mRclI6h5WEucnnlbn8MiqnpPGKsY9DE01rOeDv8IrShkaHEkrI0X2iFoiYGaJSs4bVMyM3uQCxXjn4XJ62F+bGMZyQtgCubLE+Rkc8ikGuYs4ugjDDJtwRhYjzNxeRS4aWqc/6wXeme1/9Trr/xa+Tgwk/xwj38FQjvWOeCs6Mpw5PeRNaF3YXjBXgIWOaYcGCXDB/vexlxl7jelNPLTA6Zc9as6/Nfjd3uQUeWdEWFpYWgi6Rq8k4/Crx7ijEcgBOaUi3oBbp+sAanBSzGHSbvZOnABk2jDSD12uU9S9RAO9Xn+um93OmZAXj7KMLG+mXH71BaCfjLMG34PetrbW0yUou/rf/ScpTlGQHY8gx+9poCMMrS2i6VTehnjZ+2E9UWgWWHkgdx2CB+3QrhgcPUS6MfcJPx+t3yK3sH5/i5t9eiz+4oHx5pijxEH8zyAcff1fZkhdkEWfe5ybfIefQpH/buh8VNn/3kYjwifFk4/Oez+pcCWVKesvHsZ/J+963XRtw3OKxLYqrYXzk75grN85kfLrgnYwWZmNnb3BRvuDP6COeyaUr6+Pp979Upp7GKEZKwmxZqy327BxW1gJez5O7FAvBA+vZom1pNOu7/28+lSrvfgul8scw/I9joIfWsSc9tF5FWc4OdwSPs1zQfGsvvf8NDzyarM8ZdDzLUr1gj7P5grZCXP89UDNR4LBLMrkCs1YTbnstgODEBEgXATNH5bAcQsTXbxym6ceWU50Xaljcb1HielAkX2V2JF0oUFp6h03NCekL/+KfEKUDI752Oz1C/XLzFEt4BsisRjipIyyCLMIJIAMxwR0bNh8CK8OPhWDxeCS8STyTAVZAiwAiEAsSz0EUkSRiER0/15xEIAMth4QV15yX7WTwUYELwvGgvXjE/0QgfvqrnzPNXQaW/Q2CPrgpkrgBBHj2Du+5AVgElawYo5bHUBRpC4quQG4f9q/2n3n1MgHeZm1TghgKIi3bbvTDTxcvunOY3BM2PME1EZiLfGfjsa/MIyrR+O5Vwu+wsP3zn99OP/TwYdqiMsHByAwEFg2ftXST69WqogydEhZYRgEwzC0H4Zon4755YyXlPveNNP7042nmA+/gWas1wYgQIF/hLLT/+SuX0urGkhExkdv1v327lL5/G0JH+0eckTa3dh8viRZNhTEUYcZkeeA8G6aPplCASVh50RCsHR4qM6ZhBM7Lv/bLaeJn35/G/vv/PF36X34tLeBSVoGTqHlw6gZtGe5oGCM6XRwy7Zq2Wauw7NFfEyZ4ijXLOJ8SG22aanlj42wkPCnCc6c1nNYPUCz4w2TnEbwqVYijxHj32q1UpPrdAYpNmwp85suU2LzmLLkCDfodgkHNYUkuYQET54eMJ1E0Z+N5hkmsHc/eJNww7x64NpxqLRRgYuFVCt1v6/xmUMWCm5t2ehhDDHkQh2N9bZG+ungJDPU4AXbm4UiEDMnxTLAKR1Z0Kfdfwzq6foOKdygqp9sIOeSFat2a2SXwjJ96hgwDk0zIUKNyF2PpEzrRQ9CKHE2EiFkUgjbW+IhhB4Y5hNEpvBM9cpKGn3tjqj7xcOp99bsIQByWHEYNhDCk1tMuBUFOi+nm6nbMr4fnVMve2DLHHKCsdzlYurniwb4oacBYnNWipSD48P3baRzGNgsMnz6f0msvV6icBcEEz17+45ex6BLivEkOIoYmSzezI2IvLgOrHHlz4zOcaTUH7MChIemDexEcULhFlEKZoCy260R45pjEkOvii0KIXhg9EAMOCu0Te7cN6KWJ7jdplTk49WmukL9bJvxu4Y1THFpdT0creOiQyNcoLY5fMt0DbpbSDws9bVuYYhoGilbIoCHIWGk1ioSkyxhnKH2vt7TEeIavYSXngOkNmHK7RkEZ8hhOrtxOm//y/0mVkVp66PI8VRGBFHhUnAaulMxnt6Qbm5SZZ20ZJGW2ORGPhGbnW6Bqo/le9A79pW/GYyTBEEUDNBaUmLc5ZzgtgCl9Qhfa6+RYGMkAvaijiQyDg9I7YVmEOfUQzgxh0btu2XjAC4zBSX7XKj0dAhznBKKynEL77M9zgXp9CsGvVvF0T6YrhJlbel/me8y9HALy/9/TmcTGeZYB+LNnH894yXiJnc2Om4YsNA1IlVCLBBRx44AEiKpC4lBx484FJE6cOHDhgjggcaESlZBADVyCqhwoIgjUJhUtyupkvMSxPfZ47Fl5nnc6Hdma5f+/7/+W93v3hU2L81dbnkolGMf1R8Q9QmPKcEnGBNZIg2/6d2upefZqwE6O/ervkngq1xwmBKHDDsJra52MmcIWa3oKF+TT2bm0fY/0x3cpt4GwMPnVl1P166/gKjuNMQwhBndhLRw5tPF9xt8gzuWYhABsXsSWboIrLLWRAS6mEdBXmfsssKSC0HWxkHiFhBY1FJeTCGVTJXAjfofHh8QoXCR76pnZNHmevVKZSUbOOnMwZMDzbTa+wXGZdSd1Om5MDdeXvQzlYBHiz+imAcAd9suspNJBaYtlG8wK22uRbATcpjXD9PPS7QLP6eJuOziLAu1MMV17eRlXzQLKN4Q9rFkqAvq06ZDZzxqKrBT4GPzL8Log113gdYDEcoSiwQNUIwvfBPBXRWHW1hXP2DxwaqOxmxr/uZtmf/FjFA61NN8gcQprUyCeeYyU8yYNa5DdNc4h42PFeDCFdVnHFmugXki8a/zuGJbOws4WoRHZtEyh6/Nn8cRYIIX8+4/TLrHqGUpVjGEKF2bi3NLW5D5mmhX+6D74BvEIWxLlDYrg0Sx4y0LsCjmuuevneV7j+f1eDZxZZc8mh1ZJOqcn9tMFgukC142hQTyCUV4jwcMRLr9VGDdpbCReUcmItb8vo+8AeHCFMWlZLHN+egT/lYgNmiBGKgbOPQcy1VqsSPSQsOr2iOHaYPz7Zc4H2r7nf3ufxDzE5WNNE87Hwa0ZMhhu01fYTTlTc2RQziC0tHFvHLdmmDiMee7BP5lYa2mHDAfA5CJugiXgeh5rHyHn1DgtB/6ThcdHJhSh0rks+y1fsgFd6aA8aN+h1hjKwDLnR3gKDw/OvPUXM+CTbYSVA5jROSzOJvVx8Sv0kSErYWkRwWTGxCfEeTGvsALQd5+EClr6MwgjY/TzeIP41pO4UdPfIsRIPPEQoVyBW6u6lpYq+5cBxnOvv5ZW3nozdR9QX/evt1Ljg/8yA4QUYPegWUyPDyvMBzzPGNbYL90twVbg4y7ZLPGbYHz7WPXWmcs2tM3aj2xBuKYywFC0qGQwgYvCAjqYsN63WNMqh+UkpvMOSNLEPypBtKR10I50wA+Q4VCk2K7LusgDcRt8RBvFLbGy8L8d3Kl/dSubbhILl4XRv1ufS7/5+EJY4ppdisEj1FavX0tXvv9tXMkrae1nv0wT//gn5xP7PLRZjklvNj0QcNQIZbb8nYqvWFPxArjIUh2+mD77Jo7mA9sjLRr+7voOfxPS/Ysr7K2fbKNCRfoUgh3fh/xk3B33SEOiBBD3yd/KX9qJj+ASH+3Ll/yLmAV6Cf0PvpZLtg+LHvscwhMNbeE/zT97bvTJ9+iBCyMaFPyJ46JBKHa5J+6l39GYY1Tc4716xyhMxljZf1r6kGj0yfMT6efvvpB+8qcL6aNNktVxn7CiF4q1VMmeF67m5HBKK0vn0pUffi/tUWw8bW2nmR98i0yL4B8s5Z0mwQt4XVSRyA9ZQNfhiJj9399eTD/98+fTjQ8XGAOqAdbV+YvfHZsC9WsvqMiFzrAeoSgUH3ItBFYLLDMPGBNM39w8kogVdiQ+Wn50M7DobR6m6WCTYEqYAH2fg4iAcvURf0ZK7c1tGIu3b6DVBxFeWkkHJIHYfVinTwCFw2nwpZmPChAvGUM1K5cXttIXz+1JR9FEERzpYD7dVJdQYBoiX5g4FjauD/djOEnbAajD7eUtXvxI49hQrrklfnbTxLuf9Qtwe6hcgLjK5yHgjADNzmw1fBnLIuAKMAKCyN6X6+Cmxjj9zQ1mfhE7xzUPRzyTe52e3xyP/8M+hmOwz1E/3uh9wVDZ3gND1z59BIRes7cAWD/Gt+G8/RwHkfe/3z+d/vjvU+ntWyfS+i5ElliLsPYxRgMgj7B+6pKRp4ijBW8PcWdpIZTnQUwPcCPYJR3tfdK7Dtj7Ci6OBvxvYiUq4DZyksQFb1zG5ePKI7SBCO0g0x9daaer19SIdtIl4p8+WTqDZYjYCYid7inQ+EgZL3LxRSwrazVkBHH1jzpsFXzsZ8hgdeLiKpYWkt7jz90lK07m4jksTCAQ+rAgZEtkxR5F0WDeRUgKfF1gVmSa55l5EoroCiRileD00JoOWfteOk1hn5UabmVYI7SWfERc1p3f/iEVr66mwupyEOFXqCN1RD2KaSxm7c0GSGdCvo1zwSEGZqxzM4BQmzzGIsLsKjDP+lPXQtjwRfgCjCP1rRbh7mYpuI7mT4uMLzW6OZ6/A9XWoqPoZC/CUMAw7+NaxRaPYMoOKdzJ5D+93uZQm6xjgDtJdoV9Q8t6/up86kMga0swy1i7DTwuME4t3mr0pChhgwCumiQ+aHL2izCmJ3SPEKYYs4w2kIuvOzZFBUPu7bP+te98I+XPnYqioA9uvJdqaPwGEFuFhNwMjCk+F4MsqYHpL0gFfe9DWHae4gyGCw9Ll2ZfxArH+ik0iaBFnK7jGsWR9xBWNtHe/+tRNn3wv1Z6chchAUb30ldWU3WZNT6pG5jWFIW6IY4yrT5IB+ECNziyVGohaou7+Pc8O1fjeFowhsax5CHCoENPTpxHtew15pcly94YxdOzuIKdA7bgEeLA6kYq4d+HOew9Y9BkyKvffopLAi44ZYR9grYrJDiwGHmeLInZJntMf7608mjV7eD6qfWt65kCuYc6ht+31mBiKA8wQKDqXsgRB0J2W9xaL1Oi4sJb301b3FO//WHqUfR7FdexZhlGj7ILvXukdb9P0DIC9CIJWmKtubdxAKHARW+AADQGDByz9yowgjiyXsJTiz1hWKwFlkYYZcdaJSJdwUfG1XifAZYT64+FtY3fnA4GDmJBYLIA3CKMh3ArdIuz8PjiHONeyPc2BCrqq7kAPM8U6xz+NH6eGFYyLZxmv6qsp7jLlOf9HdxICPGabBfS4zvr4a43v4QroAlBSCd+wH7uzy3wTGICXTmeRzNgCUZBN07iCY1/ZcOJCyGOaspyDLjdIoxkgSVdlooUs82uoFj88vU0uPcktX/9Ttr9eC3VWZNpGCSzJZKtBfdMBOYlyoi4flxTsXFGoFUBg7tWD+uNjH1E37J+zl1a2SYr4Q5tjAXLQCet0VfGqtHY5k5cpbp1YBxpJIuro3MG9OKo8RV6CJwSh5JB8z/C7TnmbGbAQywhukpNgtOm3ATWzDG5ppNY70vElU2B42Y4P47DLJJhlz0uIVwD+U0E5YfgbeIfjIkogHyLtAcJphKJEmT4GQluhLhdcc6zmJm0iZexVhVw6/GJxvqF9Q9eoUQW1TFyzOu2N4kCZv/dm6Hsyb/6hdS4/hLnEmsZCoajOoIJ7OTc3HS4RDuvCfZKPMeJB1tIe2VCpHMsB9drrMsu+GyPzLcHuHC1QfQnV1EimkznDEWHGVhYyRmyjNlT+mjhXPf8KftCrChO3/RpfyhbOO8mbbFcgJlkFaDisPMc4X6ete1mGig5uNaiOHJgXLcFTCZOQosOP4/3APwDlpzjfbJFIkgoCIlPRZMmZxknNtEVdA5a5LQkUcoQgMPVV48g1vbJ5hZAweHhf9o1AF9PgGuogc1elNMJxlQEtx7jDt8la2uVel5rZLI+PKa8DcIEsyArLlG00DAPolYHpYsSLlmFKbaSwYgLq+Jv8MP67GJ4A9x7posWeB/tOCkBUv0Rh4y5H+F6qju0Qvqo1qb7Iw6cYIzFsySegumsI+z5vBFzO20ZBNZpAWUg4a7E0kL/YuYYUFmLPhnuDrB27qOAA2gR0IRnhQZuxpK9TEKVL53aSK+/iBcPcW3NfYRuxr6JdwosCNnt5XPA28Cwlu0m+HoCXNVDOdpn/tu/e4fEGxUSdc0IPTyDfefMVLLDcYL5sfQT/wqjjNiEEEVc4h5FvzmvJjOpwW9U4U3dHuMn85yhAmOT91TZoKAonTOO1Hq5FSxkvswkWYau62KsVfaYEJACZwUdL7MHD0JP3XvpTCwH9zSYUw4l9gzCYg5/7W++lNKrnJ0O6/K5hZ30NaxnEzyziCfHITS7qCcMZYzqN26m9Y2N9BxXR+OX3OgeRLtJXLw1LZcRFA/BdXkU6ccI7FO5/TRDYht6BsdL3FkWni+v7NnyPEhj3V9hlKkGTldojjWM+23DnIGhwD/cGHkMbMGZVHinc0GHX8T5fBCH+efaRd984Qf7H/E8nqVwf+Tdq94srQ+vN/Y43GZ5ZvC8/G5b+7drBuJf8HNeGI3fd2mYg4kWzpGvtg1hj3e/xNz5YLZhY0n9Ln6MEdrA1gjcGWA8g+wivzWOgC5f6Z7GnJGHXD9blTA6FYg1zKNo2fzLeyl//nTKVCcpuo7Cnnp2PVyQO/RfxN3bGpsq8TcOi8RZTqc6SgeVmsK643DAzsMs3mennqX5CgpR2iovRIbrGF9K/wfUQQLoPhEfOwAAAABJRU5ErkJggg==)"
      ],
      "metadata": {
        "id": "MzvMSB4oBUdE"
      }
    }
  ]
}